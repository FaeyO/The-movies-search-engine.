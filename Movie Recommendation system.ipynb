{
 "cells": [
  {
   "cell_type": "code",
   "execution_count": 1,
   "id": "c39deec6",
   "metadata": {
    "hide_input": false
   },
   "outputs": [
    {
     "name": "stderr",
     "output_type": "stream",
     "text": [
      "[nltk_data] Downloading package punkt to\n",
      "[nltk_data]     C:\\Users\\USER\\AppData\\Roaming\\nltk_data...\n",
      "[nltk_data]   Package punkt is already up-to-date!\n",
      "[nltk_data] Downloading package wordnet to\n",
      "[nltk_data]     C:\\Users\\USER\\AppData\\Roaming\\nltk_data...\n",
      "[nltk_data]   Package wordnet is already up-to-date!\n",
      "[nltk_data] Downloading package stopwords to\n",
      "[nltk_data]     C:\\Users\\USER\\AppData\\Roaming\\nltk_data...\n",
      "[nltk_data]   Package stopwords is already up-to-date!\n",
      "[nltk_data] Downloading package omw-1.4 to\n",
      "[nltk_data]     C:\\Users\\USER\\AppData\\Roaming\\nltk_data...\n",
      "[nltk_data]   Package omw-1.4 is already up-to-date!\n"
     ]
    },
    {
     "data": {
      "text/plain": [
       "True"
      ]
     },
     "execution_count": 1,
     "metadata": {},
     "output_type": "execute_result"
    }
   ],
   "source": [
    "#import needed modules and packages\n",
    "import pandas as pd\n",
    "import numpy as np\n",
    "import re\n",
    "import nltk\n",
    "nltk.download('punkt')\n",
    "from nltk.corpus import stopwords\n",
    "from nltk.stem import WordNetLemmatizer\n",
    "nltk.download('wordnet')\n",
    "nltk.download('stopwords')\n",
    "nltk.download('omw-1.4')"
   ]
  },
  {
   "cell_type": "markdown",
   "id": "eeadf9fe",
   "metadata": {},
   "source": [
    "# **The Movies Dataset**"
   ]
  },
  {
   "cell_type": "code",
   "execution_count": 2,
   "id": "7f554e5e",
   "metadata": {
    "hide_input": false
   },
   "outputs": [
    {
     "data": {
      "text/html": [
       "<div>\n",
       "<style scoped>\n",
       "    .dataframe tbody tr th:only-of-type {\n",
       "        vertical-align: middle;\n",
       "    }\n",
       "\n",
       "    .dataframe tbody tr th {\n",
       "        vertical-align: top;\n",
       "    }\n",
       "\n",
       "    .dataframe thead th {\n",
       "        text-align: right;\n",
       "    }\n",
       "</style>\n",
       "<table border=\"1\" class=\"dataframe\">\n",
       "  <thead>\n",
       "    <tr style=\"text-align: right;\">\n",
       "      <th></th>\n",
       "      <th>id</th>\n",
       "      <th>title</th>\n",
       "      <th>overview</th>\n",
       "      <th>tagline</th>\n",
       "    </tr>\n",
       "  </thead>\n",
       "  <tbody>\n",
       "    <tr>\n",
       "      <th>0</th>\n",
       "      <td>862</td>\n",
       "      <td>Toy Story</td>\n",
       "      <td>Led by Woody, Andy's toys live happily in his ...</td>\n",
       "      <td>NaN</td>\n",
       "    </tr>\n",
       "    <tr>\n",
       "      <th>1</th>\n",
       "      <td>8844</td>\n",
       "      <td>Jumanji</td>\n",
       "      <td>When siblings Judy and Peter discover an encha...</td>\n",
       "      <td>Roll the dice and unleash the excitement!</td>\n",
       "    </tr>\n",
       "    <tr>\n",
       "      <th>2</th>\n",
       "      <td>15602</td>\n",
       "      <td>Grumpier Old Men</td>\n",
       "      <td>A family wedding reignites the ancient feud be...</td>\n",
       "      <td>Still Yelling. Still Fighting. Still Ready for...</td>\n",
       "    </tr>\n",
       "    <tr>\n",
       "      <th>3</th>\n",
       "      <td>31357</td>\n",
       "      <td>Waiting to Exhale</td>\n",
       "      <td>Cheated on, mistreated and stepped on, the wom...</td>\n",
       "      <td>Friends are the people who let you be yourself...</td>\n",
       "    </tr>\n",
       "    <tr>\n",
       "      <th>4</th>\n",
       "      <td>11862</td>\n",
       "      <td>Father of the Bride Part II</td>\n",
       "      <td>Just when George Banks has recovered from his ...</td>\n",
       "      <td>Just When His World Is Back To Normal... He's ...</td>\n",
       "    </tr>\n",
       "    <tr>\n",
       "      <th>...</th>\n",
       "      <td>...</td>\n",
       "      <td>...</td>\n",
       "      <td>...</td>\n",
       "      <td>...</td>\n",
       "    </tr>\n",
       "    <tr>\n",
       "      <th>9094</th>\n",
       "      <td>159550</td>\n",
       "      <td>The Last Brickmaker in America</td>\n",
       "      <td>A man must cope with the loss of his wife and ...</td>\n",
       "      <td>NaN</td>\n",
       "    </tr>\n",
       "    <tr>\n",
       "      <th>9095</th>\n",
       "      <td>392572</td>\n",
       "      <td>Rustom</td>\n",
       "      <td>Rustom Pavri, an honourable officer of the Ind...</td>\n",
       "      <td>Decorated Officer. Devoted Family Man. Defendi...</td>\n",
       "    </tr>\n",
       "    <tr>\n",
       "      <th>9096</th>\n",
       "      <td>402672</td>\n",
       "      <td>Mohenjo Daro</td>\n",
       "      <td>Village lad Sarman is drawn to big, bad Mohenj...</td>\n",
       "      <td>NaN</td>\n",
       "    </tr>\n",
       "    <tr>\n",
       "      <th>9097</th>\n",
       "      <td>315011</td>\n",
       "      <td>Shin Godzilla</td>\n",
       "      <td>From the mind behind Evangelion comes a hit la...</td>\n",
       "      <td>A god incarnate. A city doomed.</td>\n",
       "    </tr>\n",
       "    <tr>\n",
       "      <th>9098</th>\n",
       "      <td>391698</td>\n",
       "      <td>The Beatles: Eight Days a Week - The Touring Y...</td>\n",
       "      <td>The band stormed Europe in 1963, and, in 1964,...</td>\n",
       "      <td>The band you know. The story you don't.</td>\n",
       "    </tr>\n",
       "  </tbody>\n",
       "</table>\n",
       "<p>9099 rows × 4 columns</p>\n",
       "</div>"
      ],
      "text/plain": [
       "          id                                              title  \\\n",
       "0        862                                          Toy Story   \n",
       "1       8844                                            Jumanji   \n",
       "2      15602                                   Grumpier Old Men   \n",
       "3      31357                                  Waiting to Exhale   \n",
       "4      11862                        Father of the Bride Part II   \n",
       "...      ...                                                ...   \n",
       "9094  159550                     The Last Brickmaker in America   \n",
       "9095  392572                                             Rustom   \n",
       "9096  402672                                       Mohenjo Daro   \n",
       "9097  315011                                      Shin Godzilla   \n",
       "9098  391698  The Beatles: Eight Days a Week - The Touring Y...   \n",
       "\n",
       "                                               overview  \\\n",
       "0     Led by Woody, Andy's toys live happily in his ...   \n",
       "1     When siblings Judy and Peter discover an encha...   \n",
       "2     A family wedding reignites the ancient feud be...   \n",
       "3     Cheated on, mistreated and stepped on, the wom...   \n",
       "4     Just when George Banks has recovered from his ...   \n",
       "...                                                 ...   \n",
       "9094  A man must cope with the loss of his wife and ...   \n",
       "9095  Rustom Pavri, an honourable officer of the Ind...   \n",
       "9096  Village lad Sarman is drawn to big, bad Mohenj...   \n",
       "9097  From the mind behind Evangelion comes a hit la...   \n",
       "9098  The band stormed Europe in 1963, and, in 1964,...   \n",
       "\n",
       "                                                tagline  \n",
       "0                                                   NaN  \n",
       "1             Roll the dice and unleash the excitement!  \n",
       "2     Still Yelling. Still Fighting. Still Ready for...  \n",
       "3     Friends are the people who let you be yourself...  \n",
       "4     Just When His World Is Back To Normal... He's ...  \n",
       "...                                                 ...  \n",
       "9094                                                NaN  \n",
       "9095  Decorated Officer. Devoted Family Man. Defendi...  \n",
       "9096                                                NaN  \n",
       "9097                    A god incarnate. A city doomed.  \n",
       "9098            The band you know. The story you don't.  \n",
       "\n",
       "[9099 rows x 4 columns]"
      ]
     },
     "execution_count": 2,
     "metadata": {},
     "output_type": "execute_result"
    }
   ],
   "source": [
    "#reading the movies csv \n",
    "movies_df = pd.read_csv(\"movie_overviews.csv\")\n",
    "movies_df"
   ]
  },
  {
   "cell_type": "markdown",
   "id": "924116db",
   "metadata": {},
   "source": [
    "# **Data Cleaning**\n",
    "\n",
    "The title column of the data will be cleaned by removing punctuation marks from the text where necessary.The cleaned title column will then be transformed into arrays and be used in calculating the cosine similarity between the various movie titles."
   ]
  },
  {
   "cell_type": "code",
   "execution_count": 3,
   "id": "b0516066",
   "metadata": {
    "hide_input": false
   },
   "outputs": [],
   "source": [
    "#define a function to clean title\n",
    "\n",
    "def clean_title(title):\n",
    "    return re.sub('[^a-zA-Z0-9 ]','',title)"
   ]
  },
  {
   "cell_type": "code",
   "execution_count": 4,
   "id": "d8675bc0",
   "metadata": {
    "hide_input": false
   },
   "outputs": [
    {
     "data": {
      "text/html": [
       "<div>\n",
       "<style scoped>\n",
       "    .dataframe tbody tr th:only-of-type {\n",
       "        vertical-align: middle;\n",
       "    }\n",
       "\n",
       "    .dataframe tbody tr th {\n",
       "        vertical-align: top;\n",
       "    }\n",
       "\n",
       "    .dataframe thead th {\n",
       "        text-align: right;\n",
       "    }\n",
       "</style>\n",
       "<table border=\"1\" class=\"dataframe\">\n",
       "  <thead>\n",
       "    <tr style=\"text-align: right;\">\n",
       "      <th></th>\n",
       "      <th>id</th>\n",
       "      <th>title</th>\n",
       "      <th>overview</th>\n",
       "      <th>tagline</th>\n",
       "      <th>cl_title</th>\n",
       "    </tr>\n",
       "  </thead>\n",
       "  <tbody>\n",
       "    <tr>\n",
       "      <th>0</th>\n",
       "      <td>862</td>\n",
       "      <td>Toy Story</td>\n",
       "      <td>Led by Woody, Andy's toys live happily in his ...</td>\n",
       "      <td>NaN</td>\n",
       "      <td>Toy Story</td>\n",
       "    </tr>\n",
       "    <tr>\n",
       "      <th>1</th>\n",
       "      <td>8844</td>\n",
       "      <td>Jumanji</td>\n",
       "      <td>When siblings Judy and Peter discover an encha...</td>\n",
       "      <td>Roll the dice and unleash the excitement!</td>\n",
       "      <td>Jumanji</td>\n",
       "    </tr>\n",
       "    <tr>\n",
       "      <th>2</th>\n",
       "      <td>15602</td>\n",
       "      <td>Grumpier Old Men</td>\n",
       "      <td>A family wedding reignites the ancient feud be...</td>\n",
       "      <td>Still Yelling. Still Fighting. Still Ready for...</td>\n",
       "      <td>Grumpier Old Men</td>\n",
       "    </tr>\n",
       "    <tr>\n",
       "      <th>3</th>\n",
       "      <td>31357</td>\n",
       "      <td>Waiting to Exhale</td>\n",
       "      <td>Cheated on, mistreated and stepped on, the wom...</td>\n",
       "      <td>Friends are the people who let you be yourself...</td>\n",
       "      <td>Waiting to Exhale</td>\n",
       "    </tr>\n",
       "    <tr>\n",
       "      <th>4</th>\n",
       "      <td>11862</td>\n",
       "      <td>Father of the Bride Part II</td>\n",
       "      <td>Just when George Banks has recovered from his ...</td>\n",
       "      <td>Just When His World Is Back To Normal... He's ...</td>\n",
       "      <td>Father of the Bride Part II</td>\n",
       "    </tr>\n",
       "  </tbody>\n",
       "</table>\n",
       "</div>"
      ],
      "text/plain": [
       "      id                        title  \\\n",
       "0    862                    Toy Story   \n",
       "1   8844                      Jumanji   \n",
       "2  15602             Grumpier Old Men   \n",
       "3  31357            Waiting to Exhale   \n",
       "4  11862  Father of the Bride Part II   \n",
       "\n",
       "                                            overview  \\\n",
       "0  Led by Woody, Andy's toys live happily in his ...   \n",
       "1  When siblings Judy and Peter discover an encha...   \n",
       "2  A family wedding reignites the ancient feud be...   \n",
       "3  Cheated on, mistreated and stepped on, the wom...   \n",
       "4  Just when George Banks has recovered from his ...   \n",
       "\n",
       "                                             tagline  \\\n",
       "0                                                NaN   \n",
       "1          Roll the dice and unleash the excitement!   \n",
       "2  Still Yelling. Still Fighting. Still Ready for...   \n",
       "3  Friends are the people who let you be yourself...   \n",
       "4  Just When His World Is Back To Normal... He's ...   \n",
       "\n",
       "                      cl_title  \n",
       "0                    Toy Story  \n",
       "1                      Jumanji  \n",
       "2             Grumpier Old Men  \n",
       "3            Waiting to Exhale  \n",
       "4  Father of the Bride Part II  "
      ]
     },
     "execution_count": 4,
     "metadata": {},
     "output_type": "execute_result"
    }
   ],
   "source": [
    "movies_df['cl_title'] = movies_df['title'].apply(clean_title)\n",
    "\n",
    "movies_df.head()"
   ]
  },
  {
   "cell_type": "code",
   "execution_count": 5,
   "id": "37a4a6c8",
   "metadata": {
    "hide_input": true
   },
   "outputs": [],
   "source": [
    "#transform the cleaned title column to arrays\n",
    "from sklearn.feature_extraction.text import TfidfVectorizer\n",
    "\n",
    "tfidf = TfidfVectorizer(ngram_range=(1,2))\n",
    "transformed_cl_title = tfidf.fit_transform(movies_df['cl_title'])"
   ]
  },
  {
   "cell_type": "code",
   "execution_count": 6,
   "id": "97290187",
   "metadata": {
    "hide_input": false
   },
   "outputs": [],
   "source": [
    "from sklearn.metrics.pairwise import cosine_similarity\n",
    "\n",
    "#creating a function that checks for similarity in title name\n",
    "def search(title):\n",
    "\n",
    "    #title = clean_title(title)\n",
    "    vec = tfidf.transform([title])\n",
    "    similarity = cosine_similarity(vec, transformed_cl_title).flatten()\n",
    "    indices = np.argpartition(similarity, -5)[-5:]\n",
    "    results = movies_df.iloc[indices][::-1]\n",
    "    results = results.loc[:,['title','overview']].reset_index(drop=True)\n",
    "    return results"
   ]
  },
  {
   "cell_type": "markdown",
   "id": "63fbf061",
   "metadata": {},
   "source": [
    "## **Creating a Search Engine**\n",
    "\n",
    "From the calculated cosine similarities I will be creating a search engine that will give various movie titles when a name is typed. Also, I will be creating a widget for easy display of the names."
   ]
  },
  {
   "cell_type": "code",
   "execution_count": 7,
   "id": "0806dfed",
   "metadata": {
    "hide_input": false
   },
   "outputs": [
    {
     "data": {
      "application/vnd.jupyter.widget-view+json": {
       "model_id": "5ca7539f9d28494f812b7151897bc89f",
       "version_major": 2,
       "version_minor": 0
      },
      "text/plain": [
       "Text(value='Toy Story', description='Movie Title:')"
      ]
     },
     "metadata": {},
     "output_type": "display_data"
    },
    {
     "data": {
      "application/vnd.jupyter.widget-view+json": {
       "model_id": "1f76de85dcd14aa78b0d0239854c7d9a",
       "version_major": 2,
       "version_minor": 0
      },
      "text/plain": [
       "Output()"
      ]
     },
     "metadata": {},
     "output_type": "display_data"
    }
   ],
   "source": [
    "#movie search engine\n",
    "import ipywidgets as widgets\n",
    "from IPython.display import display\n",
    "\n",
    "movie_input = widgets.Text(\n",
    "    value='Toy Story',\n",
    "    description='Movie Title:',\n",
    "    disabled = False\n",
    ")\n",
    "movie_list = widgets.Output()\n",
    "\n",
    "def on_type(data):\n",
    "    with movie_list:\n",
    "        movie_list.clear_output()\n",
    "        title = data['new']\n",
    "        if len(title) > 5:\n",
    "            display(search(title))\n",
    "            \n",
    "movie_input.observe(on_type, names='value')\n",
    "\n",
    "display(movie_input, movie_list)"
   ]
  },
  {
   "cell_type": "markdown",
   "id": "c9189035",
   "metadata": {},
   "source": [
    "### RECOMMENDATION ENGINE"
   ]
  },
  {
   "cell_type": "markdown",
   "id": "3ada7c36",
   "metadata": {
    "hide_input": false
   },
   "source": [
    "**Data preparation**\n",
    "\n",
    "The overview column will be used for creating the necessary features for the recommendation engine. \n",
    "Firstly, I will clean this column by removing punctuation marks, stop words that do not have relevance to the text. Also i will be using the WordNetLemmatizer on the words.\n",
    "\n",
    "Next,I will use TfidfVectorizer to extract features from the text."
   ]
  },
  {
   "cell_type": "code",
   "execution_count": 8,
   "id": "fd5f3a09",
   "metadata": {
    "hide_input": false
   },
   "outputs": [],
   "source": [
    "#Recomendation system for movies\n",
    "\n",
    "#define a function to clean overview\n",
    "\n",
    "def clean_col(col):\n",
    "    lemmatizer = WordNetLemmatizer()\n",
    "    for index,row in movies_df.iterrows():\n",
    "        filter_sentence = ''\n",
    "        sentence = row[col]\n",
    "        sentence = str(sentence).lower()\n",
    "        sentence = re.sub(r'[^\\w\\s]','', sentence) \n",
    "        stop_words = set(stopwords.words('english'))\n",
    "        words = nltk.word_tokenize(sentence)\n",
    "        words = [w for w in words if not w in stop_words]\n",
    "        for word in words:\n",
    "            filter_sentence = filter_sentence+ ' ' + lemmatizer.lemmatize(word)\n",
    "        movies_df.loc[index, col] = filter_sentence\n",
    "    return movies_df"
   ]
  },
  {
   "cell_type": "code",
   "execution_count": 9,
   "id": "37070fdb",
   "metadata": {
    "hide_input": false
   },
   "outputs": [
    {
     "data": {
      "text/html": [
       "<div>\n",
       "<style scoped>\n",
       "    .dataframe tbody tr th:only-of-type {\n",
       "        vertical-align: middle;\n",
       "    }\n",
       "\n",
       "    .dataframe tbody tr th {\n",
       "        vertical-align: top;\n",
       "    }\n",
       "\n",
       "    .dataframe thead th {\n",
       "        text-align: right;\n",
       "    }\n",
       "</style>\n",
       "<table border=\"1\" class=\"dataframe\">\n",
       "  <thead>\n",
       "    <tr style=\"text-align: right;\">\n",
       "      <th></th>\n",
       "      <th>id</th>\n",
       "      <th>title</th>\n",
       "      <th>overview</th>\n",
       "      <th>tagline</th>\n",
       "      <th>cl_title</th>\n",
       "    </tr>\n",
       "  </thead>\n",
       "  <tbody>\n",
       "    <tr>\n",
       "      <th>0</th>\n",
       "      <td>862</td>\n",
       "      <td>Toy Story</td>\n",
       "      <td>led woody andys toy live happily room andys b...</td>\n",
       "      <td>NaN</td>\n",
       "      <td>Toy Story</td>\n",
       "    </tr>\n",
       "    <tr>\n",
       "      <th>1</th>\n",
       "      <td>8844</td>\n",
       "      <td>Jumanji</td>\n",
       "      <td>sibling judy peter discover enchanted board g...</td>\n",
       "      <td>Roll the dice and unleash the excitement!</td>\n",
       "      <td>Jumanji</td>\n",
       "    </tr>\n",
       "    <tr>\n",
       "      <th>2</th>\n",
       "      <td>15602</td>\n",
       "      <td>Grumpier Old Men</td>\n",
       "      <td>family wedding reignites ancient feud nextdoo...</td>\n",
       "      <td>Still Yelling. Still Fighting. Still Ready for...</td>\n",
       "      <td>Grumpier Old Men</td>\n",
       "    </tr>\n",
       "    <tr>\n",
       "      <th>3</th>\n",
       "      <td>31357</td>\n",
       "      <td>Waiting to Exhale</td>\n",
       "      <td>cheated mistreated stepped woman holding brea...</td>\n",
       "      <td>Friends are the people who let you be yourself...</td>\n",
       "      <td>Waiting to Exhale</td>\n",
       "    </tr>\n",
       "    <tr>\n",
       "      <th>4</th>\n",
       "      <td>11862</td>\n",
       "      <td>Father of the Bride Part II</td>\n",
       "      <td>george bank recovered daughter wedding receiv...</td>\n",
       "      <td>Just When His World Is Back To Normal... He's ...</td>\n",
       "      <td>Father of the Bride Part II</td>\n",
       "    </tr>\n",
       "    <tr>\n",
       "      <th>...</th>\n",
       "      <td>...</td>\n",
       "      <td>...</td>\n",
       "      <td>...</td>\n",
       "      <td>...</td>\n",
       "      <td>...</td>\n",
       "    </tr>\n",
       "    <tr>\n",
       "      <th>9094</th>\n",
       "      <td>159550</td>\n",
       "      <td>The Last Brickmaker in America</td>\n",
       "      <td>man must cope loss wife obsolescence job find...</td>\n",
       "      <td>NaN</td>\n",
       "      <td>The Last Brickmaker in America</td>\n",
       "    </tr>\n",
       "    <tr>\n",
       "      <th>9095</th>\n",
       "      <td>392572</td>\n",
       "      <td>Rustom</td>\n",
       "      <td>rustom pavri honourable officer indian navy s...</td>\n",
       "      <td>Decorated Officer. Devoted Family Man. Defendi...</td>\n",
       "      <td>Rustom</td>\n",
       "    </tr>\n",
       "    <tr>\n",
       "      <th>9096</th>\n",
       "      <td>402672</td>\n",
       "      <td>Mohenjo Daro</td>\n",
       "      <td>village lad sarman drawn big bad mohenjo daro...</td>\n",
       "      <td>NaN</td>\n",
       "      <td>Mohenjo Daro</td>\n",
       "    </tr>\n",
       "    <tr>\n",
       "      <th>9097</th>\n",
       "      <td>315011</td>\n",
       "      <td>Shin Godzilla</td>\n",
       "      <td>mind behind evangelion come hit larger life m...</td>\n",
       "      <td>A god incarnate. A city doomed.</td>\n",
       "      <td>Shin Godzilla</td>\n",
       "    </tr>\n",
       "    <tr>\n",
       "      <th>9098</th>\n",
       "      <td>391698</td>\n",
       "      <td>The Beatles: Eight Days a Week - The Touring Y...</td>\n",
       "      <td>band stormed europe 1963 1964 conquered ameri...</td>\n",
       "      <td>The band you know. The story you don't.</td>\n",
       "      <td>The Beatles Eight Days a Week  The Touring Years</td>\n",
       "    </tr>\n",
       "  </tbody>\n",
       "</table>\n",
       "<p>9099 rows × 5 columns</p>\n",
       "</div>"
      ],
      "text/plain": [
       "          id                                              title  \\\n",
       "0        862                                          Toy Story   \n",
       "1       8844                                            Jumanji   \n",
       "2      15602                                   Grumpier Old Men   \n",
       "3      31357                                  Waiting to Exhale   \n",
       "4      11862                        Father of the Bride Part II   \n",
       "...      ...                                                ...   \n",
       "9094  159550                     The Last Brickmaker in America   \n",
       "9095  392572                                             Rustom   \n",
       "9096  402672                                       Mohenjo Daro   \n",
       "9097  315011                                      Shin Godzilla   \n",
       "9098  391698  The Beatles: Eight Days a Week - The Touring Y...   \n",
       "\n",
       "                                               overview  \\\n",
       "0      led woody andys toy live happily room andys b...   \n",
       "1      sibling judy peter discover enchanted board g...   \n",
       "2      family wedding reignites ancient feud nextdoo...   \n",
       "3      cheated mistreated stepped woman holding brea...   \n",
       "4      george bank recovered daughter wedding receiv...   \n",
       "...                                                 ...   \n",
       "9094   man must cope loss wife obsolescence job find...   \n",
       "9095   rustom pavri honourable officer indian navy s...   \n",
       "9096   village lad sarman drawn big bad mohenjo daro...   \n",
       "9097   mind behind evangelion come hit larger life m...   \n",
       "9098   band stormed europe 1963 1964 conquered ameri...   \n",
       "\n",
       "                                                tagline  \\\n",
       "0                                                   NaN   \n",
       "1             Roll the dice and unleash the excitement!   \n",
       "2     Still Yelling. Still Fighting. Still Ready for...   \n",
       "3     Friends are the people who let you be yourself...   \n",
       "4     Just When His World Is Back To Normal... He's ...   \n",
       "...                                                 ...   \n",
       "9094                                                NaN   \n",
       "9095  Decorated Officer. Devoted Family Man. Defendi...   \n",
       "9096                                                NaN   \n",
       "9097                    A god incarnate. A city doomed.   \n",
       "9098            The band you know. The story you don't.   \n",
       "\n",
       "                                              cl_title  \n",
       "0                                            Toy Story  \n",
       "1                                              Jumanji  \n",
       "2                                     Grumpier Old Men  \n",
       "3                                    Waiting to Exhale  \n",
       "4                          Father of the Bride Part II  \n",
       "...                                                ...  \n",
       "9094                    The Last Brickmaker in America  \n",
       "9095                                            Rustom  \n",
       "9096                                      Mohenjo Daro  \n",
       "9097                                     Shin Godzilla  \n",
       "9098  The Beatles Eight Days a Week  The Touring Years  \n",
       "\n",
       "[9099 rows x 5 columns]"
      ]
     },
     "execution_count": 9,
     "metadata": {},
     "output_type": "execute_result"
    }
   ],
   "source": [
    "clean_col('overview')"
   ]
  },
  {
   "cell_type": "code",
   "execution_count": 10,
   "id": "081598ab",
   "metadata": {
    "hide_input": false
   },
   "outputs": [
    {
     "name": "stdout",
     "output_type": "stream",
     "text": [
      "['00 agent', '10 million', '10 month', '10 year', '100 million', '10year old', '10yearold boy', '10yearold daughter', '10yearold girl', '11 year', '11yearold girl', '12 hour', '12 year', '120 day', '12yearold boy', '12yearold son', '13 year', '13yearold boy', '13yearold son', '14 year', '14th century', '15 year', '150 million', '150 year', '15yearold boy', '16 taken', '16 year', '16th birthday', '16th century', '16yearold girl', '17 year', '17 yearold', '17th century', '17year old', '17yearold daughter', '18 year', '18 yearold', '18th birthday', '18th century', '18yearold high', '19 year', '1915 confined', '1922 film', '1927 silent', '1930s new', '1940s los', '1944 france', '1950s hollywood', '1950s ireland', '1957 film', '1961 shortly', '1963 film', '1968 democratic', '1968 strike', '1970s san', '1980s 1990s', '1980s new', '1980s ruthless', '1996 american', '1996 cannes', '1997 film', '1999 film', '19th century', '20 million', '20 minute', '20 year', '200 mile', '200 year', '2000 presidential', '2000 year', '20000 league', '2001 space', '2001 terrorist', '2006 documentary', '2007 documentary', '20th century', '21 yearold', '21st century', '22nd century', '23 year', '24 hour', '25 year', '26 year', '28 day', '28 year', '29 year', '30 day', '30 million', '30 year', '300 year', '30th birthday', '35 year', '40 million', '40 year', '400 year', '48 hour', '4ever transport', '50 60', '50 bc', '50 year', '533 child', '60 year', '72 hour', '750 million', '80 day', '8000 people', '8yearold boy', '9year old', 'abandoned building', 'abandoned family', 'abandoned house', 'abandoned long', 'abandoned mother', 'abandoned town', 'abandoned warehouse', 'abducted minion', 'ability communicate', 'ability even', 'ability hear', 'ability make', 'ability move', 'ability see', 'ability transform', 'able come', 'able experience', 'able find', 'able get', 'able help', 'able keep', 'able save', 'able see', 'aboard ship', 'abraham lincoln', 'absentminded professor', 'abuse film', 'abused wife', 'abusive father', 'abusive husband', 'abusive relationship', 'abusive stepfather', 'academy award', 'academy awardwinning', 'accepts challenge', 'accepts ride', 'accident brings', 'accident drive', 'accident he', 'accident involving', 'accident leaf', 'accident man', 'accident occurs', 'accident one', 'accident prone', 'accident return', 'accident secret', 'accident young', 'accidental death', 'accidentally discover', 'accidentally get', 'accidentally kill', 'accidentally killed', 'accidentally killing', 'accidentally meet', 'accidentally put', 'accidentally release', 'accidentally run', 'accidentally shot', 'accidentally stow', 'accidentally transported', 'accidentally witnessing', 'acclaimed director', 'acclaimed play', 'accomplish goal', 'according plan', 'account last', 'accountant leo', 'accused crime', 'accused killing', 'accused murder', 'accused murdering', 'accused witchcraft', 'achieve goal', 'acre wood', 'across america', 'across border', 'across country', 'across europe', 'across frozen', 'across globe', 'across lake', 'across many', 'across mountain', 'across sea', 'across spain', 'across state', 'across street', 'across united', 'across way', 'act begin', 'act cowardliness', 'act kindness', 'act like', 'act still', 'act together', 'act violence', 'acting career', 'acting role', 'action begin', 'action drama', 'action figure', 'action film', 'action government', 'action hero', 'action impatient', 'action lead', 'action man', 'action movie', 'action save', 'action set', 'action thriller', 'action young', 'actionpacked thriller', 'active duty', 'actor best', 'actor brought', 'actor comedian', 'actor dancer', 'actor director', 'actor india', 'actor john', 'actor play', 'actor portray', 'actor put', 'actress robin', 'actress softcore', 'actress whose', 'actual event', 'actually breeding', 'actually spy', 'ad campaign', 'ad seeking', 'adam friend', 'adam sandler', 'adaptation classic', 'adaptation shakespeare', 'adapted screen', 'addiction begin', 'addiction overcomes', 'adjust life', 'adjust new', 'admiral kirk', 'admiration friendship', 'adolescent son', 'adolf hitler', 'adopt baby', 'adopt child', 'adopted brother', 'adopted daughter', 'adopted son', 'adopts dog', 'adult child', 'adult entertainment', 'adult film', 'adult life', 'adult son', 'adult world', 'adult year', 'adult young', 'adulterous couple', 'advanced hunter', 'advantage scientific', 'adventure ash', 'adventure begin', 'adventure begun', 'adventure big', 'adventure find', 'adventure group', 'adventure involving', 'adventure last', 'adventure lifetime', 'adventure novel', 'adventure order', 'adventure soon', 'adventure spin', 'adventure tell', 'adventure together', 'adventure two', 'adventure young', 'adventurer allan', 'adventuresome young', 'adversity become', 'advertising agency', 'advertising executive', 'advertising man', 'advice columnist', 'advice doctor', 'aerobics instructor', 'affair father', 'affair lead', 'affair learns', 'affair married', 'affair meet', 'affair older', 'affair sister', 'affair two', 'affair unfolds', 'affair wealthy', 'affair wife', 'affair woman', 'affect family', 'affect life', 'affect relationship', 'affection girl', 'affluent family', 'afford lose', 'afghanistan iraq', 'africa ship', 'african american', 'african country', 'african desert', 'african dictator', 'african national', 'african territory', 'africanamerican men', 'africanamerican woman', 'afro samurai', 'age 11', 'age 17', 'age 19', 'age 26', 'age forty', 'agency find', 'agency known', 'agency suddenly', 'agent 007', 'agent assigned', 'agent becomes', 'agent bob', 'agent business', 'agent case', 'agent dennis', 'agent ethan', 'agent family', 'agent frank', 'agent get', 'agent go', 'agent graham', 'agent harry', 'agent head', 'agent help', 'agent jack', 'agent jackie', 'agent john', 'agent josh', 'agent killed', 'agent malcolm', 'agent monica', 'agent must', 'agent named', 'agent new', 'agent one', 'agent sent', 'agent set', 'agent smith', 'agent strahm', 'agent stumble', 'agent two', 'agent whose', 'agent within', 'agent working', 'aging actress', 'aging mother', 'aging reclusive', 'ago order', 'agree meet', 'agrees appear', 'agrees become', 'agrees fight', 'agrees go', 'agrees help', 'agrees hide', 'agrees take', 'agrees watch', 'ahead police', 'aid epidemic', 'aid lethal', 'aid search', 'aid society', 'aid war', 'aid worker', 'aidan quinn', 'aileen wuornos', 'ailing father', 'ailing mother', 'ailing son', 'aim take', 'aimless young', 'air corp', 'air force', 'air raid', 'air traffic', 'airborne virus', 'airline pilot', 'airport one', 'airport security', 'akira kurosawa', 'al capone', 'al pacino', 'alabama town', 'albert brook', 'albert einstein', 'album name', 'alcohol drug', 'alcoholic father', 'alcoholic husband', 'aldous snow', 'alec baldwin', 'alex cross', 'alex fall', 'alex marty', 'alex murphy', 'alex must', 'alfred hitchcock', 'alias controlled', 'alice continues', 'alice find', 'alice join', 'alicia silverstone', 'alien abduction', 'alien another', 'alien come', 'alien dna', 'alien force', 'alien headquarters', 'alien invader', 'alien invasion', 'alien land', 'alien life', 'alien organism', 'alien parasite', 'alien planet', 'alien predator', 'alien presence', 'alien race', 'alien run', 'alien specie', 'alien take', 'alien world', 'alienated teenager', 'alive already', 'alive set', 'alive well', 'allan poe', 'allan quartermain', 'allan quatermain', 'allen film', 'alliance shift', 'alliance unexpected', 'allied force', 'allied invasion', 'allied soldier', 'allout assault', 'allout attack', 'allout battle', 'allows evil', 'allows travel', 'allstar cast', 'ally become', 'ally must', 'alma eventually', 'alma mater', 'almost broke', 'almost decade', 'almost entirely', 'almost every', 'almost exclusively', 'almost killed', 'almost year', 'alone cold', 'alone desert', 'along ash', 'along come', 'along end', 'along entei', 'along father', 'along fellow', 'along journey', 'along misty', 'along new', 'along others', 'along ride', 'along road', 'along sammy', 'along two', 'along way', 'along well', 'along wife', 'alp swedish', 'alphabetical order', 'already affair', 'already fragile', 'already lost', 'already married', 'also becomes', 'also best', 'also contains', 'also created', 'also deal', 'also discus', 'also dy', 'also examines', 'also explores', 'also face', 'also fall', 'also falling', 'also fight', 'also find', 'also get', 'also got', 'also happens', 'also hold', 'also includes', 'also known', 'also life', 'also like', 'also living', 'also love', 'also make', 'also musician', 'also responsible', 'also reveals', 'also show', 'also star', 'also start', 'also suffers', 'also take', 'also trapped', 'also try', 'also trying', 'also turn', 'also work', 'also wrote', 'alter ego', 'alter life', 'alternate reality', 'alternate universe', 'alternate world', 'alternately ignores', 'alternative energy', 'although attorney', 'although he', 'although make', 'always believed', 'always carefully', 'always get', 'always knew', 'always longed', 'always loved', 'always make', 'always mean', 'always seem', 'always seems', 'always wanted', 'alzheimers disease', 'amazing ability', 'amazing adventure', 'amazing true', 'amazon jungle', 'amazon river', 'ambitious man', 'ambitious reporter', 'ambitious young', 'ambulance chasing', 'amelia earhart', 'amends estranged', 'amends meet', 'america black', 'america find', 'america first', 'america legendary', 'america living', 'america long', 'america make', 'america one', 'america prepare', 'america reclaim', 'america search', 'america top', 'america unlikely', 'america world', 'american agent', 'american artist', 'american boy', 'american businessman', 'american chinese', 'american city', 'american civil', 'american come', 'american comedy', 'american country', 'american couple', 'american culture', 'american dream', 'american drug', 'american english', 'american expatriate', 'american family', 'american football', 'american french', 'american get', 'american girl', 'american government', 'american heiress', 'american historical', 'american history', 'american intelligence', 'american journalist', 'american jungle', 'american lieutenant', 'american life', 'american major', 'american man', 'american matt', 'american movie', 'american naval', 'american pie', 'american pilot', 'american pow', 'american president', 'american prison', 'american rock', 'american shaman', 'american singer', 'american society', 'american soldier', 'american south', 'american southwest', 'american space', 'american spy', 'american submarine', 'american team', 'american teenager', 'american tourist', 'american town', 'american volunteer', 'american west', 'american widow', 'american woman', 'american writer', 'amidst father', 'amity island', 'amityville haunted', 'among friend', 'among love', 'among numerous', 'among others', 'among thing', 'among three', 'amongst group', 'amount money', 'amusement park', 'anakin skywalker', 'analyst jack', 'ancestral home', 'ancient art', 'ancient creature', 'ancient curse', 'ancient egyptian', 'ancient evil', 'ancient japan', 'ancient scroll', 'ancient spell', 'ancient spirit', 'ancient war', 'andre toulon', 'andy warhol', 'andys toy', 'ang lee', 'angel beach', 'angel one', 'angel seek', 'angela lansbury', 'angeles becomes', 'angeles california', 'angeles causing', 'angeles gang', 'angeles police', 'angeles private', 'angeles restaurant', 'angeles take', 'angeles two', 'anger local', 'anger management', 'angry girlfriend', 'animal control', 'animal dna', 'animal friend', 'animal must', 'animated adventure', 'animated comedy', 'animated feature', 'animated film', 'animated movie', 'animated real', 'animated short', 'animated tale', 'animation technique', 'animator wright', 'anna end', 'anna faris', 'anna leonowens', 'anne shirley', 'announcement made', 'announces engagement', 'announces getting', 'announces shes', 'annual summer', 'annual visit', 'another adventure', 'another child', 'another couple', 'another evening', 'another family', 'another find', 'another galaxy', 'another girl', 'another human', 'another life', 'another man', 'another mission', 'another murder', 'another one', 'another part', 'another person', 'another planet', 'another shock', 'another survivor', 'another town', 'another without', 'another woman', 'another world', 'another year', 'anothers life', 'answer call', 'answer mystery', 'answer personal', 'answer question', 'answer several', 'answering machine', 'anthology three', 'anthony hopkins', 'antic get', 'antique dealer', 'antiwar movement', 'antiwar protester', 'antoine doinel', 'anton yelchin', 'antonio meet', 'antonio texas', 'anyone come', 'anyone could', 'anyone else', 'anyone get', 'anyone he', 'anyone imagined', 'anyone know', 'anyone unfortunate', 'anything anyone', 'anything could', 'anything else', 'anything ever', 'anything everything', 'anything get', 'anything happen', 'anything including', 'anything keep', 'anything make', 'anything possible', 'anything stop', 'anything want', 'apache warrior', 'apart father', 'apartheid south', 'apartment begin', 'apartment block', 'apartment building', 'apartment couple', 'apartment even', 'apartment forced', 'apartment house', 'apartment however', 'apartment intent', 'apartment manhattan', 'apartment new', 'apocalyptic vision', 'apollo 13', 'apollo creed', 'apparent suicide', 'appear soon', 'appears nowhere', 'appears scene', 'apple farmer', 'applies job', 'apprentice amanda', 'approach life', 'approaching retirement', 'april 1945', 'apted revisits', 'arch enemy', 'archenemy blofeld', 'archival footage', 'archival material', 'archival news', 'area guarded', 'aristocratic family', 'arlo guthrie', 'arm another', 'arm dealer', 'armed force', 'armed latest', 'armed men', 'armed robber', 'armed robbery', 'armored car', 'armoredtruck robbery', 'army base', 'army captain', 'army colonel', 'army defend', 'army fight', 'army fighter', 'army led', 'army new', 'army officer', 'army ranger', 'army sergeant', 'army undead', 'army unit', 'army zombie', 'around city', 'around country', 'around eve', 'around every', 'around family', 'around globe', 'around group', 'around including', 'around little', 'around local', 'around meet', 'around murder', 'around new', 'around seems', 'around six', 'around town', 'around two', 'around weekend', 'around world', 'arouses suspicion', 'arrange encounter', 'arranged marriage', 'arranged marry', 'arrest drug', 'arrested charged', 'arrested drug', 'arrested murder', 'arrested taken', 'arrive holiday', 'arrive late', 'arrive new', 'arrives bring', 'arrives california', 'arrives carrieres', 'arrives form', 'arrives hotel', 'arrives husband', 'arrives la', 'arrives late', 'arrives life', 'arrives new', 'arrives paris', 'arrives remote', 'arrives rome', 'arrives scene', 'arrives school', 'arrives small', 'arrives thing', 'arrives tony', 'arrives town', 'arrives turn', 'arriving new', 'arriving small', 'arrogant successor', 'art college', 'art dealer', 'art direction', 'art director', 'art expert', 'art fantasy', 'art festival', 'art fighter', 'art film', 'art find', 'art form', 'art gallery', 'art hero', 'art major', 'art master', 'art music', 'art school', 'art science', 'art skill', 'art student', 'art teacher', 'art thief', 'art training', 'art wing', 'art world', 'artful dodger', 'article new', 'artificial insemination', 'artificial intelligence', 'artist agrees', 'artist bob', 'artist life', 'artist named', 'artist writer', 'artistic aspiration', 'arye gross', 'ash along', 'ash mom', 'ash pikachu', 'ash suicune', 'ashley tisdale', 'aside difference', 'asked help', 'asks brother', 'asks david', 'asks hand', 'asks help', 'aspect life', 'aspergers syndrome', 'aspiration career', 'aspiring actor', 'aspiring actress', 'aspiring artist', 'aspiring comic', 'aspiring musician', 'aspiring singer', 'aspiring standup', 'aspiring writer', 'aspiring young', 'ass whether', 'assailant begin', 'assassin draw', 'assassin john', 'assassin known', 'assassin night', 'assassin sent', 'assassinate adolf', 'assassination ambassador', 'assassination american', 'assassination attempt', 'assassination mission', 'assassination plot', 'assembles band', 'assembly line', 'assigned case', 'assigned help', 'assigned investigate', 'assigned protect', 'assigned undercover', 'assigned work', 'assignment find', 'assignment interview', 'assignment new', 'assignment protect', 'assist rebel', 'assistant da', 'assumed name', 'assumes identity', 'asterix obelix', 'astronaut sent', 'astrophysicist try', 'asylum south', 'athens greece', 'athos porthos', 'atlantic city', 'atlantic ocean', 'atomic war', 'atomic warhead', 'atrisk student', 'attack german', 'attack leaf', 'attack new', 'attack pearl', 'attack village', 'attack world', 'attacking people', 'attempt adapt', 'attempt answer', 'attempt avoid', 'attempt become', 'attempt capture', 'attempt claim', 'attempt clear', 'attempt connect', 'attempt contact', 'attempt create', 'attempt deal', 'attempt end', 'attempt escape', 'attempt expose', 'attempt find', 'attempt get', 'attempt keep', 'attempt kill', 'attempt learn', 'attempt life', 'attempt locate', 'attempt made', 'attempt make', 'attempt meet', 'attempt president', 'attempt race', 'attempt rescue', 'attempt resurrect', 'attempt retrieve', 'attempt rob', 'attempt save', 'attempt seduce', 'attempt sell', 'attempt set', 'attempt solve', 'attempt start', 'attempt steal', 'attempt stop', 'attempt successful', 'attempt survive', 'attempt take', 'attempt thwart', 'attempt track', 'attempt understand', 'attempt win', 'attempt woo', 'attempt write', 'attempted assassination', 'attempted murder', 'attempting find', 'attempting make', 'attempting win', 'attend funeral', 'attend wedding', 'attendant get', 'attending college', 'attitude towards', 'attorney harvey', 'attract attention', 'attracting attention', 'attraction circus', 'attractive older', 'attractive woman', 'attractive young', 'attracts attention', 'attrition problem', 'audience feel', 'audrey hepburn', 'august 1998', 'aunt dy', 'aunt uncle', 'austen classic', 'austin power', 'austin texas', 'australian outback', 'authority figure', 'authority seek', 'authority try', 'autistic boy', 'autistic woman', 'auto mechanic', 'autobiographical novel', 'automobile accident', 'avalanche break', 'avenge death', 'avenge father', 'avenge friend', 'avenge murder', 'avenge sister', 'average american', 'average guy', 'avoid capture', 'awakens find', 'awakens world', 'award best', 'award including', 'award nomination', 'award winner', 'award winning', 'awarded medal', 'awardwinning director', 'awardwinning documentary', 'away day', 'away decides', 'away drug', 'away everything', 'away father', 'away five', 'away home', 'away little', 'away live', 'away love', 'away meet', 'away robert', 'away scene', 'away ship', 'away strange', 'away together', 'away two', 'away work', 'awkward teenager', 'axel foley', 'babe ruth', 'baby also', 'baby born', 'baby boy', 'baby brother', 'baby doll', 'baby elephant', 'baby film', 'baby genius', 'baby girl', 'baby left', 'baby sister', 'baby sitter', 'baby way', 'babysitting job', 'bachelor party', 'back action', 'back aid', 'back apartment', 'back beginning', 'back big', 'back brink', 'back burner', 'back business', 'back childhood', 'back civilization', 'back dead', 'back earth', 'back england', 'back exgirlfriend', 'back father', 'back favorite', 'back film', 'back foot', 'back former', 'back forth', 'back future', 'back game', 'back get', 'back haunt', 'back health', 'back high', 'back home', 'back homeland', 'back hometown', 'back husband', 'back japan', 'back joined', 'back la', 'back land', 'back late', 'back life', 'back meet', 'back new', 'back north', 'back old', 'back one', 'back parent', 'back paris', 'back planet', 'back prison', 'back revenge', 'back seat', 'back second', 'back show', 'back small', 'back still', 'back take', 'back team', 'back tell', 'back time', 'back together', 'back town', 'back track', 'back trying', 'back village', 'back way', 'back working', 'back world', 'back yard', 'backdrop american', 'backed corner', 'backup singer', 'bad attitude', 'bad behavior', 'bad blood', 'bad boy', 'bad breakup', 'bad enough', 'bad film', 'bad girl', 'bad guy', 'bad luck', 'bad news', 'bad publicity', 'bad relationship', 'bad side', 'bad spirit', 'bad taste', 'bad weather', 'bad worse', 'badder ever', 'baggins hobbit', 'bahrain one', 'bail bond', 'balance power', 'balance work', 'ball transforms', 'ballet dancer', 'ballroom dancing', 'band called', 'band dream', 'band exiled', 'band go', 'band member', 'band mercenary', 'band merry', 'band misfit', 'band school', 'band survivor', 'band thief', 'band together', 'band win', 'bank account', 'bank city', 'bank clerk', 'bank heist', 'bank job', 'bank manager', 'bank pay', 'bank plan', 'bank robber', 'bank robbery', 'bank teller', 'banker toss', 'banned soccer', 'baptist church', 'bar exam', 'bar looking', 'bar one', 'bar owned', 'bar people', 'barbara husband', 'barbara kopple', 'barbara sukowa', 'barbra streisand', 'barely know', 'barely survives', 'barkley helen', 'baron invaded', 'barrel two', 'barricaded inside', 'barris recruited', 'barris said', 'barry levinson', 'base camp', 'baseball game', 'baseball league', 'baseball player', 'baseball star', 'baseball team', 'based actual', 'based autobiographical', 'based autobiography', 'based bestselling', 'based book', 'based elizabeth', 'based experience', 'based frank', 'based life', 'based loosely', 'based mary', 'based novel', 'based one', 'based original', 'based play', 'based popular', 'based real', 'based reallife', 'based story', 'based true', 'based two', 'based upon', 'basis film', 'basketball association', 'basketball coach', 'basketball game', 'basketball player', 'basketball star', 'basketball team', 'bates motel', 'bates still', 'batman face', 'batman must', 'battle army', 'battle band', 'battle becomes', 'battle berlin', 'battle brutal', 'battle cancer', 'battle death', 'battle end', 'battle ensues', 'battle ever', 'battle evil', 'battle good', 'battle life', 'battle one', 'battle protect', 'battle rage', 'battle royale', 'battle save', 'battle street', 'battle supremacy', 'battle will', 'battle wit', 'battling way', 'bay area', 'bb king', 'beach boy', 'beach high', 'beach house', 'beach party', 'beach resort', 'beach town', 'beacon hope', 'beacon theater', 'bear baloo', 'bear cub', 'bear find', 'beating hand', 'beautiful college', 'beautiful daughter', 'beautiful doctor', 'beautiful girl', 'beautiful girlfriend', 'beautiful house', 'beautiful model', 'beautiful mother', 'beautiful music', 'beautiful new', 'beautiful princess', 'beautiful sight', 'beautiful stranger', 'beautiful talented', 'beautiful wife', 'beautiful woman', 'beautiful young', 'beauty pageant', 'beauty salon', 'beauty whose', 'beavis butthead', 'became drug', 'became famous', 'became focus', 'became friend', 'became one', 'become adult', 'become america', 'become attracted', 'become best', 'become big', 'become classic', 'become close', 'become complicated', 'become couple', 'become covert', 'become dancer', 'become entangled', 'become famous', 'become fast', 'become frequent', 'become friend', 'become great', 'become greatest', 'become hero', 'become hunted', 'become important', 'become increasingly', 'become inseparable', 'become involved', 'become killer', 'become latest', 'become lawyer', 'become legend', 'become lover', 'become man', 'become member', 'become new', 'become next', 'become obsessed', 'become one', 'become part', 'become partner', 'become popular', 'become powerful', 'become prime', 'become real', 'become reputed', 'become rock', 'become romantically', 'become something', 'become star', 'become stranded', 'become street', 'become successful', 'become target', 'become true', 'become ultimate', 'become unlikely', 'become world', 'become writer', 'becomes apparent', 'becomes aware', 'becomes clear', 'becomes complicated', 'becomes convinced', 'becomes determined', 'becomes drawn', 'becomes drug', 'becomes embroiled', 'becomes entangled', 'becomes even', 'becomes exhausting', 'becomes fascinated', 'becomes focus', 'becomes friend', 'becomes friendly', 'becomes governess', 'becomes hero', 'becomes huge', 'becomes hunted', 'becomes increasingly', 'becomes infatuated', 'becomes interested', 'becomes involved', 'becomes key', 'becomes leader', 'becomes local', 'becomes next', 'becomes object', 'becomes obsessed', 'becomes obsession', 'becomes obvious', 'becomes one', 'becomes overnight', 'becomes pawn', 'becomes personal', 'becomes popular', 'becomes pregnant', 'becomes prey', 'becomes recipient', 'becomes reluctant', 'becomes romantically', 'becomes ruler', 'becomes sensation', 'becomes smitten', 'becomes something', 'becomes spirit', 'becomes strained', 'becomes stranded', 'becomes subject', 'becomes successful', 'becomes surrounded', 'becomes suspect', 'becomes suspicious', 'becomes target', 'becomes threatened', 'becomes torn', 'becomes trapped', 'becomes ultimate', 'becomes unlikely', 'becomes unwilling', 'becomes unwitting', 'becomes victim', 'becomes well', 'becoming adult', 'becoming doctor', 'becoming friend', 'becoming great', 'becoming involved', 'becoming king', 'becoming next', 'becoming obsessed', 'becoming one', 'becoming successful', 'becoming witness', 'bed next', 'bedtime story', 'bee championship', 'beetle mind', 'befriended black', 'befriended young', 'befriends one', 'befriends young', 'began appear', 'began killing', 'begin affair', 'begin believe', 'begin blur', 'begin campaign', 'begin change', 'begin come', 'begin dating', 'begin develop', 'begin discover', 'begin doubt', 'begin dream', 'begin dropping', 'begin experience', 'begin experiencing', 'begin fall', 'begin falling', 'begin feel', 'begin film', 'begin follow', 'begin form', 'begin get', 'begin happen', 'begin investigate', 'begin investigation', 'begin involving', 'begin journey', 'begin killing', 'begin learn', 'begin long', 'begin look', 'begin lose', 'begin make', 'begin mission', 'begin murder', 'begin new', 'begin notice', 'begin occur', 'begin passionate', 'begin piece', 'begin piecing', 'begin playing', 'begin quest', 'begin question', 'begin realize', 'begin relationship', 'begin remember', 'begin romance', 'begin romantic', 'begin scheming', 'begin see', 'begin series', 'begin showing', 'begin slip', 'begin sordid', 'begin stalk', 'begin stalking', 'begin suffer', 'begin suspect', 'begin take', 'begin taking', 'begin tell', 'begin terrorize', 'begin terrorizing', 'begin think', 'begin torrid', 'begin train', 'begin turn', 'begin uncover', 'begin understand', 'begin unravel', 'begin visit', 'begin wonder', 'begin wondering', 'begin work', 'beginning 1980s', 'beginning 20th', 'beginning end', 'beginning new', 'beginning world', 'behaves like', 'behind bar', 'behind closed', 'behind counter', 'behind enemy', 'behind extraordinary', 'behind go', 'behind killing', 'behind mask', 'behind mother', 'behind move', 'behind next', 'behind past', 'behind retired', 'behind scene', 'behind schedule', 'behind start', 'behind wheel', 'behind wife', 'behindthescenes look', 'bela lugosi', 'belief father', 'belief god', 'belief he', 'belief practice', 'believe could', 'believe luck', 'believe story', 'bella swan', 'beloved cat', 'beloved wife', 'ben barnes', 'ben sobel', 'ben stiller', 'ben stone', 'ben try', 'ben wade', 'benjamin franklin', 'beret john', 'berlin film', 'berlin try', 'berlin wall', 'best actor', 'best actress', 'best art', 'best best', 'best buddy', 'best business', 'best cinematography', 'best day', 'best documentary', 'best effort', 'best fighter', 'best film', 'best foreign', 'best friend', 'best known', 'best man', 'best night', 'best original', 'best pal', 'best picture', 'best selling', 'best show', 'best sound', 'best stop', 'best thing', 'best way', 'best year', 'bestselling author', 'bestselling book', 'bestselling novel', 'bet friend', 'bet two', 'beth amy', 'bette midler', 'better day', 'better expected', 'better future', 'better life', 'better person', 'better place', 'beverly hill', 'beyond anything', 'beyond control', 'beyond family', 'beyond grave', 'beyond high', 'beyond recognition', 'bicycle stolen', 'bid start', 'biddle brother', 'big adventure', 'big apple', 'big bad', 'big bang', 'big bos', 'big boy', 'big break', 'big brother', 'big buck', 'big business', 'big change', 'big city', 'big game', 'big hit', 'big idea', 'big momma', 'big plan', 'big powerful', 'big promotion', 'big score', 'big screen', 'big star', 'big thing', 'big three', 'big time', 'big trouble', 'big wave', 'bigger conspiracy', 'biggest challenge', 'biggest hit', 'biggest star', 'bigoted policeman', 'bike gang', 'bike get', 'bike messenger', 'biker gang', 'bilbo baggins', 'bill clinton', 'bill hick', 'bill murray', 'bill ted', 'bill travers', 'billion dollar', 'billy connolly', 'billy crystal', 'billy kid', 'billy rosewood', 'billy son', 'billy take', 'bind together', 'bing crosby', 'biographical account', 'biographical documentary', 'biographical drama', 'biographical film', 'biography woody', 'biological weapon', 'bird try', 'birth decides', 'birth may', 'birth mother', 'birth nation', 'birth parent', 'birth sing', 'birthday celebration', 'birthday one', 'birthday party', 'bishop best', 'bit old', 'bit trouble', 'bitten vampire', 'bitten werewolf', 'bitter enemy', 'bitter rival', 'bizarre accident', 'bizarre elegiac', 'bizarre family', 'bizarre situation', 'bizarre tale', 'black american', 'black beauty', 'black book', 'black comedy', 'black dark', 'black death', 'black girl', 'black god', 'black hole', 'black magic', 'black man', 'black market', 'black men', 'black ops', 'black people', 'black sheep', 'black student', 'black teen', 'black white', 'black widow', 'black woman', 'blackmail murder', 'blade runner', 'blind boy', 'blind date', 'blind eye', 'blind man', 'blink eye', 'block begin', 'blonde bombshell', 'blonde woman', 'blood thirsty', 'bloodthirsty creature', 'bloody battle', 'bloody path', 'bloody revenge', 'blow cover', 'blow whistle', 'blu jewel', 'blue brother', 'blue musician', 'board game', 'board plane', 'board ship', 'boarding house', 'boarding school', 'boat filled', 'boating accident', 'bob dylan', 'bob hope', 'bobby fischer', 'body bag', 'body count', 'body dead', 'body discovered', 'body found', 'body never', 'body part', 'body unknown', 'body victim', 'body young', 'boer war', 'boiling point', 'bollywood movie', 'bomb expert', 'bomb shelter', 'bomb squad', 'bombing raid', 'bona fide', 'bond father', 'bond friendship', 'bond help', 'bond investigates', 'bond love', 'bond must', 'bond one', 'bond sent', 'bond series', 'bond two', 'bone marrow', 'bonnie clyde', 'bono edge', 'book act', 'book artist', 'book editor', 'book life', 'book movie', 'book name', 'book seems', 'book seller', 'book series', 'boom town', 'boot camp', 'booze pill', 'bordello shes', 'border mexico', 'border town', 'border without', 'borderline personality', 'bored suburban', 'bored young', 'boring life', 'born america', 'born condition', 'born raised', 'bos doesnt', 'bos get', 'bos hire', 'bos named', 'bos never', 'bos seems', 'bos tony', 'bos young', 'bosnian war', 'boss daughter', 'bossa nova', 'botched robbery', 'bought wealthy', 'bounce back', 'bounty hunter', 'bowden family', 'box office', 'boxing champion', 'boxing match', 'boxing promoter', 'boxing ring', 'boxoffice success', 'boy alan', 'boy attempt', 'boy born', 'boy called', 'boy caught', 'boy come', 'boy coming', 'boy discovers', 'boy dog', 'boy draw', 'boy fall', 'boy family', 'boy father', 'boy find', 'boy first', 'boy follows', 'boy forced', 'boy get', 'boy girl', 'boy go', 'boy growing', 'boy home', 'boy however', 'boy james', 'boy journey', 'boy know', 'boy left', 'boy life', 'boy living', 'boy loses', 'boy meet', 'boy move', 'boy must', 'boy named', 'boy raised', 'boy rocky', 'boy scout', 'boy search', 'boy spirit', 'boy struggling', 'boy take', 'boy taken', 'boy try', 'boy trying', 'boy two', 'boy who', 'boy whose', 'boy young', 'boyfriend jimmy', 'boyfriend local', 'boyfriend see', 'boyfriend tom', 'brain surgeon', 'brainy beautiful', 'bram stoker', 'brand justice', 'brand violence', 'brandon teena', 'brazilian history', 'break date', 'break free', 'break get', 'break heart', 'break jail', 'break leg', 'break loose', 'break movie', 'break news', 'break one', 'break prison', 'break remote', 'break rule', 'break spell', 'break vow', 'breakfast cereal', 'breaking girlfriend', 'breaking point', 'breakout success', 'breakup girlfriend', 'breast cancer', 'breeding ground', 'brian oconner', 'brians life', 'bride aging', 'bride frankenstein', 'bridget fonda', 'bridget jones', 'brief encounter', 'brief fling', 'bright future', 'bright idea', 'bright young', 'brilliant idea', 'brilliant scientist', 'brilliant young', 'bring along', 'bring back', 'bring big', 'bring equality', 'bring home', 'bring justice', 'bring life', 'bring new', 'bring old', 'bring together', 'bring two', 'bring world', 'bringing dead', 'brings along', 'brings back', 'brings contact', 'brings fame', 'brings family', 'brings home', 'brings life', 'brings new', 'brings together', 'brink collapse', 'brink disaster', 'brink war', 'british agent', 'british american', 'british army', 'british columbia', 'british comedy', 'british cult', 'british diplomat', 'british director', 'british documentary', 'british film', 'british government', 'british intelligence', 'british journalist', 'british novelist', 'british nurse', 'british officer', 'british school', 'british slave', 'british soldier', 'british spy', 'british woman', 'britishborn adult', 'britishborn child', 'broadway hollywood', 'broadway musical', 'broadway play', 'broadway playwright', 'broadway production', 'broadway stage', 'broadway star', 'brock invade', 'broken leg', 'broken vow', 'brokered loyal', 'brooke shield', 'brooklyn new', 'brooklyn teenager', 'brothel run', 'brother also', 'brother become', 'brother begin', 'brother bill', 'brother billy', 'brother david', 'brother death', 'brother ed', 'brother escape', 'brother family', 'brother father', 'brother find', 'brother former', 'brother frankie', 'brother gang', 'brother girlfriend', 'brother james', 'brother johnny', 'brother kill', 'brother life', 'brother lyle', 'brother morgan', 'brother must', 'brother new', 'brother one', 'brother paul', 'brother powerful', 'brother relationship', 'brother return', 'brother run', 'brother sends', 'brother sister', 'brother soon', 'brother stanley', 'brother struggle', 'brother take', 'brother trail', 'brother turn', 'brother wife', 'brought back', 'brought big', 'brought justice', 'brought life', 'brought screen', 'brought together', 'brought working', 'bruce banner', 'bruce beresford', 'bruce brown', 'bruce dern', 'bruce lee', 'bruce wayne', 'bruce willis', 'brush law', 'brutal attack', 'brutal battle', 'brutal death', 'brutal murder', 'brutally murdered', 'brutally raped', 'brutally shattered', 'bryan mill', 'buddhist monk', 'budding relationship', 'budding romance', 'buddy cop', 'buddy help', 'buddy larry', 'buddy love', 'buenos aire', 'buford justice', 'bugsy siegel', 'build ark', 'build bridge', 'build case', 'build character', 'build escape', 'build house', 'build new', 'build opera', 'building built', 'building life', 'built around', 'bully school', 'bumbling cop', 'bumbling detective', 'bumbling outlaw', 'bumpy johnson', 'bunch people', 'burgeoning relationship', 'burger joint', 'burial ground', 'buried alive', 'buried secret', 'burt gummer', 'burt lancaster', 'burt reynolds', 'bury father', 'bus accident', 'bus break', 'bus driver', 'busboy nightclub', 'bush administration', 'bush pilot', 'business becomes', 'business booming', 'business conference', 'business deal', 'business executive', 'business find', 'business la', 'business magnate', 'business man', 'business men', 'business new', 'business owner', 'business partner', 'business rival', 'business start', 'business thing', 'business trip', 'business two', 'businessman make', 'businessman who', 'buster keaton', 'butcher shop', 'butt head', 'buy car', 'buy drug', 'buy entire', 'buzz lightyear', 'cab driver', 'cabin boy', 'cabin wood', 'cache stolen', 'cadet training', 'cafe waitress', 'cal frustrated', 'cal get', 'calamity jane', 'california based', 'california become', 'california college', 'california little', 'california town', 'call famed', 'call girl', 'call help', 'call home', 'call mom', 'call mother', 'call nick', 'call upon', 'callahan return', 'called action', 'called angel', 'called back', 'called dark', 'called investigate', 'called island', 'called together', 'called upon', 'calm town', 'cameo appearance', 'camera capture', 'camera crew', 'camera film', 'camera tape', 'cameron diaz', 'camille claudels', 'camp counselor', 'camp crystal', 'camp meet', 'camp world', 'camping trip', 'canadian mountie', 'canadian rock', 'candidate senate', 'candy life', 'cannes film', 'cannibal tribe', 'cant alone', 'cant believe', 'cant break', 'cant bring', 'cant choose', 'cant come', 'cant control', 'cant decide', 'cant drive', 'cant even', 'cant find', 'cant get', 'cant handle', 'cant help', 'cant keep', 'cant make', 'cant pay', 'cant quite', 'cant read', 'cant refuse', 'cant remember', 'cant seem', 'cant shake', 'cant stand', 'cant treat', 'cant wait', 'canyon utah', 'cape cod', 'capital united', 'capital world', 'capt john', 'captain america', 'captain bligh', 'captain crew', 'captain hook', 'captain jack', 'captain james', 'captain jeanluc', 'captain john', 'captain li', 'captain must', 'captain nemo', 'captain picard', 'captain spaulding', 'capture creature', 'capture evil', 'capture french', 'capture heart', 'capture mysterious', 'capture new', 'capture one', 'capture pilot', 'capture young', 'captured fate', 'captured film', 'captured heart', 'captured held', 'captured screen', 'captured tortured', 'car accident', 'car bomb', 'car break', 'car chase', 'car crash', 'car dealer', 'car dealership', 'car discovers', 'car driven', 'car driver', 'car hit', 'car one', 'car race', 'car salesman', 'car stolen', 'car thief', 'car wash', 'card find', 'card game', 'cardinal richelieu', 'care ailing', 'care although', 'care baby', 'care bear', 'care child', 'care family', 'care sick', 'care system', 'care two', 'care young', 'career begin', 'career choice', 'career criminal', 'career goal', 'career lead', 'career life', 'career move', 'career personal', 'career sport', 'career take', 'career trained', 'career woman', 'carefree existence', 'carefree life', 'carefully plan', 'cargo ship', 'caribbean island', 'carl anderson', 'carlos jackal', 'carmen juni', 'carol anne', 'carraway young', 'carrie white', 'carriere director', 'carriere however', 'carrieres dismissed', 'carry plan', 'carry plot', 'carry torch', 'cary elwes', 'cary grant', 'case along', 'case becomes', 'case eventually', 'case find', 'case go', 'case involving', 'case mistaken', 'case murder', 'case murderer', 'case must', 'case soon', 'case three', 'case writer', 'casey ryback', 'cash capital', 'casino heist', 'cassius clay', 'cast crew', 'cast including', 'cast spell', 'castro cuba', 'casual sex', 'cat come', 'cat dog', 'cat make', 'cat mouse', 'cat two', 'cataclysmic event', 'catacomb opera', 'catandmouse game', 'catapulting stardom', 'catastrophe ever', 'catch eye', 'catch killer', 'catch serial', 'catch thief', 'cate blanchett', 'catherine barkley', 'catholic church', 'catholic priest', 'catholic school', 'cattle herd', 'cattle rancher', 'caught arrested', 'caught attempting', 'caught middle', 'caught offguard', 'caught underground', 'caught web', 'cause accident', 'cause challenge', 'cause child', 'cause conflict', 'cause death', 'cause great', 'cause havoc', 'cause many', 'cause miss', 'cause switch', 'cause trouble', 'cause turn', 'cause victim', 'caused accident', 'caused death', 'celebi brings', 'celebi captured', 'celebi encounter', 'celebi must', 'celebi suicune', 'celebrate life', 'cell phone', 'centennial celebration', 'center around', 'center earth', 'center film', 'centered around', 'centered life', 'centering around', 'central america', 'central american', 'central character', 'central city', 'central los', 'central park', 'century ago', 'century american', 'century england', 'century france', 'century including', 'century japan', 'century life', 'century london', 'century new', 'century small', 'century young', 'cerebral palsy', 'certain death', 'certain destruction', 'certain regard', 'chagnie discovered', 'chain event', 'chain reaction', 'challenge difficult', 'challenge duel', 'challenge ever', 'challenge find', 'challenge yet', 'chamber horror', 'champion like', 'champion rocky', 'chan star', 'chan wing', 'chance change', 'chance encounter', 'chance escape', 'chance film', 'chance get', 'chance go', 'chance love', 'chance make', 'chance meeting', 'chance new', 'chance play', 'chance prove', 'chance put', 'chance redemption', 'chance spent', 'chance teach', 'chance true', 'chance turn', 'chaney jr', 'change anything', 'change arrival', 'change attitude', 'change clock', 'change come', 'change course', 'change destiny', 'change dramatically', 'change everything', 'change fate', 'change forever', 'change get', 'change heart', 'change history', 'change life', 'change meet', 'change mind', 'change movie', 'change name', 'change occurred', 'change one', 'change start', 'change way', 'change world', 'changed forever', 'changed since', 'changing life', 'changing way', 'changing year', 'channel new', 'chaos ensues', 'chaotic world', 'chapter epic', 'character along', 'character back', 'character come', 'character find', 'character including', 'character life', 'character like', 'character movie', 'character named', 'character one', 'character play', 'character played', 'character revealed', 'character seen', 'character stay', 'character try', 'charge crime', 'charge fate', 'charge investigation', 'charged killing', 'charged murder', 'charismatic leader', 'charles bronson', 'charles dickens', 'charles ii', 'charles return', 'charles xavier', 'charley brewster', 'charlie brown', 'charlie chaplin', 'charlie life', 'charlie may', 'charlie parker', 'charlie take', 'charlotta who', 'charlotte spider', 'charlton heston', 'charm woman', 'charming film', 'chase across', 'chase ensues', 'chase take', 'chase two', 'chase woman', 'chased police', 'chasing girl', 'cheap trick', 'cheating husband', 'cheech chong', 'chekhov uncle', 'chemistry teacher', 'chen zhen', 'chevy chase', 'chicago cop', 'chicago mob', 'chicago new', 'chicago put', 'chicago reporter', 'chief grandfather', 'chief inspector', 'chief justice', 'child abuse', 'child accidentally', 'child act', 'child age', 'child alone', 'child beautiful', 'child become', 'child becomes', 'child begin', 'child birth', 'child born', 'child child', 'child come', 'child could', 'child decide', 'child different', 'child discover', 'child follow', 'child get', 'child grown', 'child kathy', 'child lead', 'child left', 'child life', 'child marries', 'child meet', 'child mind', 'child move', 'child murder', 'child must', 'child need', 'child new', 'child one', 'child parent', 'child police', 'child prodigy', 'child psychologist', 'child receive', 'child safety', 'child seven', 'child soldier', 'child soon', 'child taken', 'child together', 'child tommy', 'child training', 'child try', 'child two', 'child whose', 'child world', 'childhood abuse', 'childhood day', 'childhood experience', 'childhood friend', 'childhood girlfriend', 'childhood growing', 'childhood home', 'childhood memory', 'childless couple', 'childrens book', 'childrens hospital', 'chili palmer', 'chilling sequel', 'chinese drug', 'chinese village', 'chinese woman', 'chocolate factory', 'choice either', 'choice leave', 'choking death', 'chon wang', 'choose love', 'choose side', 'choose two', 'chorus girl', 'chosen fate', 'chosen go', 'chosen one', 'chris odonnell', 'chris rock', 'christ film', 'christian faith', 'christian slater', 'christine career', 'christine gadrobiere', 'christine love', 'christines singing', 'christmas approach', 'christmas break', 'christmas day', 'christmas eve', 'christmas morning', 'christmas new', 'christmas party', 'christmas time', 'christmas tree', 'christopher eccleston', 'christopher walken', 'chronicle adventure', 'chronicle camille', 'chronicle life', 'chronicle new', 'chronicle short', 'chronicle three', 'chronicling rise', 'chuck barris', 'chuck berry', 'church investigate', 'church time', 'cia agent', 'cia analyst', 'cia assassin', 'cia height', 'cia operation', 'cia operative', 'cia spy', 'cinema history', 'cinematic journey', 'cinematography best', 'circle becoming', 'circle friend', 'circle globe', 'circle life', 'circumstance force', 'circumstance make', 'circumstance two', 'circus arrives', 'circus bear', 'circus make', 'circus performer', 'citizen get', 'citizen kane', 'city airport', 'city becomes', 'city begin', 'city boy', 'city bringing', 'city child', 'city cop', 'city detective', 'city drug', 'city fall', 'city find', 'city full', 'city get', 'city getting', 'city girl', 'city gold', 'city government', 'city kid', 'city late', 'city life', 'city light', 'city los', 'city love', 'city meet', 'city new', 'city one', 'city people', 'city place', 'city police', 'city subway', 'city town', 'city try', 'city unable', 'civil right', 'civil servant', 'civil strife', 'civil suit', 'civil war', 'civilian life', 'ck dexter', 'claim another', 'claim former', 'claim he', 'claim inheritance', 'claim know', 'claim never', 'claiming friend', 'clapton jeff', 'clarice starling', 'clark kent', 'clash culture', 'class background', 'class city', 'class discover', 'class family', 'class prejudice', 'class woman', 'classic book', 'classic cartoon', 'classic dickens', 'classic film', 'classic german', 'classic hill', 'classic hollywood', 'classic horror', 'classic novel', 'classic rodgers', 'classic science', 'classic story', 'classic sword', 'classic tale', 'classic underdog', 'classical pianist', 'claude van', 'claudels reclusive', 'clean house', 'clean particularly', 'clear debt', 'clear name', 'clerk work', 'cleveland indian', 'climactic battle', 'climate change', 'climb corporate', 'climb social', 'clint eastwood', 'clique campus', 'clock family', 'clock strike', 'clone war', 'close bond', 'close earth', 'close encounter', 'close friend', 'close friendship', 'close one', 'close personal', 'close relative', 'close together', 'closed door', 'closer closer', 'closer daughter', 'closer death', 'closer finding', 'closer get', 'closer goal', 'closer together', 'closest friend', 'closet one', 'closing day', 'club member', 'club old', 'club owner', 'clue help', 'clue seem', 'clutch evil', 'coach bill', 'coach mike', 'coach team', 'coal miner', 'coast guard', 'coast new', 'coastal town', 'cobble together', 'cocaine baron', 'cocaine cowboy', 'cocaine dealer', 'code honor', 'code silence', 'coffee house', 'coffee shop', 'col william', 'cold war', 'cold warera', 'coldblooded killer', 'cole join', 'cole porter', 'colin firth', 'collect debt', 'collect soul', 'collection short', 'college basketball', 'college buddy', 'college campus', 'college coeds', 'college dropout', 'college final', 'college find', 'college freshman', 'college friend', 'college get', 'college girl', 'college girlfriend', 'college graduate', 'college graduation', 'college kid', 'college meet', 'college pledge', 'college professor', 'college student', 'college sweetheart', 'college working', 'collide earth', 'collins show', 'collision course', 'colombian cocaine', 'colombian drug', 'colonel james', 'colorful character', 'colorful life', 'colourful character', 'columbia picture', 'combined power', 'come across', 'come age', 'come aid', 'come alive', 'come along', 'come apart', 'come around', 'come attack', 'come back', 'come believe', 'come calling', 'come clean', 'come closer', 'come closet', 'come conclusion', 'come contact', 'come crashing', 'come earth', 'come end', 'come face', 'come facetoface', 'come find', 'come fore', 'come form', 'come forward', 'come go', 'come handy', 'come head', 'come hiding', 'come home', 'come idea', 'come know', 'come la', 'come life', 'come light', 'come live', 'come looking', 'come los', 'come money', 'come new', 'come one', 'come paris', 'come plan', 'come planet', 'come play', 'come poor', 'come price', 'come realize', 'come rescue', 'come retirement', 'come right', 'come rural', 'come see', 'come stay', 'come stop', 'come story', 'come surface', 'come suspect', 'come term', 'come time', 'come together', 'come town', 'come true', 'come truth', 'come two', 'come understand', 'come upon', 'come visit', 'come way', 'come without', 'comeback straight', 'comedian try', 'comedy also', 'comedy centered', 'comedy central', 'comedy classic', 'comedy couple', 'comedy drama', 'comedy fantasy', 'comedy film', 'comedy focus', 'comedy follows', 'comedy legend', 'comedy life', 'comedy manner', 'comedy routine', 'comedy series', 'comedy set', 'comedy short', 'comedy take', 'comedy tell', 'comedy tragedy', 'comedy two', 'comedy young', 'comedydrama film', 'comfort zone', 'comic artist', 'comic book', 'comic relief', 'comic situation', 'comic strip', 'comic tour', 'coming age', 'coming back', 'coming home', 'coming take', 'coming term', 'coming town', 'comingofage comedy', 'comingofage story', 'comingofage tale', 'commander find', 'commanding officer', 'commit another', 'commit murder', 'commit suicide', 'commitment girlfriend', 'commits murder', 'commits suicide', 'committed crime', 'committed murder', 'committed one', 'committed suicide', 'committing crime', 'committing suicide', 'common enemy', 'common factor', 'common ground', 'common sense', 'communicate animal', 'communist party', 'communist revolution', 'community center', 'community intelligent', 'community service', 'community set', 'companion piece', 'company becomes', 'company find', 'company get', 'company hire', 'company lead', 'company new', 'company president', 'company provides', 'company receives', 'company sends', 'company soon', 'company two', 'compensation care', 'competition american', 'competition rival', 'compilation various', 'complete film', 'complete latest', 'complete mission', 'complete quest', 'complete stranger', 'completely different', 'completely new', 'complex dangerous', 'complex web', 'complicated fall', 'complicated life', 'complicated relationship', 'complicating matter', 'complication arise', 'complication ensue', 'composer jim', 'compulsive gambler', 'computer chip', 'computer game', 'computer genius', 'computer hacker', 'computer scientist', 'computer skill', 'computer specialist', 'computer system', 'computer whiz', 'con artist', 'con man', 'con men', 'con team', 'con way', 'conan barbarian', 'conceive baby', 'concentration camp', 'concert film', 'concert footage', 'concert performance', 'concert pianist', 'concert tour', 'conduct business', 'conduct search', 'coney island', 'conference find', 'confident ability', 'confined family', 'conflict world', 'confront ghost', 'confront illusion', 'confront inner', 'confront powerful', 'congress convention', 'congress outside', 'connect people', 'connection local', 'connor must', 'consequence action', 'considered one', 'considers leaving', 'conspiracy behind', 'conspiracy involving', 'conspiracy led', 'conspiracy theory', 'constantly thwarted', 'constitution hall', 'construction worker', 'consumer product', 'contact alien', 'contact lost', 'contact outside', 'contains two', 'contemplates suicide', 'contemporary american', 'contemporary comedy', 'contemporary los', 'contemporary new', 'continue fight', 'continue journey', 'continue work', 'continues fight', 'continues pursue', 'continues series', 'continuing life', 'contract expiring', 'control ancient', 'control body', 'control enough', 'control film', 'control life', 'control machine', 'control men', 'control mind', 'control world', 'controlled evil', 'controlled studio', 'controlling mother', 'controversial documentary', 'controversial political', 'convenience store', 'convention chicago', 'convention make', 'convict appears', 'convict riddick', 'convict robert', 'convicted crime', 'convicted drug', 'convicted killing', 'convicted murdering', 'convince anyone', 'convince love', 'convinced shes', 'convinces one', 'convinces two', 'cook clean', 'cooper couple', 'cooper fall', 'cop axel', 'cop brian', 'cop called', 'cop criminal', 'cop family', 'cop forced', 'cop get', 'cop go', 'cop jack', 'cop jim', 'cop john', 'cop killed', 'cop killer', 'cop know', 'cop loses', 'cop mob', 'cop movie', 'cop must', 'cop new', 'cop partner', 'cop reassigned', 'cop tail', 'cop trail', 'cop try', 'cop who', 'cop work', 'cope death', 'cope life', 'cope loss', 'corleone crime', 'corner market', 'corner world', 'corny collins', 'corporate empire', 'corporate espionage', 'corporate executive', 'corporate ladder', 'corporate raider', 'corporation omni', 'corporation want', 'correspondence course', 'corrupt agent', 'corrupt business', 'corrupt businessman', 'corrupt cop', 'corrupt government', 'corrupt new', 'corrupt official', 'corrupt police', 'corrupt railroad', 'corrupt sheriff', 'corrupt system', 'corruption scandal', 'cost even', 'cost life', 'costello perfectionist', 'cotton farm', 'could best', 'could change', 'could destroy', 'could ever', 'could get', 'could go', 'could imagine', 'could imagined', 'could lead', 'could make', 'could never', 'could prove', 'could save', 'could stay', 'could stop', 'could take', 'could turn', 'could want', 'could well', 'count begin', 'count day', 'count de', 'count dracula', 'count impeccable', 'count impressionable', 'count rise', 'count soon', 'counterfeit currency', 'counterfeiting ring', 'country band', 'country club', 'country estate', 'country find', 'country first', 'country folk', 'country friend', 'country home', 'country house', 'country however', 'country investigate', 'country music', 'country one', 'country political', 'country road', 'country side', 'country since', 'country singer', 'country story', 'country together', 'country town', 'country united', 'country world', 'coup detat', 'coup détat', 'couple agree', 'couple become', 'couple becoming', 'couple begin', 'couple buy', 'couple day', 'couple find', 'couple george', 'couple get', 'couple go', 'couple life', 'couple living', 'couple london', 'couple love', 'couple make', 'couple meet', 'couple move', 'couple moved', 'couple must', 'couple problem', 'couple put', 'couple seem', 'couple separate', 'couple take', 'couple three', 'couple traveling', 'couple trying', 'couple two', 'couple visit', 'couple wedding', 'couple whose', 'couple work', 'couple would', 'couple year', 'couple young', 'courage let', 'courage love', 'courageous young', 'course action', 'course destruction', 'course get', 'course life', 'course single', 'course summer', 'course three', 'course time', 'course year', 'court appointment', 'court case', 'court decide', 'court hearing', 'court judge', 'court los', 'court martial', 'courtesan paris', 'courtroom thriller', 'cousin who', 'cousin work', 'cover blown', 'cover business', 'cover story', 'cover truth', 'covering life', 'covert government', 'covert mission', 'covert operative', 'cowardliness avalanche', 'cowboy true', 'crack case', 'craft art', 'crane mantis', 'crap game', 'crash course', 'crash earth', 'crash jungle', 'crash land', 'crash leaf', 'crash party', 'crash young', 'crashing around', 'crawl back', 'crazy family', 'crazy night', 'crazy scheme', 'crazy uncle', 'crazy world', 'cream truck', 'create completely', 'create dream', 'create happy', 'create new', 'creates mutant', 'creation monster', 'creative process', 'creative vision', 'creature another', 'creature called', 'creature celebi', 'creature known', 'creature life', 'creature named', 'credit card', 'credit include', 'crew band', 'crew becomes', 'crew discovers', 'crew enterprise', 'crew find', 'crew follows', 'crew including', 'crew make', 'crew must', 'crew return', 'crew search', 'crew travel', 'crew warrior', 'crime become', 'crime behind', 'crime bos', 'crime commit', 'crime committed', 'crime corruption', 'crime didnt', 'crime drama', 'crime family', 'crime help', 'crime lord', 'crime new', 'crime order', 'crime organization', 'crime plan', 'crime punishment', 'crime ring', 'crime scene', 'crime spree', 'crime syndicate', 'crime take', 'crime two', 'crime wave', 'crime world', 'criminal activity', 'criminal career', 'criminal get', 'criminal however', 'criminal kidnap', 'criminal kingpin', 'criminal led', 'criminal make', 'criminal mastermind', 'criminal organization', 'criminal past', 'criminal psychologist', 'criminal quickly', 'criminal run', 'criminal sent', 'criminal underworld', 'criminal world', 'criminally insane', 'crisis 2008', 'crisis attempt', 'crisis brings', 'crisis decides', 'crisis life', 'crisis personal', 'critically acclaimed', 'crocodile hunter', 'crook run', 'crooked cop', 'crooked politician', 'crop circle', 'cross country', 'cross path', 'crosscountry race', 'crosscountry road', 'crosscountry trip', 'crossroad life', 'crowded house', 'cruella de', 'cruise ship', 'cruise spoiled', 'crystal allen', 'crystal lake', 'crystal skull', 'cuba america', 'cuban revolution', 'culprit justice', 'cult classic', 'cult director', 'cultural difference', 'culture one', 'culture via', 'cup championship', 'cure alzheimers', 'curiosity get', 'current lover', 'current president', 'curry favor', 'curse family', 'curse time', 'curse upon', 'curtain konrad', 'custody battle', 'custody son', 'custody two', 'customer take', 'cut hair', 'cut short', 'cutthroat world', 'cybernetically enhanced', 'czech immigrant', 'da vinci', 'dad must', 'daily life', 'daily routine', 'daily work', 'dairy farm', 'dalai lama', 'dalmatian puppy', 'damien karras', 'damien thorn', 'damsel distress', 'dance act', 'dance battle', 'dance crew', 'dance floor', 'dance partner', 'dance studio', 'dance troupe', 'dancer forced', 'dancer jerry', 'dancer one', 'dancing girl', 'dancing lesson', 'dancing partner', 'dancing singing', 'danger may', 'dangerous criminal', 'dangerous ever', 'dangerous funny', 'dangerous game', 'dangerous journey', 'dangerous liaison', 'dangerous love', 'dangerous man', 'dangerous mission', 'dangerous new', 'dangerous place', 'dangerous secret', 'dangerous situation', 'dangerous space', 'dangerous turn', 'danish serviceman', 'danny devito', 'danny find', 'danny glover', 'danny ocean', 'danny young', 'darcy come', 'daria morgendorffer', 'daring diamond', 'daring escape', 'daring rescue', 'dark ball', 'dark comedy', 'dark family', 'dark force', 'dark forest', 'dark knight', 'dark lord', 'dark past', 'dark secret', 'dark side', 'dark turn', 'dark world', 'darker side', 'darker turn', 'darkest day', 'darkly comic', 'darth vader', 'dastardly pirate', 'date find', 'date man', 'date men', 'date movie', 'date night', 'date reunite', 'dating back', 'dating life', 'dating scene', 'dating woman', 'daughter another', 'daughter death', 'daughter decides', 'daughter eva', 'daughter face', 'daughter fall', 'daughter family', 'daughter flora', 'daughter get', 'daughter help', 'daughter helping', 'daughter jane', 'daughter kidnapped', 'daughter life', 'daughter live', 'daughter local', 'daughter mafia', 'daughter maggie', 'daughter make', 'daughter making', 'daughter marry', 'daughter missing', 'daughter molly', 'daughter move', 'daughter mr', 'daughter named', 'daughter regina', 'daughter rich', 'daughter sarah', 'daughter shes', 'daughter son', 'daughter taken', 'daughter thing', 'daughter town', 'daughter two', 'daughter wedding', 'daughter yet', 'daughter young', 'dave discover', 'dave robicheaux', 'dave seville', 'david bowie', 'david carradine', 'david gay', 'david life', 'david lynch', 'david must', 'david think', 'davis guggenheim', 'day away', 'day battle', 'day become', 'day behind', 'day celebi', 'day christmas', 'day cia', 'day come', 'day daughter', 'day day', 'day decides', 'day driving', 'day family', 'day film', 'day finally', 'day find', 'day first', 'day friend', 'day get', 'day getting', 'day he', 'day hell', 'day high', 'day hundred', 'day job', 'day john', 'day keep', 'day killing', 'day later', 'day leading', 'day left', 'day legendary', 'day life', 'day live', 'day loses', 'day meet', 'day news', 'day night', 'day numbered', 'day parent', 'day realizes', 'day receives', 'day school', 'day shes', 'day soon', 'day time', 'day together', 'day try', 'day tv', 'day two', 'day wedding', 'day without', 'day work', 'day world', 'day year', 'daycare center', 'daytoday life', 'de chagnie', 'de havilland', 'de janeiro', 'de la', 'de niro', 'de sade', 'de vil', 'de winter', 'dea agent', 'dead back', 'dead body', 'dead calm', 'dead end', 'dead father', 'dead first', 'dead girl', 'dead husband', 'dead man', 'dead one', 'dead return', 'dead ringer', 'dead rise', 'dead time', 'dead trilogy', 'dead winter', 'deadend job', 'deadliest assassin', 'deadly airborne', 'deadly arm', 'deadly assassin', 'deadly battle', 'deadly chemical', 'deadly consequence', 'deadly conspiracy', 'deadly creature', 'deadly game', 'deadly mission', 'deadly plot', 'deadly race', 'deadly showdown', 'deadly turn', 'deadly virus', 'deadly zombie', 'deaf child', 'deaf man', 'deaf woman', 'deal act', 'deal also', 'deal brokered', 'deal family', 'deal grief', 'deal handsome', 'deal life', 'deal love', 'deal make', 'deal new', 'deal parent', 'deal problem', 'deal reality', 'deal unexpected', 'dealer gang', 'dealer named', 'dealer trying', 'dealing personal', 'dean stanton', 'dear friend', 'death boyfriend', 'death brother', 'death cant', 'death daughter', 'death day', 'death dealer', 'death destruction', 'death father', 'death find', 'death girlfriend', 'death husband', 'death list', 'death man', 'death men', 'death metal', 'death mother', 'death one', 'death parent', 'death penalty', 'death prominent', 'death row', 'death scene', 'death sentence', 'death small', 'death son', 'death struggle', 'death take', 'death threat', 'death upon', 'death wife', 'death young', 'deathly ill', 'debate whether', 'debbie reynolds', 'debra winger', 'debut film', 'debut young', 'debutante daughter', 'decade ago', 'decade catapulting', 'decade later', 'decade war', 'decaying new', 'deceased daughter', 'deceased father', 'deceased mother', 'deceased uncle', 'deceptively simple', 'decide adopt', 'decide child', 'decide ditch', 'decide divorce', 'decide fate', 'decide get', 'decide go', 'decide keep', 'decide leave', 'decide make', 'decide marry', 'decide move', 'decide pose', 'decide put', 'decide return', 'decide start', 'decide stay', 'decide steal', 'decide take', 'decide two', 'decide want', 'decide whether', 'decided get', 'decided live', 'decides adopt', 'decides baby', 'decides become', 'decides best', 'decides break', 'decides call', 'decides change', 'decides confront', 'decides defend', 'decides end', 'decides enough', 'decides fight', 'decides fly', 'decides follow', 'decides get', 'decides give', 'decides go', 'decides help', 'decides kidnap', 'decides kill', 'decides leave', 'decides life', 'decides make', 'decides move', 'decides one', 'decides put', 'decides retire', 'decides return', 'decides risk', 'decides run', 'decides seek', 'decides sell', 'decides slumber', 'decides start', 'decides take', 'decides test', 'decides time', 'decides track', 'decides travel', 'decides try', 'decides turn', 'decides use', 'decides visit', 'decides want', 'decision change', 'decision face', 'decision life', 'decision stop', 'decision turn', 'deckhand fall', 'declare war', 'declares love', 'declares war', 'decorated soldier', 'dedicated family', 'deep cover', 'deep dark', 'deep friendship', 'deep heart', 'deep jungle', 'deep mystery', 'deep south', 'deep undercover', 'deeper deeper', 'deeply disturbing', 'deeply love', 'deeply moving', 'deeply religious', 'defeat evil', 'defeat monster', 'defect east', 'defence lawyer', 'defend city', 'defend family', 'defend home', 'defend time', 'defended court', 'defense attorney', 'defense lawyer', 'defense secretary', 'define modern', 'defining moment', 'definitely attract', 'degenerative disease', 'delivery boy', 'delivery man', 'delivery run', 'demi moore', 'demigod son', 'demo tape', 'democratic national', 'democratic party', 'demon get', 'demonic force', 'demonic presence', 'denmark find', 'dennis quaid', 'dent batman', 'depart new', 'department store', 'depicting life', 'depicts life', 'depressed housewife', 'deranged killer', 'descend upon', 'descends madness', 'descends upon', 'desert fortress', 'desert island', 'desert new', 'desert town', 'deserted island', 'designed prevent', 'designer clothes', 'desire become', 'desire get', 'desk job', 'desolate planet', 'desperate attempt', 'desperate battle', 'desperate bid', 'desperate escape', 'desperate fight', 'desperate find', 'desperate love', 'desperate make', 'desperate need', 'desperate search', 'desperate situation', 'desperate struggle', 'desperately escape', 'desperately need', 'desperately seeking', 'desperately try', 'desperately trying', 'desperately want', 'despite fact', 'despite family', 'despite lack', 'despite pressure', 'destiny becoming', 'destroy enemy', 'destroy human', 'destroy japan', 'destroy life', 'destroy one', 'destroy two', 'destroy world', 'destroyer escort', 'destroying life', 'destroying world', 'destruction wake', 'destructive power', 'detail life', 'detective alex', 'detective charge', 'detective eddie', 'detective find', 'detective follow', 'detective get', 'detective harry', 'detective hercule', 'detective hired', 'detective hoffman', 'detective james', 'detective john', 'detective must', 'detective nick', 'detective philip', 'detective sherlock', 'detective take', 'detective team', 'detective track', 'detective trail', 'detective who', 'detective work', 'detention center', 'deteriorating marriage', 'determination courage', 'determine whether', 'determined break', 'determined bring', 'determined destroy', 'determined drive', 'determined end', 'determined escape', 'determined find', 'determined get', 'determined help', 'determined keep', 'determined make', 'determined move', 'determined prove', 'determined see', 'determined steal', 'determined succeed', 'determined take', 'determined turn', 'determined win', 'detonate nuclear', 'detroit cop', 'deuce bigalow', 'devastating attack', 'devastating consequence', 'devastating result', 'devastating truth', 'develop romantic', 'developed way', 'developing relationship', 'development cinema', 'develops amnesia', 'develops crush', 'develops strange', 'develops two', 'device known', 'device quickwitted', 'devil playground', 'devil wear', 'devious plan', 'devise plan', 'devise scheme', 'devoted family', 'dexter riley', 'diabolical agenda', 'diabolical fashion', 'diabolical plan', 'diagnosed terminal', 'diamond heist', 'diamond mine', 'diamond stolen', 'dickens tale', 'dictator kim', 'didnt commit', 'didnt expect', 'didnt know', 'die every', 'die hard', 'die trying', 'died thomas', 'died young', 'difference make', 'different aspect', 'different background', 'different best', 'different brother', 'different character', 'different city', 'different director', 'different family', 'different father', 'different girl', 'different identity', 'different kind', 'different life', 'different light', 'different men', 'different people', 'different perspective', 'different place', 'different plan', 'different reason', 'different social', 'different thing', 'different time', 'different way', 'different woman', 'different world', 'differing method', 'difficult choice', 'difficult decision', 'difficult expected', 'difficult journey', 'difficult life', 'difficult situation', 'difficult task', 'difficult time', 'digital double', 'digital likeness', 'digitized character', 'dinner guest', 'dinner party', 'dinner table', 'diplomat robert', 'direct course', 'direct descendant', 'directed ken', 'directed stephen', 'directed william', 'directed written', 'director actor', 'director barry', 'director christopher', 'director david', 'director dr', 'director eric', 'director fred', 'director fw', 'director gu', 'director jan', 'director jim', 'director joe', 'director john', 'director martin', 'director michael', 'director parisian', 'director roman', 'director school', 'director spike', 'director struggle', 'directorial debut', 'dirty cop', 'dirty detective', 'dirty harry', 'dirty little', 'dirty trick', 'disabled man', 'disagreeable turn', 'disappearance exgirlfriend', 'disappearance get', 'disappearance several', 'disappeared jamie', 'disappeared mysteriously', 'disappeared wood', 'disappears home', 'disappointed husband', 'disaster film', 'disaster movie', 'disaster strike', 'disastrous result', 'disc jockey', 'discharged marine', 'discover amusement', 'discover ancient', 'discover clue', 'discover dark', 'discover destiny', 'discover fate', 'discover hidden', 'discover hotel', 'discover little', 'discover new', 'discover one', 'discover real', 'discover reason', 'discover school', 'discover secret', 'discover something', 'discover target', 'discover theyre', 'discover thing', 'discover truth', 'discover tv', 'discover two', 'discover way', 'discover world', 'discovered christines', 'discovered dead', 'discovering he', 'discovering husband', 'discovering secret', 'discovers ability', 'discovers alice', 'discovers book', 'discovers boyfriend', 'discovers dark', 'discovers extraordinary', 'discovers father', 'discovers former', 'discovers girlfriend', 'discovers group', 'discovers he', 'discovers heist', 'discovers late', 'discovers love', 'discovers magical', 'discovers man', 'discovers many', 'discovers map', 'discovers mutilated', 'discovers mysterious', 'discovers odd', 'discovers old', 'discovers one', 'discovers person', 'discovers plot', 'discovers real', 'discovers recently', 'discovers secret', 'discovers shes', 'discovers sinister', 'discovers talent', 'discovers there', 'discovers theyre', 'discovers true', 'discovers underground', 'discovers world', 'discovery secret', 'discus politics', 'disease slowly', 'disembodied brain', 'disfigured automobile', 'disfigured car', 'disgraced agent', 'disgraced former', 'dismissed arrogant', 'disney classic', 'disney picture', 'disney production', 'disparate background', 'disparate group', 'disparate people', 'dispose body', 'disrupted arrival', 'dissection table', 'distant cousin', 'distant family', 'distant future', 'distant mining', 'distant past', 'distant relative', 'distress signal', 'district 13', 'district attorney', 'district paris', 'disturbing event', 'disturbing secret', 'diverse cast', 'diverse group', 'divided two', 'diving instructor', 'divorce lawyer', 'divorce paper', 'divorce proceeding', 'divorce wife', 'divorced dad', 'divorced mother', 'divorced parent', 'divorced woman', 'doc holliday', 'doctor daughter', 'doctor discovers', 'doctor find', 'doctor help', 'doctor john', 'doctor mary', 'doctor set', 'doctor take', 'doctor try', 'doctor trying', 'documentary also', 'documentary capture', 'documentary chronicle', 'documentary chronicling', 'documentary crew', 'documentary depicts', 'documentary director', 'documentary explores', 'documentary film', 'documentary filmmaker', 'documentary following', 'documentary follows', 'documentary former', 'documentary includes', 'documentary legendary', 'documentary life', 'documentary look', 'documentary men', 'documentary reveals', 'documentary shot', 'documentary show', 'documentary style', 'documentary tell', 'dodge charger', 'doesnt always', 'doesnt approve', 'doesnt believe', 'doesnt belong', 'doesnt care', 'doesnt count', 'doesnt even', 'doesnt exist', 'doesnt expect', 'doesnt feel', 'doesnt fit', 'doesnt get', 'doesnt give', 'doesnt go', 'doesnt help', 'doesnt hesitate', 'doesnt know', 'doesnt last', 'doesnt like', 'doesnt look', 'doesnt love', 'doesnt mean', 'doesnt quite', 'doesnt realize', 'doesnt remember', 'doesnt return', 'doesnt see', 'doesnt seem', 'doesnt share', 'doesnt stop', 'doesnt take', 'doesnt tell', 'doesnt want', 'doesnt work', 'dog call', 'dog food', 'dog made', 'dog mortgaging', 'dog name', 'dog named', 'dog save', 'doling advice', 'dollar worth', 'dolph lundgren', 'dolphin named', 'dom toretto', 'domestic bliss', 'domestic terrorist', 'domineering mother', 'donald sutherland', 'done really', 'dont exactly', 'dont get', 'dont go', 'dont know', 'dont like', 'dont play', 'dont stop', 'dont want', 'doomed effort', 'door neighbor', 'dorian gray', 'doris day', 'dorm room', 'double agent', 'double cross', 'double crossed', 'double homicide', 'double life', 'double murder', 'double rise', 'doublecrossed left', 'douglas play', 'douglas quaid', 'down life', 'downward spiral', 'dr abigail', 'dr ben', 'dr bill', 'dr dre', 'dr evil', 'dr frankenstein', 'dr henry', 'dr james', 'dr jekyll', 'dr loomis', 'dr mabuse', 'dr sarah', 'dr sullivan', 'dr van', 'dr watson', 'dracula castle', 'drag queen', 'dragon ball', 'dragon named', 'dragon smaug', 'drama based', 'drama centered', 'drama critic', 'drama film', 'drama focus', 'drama focusing', 'drama revolving', 'drama set', 'drama starring', 'drama story', 'drama tell', 'dramatic comedy', 'dramatic fight', 'dramatic story', 'draw attention', 'draw closer', 'draw inspiration', 'draw ire', 'draw line', 'draw medium', 'draw nearer', 'draw upon', 'drawing four', 'drawn gatsbys', 'drawn life', 'drawn mysterious', 'drawn series', 'drawn together', 'dream become', 'dream becomes', 'dream becoming', 'dream better', 'dream come', 'dream demon', 'dream discover', 'dream find', 'dream finding', 'dream getting', 'dream girl', 'dream going', 'dream home', 'dream house', 'dream job', 'dream life', 'dream like', 'dream make', 'dream making', 'dream must', 'dream one', 'dream opening', 'dream people', 'dream real', 'dream reality', 'dream winning', 'dream world', 'dress like', 'dressed like', 'drifter named', 'drifter wanders', 'drifting apart', 'drill sergeant', 'drink blood', 'drink drug', 'drink many', 'drinking beer', 'drinking coffee', 'drive apart', 'drive around', 'drive away', 'drive car', 'drive wedge', 'driver ernest', 'driver make', 'driver play', 'driving around', 'driving new', 'dropdead gorgeous', 'drowning sorrow', 'drug abuse', 'drug addict', 'drug addiction', 'drug alcohol', 'drug bust', 'drug cartel', 'drug company', 'drug czar', 'drug deal', 'drug dealer', 'drug dealing', 'drug enforcement', 'drug gun', 'drug habit', 'drug kingpin', 'drug lord', 'drug money', 'drug murder', 'drug pusher', 'drug put', 'drug ring', 'drug runner', 'drug shipment', 'drug smuggling', 'drug trade', 'drug trafficking', 'drug use', 'drunken doctor', 'drunken friend', 'dual role', 'dudley moore', 'due accident', 'due genetic', 'due lack', 'due machination', 'dump body', 'dumped girlfriend', 'duo go', 'duo soon', 'duty iraq', 'dvdbluray release', 'dwarf bilbo', 'dy father', 'dy first', 'dy leaving', 'dy man', 'dy suddenly', 'dy unexpectedly', 'dy young', 'dying cancer', 'dying earth', 'dying father', 'dying man', 'dying mother', 'dying planet', 'dylan moran', 'dynamic duo', 'dysfunctional family', 'dystopian future', 'déjà vu', 'eager find', 'eagerly awaiting', 'earl bassett', 'early 1900s', 'early 1950s', 'early 1970s', 'early 1980s', 'early 1990s', 'early 19th', 'early 20th', 'early 50', 'early age', 'early day', 'early life', 'early morning', 'early year', 'earn enough', 'earn free', 'earn freedom', 'earn living', 'earn money', 'earth army', 'earth astronaut', 'earth begin', 'earth core', 'earth find', 'earth first', 'earth help', 'earth monster', 'earth order', 'earth space', 'earth starting', 'earth stop', 'earth trying', 'earth woman', 'earth world', 'easily seduced', 'east asia', 'east berlin', 'east coast', 'east end', 'east german', 'east germany', 'east great', 'east hampton', 'east high', 'east la', 'east side', 'east timor', 'eastberlin 1961', 'easter egg', 'eastern block', 'eastern europe', 'eastern european', 'eastern germany', 'easy meet', 'easy money', 'easy task', 'easy thought', 'ebenezer scrooge', 'eccentric family', 'eccentric grandfather', 'eccentric inventor', 'eccentric new', 'eccentric philanthropist', 'eccentric woman', 'economic crisis', 'economic miracle', 'economic political', 'economic reality', 'ed wood', 'eddie felson', 'eddie murphy', 'edgar allan', 'edgar hoover', 'edgar linton', 'edge earth', 'edge world', 'edmund lucy', 'education system', 'edward cullen', 'edward finally', 'edward hire', 'edward rochester', 'edward want', 'eerie mansion', 'effect people', 'effect time', 'effort prevent', 'effort prove', 'effort save', 'effort stop', 'effort take', 'effort threatened', 'effort win', 'egg hatch', 'egyptian high', 'egyptian princess', 'eight month', 'eight year', 'eighteen month', 'eighteenth century', 'eightyearold girl', 'either way', 'el mariachi', 'el salvador', 'el topo', 'elaborate coverup', 'elaborate scheme', 'elapsed since', 'elder brother', 'elderly couple', 'elderly man', 'elderly woman', 'eldest daughter', 'eldest son', 'elected president', 'electric chair', 'element fire', 'element nature', 'elementary school', 'eleven year', 'eliminating competition', 'elite army', 'elite assassin', 'elite force', 'elite group', 'elite team', 'elizabeth discovers', 'elizabeth ii', 'elizabeth return', 'elizabeth taylor', 'ella find', 'elle wood', 'ellen find', 'elli island', 'elm street', 'else go', 'else know', 'elude police', 'eluded authority', 'elusive criminal', 'elusive killer', 'elvis impersonator', 'elvis presley', 'embark adventure', 'embark journey', 'embark mission', 'embark road', 'embark secret', 'embark upon', 'embarks incredible', 'embarks journey', 'embarks mission', 'embarks quest', 'embarks search', 'embarks series', 'embarks terrifying', 'embarrassing time', 'embezzle money', 'embezzled million', 'embrace life', 'embroiled series', 'embroiled web', 'emerges changed', 'emerges victorious', 'emigrate america', 'eminent scientist', 'emma thompson', 'emma woodhouse', 'emmy award', 'emmy awardwinning', 'emotional crisis', 'emotional problem', 'emotional scar', 'emotional story', 'emotionally distant', 'emperor penguin', 'employ christine', 'employee becomes', 'employee company', 'employee month', 'employer want', 'empty mansion', 'en route', 'enchanted young', 'encounter alien', 'encounter brings', 'encounter couple', 'encounter enemy', 'encounter group', 'encounter mysterious', 'encounter new', 'encounter pair', 'encounter sea', 'encounter several', 'encounter sophie', 'encounter strange', 'encounter two', 'encounter variety', 'encounter various', 'encounter woman', 'encounter young', 'end badly', 'end coming', 'end curse', 'end day', 'end dead', 'end dinner', 'end disaster', 'end falling', 'end film', 'end finding', 'end first', 'end getting', 'end going', 'end happily', 'end hospital', 'end human', 'end island', 'end japanese', 'end killing', 'end life', 'end living', 'end losing', 'end meet', 'end middle', 'end new', 'end night', 'end relationship', 'end season', 'end story', 'end stranded', 'end two', 'end war', 'end world', 'endangers life', 'ending relationship', 'endless summer', 'enemy agent', 'enemy far', 'enemy line', 'enemy posse', 'enemy territory', 'energy source', 'energy travel', 'enforcement america', 'enforcement job', 'enforcer local', 'enforcing law', 'engage series', 'engaged couple', 'engaged married', 'engaged woman', 'engagement party', 'england beach', 'england early', 'england live', 'england town', 'england two', 'english american', 'english aristocrat', 'english boarding', 'english boy', 'english channel', 'english family', 'english french', 'english language', 'english life', 'english professor', 'english teacher', 'english village', 'english woman', 'english writer', 'enhanced cop', 'enigmatic drifter', 'enjoy life', 'enlist help', 'enlisted army', 'enlists army', 'enlists help', 'enlists service', 'enough beat', 'enough escape', 'enough however', 'enough money', 'enough new', 'enough see', 'enough time', 'enough work', 'ensemble cast', 'ensemble comedy', 'ensemble drama', 'ensure never', 'entangled web', 'entei belief', 'entei kidnaps', 'enter house', 'enter life', 'enter police', 'entering life', 'enterprise crew', 'enters life', 'enters manhattan', 'enters picture', 'enters world', 'entertaining story', 'entertainment industry', 'entire building', 'entire family', 'entire film', 'entire forest', 'entire life', 'entire town', 'entire unit', 'entire universe', 'entire world', 'entirely new', 'environmental protection', 'epic battle', 'epic british', 'epic film', 'epic journey', 'epic proportion', 'epic quest', 'epic saga', 'epic story', 'epic struggle', 'epic tale', 'equal part', 'eradicate humankind', 'erection wall', 'eric clapton', 'eric von', 'erik find', 'ernest hemingway', 'ernest worrell', 'erotic innocence', 'erotic story', 'errol flynn', 'errol morris', 'escape city', 'escape custody', 'escape death', 'escape earth', 'escape greedy', 'escape help', 'escape island', 'escape life', 'escape mental', 'escape must', 'escape nazi', 'escape nightmarish', 'escape plan', 'escape prison', 'escape problem', 'escape reality', 'escape small', 'escape trauma', 'escape western', 'escape witch', 'escaped convict', 'escaped prison', 'escaping dismal', 'escaping life', 'escorting prisoner', 'especially nasty', 'especially since', 'estate agent', 'estate broker', 'estate family', 'estranged brother', 'estranged daughter', 'estranged family', 'estranged father', 'estranged husband', 'estranged mother', 'estranged sister', 'estranged son', 'estranged wife', 'eternal life', 'eternal winter', 'ethan hawke', 'ethan hunt', 'ethan team', 'ethical moral', 'etta james', 'european city', 'european country', 'european tour', 'eve mother', 'eve world', 'even bigger', 'even bravest', 'even complicated', 'even consider', 'even deadly', 'even death', 'even eastern', 'even enjoy', 'even find', 'even get', 'even given', 'even greater', 'even harder', 'even help', 'even know', 'even mean', 'even murder', 'even new', 'even score', 'even think', 'even though', 'even weirder', 'even wife', 'even worse', 'event brings', 'event cause', 'event change', 'event depicted', 'event disturbing', 'event film', 'event friend', 'event happen', 'event happened', 'event involving', 'event life', 'event night', 'event occurred', 'event old', 'event past', 'event put', 'event soon', 'event surrounding', 'event take', 'event three', 'event took', 'event turn', 'event unfold', 'event world', 'event year', 'event young', 'eventually became', 'eventually become', 'eventually becomes', 'eventually begin', 'eventually bond', 'eventually come', 'eventually discovers', 'eventually face', 'eventually find', 'eventually grows', 'eventually lead', 'eventually make', 'eventually must', 'eventually realizes', 'eventually separated', 'eventually succeed', 'eventually take', 'ever able', 'ever becoming', 'ever captured', 'ever encountered', 'ever existed', 'ever expected', 'ever first', 'ever get', 'ever happened', 'ever heard', 'ever however', 'ever imagined', 'ever known', 'ever loved', 'ever made', 'ever see', 'ever seen', 'ever since', 'ever time', 'ever wanted', 'every contingency', 'every cop', 'every day', 'every five', 'every man', 'every morning', 'every move', 'every night', 'every school', 'every seven', 'every step', 'every time', 'every turn', 'every waking', 'every week', 'every woman', 'every word', 'every year', 'everybody else', 'everybody frozen', 'everyday life', 'everyone around', 'everyone else', 'everyone expects', 'everyone get', 'everyone happy', 'everyone including', 'everyone involved', 'everyone know', 'everyone love', 'everyone meet', 'everyone seems', 'everyone think', 'everyone town', 'everyone want', 'everyone world', 'everyones life', 'everyones perception', 'everything begin', 'everything change', 'everything could', 'everything else', 'everything ever', 'everything everybody', 'everything everyone', 'everything go', 'everything going', 'everything he', 'everything including', 'everything make', 'everything seems', 'everything stop', 'everything thought', 'everything wanted', 'everything wife', 'everything within', 'evicted home', 'evidence could', 'evidence existence', 'evil brother', 'evil computer', 'evil corporation', 'evil cult', 'evil dr', 'evil dragon', 'evil emperor', 'evil entity', 'evil far', 'evil galactic', 'evil influence', 'evil jafar', 'evil king', 'evil life', 'evil lord', 'evil lurks', 'evil martial', 'evil mastermind', 'evil plan', 'evil queen', 'evil red', 'evil scientist', 'evil sorcerer', 'evil spirit', 'evil taking', 'evil twin', 'evil uncle', 'evil witch', 'evil wizard', 'ex con', 'exact revenge', 'exact vengeance', 'exactly like', 'exactly one', 'exactly planned', 'except konrad', 'except one', 'exchange student', 'excia operative', 'exciting life', 'exciting pokémon', 'exclusive access', 'excolleague widow', 'excon brother', 'excon dom', 'excuse hide', 'executive get', 'executive living', 'executive nick', 'executive producer', 'exfootball player', 'exgambler teach', 'exgreen beret', 'exhausting fight', 'existed come', 'existence life', 'existence threatened', 'existential crisis', 'existential issue', 'exotic adventure', 'exotic animal', 'exotic dancer', 'expect get', 'expecting first', 'expedition dr', 'expedition pacific', 'expedition uncharted', 'expensive huge', 'experience life', 'experience something', 'experience vision', 'experiencing attrition', 'experiment accidentally', 'experiment allowing', 'experiment gone', 'experimental drug', 'experimental film', 'expert including', 'expiring invited', 'explodes action', 'exploration life', 'explorer even', 'explorer went', 'explorer world', 'explores nature', 'explores relationship', 'explores theme', 'explores various', 'exploring new', 'explosive expert', 'explosive secret', 'expose corruption', 'expose truth', 'express crew', 'extended family', 'exterior hide', 'extramarital affair', 'extraordinary discovery', 'extraordinary journey', 'extraordinary life', 'extraordinary power', 'extraordinary story', 'extraterrestrial life', 'extreme measure', 'extreme sport', 'extremely powerful', 'extremely violent', 'eye caught', 'eye eye', 'eye new', 'eye one', 'eye opened', 'eyre orphan', 'fabled diamond', 'face challenge', 'face consequence', 'face corrupt', 'face crowd', 'face danger', 'face deadly', 'face death', 'face destruction', 'face disfigured', 'face earth', 'face enemy', 'face evil', 'face face', 'face financial', 'face greatest', 'face life', 'face moral', 'face new', 'face one', 'face overwhelming', 'face planet', 'face police', 'face problem', 'face serious', 'face trial', 'face true', 'face truth', 'face two', 'face ultimate', 'face war', 'face woman', 'facing death', 'fact fiction', 'fact hasnt', 'fact he', 'fact military', 'fact sam', 'fact shes', 'faction within', 'factory study', 'factory worker', 'factory world', 'fade away', 'failed attempt', 'failed marriage', 'failed relationship', 'failing doctor', 'fails get', 'fails realize', 'fairy folk', 'fairy godfather', 'fairy godmother', 'fairy tale', 'faithful servant', 'fake death', 'fake kidnapping', 'fall apart', 'fall asleep', 'fall band', 'fall beautiful', 'fall death', 'fall deeply', 'fall evil', 'fall gangbanging', 'fall guy', 'fall hard', 'fall head', 'fall high', 'fall hopelessly', 'fall husband', 'fall ill', 'fall influence', 'fall local', 'fall love', 'fall madly', 'fall new', 'fall older', 'fall one', 'fall prey', 'fall roof', 'fall spell', 'fall victim', 'fall woman', 'fall younger', 'fallen away', 'fallen hard', 'fallen love', 'falling apart', 'falling hand', 'falling love', 'falsely accused', 'falsely convicted', 'fame fortune', 'family 1950s', 'family along', 'family also', 'family although', 'family always', 'family apart', 'family arrive', 'family asylum', 'family back', 'family become', 'family becomes', 'family begin', 'family business', 'family cat', 'family child', 'family chooses', 'family christmas', 'family church', 'family close', 'family come', 'family comedy', 'family coming', 'family conflict', 'family country', 'family crisis', 'family curse', 'family deal', 'family debt', 'family decides', 'family depressionera', 'family different', 'family discovers', 'family doctor', 'family doesnt', 'family drama', 'family escape', 'family especially', 'family estate', 'family experience', 'family face', 'family fall', 'family fallen', 'family farm', 'family father', 'family film', 'family financial', 'family find', 'family forced', 'family former', 'family fortune', 'family four', 'family friend', 'family generation', 'family get', 'family go', 'family great', 'family happy', 'family headed', 'family history', 'family home', 'family house', 'family including', 'family instead', 'family kidnapped', 'family killed', 'family killer', 'family lawyer', 'family life', 'family line', 'family little', 'family live', 'family living', 'family look', 'family make', 'family man', 'family meet', 'family member', 'family money', 'family mother', 'family move', 'family movie', 'family must', 'family new', 'family old', 'family one', 'family overjoyed', 'family patriarch', 'family people', 'family problem', 'family ranch', 'family retreat', 'family reunion', 'family run', 'family secret', 'family seems', 'family set', 'family settle', 'family sister', 'family small', 'family soon', 'family story', 'family struggle', 'family struggling', 'family take', 'family tension', 'family terrorized', 'family thing', 'family think', 'family three', 'family thrust', 'family time', 'family together', 'family tom', 'family town', 'family tradition', 'family tragedy', 'family try', 'family turn', 'family turned', 'family two', 'family unknowingly', 'family vacation', 'family vampire', 'family want', 'family whole', 'family whose', 'family wife', 'family wish', 'family young', 'famous biggest', 'famous female', 'famous french', 'famous love', 'famous singer', 'famous work', 'famous writer', 'fan one', 'fanatic take', 'fancy car', 'fantastic creature', 'fantastic four', 'fantastic story', 'fantastical world', 'fantasy cinema', 'fantasy film', 'fantasy movie', 'fantasy reality', 'fantasy world', 'far advanced', 'far away', 'far far', 'far future', 'far go', 'far greater', 'far home', 'far important', 'far reaching', 'far removed', 'far stronger', 'farm boy', 'farm girl', 'farmer daughter', 'farmer family', 'farmer son', 'fascinated mysterious', 'fashion designer', 'fashion model', 'fashion photographer', 'fashion statement', 'fashion week', 'fast eddie', 'fast food', 'fast friend', 'fast furious', 'fast lane', 'fast track', 'fatally ill', 'fate draw', 'fate entire', 'fate humanity', 'fate jewish', 'fate one', 'fate planet', 'fate take', 'fate world', 'fateful day', 'fateful night', 'father abandoned', 'father also', 'father always', 'father appears', 'father arranged', 'father away', 'father beautiful', 'father begin', 'father ben', 'father big', 'father car', 'father change', 'father charles', 'father child', 'father christmas', 'father college', 'father come', 'father cut', 'father damien', 'father daughter', 'father dead', 'father death', 'father died', 'father disappearance', 'father discovers', 'father dr', 'father dream', 'father dy', 'father entei', 'father estate', 'father eventually', 'father fall', 'father family', 'father feel', 'father fight', 'father figure', 'father find', 'father first', 'father former', 'father found', 'father frank', 'father funeral', 'father get', 'father girl', 'father go', 'father hire', 'father husband', 'father jack', 'father john', 'father jonas', 'father killed', 'father killer', 'father left', 'father legendary', 'father little', 'father local', 'father make', 'father murder', 'father murdered', 'father must', 'father oliver', 'father one', 'father promise', 'father protect', 'father refuse', 'father return', 'father run', 'father sends', 'father sexually', 'father son', 'father start', 'father suddenly', 'father suicide', 'father take', 'father tell', 'father threatens', 'father tom', 'father tony', 'father try', 'father trying', 'father two', 'father various', 'father vision', 'father wish', 'father witness', 'father work', 'father young', 'fathered 533', 'favorite film', 'favorite pokémon', 'fbi agent', 'fbi informant', 'fbi investigation', 'fbi mafia', 'fbi office', 'fbi profiler', 'fbi special', 'fbi time', 'fear realized', 'fear turn', 'fearless leader', 'fearsome race', 'feature documentary', 'feature film', 'feature new', 'feature rare', 'featurelength documentary', 'featurelength film', 'federal agent', 'federal marshal', 'federico fellini', 'feel like', 'feel must', 'feel responsible', 'feeling guilty', 'feeling old', 'feeling pain', 'feisty little', 'felix leiter', 'fell love', 'fellow activist', 'fellow cop', 'fellow inmate', 'fellow musician', 'fellow officer', 'fellow patient', 'fellow soldier', 'fellow student', 'fellow traveler', 'felt right', 'female body', 'female life', 'female masquerade', 'female partner', 'female vampire', 'femme fatale', 'fernando valley', 'fertility clinic', 'festival director', 'festival held', 'festival september', 'fetching stick', 'feudal india', 'fiancée one', 'fiction film', 'fiction genre', 'fiction reality', 'fiction writer', 'fictional town', 'fictionalized account', 'fidel castro', 'field battle', 'field trip', 'fiendish plot', 'fierce world', 'fiercely independent', 'fifteen year', 'fifty year', 'fight angel', 'fight army', 'fight back', 'fight bad', 'fight club', 'fight control', 'fight corrupt', 'fight die', 'fight escape', 'fight even', 'fight evil', 'fight front', 'fight girl', 'fight go', 'fight keep', 'fight life', 'fight monster', 'fight one', 'fight phantom', 'fight powerful', 'fight protect', 'fight prove', 'fight right', 'fight shadowy', 'fight survival', 'fight survive', 'fight terrifying', 'fight way', 'fight win', 'fighter named', 'fighter pilot', 'fighter train', 'fighter world', 'fighting back', 'fighting battle', 'fighting life', 'fighting machine', 'fighting style', 'figure called', 'figure skater', 'figure want', 'figure way', 'file lawsuit', 'film 1950s', 'film 1966', 'film 50', 'film academy', 'film actress', 'film adaptation', 'film adapted', 'film also', 'film attempt', 'film award', 'film based', 'film begin', 'film bold', 'film brings', 'film career', 'film center', 'film centre', 'film chronicle', 'film clip', 'film come', 'film comedy', 'film company', 'film concentrate', 'film consists', 'film contains', 'film cover', 'film crew', 'film critic', 'film cult', 'film day', 'film debut', 'film depicts', 'film directed', 'film director', 'film document', 'film dramatizes', 'film edited', 'film ever', 'film examines', 'film explores', 'film family', 'film fantasy', 'film feature', 'film festival', 'film film', 'film find', 'film finding', 'film first', 'film focus', 'film follows', 'film footage', 'film franchise', 'film french', 'film genre', 'film give', 'film godzilla', 'film great', 'film group', 'film growing', 'film highlight', 'film hilarious', 'film history', 'film includes', 'film including', 'film industry', 'film inspired', 'film interview', 'film japanese', 'film last', 'film legendary', 'film life', 'film like', 'film love', 'film made', 'film maker', 'film making', 'film name', 'film new', 'film noir', 'film one', 'film open', 'film originally', 'film portrays', 'film produced', 'film producer', 'film progress', 'film recount', 'film retitled', 'film revolves', 'film roman', 'film school', 'film see', 'film series', 'film set', 'film shot', 'film show', 'film since', 'film social', 'film spoof', 'film star', 'film starring', 'film story', 'film student', 'film studio', 'film take', 'film tell', 'film three', 'film time', 'film title', 'film trace', 'film trilogy', 'film try', 'film two', 'film us', 'film used', 'film version', 'film want', 'film watch', 'film weave', 'film world', 'film written', 'film young', 'filmed black', 'filmed live', 'filmed version', 'filmmaker follow', 'filmmaker mark', 'filmmaker michael', 'filmmaker recall', 'filmmaker robert', 'filmmaker sam', 'filmmaker soon', 'filmmaker world', 'filmmaking team', 'final battle', 'final chapter', 'final day', 'final episode', 'final film', 'final fling', 'final installment', 'final job', 'final minute', 'final mission', 'final night', 'final part', 'final showdown', 'final tour', 'final week', 'final year', 'finally catch', 'finally come', 'finally decide', 'finally decides', 'finally fall', 'finally found', 'finally get', 'finally make', 'finally meet', 'finally met', 'finally must', 'finally passion', 'finally released', 'finally rescued', 'finally return', 'finally revealed', 'finally say', 'finally settle', 'financial crisis', 'financial hardship', 'financial ruin', 'financial security', 'financial strait', 'financial success', 'financial trouble', 'financial world', 'find abandoned', 'find accused', 'find alone', 'find alternate', 'find another', 'find answer', 'find attracted', 'find aunt', 'find baby', 'find battle', 'find battling', 'find beautiful', 'find best', 'find better', 'find body', 'find brother', 'find castle', 'find caught', 'find center', 'find centre', 'find character', 'find childhood', 'find clue', 'find comfort', 'find common', 'find company', 'find competition', 'find connection', 'find courage', 'find cure', 'find danger', 'find dark', 'find daughter', 'find dead', 'find death', 'find desperate', 'find difficult', 'find dire', 'find distant', 'find drawn', 'find elusive', 'find embarking', 'find employment', 'find enemy', 'find entangled', 'find evidence', 'find exactly', 'find exgirlfriend', 'find fabled', 'find facing', 'find falling', 'find family', 'find fascinated', 'find father', 'find fighting', 'find first', 'find fit', 'find food', 'find framed', 'find freedom', 'find friend', 'find friendship', 'find get', 'find getting', 'find girl', 'find going', 'find happened', 'find happiness', 'find hard', 'find haunted', 'find he', 'find head', 'find heaven', 'find help', 'find hidden', 'find holy', 'find hope', 'find house', 'find humanity', 'find husband', 'find imprisoned', 'find increasingly', 'find inspiration', 'find involved', 'find job', 'find kid', 'find kidnapped', 'find kill', 'find killed', 'find killer', 'find leading', 'find learning', 'find life', 'find little', 'find living', 'find locked', 'find lost', 'find love', 'find magical', 'find major', 'find man', 'find many', 'find map', 'find mark', 'find marriage', 'find married', 'find meaning', 'find mercy', 'find middle', 'find midst', 'find mike', 'find missing', 'find mother', 'find murder', 'find murderer', 'find musketeer', 'find must', 'find mysterious', 'find need', 'find new', 'find odds', 'find old', 'find one', 'find opportunity', 'find origin', 'find others', 'find overrun', 'find paper', 'find parent', 'find past', 'find pawn', 'find people', 'find perfect', 'find picture', 'find place', 'find plan', 'find position', 'find possession', 'find pulled', 'find pursued', 'find real', 'find reason', 'find redemption', 'find right', 'find romance', 'find romantic', 'find run', 'find running', 'find saddled', 'find scanner', 'find secret', 'find self', 'find shes', 'find situation', 'find six', 'find small', 'find solace', 'find solution', 'find someone', 'find something', 'find soul', 'find still', 'find stranded', 'find strange', 'find strangely', 'find strength', 'find stuck', 'find success', 'find suitable', 'find survivor', 'find suspect', 'find sweet', 'find swept', 'find take', 'find target', 'find there', 'find theyve', 'find thief', 'find thing', 'find time', 'find top', 'find transported', 'find trapped', 'find trouble', 'find true', 'find truth', 'find two', 'find unable', 'find unexpected', 'find unlikely', 'find unsure', 'find us', 'find victim', 'find voice', 'find war', 'find way', 'find weapon', 'find wife', 'find woman', 'find work', 'find working', 'find world', 'find young', 'finding another', 'finding daughter', 'finding girl', 'finding job', 'finding love', 'finding pair', 'finding perfect', 'finding true', 'finding way', 'finding work', 'fine art', 'fine line', 'finger point', 'finish job', 'finish line', 'finishing school', 'firebreathing dragon', 'fired job', 'firework result', 'firm work', 'first africanamerican', 'first allblack', 'first american', 'first anniversary', 'first assignment', 'first baby', 'first black', 'first break', 'first case', 'first child', 'first class', 'first date', 'first day', 'first encounter', 'first ever', 'first fall', 'first family', 'first feature', 'first female', 'first film', 'first find', 'first fun', 'first girl', 'first grade', 'first half', 'first hand', 'first homicide', 'first hostile', 'first husband', 'first imagined', 'first lady', 'first love', 'first major', 'first man', 'first manned', 'first many', 'first meet', 'first meeting', 'first met', 'first movie', 'first need', 'first novel', 'first officer', 'first openly', 'first part', 'first published', 'first sight', 'first singer', 'first solo', 'first started', 'first step', 'first time', 'first trip', 'first true', 'first try', 'first two', 'first victim', 'first wife', 'first win', 'first world', 'first year', 'firsthand account', 'fish water', 'fish whose', 'fishing boat', 'fishing buddy', 'fishing trip', 'fishing village', 'fist fight', 'fit high', 'fit madness', 'fitness center', 'fitting new', 'five child', 'five college', 'five couple', 'five day', 'five different', 'five diverse', 'five film', 'five friend', 'five men', 'five month', 'five tigress', 'five year', 'five young', 'fix problem', 'flamboyantly gay', 'flame turn', 'flash back', 'flashback recall', 'flat go', 'flee communist', 'flee east', 'flee life', 'flesheating zombie', 'fletcher christian', 'flight attendant', 'flight one', 'flint michigan', 'florida hotel', 'florida must', 'florida town', 'flower girl', 'flower shop', 'fly away', 'fly nursery', 'fly south', 'flying home', 'flying saucer', 'focal point', 'focus attention', 'focus eye', 'focus intense', 'focus life', 'focus one', 'focus relationship', 'focus three', 'focus two', 'foil plan', 'foley head', 'folk hero', 'folk musician', 'folk singer', 'folk tale', 'follow dream', 'follow footstep', 'follow group', 'follow heart', 'follow path', 'follow trail', 'followed band', 'following death', 'following loss', 'following order', 'following series', 'following year', 'follows adventure', 'follows around', 'follows boy', 'follows character', 'follows effort', 'follows exploit', 'follows former', 'follows four', 'follows group', 'follows intent', 'follows journey', 'follows life', 'follows misadventure', 'follows relationship', 'follows search', 'follows six', 'follows story', 'follows trail', 'follows two', 'follows various', 'follows woman', 'follows young', 'fondest wish', 'food chain', 'food critic', 'food restaurant', 'food shelter', 'food water', 'foolproof plan', 'foot door', 'foot high', 'foot land', 'foot tall', 'footage interview', 'footage shot', 'football coach', 'football game', 'football player', 'football scholarship', 'football star', 'football team', 'forbidden city', 'forbidden love', 'forbidden romance', 'force back', 'force build', 'force captain', 'force colonel', 'force confront', 'force dark', 'force darkness', 'force everyone', 'force evil', 'force face', 'force fight', 'force friend', 'force good', 'force jump', 'force leave', 'force light', 'force make', 'force must', 'force old', 'force set', 'force show', 'force take', 'force taken', 'force test', 'force try', 'force two', 'force uncover', 'force undercover', 'force unit', 'force work', 'forced back', 'forced battle', 'forced become', 'forced choose', 'forced come', 'forced confront', 'forced contend', 'forced deal', 'forced defend', 'forced face', 'forced fight', 'forced flee', 'forced go', 'forced hiding', 'forced join', 'forced land', 'forced leave', 'forced live', 'forced make', 'forced marry', 'forced move', 'forced participate', 'forced play', 'forced put', 'forced reassess', 'forced rely', 'forced return', 'forced run', 'forced stay', 'forced stop', 'forced take', 'forced team', 'forced travel', 'forced turn', 'forced work', 'forcing confront', 'foreign exchange', 'foreign language', 'forest creature', 'forest house', 'forest threatened', 'forever alter', 'forever altered', 'forever changed', 'forever changing', 'forever young', 'forge new', 'forge unlikely', 'form angel', 'form band', 'form bond', 'form friendship', 'form mysterious', 'form strong', 'form unlikely', 'form young', 'formed world', 'former airline', 'former ally', 'former associate', 'former baseball', 'former beatle', 'former best', 'former bos', 'former cia', 'former circus', 'former colleague', 'former college', 'former comrade', 'former confederate', 'former cop', 'former danish', 'former drug', 'former employee', 'former fbi', 'former friend', 'former gang', 'former glory', 'former green', 'former gunslinger', 'former high', 'former husband', 'former ira', 'former life', 'former los', 'former lover', 'former manager', 'former member', 'former mercenary', 'former navy', 'former nemesis', 'former owner', 'former partner', 'former police', 'former president', 'former priest', 'former race', 'former ranger', 'former rival', 'former soldier', 'former special', 'former student', 'former teacher', 'former teammate', 'former wife', 'former world', 'fort lauderdale', 'forth time', 'fortune gold', 'fortune hunter', 'fortune soon', 'fortune teller', 'forty year', 'foster child', 'foster home', 'foster parent', 'foul play', 'found alive', 'found brutally', 'found dead', 'found footage', 'found friend', 'found girl', 'found guilty', 'found home', 'found mr', 'found murdered', 'found scene', 'found way', 'found woman', 'fountain youth', 'four academy', 'four best', 'four black', 'four boy', 'four child', 'four college', 'four couple', 'four daughter', 'four day', 'four decade', 'four different', 'four female', 'four friend', 'four guy', 'four men', 'four month', 'four must', 'four oscar', 'four people', 'four season', 'four story', 'four student', 'four teenage', 'four teenager', 'four woman', 'four year', 'four young', 'fourteen year', 'fouryearold girl', 'fox seek', 'fragile balance', 'frail weak', 'framed crime', 'framed murder', 'france mcdormand', 'france never', 'france vichy', 'france world', 'france young', 'francesca start', 'francisco bay', 'francisco dig', 'francisco police', 'frank capra', 'frank castle', 'frank drebin', 'frank martin', 'frank miller', 'frank moses', 'frank sinatra', 'frank wife', 'frank wont', 'frankenstein monster', 'frankie annette', 'frantic search', 'frantically try', 'françois truffaut', 'freak accident', 'freaky friday', 'fred astaire', 'fred macmurray', 'fred take', 'fred zinnemann', 'freddie prinze', 'freddy krueger', 'frederic henry', 'frederick wentworth', 'frederics transfer', 'free fall', 'free human', 'free land', 'free love', 'free people', 'free spirit', 'free time', 'free world', 'freed slave', 'freedom fighter', 'freedom speech', 'freespirited female', 'freight train', 'french actress', 'french alp', 'french army', 'french colonial', 'french countryside', 'french director', 'french documentary', 'french drama', 'french film', 'french girl', 'french government', 'french invasion', 'french new', 'french officer', 'french policeman', 'french resistance', 'french restaurant', 'french revolution', 'french secret', 'french soldier', 'french student', 'french town', 'french village', 'french wife', 'french woman', 'fresh prison', 'fresh start', 'freshman year', 'friday night', 'friend 10', 'friend adam', 'friend alex', 'friend alice', 'friend along', 'friend also', 'friend another', 'friend attempt', 'friend attempting', 'friend became', 'friend become', 'friend begin', 'friend bobby', 'friend cant', 'friend carl', 'friend carriere', 'friend charley', 'friend charlie', 'friend child', 'friend close', 'friend colleague', 'friend come', 'friend darcy', 'friend deal', 'friend decides', 'friend discover', 'friend dorothy', 'friend dr', 'friend eddie', 'friend embark', 'friend enemy', 'friend eric', 'friend even', 'friend experience', 'friend family', 'friend fellow', 'friend fight', 'friend find', 'friend first', 'friend flee', 'friend forced', 'friend form', 'friend former', 'friend francesca', 'friend gabe', 'friend gather', 'friend get', 'friend girl', 'friend girlfriend', 'friend going', 'friend group', 'friend grown', 'friend harry', 'friend help', 'friend home', 'friend however', 'friend husband', 'friend including', 'friend invited', 'friend involved', 'friend jack', 'friend jane', 'friend joe', 'friend john', 'friend lead', 'friend life', 'friend like', 'friend lion', 'friend live', 'friend living', 'friend looking', 'friend lord', 'friend love', 'friend lover', 'friend make', 'friend mentor', 'friend moved', 'friend murder', 'friend must', 'friend named', 'friend neighbor', 'friend neighbour', 'friend new', 'friend one', 'friend pair', 'friend parent', 'friend paris', 'friend past', 'friend patrick', 'friend pay', 'friend plan', 'friend play', 'friend polly', 'friend problem', 'friend put', 'friend rachel', 'friend really', 'friend relative', 'friend reunite', 'friend reunited', 'friend ronnie', 'friend run', 'friend sam', 'friend see', 'friend sentenced', 'friend set', 'friend share', 'friend since', 'friend son', 'friend soon', 'friend spend', 'friend still', 'friend take', 'friend tell', 'friend together', 'friend tom', 'friend try', 'friend who', 'friend whose', 'friend wife', 'friend win', 'friend witness', 'friend working', 'friend year', 'friend young', 'friend zoe', 'friendship developed', 'friendship develops', 'friendship family', 'friendship finally', 'friendship get', 'friendship jacob', 'friendship love', 'friendship loyalty', 'friendship sex', 'friendship soon', 'friendship tested', 'friendship two', 'friendship young', 'frodo sam', 'front camera', 'front door', 'front line', 'front live', 'front man', 'front yard', 'frontier dentist', 'frontrow seat', 'frozen landscape', 'frozen time', 'fu master', 'fugitive couple', 'fulfill dream', 'full creature', 'full money', 'full moon', 'full obstacle', 'full scale', 'full story', 'full surprise', 'fun game', 'fun loving', 'fun sun', 'funding cut', 'funeral director', 'funeral home', 'funeral meet', 'funeral one', 'funeral visit', 'funny man', 'funny movie', 'furious five', 'furthest reach', 'future earth', 'future fantasy', 'future find', 'future generation', 'future hollywood', 'future human', 'future humankind', 'future husband', 'future inlaws', 'future life', 'future look', 'future michael', 'future nba', 'future one', 'future prospect', 'future self', 'future society', 'future two', 'future ultimately', 'future wife', 'future world', 'futuristic action', 'futuristic city', 'futuristic prison', 'futuristic world', 'fw murnau', 'gabriella vanessa', 'gadrobiere wife', 'gain ability', 'gain acceptance', 'gain control', 'gain freedom', 'gain new', 'gain reputation', 'gaining freedom', 'gaining trust', 'galactic empire', 'gamble life', 'gambling addict', 'gambling addiction', 'gambling debt', 'game becomes', 'game begin', 'game called', 'game cat', 'game catandmouse', 'game end', 'game expert', 'game however', 'game iran', 'game lead', 'game life', 'game love', 'game nearly', 'game one', 'game peephole', 'game plan', 'game show', 'game survival', 'game turn', 'game world', 'gang back', 'gang bank', 'gang criminal', 'gang end', 'gang kid', 'gang known', 'gang leader', 'gang led', 'gang member', 'gang mysterious', 'gang one', 'gang renegade', 'gang ruthless', 'gang sammy', 'gang set', 'gang shot', 'gang take', 'gang thief', 'gang vampire', 'gang war', 'gangster ben', 'gangster bos', 'gangster corrupt', 'gangster husband', 'gangster life', 'gangster nick', 'gary cooper', 'gas air', 'gas company', 'gas station', 'gate hell', 'gated house', 'gather evidence', 'gather information', 'gather together', 'gatsby drawn', 'gatsbys circle', 'gave adoption', 'gave birth', 'gay activist', 'gay artist', 'gay boy', 'gay community', 'gay couple', 'gay friend', 'gay lesbian', 'gay lover', 'gay man', 'gay men', 'gay right', 'gay scene', 'gene hackman', 'gene kelly', 'general manager', 'general motor', 'general store', 'generally disagreeable', 'generation come', 'generation family', 'genesis planet', 'genetic disorder', 'genetic mutation', 'genetic research', 'genetically altered', 'genetically engineered', 'geniuslevel iq', 'gentleman agreement', 'gentleman living', 'george bank', 'george bush', 'george clooney', 'george harrison', 'george lucas', 'george orwell', 'george romeros', 'george smiley', 'gerard depardieu', 'german army', 'german director', 'german film', 'german force', 'german nazi', 'german officer', 'german platoon', 'german prison', 'german soldier', 'german spy', 'german submarine', 'german uboat', 'german woman', 'germany arrange', 'germany attempt', 'germany year', 'get act', 'get ahead', 'get along', 'get another', 'get around', 'get away', 'get back', 'get bargained', 'get beaten', 'get best', 'get better', 'get big', 'get bit', 'get bone', 'get booked', 'get bottom', 'get break', 'get call', 'get car', 'get caught', 'get chance', 'get child', 'get close', 'get closer', 'get complicated', 'get control', 'get day', 'get divorce', 'get dr', 'get dumped', 'get engaged', 'get entangled', 'get even', 'get family', 'get father', 'get find', 'get fired', 'get first', 'get foot', 'get game', 'get girl', 'get gold', 'get good', 'get great', 'get hand', 'get head', 'get heart', 'get help', 'get hit', 'get hold', 'get home', 'get hot', 'get hurt', 'get idea', 'get increasingly', 'get infected', 'get inside', 'get interesting', 'get interview', 'get involved', 'get job', 'get kicked', 'get kid', 'get kidnapped', 'get killed', 'get know', 'get laid', 'get letter', 'get life', 'get little', 'get loose', 'get lost', 'get lot', 'get man', 'get married', 'get mixed', 'get money', 'get movie', 'get much', 'get name', 'get new', 'get old', 'get one', 'get onto', 'get paid', 'get part', 'get past', 'get perfect', 'get pregnant', 'get prison', 'get prize', 'get pulled', 'get ready', 'get real', 'get really', 'get released', 'get remarried', 'get revenge', 'get rich', 'get rid', 'get right', 'get rocky', 'get scholarship', 'get second', 'get secret', 'get see', 'get sent', 'get serious', 'get shot', 'get sick', 'get sidetracked', 'get stolen', 'get stuck', 'get sucked', 'get surprise', 'get taste', 'get thing', 'get three', 'get time', 'get together', 'get treatment', 'get trouble', 'get turned', 'get unexpected', 'get unknowingly', 'get used', 'get want', 'get water', 'get way', 'get wild', 'get wind', 'get wish', 'get word', 'get work', 'get worse', 'get wrong', 'getrichquick scheme', 'getting back', 'getting bit', 'getting caught', 'getting closer', 'getting high', 'getting involved', 'getting job', 'getting married', 'getting much', 'getting seriously', 'getting trouble', 'getting way', 'ghost dead', 'ghost haunting', 'ghost past', 'ghost rider', 'ghost right', 'ghost story', 'ghostly apparition', 'gi joe', 'giant ape', 'giant lizard', 'giant monster', 'gibbs greatest', 'gift child', 'gift love', 'gift shop', 'gilbert sullivan', 'girl affluent', 'girl also', 'girl aunt', 'girl becomes', 'girl begin', 'girl best', 'girl born', 'girl boy', 'girl brother', 'girl called', 'girl cant', 'girl cast', 'girl chased', 'girl come', 'girl decides', 'girl detective', 'girl discover', 'girl discovers', 'girl disguise', 'girl dream', 'girl fall', 'girl family', 'girl fancy', 'girl father', 'girl find', 'girl former', 'girl friend', 'girl get', 'girl go', 'girl he', 'girl known', 'girl learn', 'girl left', 'girl life', 'girl like', 'girl little', 'girl living', 'girl love', 'girl make', 'girl may', 'girl meet', 'girl mother', 'girl must', 'girl named', 'girl next', 'girl one', 'girl raised', 'girl really', 'girl run', 'girl rural', 'girl saw', 'girl school', 'girl sent', 'girl soon', 'girl special', 'girl stop', 'girl struggle', 'girl take', 'girl taken', 'girl talk', 'girl try', 'girl valley', 'girl want', 'girl who', 'girl whose', 'girl without', 'girlfriend come', 'girlfriend find', 'girlfriend grace', 'girlfriend he', 'girlfriend left', 'girlfriend lisa', 'girlfriend must', 'girlfriend pregnant', 'girlfriend son', 'girlfriend soon', 'girlfriend summer', 'girlfriend sylvia', 'girlfriend take', 'girlfriend try', 'give advantage', 'give birth', 'give chance', 'give child', 'give choice', 'give dream', 'give fan', 'give hope', 'give life', 'give lift', 'give love', 'give new', 'give notice', 'give ride', 'give second', 'give shot', 'give stage', 'give stunning', 'give way', 'give without', 'give woman', 'given assignment', 'given birth', 'given chance', 'given choice', 'given day', 'given mission', 'given mystical', 'given one', 'given second', 'given test', 'giving birth', 'giving every', 'glam metal', 'glamorous life', 'glamorous world', 'glen campbell', 'glenn close', 'glenn miller', 'glimpse life', 'global economic', 'global economy', 'global war', 'globe award', 'gloria melman', 'glory day', 'glowing orb', 'go according', 'go along', 'go another', 'go away', 'go awry', 'go back', 'go backstage', 'go bad', 'go badly', 'go behind', 'go better', 'go beyond', 'go big', 'go blind', 'go boy', 'go business', 'go bust', 'go college', 'go dangerous', 'go different', 'go europe', 'go even', 'go exactly', 'go far', 'go find', 'go get', 'go hiding', 'go holiday', 'go home', 'go horribly', 'go insane', 'go jail', 'go journey', 'go kill', 'go knife', 'go lam', 'go length', 'go life', 'go live', 'go living', 'go look', 'go man', 'go many', 'go meet', 'go missing', 'go mission', 'go mother', 'go national', 'go new', 'go nowhere', 'go personal', 'go pilgrimage', 'go plan', 'go planned', 'go police', 'go quest', 'go quite', 'go rampage', 'go rescue', 'go retrieve', 'go run', 'go school', 'go search', 'go see', 'go series', 'go small', 'go smoothly', 'go sour', 'go straight', 'go terribly', 'go tour', 'go town', 'go tragically', 'go undercover', 'go war', 'go way', 'go well', 'go woman', 'go work', 'go wrong', 'goal life', 'gobi desert', 'god devil', 'god help', 'god made', 'god white', 'god would', 'godzilla film', 'godzilla franchise', 'godzilla king', 'going along', 'going america', 'going back', 'going business', 'going college', 'going easy', 'going end', 'going get', 'going great', 'going headtohead', 'going home', 'going hospital', 'going name', 'going one', 'going start', 'going take', 'going way', 'going well', 'gold coin', 'gold digger', 'gold hidden', 'gold medal', 'gold mine', 'gold mining', 'gold nugget', 'gold rush', 'golden bear', 'golden fleece', 'golden globe', 'golden moment', 'golden opportunity', 'golden retriever', 'golf course', 'gomez morticia', 'gone awry', 'gone bad', 'gone forever', 'gone prompting', 'gone rogue', 'gone wild', 'gone wrong', 'good cop', 'good day', 'good deed', 'good doctor', 'good enough', 'good evil', 'good fortune', 'good friend', 'good girl', 'good guy', 'good husband', 'good idea', 'good intention', 'good job', 'good life', 'good look', 'good looking', 'good man', 'good marriage', 'good natured', 'good old', 'good rather', 'good reason', 'good thing', 'good time', 'good true', 'good vampire', 'goodbye friend', 'gordon bombay', 'gorgeous woman', 'got job', 'got married', 'got together', 'gotham city', 'government agency', 'government agent', 'government minister', 'government official', 'government plot', 'government recruit', 'government sends', 'government special', 'governor sent', 'grace fight', 'grace kelly', 'gracie hart', 'graciously employ', 'gradually loses', 'gradually pair', 'graduate school', 'graduate student', 'graduate take', 'graduate top', 'graduated high', 'graduating college', 'graduation day', 'grand canyon', 'grand jury', 'grand opening', 'grand prix', 'grandfather mean', 'grandfather world', 'grandpa grandma', 'grandson billy', 'granny house', 'grant wish', 'granted privilege', 'graphic novel', 'grave danger', 'grave robber', 'gravely ill', 'graveyard shift', 'great actress', 'great american', 'great aunt', 'great britain', 'great country', 'great deal', 'great depression', 'great fall', 'great hope', 'great idea', 'great job', 'great love', 'great success', 'great valley', 'great white', 'greater danger', 'greater threat', 'greatest army', 'greatest challenge', 'greatest detective', 'greatest living', 'greatly influenced', 'greed treachery', 'greedy developer', 'greedy pokémon', 'greek island', 'green beret', 'green card', 'green light', 'greenwich village', 'greg heffley', 'greg kinnear', 'grew together', 'grieving death', 'grieving mother', 'grim reaper', 'griselda blanco', 'grisly fate', 'grisly murder', 'grizzly bear', 'grocery store', 'ground air', 'group allied', 'group american', 'group armed', 'group army', 'group becomes', 'group boy', 'group british', 'group britishborn', 'group catholic', 'group child', 'group civilian', 'group college', 'group corrupt', 'group criminal', 'group cybernetically', 'group east', 'group forced', 'group four', 'group french', 'group friend', 'group gay', 'group high', 'group individual', 'group kid', 'group known', 'group last', 'group marine', 'group men', 'group misfit', 'group moving', 'group must', 'group people', 'group schoolboy', 'group scientist', 'group session', 'group smalltown', 'group soldier', 'group stranded', 'group stranger', 'group student', 'group survivor', 'group teen', 'group teenage', 'group teenager', 'group terrorist', 'group traveler', 'group twentysomethings', 'group unemployed', 'group urban', 'group veteran', 'group wealthy', 'group woman', 'group young', 'grow close', 'grow closer', 'grow mother', 'grow see', 'growing love', 'growing together', 'grown beautiful', 'grown child', 'grown daughter', 'grown man', 'grown son', 'grown ups', 'grows adulthood', 'grows closer', 'grows ever', 'grows fond', 'grows frustrated', 'grows increasingly', 'grows jealous', 'grows manhood', 'grows stronger', 'grudge match', 'grudging admiration', 'gruesome death', 'gruesome murder', 'gruesome secret', 'gu van', 'guantanamo bay', 'guard officer', 'guard paul', 'guarded soldier', 'guardian angel', 'guest old', 'guidance counselor', 'guide cinema', 'guide two', 'guileless quickly', 'guinea pig', 'gulf war', 'gun smuggler', 'guru dr', 'guy could', 'guy every', 'guy he', 'guy life', 'guy make', 'guy named', 'guy school', 'guy theyre', 'guy who', 'guy whose', 'gypsy rose', 'hacker known', 'haddonfield illinois', 'hair salon', 'hale sadness', 'half brother', 'half century', 'half way', 'half world', 'half year', 'halfway house', 'halle berry', 'hallowed hall', 'halloween night', 'halloween party', 'hamilton high', 'hamilton ontario', 'hamlet prince', 'hammerstein hit', 'hammerstein musical', 'han dynasty', 'han solo', 'hand beautiful', 'hand begin', 'hand get', 'hand he', 'hand little', 'hand man', 'hand marriage', 'hand new', 'hand police', 'handle situation', 'handsome charming', 'handsome man', 'handsome stranger', 'handsome young', 'hang balance', 'hang best', 'hang local', 'hanging balance', 'hanging rock', 'hannibal lecter', 'hansel gretel', 'happen family', 'happened screen', 'happening around', 'happens next', 'happens upon', 'happens wife', 'happens world', 'happily ever', 'happily married', 'happy couple', 'happy family', 'happy helped', 'happy home', 'happy life', 'happy see', 'happy together', 'harald preserving', 'harbor secret', 'hard believe', 'hard day', 'hard get', 'hard luck', 'hard time', 'hard way', 'hard work', 'hard working', 'hardly ever', 'hardly notice', 'hardnosed cop', 'harlem arrested', 'harold kumar', 'harriet meet', 'harrison ford', 'harry callahan', 'harry dean', 'harry learns', 'harry palmer', 'harry potter', 'harry ron', 'harsh reality', 'harvard law', 'harvard student', 'harvey dent', 'harvey milk', 'hasnt aged', 'hasnt changed', 'hasnt got', 'hasnt seen', 'hatch plan', 'hatch plot', 'hatcheck girl', 'hatched plan', 'haunted house', 'haunted spirit', 'haunting memory', 'havana cuba', 'havoc life', 'havoc real', 'hawkins discovers', 'hayes american', 'hayley mill', 'hbo film', 'hbo present', 'hbo special', 'he actually', 'he also', 'he approached', 'he asked', 'he attacked', 'he attracted', 'he back', 'he brought', 'he caught', 'he different', 'he dying', 'he fallen', 'he falsely', 'he finally', 'he found', 'he framed', 'he gay', 'he going', 'he good', 'he got', 'he hot', 'he human', 'he innocent', 'he left', 'he little', 'he living', 'he longer', 'he love', 'he made', 'he met', 'he never', 'he offered', 'he one', 'he part', 'he ready', 'he real', 'he really', 'he seen', 'he sent', 'he shocked', 'he smitten', 'he son', 'he still', 'he suddenly', 'he taken', 'he white', 'he willing', 'he working', 'he worried', 'head animator', 'head back', 'head begin', 'head butler', 'head california', 'head europe', 'head heel', 'head injury', 'head large', 'head manhattan', 'head miramount', 'head new', 'head nurse', 'head security', 'head straight', 'head try', 'head underground', 'head west', 'headed edge', 'heading towards', 'heading west', 'headstrong young', 'heal wound', 'healing power', 'health food', 'health insurance', 'health worker', 'healthy compensation', 'healthy dose', 'hear woman', 'heart attack', 'heart becomes', 'heart darkness', 'heart discover', 'heart find', 'heart handsome', 'heart heart', 'heart men', 'heart nazi', 'heart rate', 'heart soul', 'heart surgery', 'heart transplant', 'heartwrenching story', 'heather locklear', 'heavily armed', 'heavy metal', 'heavyweight boxing', 'heavyweight champion', 'hectic life', 'hed imagined', 'hed never', 'height career', 'height tv', 'heir throne', 'heist film', 'heist make', 'heist one', 'held captive', 'held hostage', 'held prisoner', 'helen hayes', 'helen hunt', 'helen one', 'helen try', 'hell angel', 'hell back', 'hell bent', 'hell break', 'hell earth', 'hell find', 'hell killed', 'help also', 'help american', 'help arrives', 'help back', 'help best', 'help break', 'help breaking', 'help bring', 'help brother', 'help capture', 'help catch', 'help chris', 'help christine', 'help comfort', 'help coming', 'help cousin', 'help create', 'help dad', 'help deal', 'help dealing', 'help defend', 'help eccentric', 'help end', 'help escape', 'help estranged', 'help family', 'help father', 'help fellow', 'help fight', 'help find', 'help former', 'help friend', 'help get', 'help girl', 'help idealistic', 'help investigate', 'help kindly', 'help learn', 'help make', 'help mother', 'help mysterious', 'help new', 'help nick', 'help old', 'help one', 'help others', 'help pas', 'help promote', 'help protect', 'help prove', 'help psychic', 'help pull', 'help put', 'help quest', 'help reach', 'help regain', 'help rescue', 'help romantic', 'help russian', 'help save', 'help school', 'help scientist', 'help sister', 'help solve', 'help son', 'help stage', 'help start', 'help stop', 'help take', 'help team', 'help turn', 'help two', 'help veteran', 'help win', 'help woman', 'help yet', 'help young', 'helped along', 'helped establish', 'helped unsatisfactory', 'helping hand', 'henry fonda', 'henry frankenstein', 'henry gary', 'henry ii', 'henry james', 'henry may', 'henry must', 'henry viii', 'henry wotton', 'hercule poirot', 'hero attempt', 'hero emerge', 'hero even', 'hero everyone', 'hero great', 'hero monster', 'hero put', 'hero set', 'heroic act', 'heroic version', 'heroin addict', 'heroin addiction', 'hester prynne', 'hg well', 'hidden behind', 'hidden fortune', 'hidden gold', 'hidden meaning', 'hidden treasure', 'hide body', 'hide criminal', 'hide fact', 'hide home', 'hide match', 'hiding earth', 'hiding place', 'hiding secret', 'high class', 'high gang', 'high gear', 'high hope', 'high jinks', 'high life', 'high low', 'high noon', 'high priest', 'high ranking', 'high roller', 'high school', 'high schooler', 'high sea', 'high society', 'high stake', 'high wildcat', 'highclass call', 'higher learning', 'highest level', 'highland scotland', 'highly intelligent', 'highly personal', 'highly skilled', 'highly successful', 'highly trained', 'highlywanted hacker', 'highschool crush', 'highschool principal', 'highschool reunion', 'highschool student', 'highschool sweetheart', 'highstakes match', 'hightech weaponry', 'hijinks ensue', 'hilarious adventure', 'hilarious comedy', 'hilarious journey', 'hilarious new', 'hill high', 'hill house', 'hill housewife', 'himalayan mountain', 'hip hop', 'hire best', 'hire lawyer', 'hire professional', 'hire ray', 'hire reporter', 'hire stranger', 'hire two', 'hired assassin', 'hired bounty', 'hired clean', 'hired company', 'hired find', 'hired government', 'hired gun', 'hired hand', 'hired kill', 'hired work', 'historic event', 'historical account', 'historical drama', 'history american', 'history come', 'history museum', 'history popular', 'history repeating', 'history show', 'history teacher', 'history try', 'hit big', 'hit broadway', 'hit dating', 'hit happened', 'hit head', 'hit home', 'hit iceberg', 'hit immediately', 'hit jackpot', 'hit los', 'hit man', 'hit men', 'hit road', 'hit rock', 'hit run', 'hit snag', 'hit song', 'hit woman', 'hitch ride', 'hitchcock film', 'hitchcockian thriller', 'hitman bodyguard', 'hitman jef', 'hockey game', 'hockey player', 'hockey team', 'hold dear', 'hold grudge', 'hold gunpoint', 'hold key', 'hold many', 'hold number', 'hold onto', 'hold power', 'hold ransom', 'hold secret', 'holden fall', 'holding area', 'holiday classic', 'holiday europe', 'holiday home', 'holiday season', 'holiday take', 'holiday turn', 'holidaying french', 'hollywood actor', 'hollywood actress', 'hollywood deal', 'hollywood film', 'hollywood movie', 'hollywood producer', 'hollywood star', 'hollywood studio', 'hollywood want', 'holmes dr', 'holy grail', 'home alone', 'home along', 'home begin', 'home berlin', 'home brother', 'home christine', 'home deal', 'home demonic', 'home face', 'home family', 'home father', 'home find', 'home first', 'home go', 'home group', 'home invasion', 'home life', 'home may', 'home mother', 'home movie', 'home new', 'home older', 'home one', 'home planet', 'home pregnant', 'home san', 'home seems', 'home shopping', 'home son', 'home soon', 'home thanksgiving', 'home together', 'home town', 'home video', 'home wife', 'home work', 'home year', 'homeland security', 'homeless man', 'homeless people', 'homeless woman', 'homer odyssey', 'hometown find', 'hometown mother', 'homicidal maniac', 'homicide detective', 'homicide investigation', 'hong kong', 'hook hand', 'hoop dream', 'hope become', 'hope bring', 'hope discovered', 'hope dream', 'hope ever', 'hope fear', 'hope finally', 'hope find', 'hope finding', 'hope future', 'hope get', 'hope getting', 'hope one', 'hope star', 'hope survival', 'hope winning', 'hopeful young', 'hopelessly lost', 'hopelessly love', 'hoping bring', 'hoping find', 'hoping save', 'horrible car', 'horrible secret', 'horribly disfigured', 'horribly wrong', 'horrific accident', 'horrified discover', 'horrified see', 'horrifying discovery', 'horrifying result', 'horrifying tale', 'horror classic', 'horror film', 'horror genre', 'horror movie', 'horror story', 'horror tale', 'horror war', 'horse people', 'horse race', 'horse ranch', 'hospital flashback', 'hospital get', 'hospital room', 'hospitalized mother', 'host award', 'host family', 'host new', 'host radio', 'hostage negotiator', 'hostage situation', 'hostile alien', 'hostile world', 'hostility grudging', 'hot dog', 'hot heel', 'hot pursuit', 'hot summer', 'hot trail', 'hot water', 'hot young', 'hotel manager', 'hotel owner', 'hotel room', 'hotshot college', 'hound hell', 'hour life', 'hour long', 'house arrest', 'house become', 'house begin', 'house bought', 'house care', 'house country', 'house decides', 'house elm', 'house eventually', 'house every', 'house film', 'house find', 'house get', 'house gradually', 'house haunted', 'house he', 'house lead', 'house meet', 'house mr', 'house next', 'house one', 'house order', 'house party', 'house representative', 'house run', 'house seven', 'house small', 'house soon', 'house street', 'house ten', 'house threatened', 'house whole', 'house young', 'housed body', 'household appliance', 'housing project', 'howard hughes', 'however arrives', 'however bond', 'however fall', 'however finally', 'however girl', 'however instead', 'however john', 'however land', 'however lead', 'however local', 'however need', 'however never', 'however nothing', 'however one', 'however phantom', 'however put', 'however rather', 'however realizes', 'however series', 'however situation', 'however soon', 'however thing', 'however turn', 'however two', 'however unbeknownst', 'huge diamond', 'huge success', 'hugely popular', 'hugo classic', 'human animal', 'human behavior', 'human being', 'human blood', 'human body', 'human boy', 'human brain', 'human centipede', 'human civilization', 'human condition', 'human ever', 'human existence', 'human face', 'human find', 'human flesh', 'human form', 'human friend', 'human heart', 'human human', 'human life', 'human live', 'human nature', 'human population', 'human race', 'human relationship', 'human right', 'human sacrifice', 'human sexuality', 'human society', 'human spirit', 'human survivor', 'human vampire', 'human woman', 'human world', 'humbert humbert', 'humphrey bogart', 'hundred acre', 'hundred hour', 'hundred million', 'hundred thousand', 'hundred year', 'hunger game', 'hunt destroy', 'hunt himalayan', 'hunt must', 'hunt one', 'hunt vampire', 'hunter celebi', 'hunter left', 'hunter seek', 'hunting trip', 'hurricane katrina', 'hurtling toward', 'husband affair', 'husband begin', 'husband best', 'husband child', 'husband death', 'husband easily', 'husband father', 'husband find', 'husband george', 'husband ghost', 'husband go', 'husband harald', 'husband hire', 'husband infidelity', 'husband jack', 'husband jim', 'husband john', 'husband killed', 'husband lack', 'husband mother', 'husband murder', 'husband must', 'husband nick', 'husband paco', 'husband restaurant', 'husband return', 'husband roy', 'husband shes', 'husband show', 'husband son', 'husband soon', 'husband take', 'husband try', 'husband trying', 'husband two', 'husband unfaithful', 'husband walter', 'husband whose', 'husband wife', 'husband would', 'hustle money', 'ice age', 'ice cap', 'ice cream', 'ice cube', 'ice hockey', 'ichabod crane', 'idea get', 'idea time', 'ideal selfrespect', 'idealistic young', 'identical twin', 'identity come', 'identity crisis', 'identity secret', 'idi amin', 'idol become', 'idyllic life', 'idyllic summer', 'ignores treat', 'ignoring warning', 'ii battle', 'ii nazi', 'ii new', 'ii secret', 'ii submarine', 'ii three', 'ill mother', 'illegal activity', 'illegal he', 'illegal immigrant', 'illegal underground', 'illegal weapon', 'illegitimate child', 'illicit affair', 'illicit relationship', 'image past', 'imaginary friend', 'imaginary world', 'imagine find', 'imf agent', 'immediate family', 'immediately following', 'immediately go', 'immediately put', 'immediately set', 'immediately start', 'immigrant family', 'immigrant former', 'immigrant working', 'immortal life', 'immortal stardom', 'immortal swordsman', 'immortal warrior', 'impact life', 'impact relationship', 'impatient fan', 'impeccable rectitude', 'important american', 'important business', 'important film', 'important lesson', 'important thing', 'impossible choice', 'impossible mission', 'impossible odds', 'impossible task', 'impossibly high', 'impostor man', 'impress everyone', 'impressionable son', 'imprisoned murder', 'inadvertently becomes', 'inadvertently disrupting', 'inanimate object', 'incident behind', 'incident secret', 'include drunken', 'includes footage', 'includes interview', 'including best', 'including cleaning', 'including getting', 'including one', 'including sean', 'including two', 'including wife', 'increasingly aggressive', 'increasingly complicated', 'increasingly dangerous', 'increasingly desperate', 'increasingly difficult', 'increasingly interesting', 'increasingly jealous', 'increasingly paranoid', 'incredible adventure', 'incredible new', 'incredible power', 'incredible story', 'incredible true', 'incriminating film', 'independent director', 'independent film', 'independent filmmaker', 'independent life', 'indepth look', 'india warrior', 'indian attack', 'indian family', 'indian find', 'indian independence', 'indian territory', 'indian tribe', 'indian village', 'indian war', 'indian warrior', 'indiana jones', 'individual life', 'individual whose', 'inevitably get', 'inexplicably drawn', 'infamous story', 'infant daughter', 'infant son', 'infection turning', 'infiltrate gang', 'infinite possibility', 'influential musician', 'ingenue arrives', 'ingmar bergman', 'inherit throne', 'inherited castle', 'inherits father', 'inner circle', 'inner city', 'inner demon', 'inner peace', 'innocence get', 'innocence lost', 'innocent girl', 'innocent man', 'innocent murdering', 'innocent people', 'inquisitive woman', 'insane asylum', 'inseparable friend', 'inside body', 'inside head', 'inside house', 'inside information', 'inside look', 'inside one', 'insists finish', 'inspector clouseau', 'inspector dreyfus', 'inspector jacques', 'inspector lee', 'inspired real', 'inspired true', 'installed first', 'installment nightmare', 'installment successful', 'instant attraction', 'instant connection', 'instant hit', 'instantly attracted', 'instantly fall', 'instead fall', 'instead find', 'instead move', 'institution criminally', 'insurance company', 'insurance investigator', 'insurance money', 'insurance salesman', 'insurmountable odds', 'intelligence agent', 'intelligence officer', 'intelligence project', 'intelligence security', 'intelligent ape', 'intelligent student', 'intended someone', 'intended victim', 'intends use', 'intent devouring', 'intent killing', 'intent settling', 'interest marty', 'internal affair', 'international art', 'international conspiracy', 'international criminal', 'international crisis', 'international espionage', 'international film', 'international icon', 'international plot', 'international power', 'international spy', 'international success', 'international team', 'international terrorist', 'internet company', 'internment camp', 'interpol agent', 'intersecting life', 'intersecting story', 'interstellar war', 'interview archival', 'interview family', 'interview people', 'interviewed change', 'intimate look', 'intrepid young', 'intriguing documentary', 'introduce new', 'introduces world', 'introverted young', 'inuit people', 'invade earth', 'invade iraq', 'invade mansion', 'invaded miami', 'invading army', 'invasion force', 'invasion italy', 'invasion privacy', 'invent new', 'invention slip', 'investigate case', 'investigate disappearance', 'investigate husband', 'investigate murder', 'investigate mysterious', 'investigate recent', 'investigate series', 'investigate stop', 'investigate story', 'investigates apparent', 'investigates case', 'investigates disappearance', 'investigates life', 'investigates murder', 'investigating grisly', 'investigating murder', 'investigation disappearance', 'investigation event', 'investigation go', 'investigation lead', 'investigation proceeds', 'investigation take', 'investigation two', 'investigative journalist', 'investigative reporter', 'investment bank', 'investment banker', 'investment firm', 'invite friend', 'invited dinner', 'invited join', 'invited take', 'invited three', 'invited weekend', 'involved case', 'involved conspiracy', 'involved drug', 'involved girlfriend', 'involved group', 'involved murder', 'involved one', 'involved series', 'involved serious', 'involved shady', 'involving group', 'involving murder', 'involving mysterious', 'involving people', 'involving psychotic', 'iowa farm', 'iowa town', 'ira member', 'iran bahrain', 'iranian female', 'iranian revolution', 'iraq war', 'irish american', 'irish immigrant', 'irish republican', 'iron curtain', 'iron fist', 'iron man', 'irs agent', 'islamic fundamentalist', 'islamic terrorist', 'island coast', 'island community', 'island cruise', 'island dream', 'island find', 'island get', 'island inhabited', 'island meet', 'island must', 'island new', 'island pacific', 'island populated', 'island resort', 'isnt always', 'isnt bad', 'isnt cracked', 'isnt easy', 'isnt long', 'isnt one', 'isnt really', 'isnt simple', 'isnt sure', 'isnt thing', 'isnt worried', 'isolated country', 'isolated house', 'isolated island', 'israeli army', 'israeli athlete', 'italian boy', 'italian family', 'italian immigrant', 'italian man', 'italy eventually', 'ivan terrible', 'ivy league', 'iwo jima', 'jack black', 'jack byrnes', 'jack carter', 'jack find', 'jack foley', 'jack lemmon', 'jack matthew', 'jack nicholson', 'jack ripper', 'jack ryan', 'jack sparrow', 'jack struggle', 'jack terry', 'jack try', 'jack white', 'jackass 3d', 'jackie chan', 'jacqueline kennedy', 'jacques clouseau', 'jacques tati', 'jai white', 'jail 14', 'jail come', 'jail sentence', 'jail time', 'jake find', 'jake gittes', 'james bond', 'james braddock', 'james brown', 'james cagney', 'james dean', 'james find', 'james franco', 'james jones', 'james kirk', 'james marsden', 'james purefoy', 'james wood', 'jane austen', 'jane beautiful', 'jane eyre', 'jane fonda', 'jane hudson', 'japan two', 'japanese army', 'japanese company', 'japanese force', 'japanese mafia', 'japanese soldier', 'jason bourne', 'jason leigh', 'jason patric', 'jason voorhees', 'jason vorhees', 'jay gatsby', 'jazz band', 'jazz guitarist', 'jealous boyfriend', 'jealous husband', 'jean claude', 'jean reno', 'jean valjean', 'jean young', 'jeanluc picard', 'jeanmarc barr', 'jedi knight', 'jef costello', 'jeff bridge', 'jefferson airplane', 'jennifer ehle', 'jennifer jason', 'jenny try', 'jeopardized romantic', 'jeremy iron', 'jerry lee', 'jerry lewis', 'jerry seinfeld', 'jerry springer', 'jesus christ', 'jewel heist', 'jewel hidden', 'jewel stolen', 'jewel thief', 'jewelry store', 'jewish background', 'jewish boy', 'jewish community', 'jewish family', 'jewish friend', 'jewish girl', 'jewish immigrant', 'jewish man', 'jewish widow', 'jewish woman', 'jigsaw legacy', 'jim carrey', 'jim craig', 'jim gordon', 'jim hawkins', 'jim jarmusch', 'jim michelle', 'jim morrison', 'jimi hendrix', 'jiminy cricket', 'jimmy thrown', 'jimmy tulip', 'joan wilder', 'job also', 'job apartment', 'job bank', 'job beautiful', 'job becomes', 'job begin', 'job busboy', 'job clerk', 'job country', 'job decides', 'job despite', 'job doesnt', 'job done', 'job driving', 'job earn', 'job end', 'job finding', 'job friend', 'job get', 'job girlfriend', 'job go', 'job however', 'job interview', 'job janitor', 'job learning', 'job local', 'job love', 'job make', 'job new', 'job one', 'job order', 'job preserving', 'job prospect', 'job ray', 'job san', 'job secret', 'job seriously', 'job set', 'job soon', 'job support', 'job take', 'job teaching', 'job turn', 'job two', 'job world', 'job would', 'job young', 'jodie foster', 'joe armstrong', 'joe happens', 'joe jackson', 'joe must', 'joe pesci', 'joe team', 'joel must', 'joely richardson', 'joes life', 'john baxter', 'john brown', 'john candy', 'john connor', 'john cusack', 'john decides', 'john doe', 'john dolittle', 'john dy', 'john hammond', 'john henry', 'john james', 'john kennedy', 'john lennon', 'john lydon', 'john malkovich', 'john max', 'john mcclane', 'john quincy', 'john rambo', 'john saxon', 'john shaft', 'john silver', 'john smith', 'john take', 'john wayne', 'johnny blaze', 'johnny depp', 'johnny jones', 'johnny knoxville', 'johnny rico', 'johnny rotten', 'join army', 'join band', 'join beautiful', 'join brother', 'join crew', 'join eccentric', 'join elite', 'join expedition', 'join force', 'join gang', 'join group', 'join new', 'join quest', 'join school', 'join search', 'join secret', 'join team', 'join two', 'joined first', 'joined quest', 'joined texas', 'joining force', 'jon voight', 'jonathan harker', 'jones also', 'jones becoming', 'josh brolin', 'josh buddy', 'journalist becomes', 'journalist girlfriend', 'journalist michael', 'journalist mikael', 'journey across', 'journey america', 'journey around', 'journey back', 'journey becoming', 'journey discover', 'journey find', 'journey heart', 'journey home', 'journey inside', 'journey jungle', 'journey lead', 'journey new', 'journey self', 'journey soul', 'journey take', 'journey two', 'journey wild', 'journey world', 'journey young', 'joy life', 'joy ride', 'joy sorrow', 'jr summons', 'juan carlos', 'jude law', 'judge give', 'judy davis', 'judy get', 'jules verne', 'julian lennon', 'julianne moore', 'julien temple', 'julius caesar', 'jump bail', 'jump chance', 'jungle set', 'jungle south', 'junkyard find', 'jurassic park', 'jury prize', 'justice evil', 'justice freedom', 'justice hand', 'justice league', 'justice system', 'kalahari desert', 'kansa city', 'kansa girl', 'karen allen', 'karen get', 'karl childers', 'kate hudson', 'katniss everdeen', 'katrina plan', 'kay jay', 'keanu reef', 'keep alive', 'keep apart', 'keep changing', 'keep debt', 'keep family', 'keep getting', 'keep girl', 'keep going', 'keep hand', 'keep hidden', 'keep home', 'keep job', 'keep living', 'keep money', 'keep one', 'keep order', 'keep promise', 'keep quiet', 'keep real', 'keep relationship', 'keep rest', 'keep romance', 'keep secret', 'keep seeing', 'keep team', 'keep thing', 'keep together', 'keep touch', 'keep track', 'keep working', 'keeping relationship', 'keeping secret', 'ken loach', 'kennedy assassination', 'kenneth grahame', 'kermit frog', 'kevin flynn', 'kevin kline', 'key player', 'key time', 'kgb agent', 'khan escape', 'khan renounces', 'kick back', 'kick thing', 'kid become', 'kid begin', 'kid father', 'kid go', 'kid however', 'kid kept', 'kid life', 'kid named', 'kid never', 'kid one', 'kid school', 'kid summer', 'kid thing', 'kid town', 'kid try', 'kidnap daughter', 'kidnap murder', 'kidnap victim', 'kidnap wife', 'kidnapped child', 'kidnapped daughter', 'kidnapped evil', 'kidnapped gang', 'kidnapped he', 'kidnapped secret', 'kidnapped son', 'kidnapped wife', 'kidnapping scheme', 'kidnaps ash', 'kiefer sutherland', 'kill anyone', 'kill every', 'kill evil', 'kill father', 'kill find', 'kill husband', 'kill old', 'kill one', 'kill people', 'kill president', 'kill someone', 'kill son', 'kill time', 'kill undercover', 'kill woman', 'killed accident', 'killed car', 'killed father', 'killed go', 'killed one', 'killed partner', 'killed savage', 'killed son', 'killed trying', 'killed wife', 'killed woman', 'killer abducts', 'killer bent', 'killer clear', 'killer dubbed', 'killer family', 'killer go', 'killer hired', 'killer investigation', 'killer known', 'killer look', 'killer loose', 'killer one', 'killer past', 'killer posing', 'killer soon', 'killer strike', 'killer tommy', 'killer trial', 'killer turned', 'killer whale', 'killer whose', 'killing agent', 'killing field', 'killing hundred', 'killing machine', 'killing mother', 'killing one', 'killing people', 'killing spree', 'killing start', 'killing two', 'killing woman', 'kim young', 'kin ming', 'kind damage', 'kindergarten teacher', 'kindhearted prostitute', 'kindly neighbor', 'kindred spirit', 'king arthur', 'king beggar', 'king charles', 'king court', 'king dartagnan', 'king even', 'king fall', 'king find', 'king henry', 'king john', 'king kong', 'king lost', 'king louis', 'king monster', 'king queen', 'king richard', 'king siam', 'king solomon', 'king sparta', 'king want', 'kirk crew', 'kirk douglas', 'knack getting', 'knew existed', 'knight gotham', 'knight named', 'knight round', 'knock door', 'knocked unconscious', 'know africa', 'know anything', 'know come', 'know defend', 'know every', 'know exactly', 'know father', 'know find', 'know guilty', 'know happened', 'know he', 'know help', 'know including', 'know jack', 'know last', 'know life', 'know lot', 'know love', 'know make', 'know much', 'know must', 'know nothing', 'know one', 'know really', 'know shes', 'know theyre', 'know three', 'know time', 'know today', 'know town', 'know trust', 'know truth', 'know turn', 'knowledge help', 'known actor', 'known agent', 'known king', 'known many', 'known phantom', 'known puppetmaster', 'known world', 'kong brings', 'kong cop', 'kong detective', 'kong martialarts', 'kong police', 'konrad become', 'konrad remains', 'konrad sophie', 'konrads sister', 'korean war', 'kubrick classic', 'kung fu', 'kungfu film', 'kungfu master', 'kurt cobain', 'kurt russell', 'la crime', 'la friend', 'la gang', 'la police', 'la star', 'la stay', 'la vega', 'la want', 'lab assistant', 'lab rat', 'lack ambition', 'lack financial', 'ladder success', 'lady man', 'laid plan', 'laid ruin', 'lake befriends', 'lake house', 'lake romantic', 'lake victoria', 'lakeside home', 'lame excuse', 'lancaster play', 'land baron', 'land big', 'land earth', 'land elite', 'land find', 'land job', 'land living', 'land new', 'land planet', 'land satisfy', 'land small', 'landmark film', 'landscape filled', 'language film', 'lao vietnam', 'lapd detective', 'lapd officer', 'lara croft', 'large amount', 'large debt', 'large drug', 'large family', 'large farm', 'large number', 'large sum', 'larry daley', 'lars jimmy', 'lassie master', 'last attempt', 'last big', 'last chance', 'last day', 'last energy', 'last film', 'last five', 'last flight', 'last heist', 'last hope', 'last job', 'last kind', 'last long', 'last minute', 'last moment', 'last month', 'last movie', 'last name', 'last night', 'last one', 'last person', 'last place', 'last remaining', 'last screen', 'last seven', 'last shot', 'last stand', 'last summer', 'last surviving', 'last thing', 'last time', 'last weekend', 'last wish', 'last woman', 'last year', 'lastditch attempt', 'late 1930s', 'late 1940s', 'late 1950s', 'late 1960s', 'late 1970s', 'late 1980s', 'late 19th', 'late 50', 'late 80', 'late father', 'late husband', 'late mother', 'late night', 'late one', 'late sixty', 'late wife', 'later becomes', 'later creative', 'later day', 'later eddie', 'later evening', 'later find', 'later found', 'later kill', 'later make', 'later man', 'later meet', 'later night', 'later one', 'later return', 'later reunites', 'later set', 'later year', 'latest book', 'latest exciting', 'latest film', 'latest hightech', 'latest invention', 'latest mission', 'latest movie', 'latest project', 'latin america', 'latin american', 'latter year', 'lau kin', 'launch career', 'launch plan', 'lauren bacall', 'laurence harvey', 'laurence olivier', 'laurie strode', 'lavish lifestyle', 'law enforcement', 'law firm', 'law hand', 'law school', 'law student', 'lawyer defends', 'lawyer fall', 'lawyer find', 'lawyer get', 'lawyer go', 'lawyer help', 'lawyer put', 'lawyer rick', 'lawyer roger', 'lawyer whose', 'le attractive', 'le chiffre', 'le happy', 'lead actor', 'lead another', 'lead army', 'lead band', 'lead battle', 'lead believe', 'lead better', 'lead chicago', 'lead conflict', 'lead create', 'lead deadly', 'lead difficult', 'lead discovery', 'lead expedition', 'lead far', 'lead father', 'lead fight', 'lead group', 'lead life', 'lead murder', 'lead peaceful', 'lead problem', 'lead promise', 'lead quiet', 'lead role', 'lead secret', 'lead singer', 'lead small', 'lead solitary', 'lead take', 'lead team', 'lead ultimate', 'lead unexpected', 'lead village', 'leader gang', 'leader group', 'leader kill', 'leader resistance', 'leader wont', 'leading crime', 'leading disturbing', 'leading empty', 'leading lady', 'leading man', 'leading role', 'leaf alone', 'leaf behind', 'leaf child', 'leaf city', 'leaf fall', 'leaf farm', 'leaf force', 'leaf fortune', 'leaf home', 'leaf house', 'leaf town', 'leaf wife', 'league baseball', 'league help', 'league hockey', 'league team', 'leaked press', 'learn accept', 'learn beloved', 'learn communicate', 'learn control', 'learn lesson', 'learn life', 'learn meaning', 'learn past', 'learn play', 'learn thing', 'learn three', 'learn way', 'learn work', 'learning husband', 'learning lesson', 'learning life', 'learning use', 'learns hard', 'learns he', 'learns important', 'learns lesson', 'learns life', 'learns lose', 'learns love', 'learns man', 'learns manipulate', 'learns navigate', 'learns new', 'learns one', 'learns shes', 'learns take', 'learns valuable', 'learns way', 'learns wife', 'lease life', 'least thats', 'leave alone', 'leave behind', 'leave city', 'leave dead', 'leave home', 'leave house', 'leave mark', 'leave town', 'leave young', 'leaving behind', 'leaving country', 'leaving family', 'leaving wife', 'led colonel', 'led dr', 'led eric', 'led evil', 'led inspector', 'led legendary', 'led ruthless', 'lee carter', 'lee jones', 'lee lewis', 'lee take', 'left alone', 'left begin', 'left behind', 'left care', 'left charge', 'left dead', 'left die', 'left end', 'left eye', 'left family', 'left fend', 'left front', 'left hand', 'left home', 'left many', 'left military', 'left one', 'left standing', 'left town', 'left without', 'legal illegal', 'legend year', 'legendary american', 'legendary bank', 'legendary figure', 'legendary james', 'legendary party', 'legendary pirate', 'legendary pokémon', 'legendary western', 'length necessary', 'leo bloom', 'leonard cohen', 'leonardo da', 'leslie nielsen', 'lesson life', 'let apartment', 'let go', 'let happen', 'let pokémon', 'let woman', 'lethal weapon', 'letter former', 'letter woman', 'letter written', 'letting go', 'lewis carroll', 'lewis clark', 'lex luthor', 'li shang', 'lie beyond', 'lie dead', 'lie dying', 'lie son', 'lie within', 'lieutenant frederic', 'life aboard', 'life across', 'life actor', 'life actually', 'life affected', 'life age', 'life along', 'life also', 'life always', 'life america', 'life among', 'life ancient', 'life around', 'life attempt', 'life back', 'life based', 'life basement', 'life beautiful', 'life become', 'life becomes', 'life begin', 'life big', 'life bitter', 'life british', 'life brother', 'life buck', 'life business', 'life career', 'life change', 'life changed', 'life child', 'life childhood', 'life chris', 'life city', 'life collide', 'life come', 'life comic', 'life controversial', 'life could', 'life couple', 'life course', 'life crime', 'life customer', 'life danger', 'life day', 'life death', 'life decide', 'life decides', 'life deranged', 'life discovers', 'life divorced', 'life dog', 'life dream', 'life earth', 'life east', 'life end', 'life especially', 'life even', 'life ever', 'life everyone', 'life experience', 'life fall', 'life famed', 'life family', 'life farm', 'life fast', 'life father', 'life film', 'life filmed', 'life find', 'life finding', 'life first', 'life five', 'life forever', 'life form', 'life former', 'life four', 'life frank', 'life free', 'life freedom', 'life friendship', 'life full', 'life fullest', 'life get', 'life go', 'life good', 'life great', 'life group', 'life growing', 'life hand', 'life happily', 'life hard', 'life haunted', 'life heart', 'life help', 'life high', 'life hopefully', 'life hopeless', 'life human', 'life important', 'life including', 'life insurance', 'life interesting', 'life intersect', 'life intertwine', 'life intertwined', 'life isnt', 'life italy', 'life jesus', 'life john', 'life journey', 'life keep', 'life kitchen', 'life know', 'life last', 'life le', 'life lead', 'life leading', 'life leaf', 'life led', 'life left', 'life lesson', 'life lie', 'life life', 'life like', 'life little', 'life live', 'life living', 'life london', 'life long', 'life longer', 'life looking', 'life loses', 'life lost', 'life love', 'life made', 'life magical', 'life many', 'life may', 'life meaning', 'life meanwhile', 'life meet', 'life memory', 'life men', 'life middle', 'life middleclass', 'life miserable', 'life mother', 'life music', 'life must', 'life mysterious', 'life never', 'life new', 'life newly', 'life next', 'life old', 'life one', 'life others', 'life outside', 'life paralleling', 'life parent', 'life pen', 'life people', 'life petty', 'life plan', 'life planned', 'life poor', 'life power', 'life present', 'life prison', 'life problem', 'life professional', 'life puppet', 'life quiet', 'life rather', 'life recurring', 'life relationship', 'life renowned', 'life return', 'life revolves', 'life risk', 'life road', 'life romance', 'life romantic', 'life ruined', 'life running', 'life san', 'life save', 'life saved', 'life secluded', 'life seems', 'life seen', 'life sense', 'life series', 'life set', 'life several', 'life sex', 'life shadow', 'life shattered', 'life shes', 'life show', 'life side', 'life simple', 'life since', 'life single', 'life small', 'life son', 'life soon', 'life south', 'life space', 'life spiral', 'life start', 'life stay', 'life steven', 'life still', 'life story', 'life street', 'life struggle', 'life struggling', 'life take', 'life taking', 'life tell', 'life thing', 'life thomas', 'life thought', 'life threatened', 'life three', 'life thrown', 'life time', 'life today', 'life together', 'life tony', 'life top', 'life transformed', 'life trouble', 'life true', 'life try', 'life trying', 'life turn', 'life turned', 'life two', 'life unable', 'life unravels', 'life unusual', 'life upside', 'life upsidedown', 'life using', 'life value', 'life village', 'life wait', 'life want', 'life washington', 'life way', 'life wealth', 'life wealthy', 'life wife', 'life within', 'life without', 'life woman', 'life work', 'life working', 'life world', 'life worth', 'life would', 'life writer', 'life year', 'life yet', 'life young', 'lifechanging decision', 'lifelong friend', 'lifelong friendship', 'lifelong love', 'lifelong obsession', 'lifestyle change', 'lifestyle however', 'lifestyle neighbor', 'lifethreatening situation', 'lifetime join', 'lift curse', 'light comedy', 'light dark', 'light descend', 'light district', 'light go', 'light hearted', 'lighthouse keeper', 'lightning mcqueen', 'lightning struck', 'like child', 'like david', 'like dog', 'like family', 'like fantasy', 'like father', 'like girl', 'like going', 'like idea', 'like idol', 'like james', 'like kill', 'like man', 'like many', 'like michael', 'like neighborhood', 'like never', 'like one', 'like paul', 'like peter', 'like rest', 'like see', 'like stay', 'like typical', 'like without', 'likeness future', 'limited resource', 'limo driver', 'linda fiorentino', 'linda lovelace', 'line also', 'line duty', 'line worker', 'line wwii', 'line young', 'lino ventura', 'lion cub', 'liotta star', 'list thing', 'literary agent', 'literature club', 'literature professor', 'litter dalmatian', 'little bit', 'little boy', 'little brother', 'little choice', 'little dog', 'little east', 'little girl', 'little good', 'little green', 'little help', 'little know', 'little known', 'little later', 'little league', 'little miss', 'little money', 'little old', 'little one', 'little red', 'little rock', 'little secret', 'little sister', 'little thing', 'little time', 'little town', 'little white', 'live action', 'live among', 'live apartment', 'live audience', 'live aunt', 'live character', 'live come', 'live concert', 'live day', 'live father', 'live fear', 'live forever', 'live grandparent', 'live happily', 'live home', 'live life', 'live love', 'live man', 'live mother', 'live next', 'live normal', 'live others', 'live peace', 'live performance', 'live show', 'live standup', 'live street', 'live television', 'live together', 'live tv', 'live uncle', 'live wanting', 'live work', 'lived first', 'lived life', 'livein girlfriend', 'living apartment', 'living breathing', 'living dead', 'living dinosaur', 'living exile', 'living france', 'living girl', 'living good', 'living hell', 'living human', 'living la', 'living life', 'living london', 'living long', 'living miami', 'living modern', 'living mummy', 'living new', 'living outskirt', 'living parent', 'living room', 'living small', 'living street', 'living suburb', 'living together', 'living two', 'living working', 'loan shark', 'local authority', 'local bank', 'local bar', 'local beauty', 'local boy', 'local businessman', 'local cafe', 'local car', 'local carnival', 'local child', 'local church', 'local crime', 'local drug', 'local farmer', 'local fbi', 'local gang', 'local gangster', 'local girl', 'local hooker', 'local indian', 'local kingpin', 'local legend', 'local lord', 'local mafia', 'local mall', 'local man', 'local mob', 'local nobility', 'local police', 'local politician', 'local pool', 'local population', 'local priest', 'local reporter', 'local rock', 'local sheriff', 'local team', 'local tv', 'local villager', 'local woman', 'locate explorer', 'location shooting', 'locked away', 'lodger husband', 'logan set', 'lois lane', 'lola move', 'lon chaney', 'london flat', 'london police', 'london society', 'lone female', 'lone survivor', 'lonely boy', 'lonely heart', 'lonely world', 'long ago', 'long beach', 'long career', 'long enough', 'long forgotten', 'long he', 'long hour', 'long island', 'long last', 'long lost', 'long make', 'long odds', 'long process', 'long realize', 'long relationship', 'long shes', 'long soon', 'long term', 'long theyre', 'long time', 'long trip', 'long voyage', 'longer expected', 'longest running', 'longest without', 'longfellow deed', 'longhidden secret', 'longterm relationship', 'longtime agent', 'longtime crush', 'longtime enforcer', 'longtime friend', 'longtime pal', 'longtime partner', 'look act', 'look american', 'look back', 'look contemporary', 'look decidedly', 'look exactly', 'look forward', 'look history', 'look identical', 'look increasingly', 'look inside', 'look life', 'look like', 'look one', 'look past', 'look work', 'look young', 'looking back', 'looking easy', 'looking escape', 'looking forward', 'looking get', 'looking love', 'looking man', 'looking mom', 'looking new', 'looking something', 'looking woman', 'looking work', 'looney tune', 'loose end', 'loosely based', 'loosely inspired', 'lord becomes', 'lord chief', 'lord darkness', 'lord henry', 'lord killed', 'lord ring', 'lord voldemort', 'los angeles', 'lose job', 'lose life', 'lose virginity', 'loses faith', 'loses girl', 'loses heart', 'loses job', 'loses memory', 'loses mind', 'losing battle', 'losing business', 'losing control', 'losing everything', 'losing friend', 'losing house', 'losing job', 'losing partner', 'losing sight', 'losing touch', 'losing virginity', 'loss family', 'loss wife', 'lost ability', 'lost ark', 'lost city', 'lost control', 'lost dog', 'lost everything', 'lost family', 'lost film', 'lost job', 'lost love', 'lost money', 'lost mother', 'lost ship', 'lost son', 'lost soul', 'lost two', 'lot money', 'lot people', 'lottery ticket', 'lou gehrig', 'loud music', 'louis ck', 'louis cks', 'louisiana bayou', 'lounge singer', 'lovable loser', 'love adventure', 'love affair', 'love also', 'love american', 'love another', 'love attempt', 'love beautiful', 'love becomes', 'love begin', 'love best', 'love betrayal', 'love black', 'love blossom', 'love british', 'love child', 'love chris', 'love city', 'love conquer', 'love death', 'love despite', 'love dont', 'love edward', 'love even', 'love every', 'love faith', 'love family', 'love father', 'love fellow', 'love film', 'love find', 'love first', 'love force', 'love friend', 'love friendship', 'love get', 'love girl', 'love gorgeous', 'love handsome', 'love happiness', 'love hate', 'love he', 'love however', 'love interest', 'love jim', 'love last', 'love leading', 'love letter', 'love letting', 'love life', 'love local', 'love loss', 'love love', 'love make', 'love man', 'love marriage', 'love married', 'love marry', 'love meanwhile', 'love meet', 'love movie', 'love much', 'love music', 'love never', 'love new', 'love nick', 'love old', 'love one', 'love people', 'love plan', 'love process', 'love really', 'love relationship', 'love romance', 'love set', 'love sex', 'love sister', 'love situation', 'love somehow', 'love start', 'love steve', 'love still', 'love story', 'love strong', 'love struck', 'love suddenly', 'love summer', 'love three', 'love tom', 'love triangle', 'love true', 'love two', 'love unfortunately', 'love way', 'love well', 'love wife', 'love wild', 'love woman', 'love world', 'love worth', 'love year', 'love yet', 'love young', 'loved one', 'loveless marriage', 'lovely woman', 'lover although', 'lover anna', 'lover best', 'lover head', 'lover husband', 'lover law', 'lover scott', 'lover woman', 'loving father', 'loving husband', 'loving wife', 'low birth', 'low budget', 'lower east', 'lowest form', 'loyal longtime', 'loyalty lie', 'loyalty tested', 'loyalty trust', 'lt cmdr', 'lt col', 'lt jim', 'luck run', 'luckily meet', 'lucky louie', 'lucy susan', 'luis buñuel', 'luke skywalker', 'lunatic asylum', 'lunch wagon', 'lure victim', 'lured one', 'lured world', 'lurks within', 'luxurious lifestyle', 'luxury condo', 'luxury cruise', 'lying coma', 'lynch mob', 'lyndon johnson', 'machine allows', 'machine gun', 'machine make', 'mad dog', 'mad scientist', 'madcap adventure', 'made aware', 'made famous', 'made living', 'made million', 'made original', 'made public', 'made television', 'made way', 'made woman', 'made world', 'madison avenue', 'madison square', 'madly love', 'madness mayhem', 'mafia bos', 'mafia family', 'mafia film', 'mafia hit', 'mafia hitman', 'mafia police', 'mafia trial', 'magazine cover', 'magazine editor', 'magazine writer', 'magic bag', 'magic potion', 'magic power', 'magical adventure', 'magical book', 'magical flute', 'magical golden', 'magical land', 'magical world', 'magician find', 'magnetic field', 'maid honor', 'maid marian', 'maid working', 'maiden voyage', 'mail carrier', 'mail order', 'main attraction', 'main character', 'main concern', 'main suspect', 'maintain relationship', 'major battle', 'major city', 'major international', 'major league', 'make 12', 'make acquaintance', 'make advance', 'make amends', 'make bad', 'make become', 'make best', 'make bet', 'make better', 'make big', 'make business', 'make cameo', 'make chilling', 'make choice', 'make church', 'make comeback', 'make commitment', 'make connection', 'make contact', 'make daily', 'make dangerous', 'make date', 'make deal', 'make decision', 'make difference', 'make difficult', 'make documentary', 'make dream', 'make end', 'make enemy', 'make enough', 'make escape', 'make extraordinary', 'make film', 'make fortune', 'make friend', 'make fun', 'make getaway', 'make go', 'make good', 'make happy', 'make high', 'make home', 'make honest', 'make human', 'make impossible', 'make jack', 'make journey', 'make la', 'make life', 'make lifealtering', 'make little', 'make living', 'make lot', 'make love', 'make major', 'make many', 'make matter', 'make million', 'make mission', 'make money', 'make move', 'make much', 'make multiple', 'make name', 'make new', 'make one', 'make pact', 'make pay', 'make peace', 'make people', 'make perfect', 'make perilous', 'make plan', 'make possible', 'make progress', 'make public', 'make return', 'make school', 'make sense', 'make several', 'make star', 'make startling', 'make sure', 'make thing', 'make time', 'make town', 'make trip', 'make two', 'make unfortunately', 'make unlikely', 'make use', 'make video', 'make way', 'make wish', 'make world', 'make worthwhile', 'making big', 'making decision', 'making film', 'making good', 'making money', 'making round', 'making sure', 'making way', 'malcolm mcdowell', 'malcolm mclaren', 'malcolm turner', 'male coworkers', 'male dominated', 'male escort', 'male female', 'male friend', 'male lover', 'male nurse', 'male prostitution', 'male slip', 'mall security', 'malloy dream', 'mama boy', 'man accidentally', 'man accused', 'man action', 'man actually', 'man affair', 'man arm', 'man arrives', 'man attempt', 'man awakens', 'man barely', 'man becomes', 'man befriends', 'man begin', 'man belief', 'man best', 'man big', 'man body', 'man born', 'man brought', 'man carrying', 'man caused', 'man claim', 'man claiming', 'man come', 'man complete', 'man confesses', 'man convicted', 'man could', 'man daughter', 'man death', 'man decides', 'man determined', 'man died', 'man doesnt', 'man dream', 'man dy', 'man dying', 'man eddie', 'man end', 'man eventually', 'man ever', 'man everything', 'man fall', 'man family', 'man fight', 'man find', 'man first', 'man friend', 'man get', 'man given', 'man go', 'man god', 'man going', 'man gone', 'man haunted', 'man he', 'man help', 'man hired', 'man hit', 'man holiday', 'man house', 'man identity', 'man jack', 'man jimmy', 'man john', 'man kill', 'man killed', 'man killing', 'man know', 'man known', 'man land', 'man leaf', 'man left', 'man life', 'man live', 'man living', 'man look', 'man looking', 'man lost', 'man love', 'man loved', 'man machine', 'man make', 'man man', 'man meet', 'man met', 'man mike', 'man mistaken', 'man model', 'man move', 'man mr', 'man murdered', 'man must', 'man named', 'man never', 'man new', 'man obsessed', 'man old', 'man one', 'man owns', 'man past', 'man peter', 'man plagued', 'man pose', 'man power', 'man premonition', 'man present', 'man protected', 'man pull', 'man put', 'man quest', 'man really', 'man receives', 'man represents', 'man responsible', 'man return', 'man ruthlessly', 'man save', 'man search', 'man see', 'man seek', 'man seems', 'man sent', 'man set', 'man sister', 'man small', 'man sometimes', 'man star', 'man start', 'man steel', 'man stop', 'man story', 'man struggle', 'man struggling', 'man subject', 'man suffers', 'man take', 'man think', 'man time', 'man torn', 'man town', 'man trapped', 'man true', 'man try', 'man trying', 'man turn', 'man two', 'man use', 'man want', 'man who', 'man whose', 'man wife', 'man without', 'man woman', 'man word', 'man work', 'man would', 'man young', 'manage steal', 'managed escape', 'manager get', 'manager hire', 'manager malcolm', 'manages convince', 'manages escape', 'manages flee', 'manages get', 'manages make', 'maneating shark', 'maneuver way', 'manhattan apartment', 'manhattan bank', 'manhattan hotel', 'manic depressive', 'manipulate device', 'mankind battle', 'mankind last', 'manny diego', 'mansion he', 'mansion looking', 'mansion soon', 'mansion still', 'manson family', 'mantis viper', 'manual labor', 'many adventure', 'many american', 'many begin', 'many character', 'many eccentric', 'many face', 'many friend', 'many kid', 'many life', 'many love', 'many men', 'many new', 'many others', 'many people', 'many secret', 'many strange', 'many thing', 'many time', 'many way', 'many world', 'many year', 'map lead', 'marc life', 'marching band', 'marco tullio', 'marcus burnett', 'margaret thatcher', 'marigold hotel', 'marilyn monroe', 'marine biologist', 'mario van', 'marion crane', 'marital problem', 'marked death', 'market one', 'market place', 'marlon brando', 'marlowe hired', 'marquis de', 'marriage american', 'marriage begin', 'marriage convenience', 'marriage eventual', 'marriage fall', 'marriage friendship', 'marriage louis', 'marriage problem', 'marriage proposal', 'marriage son', 'marriage story', 'marriage two', 'marriage wife', 'married beautiful', 'married boyfriend', 'married couple', 'married family', 'married find', 'married life', 'married man', 'married mother', 'married woman', 'married young', 'marries beautiful', 'marries rich', 'marry beautiful', 'marry fiancée', 'marry girl', 'marry girlfriend', 'marry love', 'marry man', 'marseille france', 'marshal service', 'marthas vineyard', 'martial art', 'martial artist', 'martin family', 'martin luther', 'martin put', 'martin riggs', 'martin scorsese', 'marty gloria', 'marty meet', 'marx brother', 'mary find', 'mary haines', 'mary lou', 'mary poppins', 'mary shelley', 'maryland school', 'masked assailant', 'masked avenger', 'masked bandit', 'masked vigilante', 'masquerade male', 'mass destruction', 'mass murderer', 'massive debt', 'massive earthquake', 'massive scandal', 'master chef', 'master criminal', 'master disguise', 'master martial', 'master plan', 'master thief', 'master yoda', 'mastermind behind', 'match frank', 'match iranian', 'match three', 'match wit', 'mathematical genius', 'mathematician know', 'matt damon', 'matt dillon', 'matter become', 'matter cost', 'matter hand', 'matter much', 'matter worse', 'matthew mcconaughey', 'matthew modine', 'matthew montgomery', 'mattie ross', 'maverick detective', 'max bialystock', 'max cady', 'max max', 'maximum security', 'may able', 'may cause', 'may cost', 'may end', 'may get', 'may give', 'may go', 'may happen', 'may hold', 'may hope', 'may innocent', 'may key', 'may killed', 'may late', 'may lead', 'may lie', 'may man', 'may may', 'may met', 'may murdered', 'may never', 'may one', 'may prove', 'may responsible', 'may seem', 'may still', 'maybe little', 'mayhem ensues', 'mcclane back', 'meager supply', 'mean family', 'mean girl', 'mean losing', 'mean must', 'mean necessary', 'mean possible', 'mean street', 'mean survival', 'mean time', 'meaning life', 'meaning love', 'meaning work', 'meaningless existence', 'meanspirited neither', 'meanwhile daughter', 'meanwhile david', 'meanwhile jack', 'meanwhile life', 'meanwhile thomas', 'med student', 'medal honor', 'medfield college', 'medical community', 'medical examiner', 'medical procedure', 'medical school', 'medical student', 'medieval time', 'medium attention', 'medium circus', 'medium landscape', 'medium mogul', 'meet accident', 'meet another', 'meet archenemy', 'meet beautiful', 'meet befriends', 'meet boy', 'meet casual', 'meet chance', 'meet charming', 'meet dorothy', 'meet dream', 'meet eye', 'meet face', 'meet fall', 'meet father', 'meet first', 'meet form', 'meet friend', 'meet girl', 'meet girlfriend', 'meet group', 'meet kindred', 'meet lady', 'meet lovely', 'meet man', 'meet many', 'meet match', 'meet mysterious', 'meet new', 'meet old', 'meet one', 'meet parent', 'meet party', 'meet paula', 'meet perfect', 'meet realize', 'meet sister', 'meet spartan', 'meet spite', 'meet strange', 'meet street', 'meet summer', 'meet susan', 'meet try', 'meet two', 'meet wealthy', 'meet woman', 'meet young', 'meeting beautiful', 'meeting character', 'meeting girl', 'meeting two', 'mel gibson', 'member crew', 'member dysfunctional', 'member elite', 'member family', 'member group', 'member religious', 'member special', 'member team', 'memorable song', 'memory come', 'memory erased', 'memory find', 'memory husband', 'memory must', 'memory past', 'memory time', 'men 40', 'men around', 'men become', 'men black', 'men board', 'men charged', 'men come', 'men different', 'men ever', 'men face', 'men fall', 'men find', 'men friend', 'men get', 'men go', 'men hijack', 'men including', 'men killed', 'men know', 'men life', 'men live', 'men living', 'men love', 'men made', 'men murdered', 'men never', 'men one', 'men sent', 'men set', 'men started', 'men stop', 'men take', 'men three', 'men time', 'men try', 'men trying', 'men two', 'men whose', 'men woman', 'men young', 'mental asylum', 'mental breakdown', 'mental hospital', 'mental illness', 'mental institution', 'mental patient', 'mental state', 'mentally challenged', 'mentally disturbed', 'mentally ill', 'mentally retarded', 'mentally unstable', 'mentor dr', 'merry band', 'merry men', 'meryl streep', 'met bill', 'met man', 'met match', 'metal band', 'meteor shower', 'meteoric rise', 'method make', 'mexican border', 'mexican drug', 'mexican village', 'mexico city', 'miami beach', 'miami became', 'miami brand', 'miami florida', 'michael apted', 'michael caine', 'michael corleone', 'michael devise', 'michael douglas', 'michael fox', 'michael jackson', 'michael jai', 'michael john', 'michael jordan', 'michael keaton', 'michael meet', 'michael moore', 'michael myers', 'mick jagger', 'mid19th century', 'middle age', 'middle class', 'middle deadly', 'middle desert', 'middle east', 'middle eastern', 'middle jungle', 'middle night', 'middle nowhere', 'middle school', 'middle war', 'middleaged american', 'middleaged couple', 'middleaged man', 'middleaged widow', 'middleaged woman', 'middleclass life', 'midlife crisis', 'midnight sun', 'midsummer night', 'midwest return', 'midwestern town', 'midwesterner living', 'might able', 'might come', 'might coming', 'might different', 'might explain', 'might giant', 'might help', 'might need', 'might still', 'might way', 'mighty samurai', 'mikael blomkvist', 'mike actually', 'mike banning', 'mike dave', 'mile away', 'mile road', 'military base', 'military campaign', 'military career', 'military commander', 'military contractor', 'military dictatorship', 'military father', 'military lawyer', 'military leader', 'military might', 'military officer', 'military police', 'military school', 'military takeover', 'military training', 'millennium magazine', 'miller film', 'million cash', 'million dollar', 'million people', 'million pound', 'mind behind', 'mind heart', 'minding business', 'mine king', 'miner strike', 'mining camp', 'mining colony', 'mining company', 'mining facility', 'mining town', 'mining village', 'minion cruella', 'minister john', 'minnesota twin', 'minor event', 'minor league', 'minor problem', 'minor role', 'minorleague baseball', 'minute detail', 'miracle bought', 'miramount studio', 'miranda richardson', 'misadventure new', 'miscarriage justice', 'misgiving future', 'misguided attempt', 'miss bianca', 'miss piggy', 'missile sub', 'missing brother', 'missing child', 'missing girl', 'missing husband', 'missing life', 'missing person', 'missing search', 'missing white', 'mission becomes', 'mission capture', 'mission end', 'mission find', 'mission gather', 'mission get', 'mission go', 'mission heroic', 'mission kill', 'mission locate', 'mission mar', 'mission nearly', 'mission one', 'mission prof', 'mission retrieve', 'mission save', 'mission sent', 'mission station', 'mission take', 'mission time', 'mistaken criminal', 'mistaken identity', 'mistaken spy', 'mistakenly belief', 'mistakenly delivered', 'mistakenly end', 'mistakenly sent', 'mistakenly think', 'misty brock', 'misunderstanding involving', 'mix fiction', 'mixed emotion', 'mixed murder', 'mixed race', 'mob bos', 'mob enforcer', 'mob find', 'mob kingpin', 'mob money', 'mob murder', 'mobster named', 'modern age', 'modern day', 'modern era', 'modern life', 'modern love', 'modern retelling', 'modern society', 'modern warfare', 'modern world', 'modernday manhattan', 'mojave desert', 'molecular biologist', 'molly dream', 'molly hale', 'mom ash', 'mom dad', 'mom start', 'mom take', 'mom trying', 'moment arrives', 'moment history', 'moment time', 'moment together', 'money back', 'money buy', 'money get', 'money go', 'money he', 'money help', 'money home', 'money live', 'money make', 'money marry', 'money meanwhile', 'money new', 'money pay', 'money send', 'money shes', 'money spend', 'money start', 'money stolen', 'money take', 'money want', 'monitor move', 'monk using', 'monster alive', 'monster bed', 'monster begin', 'monster called', 'monster get', 'monstrous creature', 'monte carlo', 'month contact', 'month death', 'month later', 'month live', 'month time', 'month world', 'monty python', 'monumental task', 'moon sky', 'moose malloy', 'moral code', 'moral dilemma', 'morgan freeman', 'morgan virgil', 'morning find', 'morning show', 'morning wake', 'mortal danger', 'mortal enemy', 'mortal kombat', 'mortal life', 'mortal man', 'mortgaging land', 'mossad agent', 'mother alone', 'mother attempt', 'mother becomes', 'mother born', 'mother boyfriend', 'mother call', 'mother cant', 'mother child', 'mother claire', 'mother come', 'mother daughter', 'mother death', 'mother desperate', 'mother died', 'mother dream', 'mother dy', 'mother even', 'mother family', 'mother father', 'mother find', 'mother funeral', 'mother get', 'mother grandmother', 'mother home', 'mother insists', 'mother joyce', 'mother julie', 'mother killed', 'mother life', 'mother man', 'mother meet', 'mother mr', 'mother nature', 'mother return', 'mother slacker', 'mother son', 'mother struggle', 'mother superior', 'mother take', 'mother three', 'mother troubled', 'mother try', 'mother two', 'mother want', 'mother war', 'mother who', 'mother whose', 'mother younger', 'motion chain', 'motion picture', 'motley crew', 'motley group', 'motorcycle club', 'motorcycle gang', 'mountain man', 'mountain plain', 'mountain retreat', 'mountain town', 'mountain village', 'mouse game', 'mouse named', 'move apartment', 'move away', 'move back', 'move big', 'move chicago', 'move city', 'move country', 'move england', 'move europe', 'move family', 'move find', 'move forward', 'move girlfriend', 'move keep', 'move late', 'move life', 'move los', 'move make', 'move new', 'move next', 'move object', 'move old', 'move rural', 'move san', 'move small', 'move suburban', 'move suspicious', 'move take', 'move thing', 'move together', 'move two', 'move wife', 'moved away', 'moved back', 'moved new', 'moved next', 'movie actor', 'movie based', 'movie became', 'movie begin', 'movie buff', 'movie character', 'movie chronicle', 'movie cover', 'movie date', 'movie director', 'movie explores', 'movie fall', 'movie focus', 'movie follows', 'movie genre', 'movie history', 'movie like', 'movie making', 'movie meet', 'movie one', 'movie producer', 'movie protagonist', 'movie set', 'movie show', 'movie special', 'movie star', 'movie studio', 'movie take', 'movie tell', 'movie theater', 'movie time', 'movie tv', 'movie two', 'movie village', 'moving around', 'moving drama', 'moving forward', 'moving hostility', 'moving look', 'moving meditation', 'moving picture', 'moving place', 'moving tale', 'mr baker', 'mr bennet', 'mr big', 'mr church', 'mr darcy', 'mr hyde', 'mr jones', 'mr miyagi', 'mr mr', 'mr right', 'mr white', 'much awarded', 'much chagrin', 'much common', 'much consternation', 'much disapproval', 'much displeasure', 'much film', 'much help', 'much le', 'much like', 'much love', 'much money', 'much much', 'much needed', 'much older', 'much reveal', 'much sex', 'much sinister', 'much surprise', 'much time', 'much younger', 'muchneeded boost', 'mulder scully', 'multimillion dollar', 'multinational corporation', 'multiple personality', 'multiple role', 'mummy kharis', 'mundane life', 'murder case', 'murder cash', 'murder committed', 'murder cop', 'murder father', 'murder find', 'murder first', 'murder investigation', 'murder involving', 'murder lead', 'murder local', 'murder man', 'murder must', 'murder mystery', 'murder never', 'murder new', 'murder occurred', 'murder occurs', 'murder one', 'murder others', 'murder plan', 'murder plot', 'murder rich', 'murder robbery', 'murder soon', 'murder sorority', 'murder suspect', 'murder take', 'murder three', 'murder trial', 'murder two', 'murder victim', 'murder weapon', 'murder wife', 'murder woman', 'murder young', 'murdered assigned', 'murdered father', 'murdered friend', 'murdered man', 'murdered mysterious', 'murdered one', 'murdered parent', 'murdered soon', 'murdered vow', 'murdered wife', 'murdering family', 'murdering husband', 'murdering wife', 'murderous action', 'murderous hunt', 'murphy seems', 'murphy star', 'museum night', 'music also', 'music art', 'music become', 'music business', 'music culture', 'music festival', 'music hall', 'music industry', 'music journalist', 'music legend', 'music meet', 'music one', 'music program', 'music scene', 'music store', 'music take', 'music teacher', 'music time', 'music video', 'music world', 'musical based', 'musical comedy', 'musical instrument', 'musical legend', 'musical number', 'musical prodigy', 'musical remake', 'musical star', 'musical work', 'musician find', 'musician life', 'musician play', 'musician witness', 'must adapt', 'must also', 'must ask', 'must attempt', 'must balance', 'must band', 'must battle', 'must become', 'must call', 'must change', 'must choose', 'must clear', 'must come', 'must compete', 'must complete', 'must confront', 'must contend', 'must convince', 'must cope', 'must deal', 'must decide', 'must defeat', 'must defend', 'must deliver', 'must die', 'must discover', 'must elude', 'must embark', 'must escape', 'must evade', 'must face', 'must fend', 'must fight', 'must figure', 'must finally', 'must find', 'must first', 'must flee', 'must follow', 'must get', 'must give', 'must go', 'must help', 'must hide', 'must investigate', 'must join', 'must keep', 'must kill', 'must lead', 'must learn', 'must leave', 'must live', 'must make', 'must marry', 'must navigate', 'must negotiate', 'must outwit', 'must overcome', 'must play', 'must protect', 'must prove', 'must pull', 'must put', 'must quickly', 'must race', 'must relive', 'must rely', 'must remain', 'must rescue', 'must return', 'must risk', 'must save', 'must scramble', 'must search', 'must sell', 'must send', 'must set', 'must solve', 'must somehow', 'must soon', 'must stay', 'must stop', 'must struggle', 'must survive', 'must take', 'must talk', 'must team', 'must thwart', 'must track', 'must travel', 'must try', 'must turn', 'must unite', 'must use', 'must work', 'mutant child', 'mutant ninja', 'mutilated corpse', 'mutual attraction', 'mutual love', 'myrtle beach', 'mysterious accident', 'mysterious alien', 'mysterious beast', 'mysterious beautiful', 'mysterious beauty', 'mysterious black', 'mysterious book', 'mysterious box', 'mysterious circumstance', 'mysterious creature', 'mysterious crop', 'mysterious death', 'mysterious disappearance', 'mysterious doctor', 'mysterious dr', 'mysterious drifter', 'mysterious figure', 'mysterious force', 'mysterious girl', 'mysterious illness', 'mysterious killer', 'mysterious love', 'mysterious man', 'mysterious murder', 'mysterious new', 'mysterious package', 'mysterious past', 'mysterious power', 'mysterious skull', 'mysterious stranger', 'mysterious suicide', 'mysterious voice', 'mysterious woman', 'mysterious young', 'mysteriously appears', 'mysteriously disappears', 'mysteriously murdered', 'mysteriously start', 'mystery could', 'mystery inc', 'mystery involving', 'mystery molly', 'mystery surrounding', 'mystical power', 'mythical city', 'mythical status', 'nagging wife', 'naive college', 'naive midwesterner', 'naive young', 'naked gun', 'name father', 'name framed', 'name joe', 'name religion', 'named alex', 'named apu', 'named billy', 'named buddy', 'named calvin', 'named charlie', 'named count', 'named david', 'named elliott', 'named flipper', 'named howard', 'named jack', 'named john', 'named king', 'named max', 'named mr', 'named robert', 'named rose', 'named rufus', 'nana guileless', 'napoleonic war', 'narcotic detective', 'narcotic trade', 'narrates story', 'narrow escape', 'narrowly escaping', 'nasa scientist', 'nastassja kinski', 'nation begin', 'nation panem', 'national basketball', 'national championship', 'national competition', 'national congress', 'national convention', 'national guard', 'national hero', 'national lampoon', 'national security', 'national spelling', 'nationally televised', 'native american', 'native land', 'natural gas', 'natural history', 'natural resource', 'nature beauty', 'nature documentary', 'nature relationship', 'nature take', 'naval academy', 'naval commander', 'naval intelligence', 'naval officer', 'navy seal', 'nazi air', 'nazi germany', 'nazi occupation', 'nazi occupied', 'nazi regime', 'nazi war', 'nazi world', 'near death', 'near earth', 'near end', 'near future', 'nearby small', 'nearby town', 'nearby village', 'neardeath experience', 'nearly 20', 'nearly destroyed', 'nearly hour', 'nearly impossible', 'nearly killed', 'nearly wordless', 'necessary deal', 'necessity life', 'need child', 'need find', 'need get', 'need go', 'need help', 'need home', 'need job', 'need lot', 'need make', 'need money', 'need new', 'need place', 'need quick', 'need save', 'need security', 'needed new', 'needle say', 'neglectful parent', 'neighbor count', 'neighbor eric', 'neighbor he', 'neighbor help', 'neighbor kid', 'neighbor nouveau', 'neighbor one', 'neighborhood beautiful', 'neighborhood boy', 'neighborhood bully', 'neighborhood come', 'neighborhood live', 'neighborhood world', 'neighbour cop', 'neil diamond', 'neil simon', 'neil young', 'neither cook', 'neither ever', 'neither man', 'neither particularly', 'nelson mandela', 'neonazi group', 'nerdy high', 'nerdy teen', 'nerdy teenager', 'nervous breakdown', 'never adopted', 'never could', 'never done', 'never existed', 'never expected', 'never felt', 'never forget', 'never found', 'never fully', 'never get', 'never gotten', 'never happen', 'never heard', 'never knew', 'never know', 'never known', 'never land', 'never left', 'never made', 'never meet', 'never met', 'never opportunity', 'never quite', 'never really', 'never return', 'never saw', 'never sculpt', 'never see', 'never seen', 'never thought', 'never told', 'new ability', 'new addition', 'new ally', 'new apprentice', 'new army', 'new assignment', 'new baby', 'new batch', 'new beau', 'new best', 'new blood', 'new bos', 'new boyfriend', 'new breed', 'new bride', 'new business', 'new career', 'new character', 'new child', 'new city', 'new clothes', 'new coach', 'new connection', 'new contract', 'new crew', 'new criminal', 'new dance', 'new drug', 'new employee', 'new enemy', 'new england', 'new environment', 'new era', 'new experience', 'new eye', 'new facade', 'new face', 'new family', 'new father', 'new feature', 'new feeling', 'new film', 'new footage', 'new form', 'new found', 'new friend', 'new game', 'new generation', 'new girl', 'new girlfriend', 'new guy', 'new hampshire', 'new head', 'new height', 'new high', 'new holiday', 'new home', 'new house', 'new husband', 'new ice', 'new idea', 'new identity', 'new interview', 'new jersey', 'new job', 'new kid', 'new kind', 'new lady', 'new lead', 'new lease', 'new life', 'new lodger', 'new look', 'new love', 'new lover', 'new manager', 'new meaning', 'new member', 'new mexico', 'new neighbor', 'new neighborhood', 'new neighbour', 'new nemesis', 'new one', 'new orleans', 'new owner', 'new parent', 'new partner', 'new patient', 'new plan', 'new planet', 'new play', 'new player', 'new possibility', 'new power', 'new profession', 'new purpose', 'new reality', 'new recruit', 'new relationship', 'new republic', 'new restaurant', 'new role', 'new romance', 'new san', 'new school', 'new set', 'new sheriff', 'new show', 'new son', 'new song', 'new south', 'new specie', 'new start', 'new student', 'new surroundings', 'new teacher', 'new team', 'new thing', 'new threat', 'new town', 'new type', 'new underground', 'new victim', 'new wave', 'new way', 'new wife', 'new woman', 'new world', 'new year', 'new york', 'new yorkbased', 'new yorker', 'new yorkers', 'new zealand', 'newark new', 'newborn baby', 'newborn child', 'newcomer town', 'newfound confidence', 'newfound power', 'newly acquired', 'newly appointed', 'newly arrived', 'newly developed', 'newly discovered', 'newly divorced', 'newly elected', 'newly inherited', 'newly married', 'newly single', 'newlywed couple', 'news daughter', 'news footage', 'news producer', 'news report', 'news story', 'newspaper editor', 'newspaper photographer', 'newspaper reporter', 'next 28', 'next act', 'next big', 'next day', 'next door', 'next great', 'next level', 'next man', 'next morning', 'next move', 'next one', 'next target', 'next two', 'next victim', 'next year', 'nextdoor neighbor', 'nice guy', 'nice young', 'nick band', 'nick broomfield', 'nick carraway', 'nick get', 'nick nolte', 'nick nora', 'nick offer', 'nick park', 'nicolas cage', 'nicolas roeg', 'nicole kidman', 'niece jamie', 'niece nephew', 'night approach', 'night chuck', 'night club', 'night cruising', 'night dancing', 'night dream', 'night drinking', 'night fever', 'night go', 'night group', 'night haunted', 'night he', 'night house', 'night however', 'night lead', 'night life', 'night live', 'night local', 'night man', 'night meet', 'night next', 'night paris', 'night porter', 'night progress', 'night san', 'night school', 'night shift', 'night stand', 'night take', 'night time', 'night together', 'night town', 'night tv', 'night wake', 'night watch', 'night watchman', 'nightclub manager', 'nightclub one', 'nightclub owner', 'nightclub singer', 'nightmare plague', 'nightmarish world', 'nine story', 'nine year', 'nineteenth century', 'ninety minute', 'nineyearold boy', 'ninth legion', 'nobody belief', 'nobody want', 'nome alaska', 'nominated best', 'nomination best', 'nominee best', 'none want', 'normal 10yearold', 'normal family', 'normal life', 'norman bates', 'north africa', 'north america', 'north american', 'north carolina', 'north korea', 'north korean', 'north london', 'north pole', 'north south', 'northern california', 'northern england', 'northern florida', 'nothing compared', 'nothing even', 'nothing ever', 'nothing get', 'nothing go', 'nothing help', 'nothing le', 'nothing left', 'nothing lose', 'nothing seems', 'nothing short', 'nothing stop', 'notorious criminal', 'notorious gang', 'notorious killer', 'notorious serial', 'notorious terrorist', 'notorious womanizer', 'nottoodistant future', 'nouveau riche', 'novel david', 'novel james', 'novel le', 'novel name', 'novel richard', 'novel soon', 'nowhere else', 'nowhere found', 'nowhere go', 'nuclear attack', 'nuclear blackmail', 'nuclear bomb', 'nuclear device', 'nuclear holocaust', 'nuclear launch', 'nuclear missile', 'nuclear power', 'nuclear submarine', 'nuclear war', 'nuclear weapon', 'number one', 'number two', 'nurse back', 'nurse catherine', 'nursing home', 'nypd cop', 'nypd detective', 'oakland california', 'obiwan kenobi', 'object affection', 'obsessed female', 'obsessed finding', 'obsessed restoring', 'obsessed sexual', 'obsession spiral', 'obsession tragedy', 'obsessive quest', 'obsessive search', 'obstacle relationship', 'occupational hazard', 'occupy time', 'occurred life', 'ocean floor', 'ocean liner', 'ocean team', 'october 31', 'odd couple', 'odd occurrence', 'odd wristwatch', 'odds find', 'odds one', 'odds stacked', 'offbeat romantic', 'offer bring', 'offer cant', 'offer help', 'offer service', 'offering service', 'office worker', 'officer assigned', 'officer come', 'officer determined', 'officer frank', 'officer named', 'officer struggle', 'officer turned', 'often cruel', 'often get', 'often lead', 'ogre giant', 'oil company', 'oil field', 'oil rig', 'oil spill', 'oil tycoon', 'oil well', 'oklahoma territory', 'old acquaintance', 'old age', 'old book', 'old boy', 'old brother', 'old child', 'old childhood', 'old colleague', 'old college', 'old daughter', 'old day', 'old family', 'old film', 'old flame', 'old friend', 'old gang', 'old gentleman', 'old girl', 'old girlfriend', 'old habit', 'old high', 'old hollywood', 'old house', 'old jewish', 'old job', 'old king', 'old lady', 'old life', 'old maid', 'old man', 'old mansion', 'old men', 'old mother', 'old movie', 'old neighborhood', 'old nemesis', 'old one', 'old pal', 'old partner', 'old people', 'old retired', 'old rival', 'old school', 'old score', 'old sister', 'old son', 'old stomping', 'old teacher', 'old trick', 'old west', 'old whose', 'old wilderness', 'old wise', 'old woman', 'older boy', 'older brother', 'older man', 'older much', 'older sister', 'older woman', 'oliver twist', 'olivia de', 'olivia find', 'olympic game', 'olympic gold', 'omar epps', 'omni consumer', 'oncoming subway', 'one agent', 'one always', 'one ambitious', 'one america', 'one american', 'one another', 'one anothers', 'one archaeologist', 'one attacker', 'one becomes', 'one belief', 'one best', 'one big', 'one biggest', 'one bit', 'one boy', 'one brother', 'one caught', 'one chance', 'one christmas', 'one city', 'one client', 'one come', 'one concert', 'one cop', 'one could', 'one country', 'one dangerous', 'one daughter', 'one day', 'one discover', 'one dream', 'one dy', 'one else', 'one employee', 'one end', 'one escape', 'one even', 'one evening', 'one event', 'one fall', 'one family', 'one famous', 'one fateful', 'one final', 'one find', 'one first', 'one former', 'one found', 'one friend', 'one gang', 'one girl', 'one give', 'one go', 'one goal', 'one great', 'one greatest', 'one group', 'one guest', 'one hand', 'one happens', 'one help', 'one hero', 'one high', 'one hit', 'one hollywood', 'one hot', 'one however', 'one husband', 'one including', 'one last', 'one leader', 'one left', 'one life', 'one little', 'one look', 'one main', 'one major', 'one making', 'one man', 'one many', 'one men', 'one month', 'one morning', 'one new', 'one night', 'one old', 'one one', 'one order', 'one passenger', 'one person', 'one petty', 'one pioneer', 'one popular', 'one powerful', 'one privacy', 'one problem', 'one question', 'one rich', 'one ring', 'one roman', 'one room', 'one rule', 'one run', 'one safe', 'one scene', 'one seems', 'one servant', 'one set', 'one several', 'one shocking', 'one show', 'one side', 'one sister', 'one small', 'one son', 'one south', 'one step', 'one stormy', 'one story', 'one student', 'one successful', 'one summer', 'one survivor', 'one suspect', 'one sympathetic', 'one take', 'one teacher', 'one thing', 'one thousand', 'one three', 'one time', 'one tiny', 'one took', 'one town', 'one truck', 'one true', 'one try', 'one turn', 'one two', 'one unusual', 'one victim', 'one violent', 'one want', 'one way', 'one week', 'one weekend', 'one wellknown', 'one wife', 'one wish', 'one woman', 'one world', 'one would', 'one year', 'one young', 'onenight stand', 'online game', 'onto street', 'open city', 'open door', 'open eye', 'open family', 'open private', 'open restaurant', 'open road', 'open sea', 'opening credit', 'opening night', 'opening scene', 'openly gay', 'opera graciously', 'opera granted', 'opera house', 'opera however', 'opera singer', 'operating table', 'operation forced', 'operation take', 'operative barris', 'operative bryan', 'opportunity alex', 'opportunity escape', 'opportunity get', 'opportunity lifetime', 'opportunity spend', 'opposing side', 'opposite background', 'opposite definitely', 'opposite sex', 'opposite side', 'oppressive government', 'oppressive regime', 'orbit around', 'order accomplish', 'order become', 'order begin', 'order build', 'order clear', 'order escape', 'order fall', 'order find', 'order force', 'order gain', 'order get', 'order help', 'order improve', 'order keep', 'order kill', 'order learn', 'order make', 'order meet', 'order plant', 'order preserve', 'order prevent', 'order protect', 'order rob', 'order save', 'order see', 'order solve', 'order stay', 'order survive', 'order take', 'order three', 'order win', 'ordered life', 'ordinary american', 'ordinary day', 'ordinary life', 'ordinary man', 'ordinary suburbanite', 'organization he', 'organization known', 'organization set', 'organize party', 'organized crime', 'origin story', 'original film', 'original godzilla', 'original group', 'original owner', 'original screenplay', 'originally released', 'orleans police', 'orphan boy', 'orphan girl', 'orphan run', 'orphaned girl', 'oscar best', 'oscar nominee', 'oscar wilde', 'oscar winning', 'oscarwinning film', 'oskar schindler', 'others company', 'others find', 'others life', 'others like', 'others nerve', 'others prepare', 'otherwise known', 'otis sister', 'ottoman empire', 'outcast brother', 'outer space', 'outlook life', 'outofwork actor', 'outrageous stunt', 'outrageously funny', 'outside eastern', 'outside marriage', 'outside nothing', 'outside one', 'outside ring', 'outside world', 'outskirt town', 'overcome difference', 'overcome grief', 'overcome hardship', 'overcome personal', 'overeducated underemployed', 'overly ambitious', 'overnight sensation', 'overprotective mother', 'oversized ear', 'overview found', 'overwhelming odds', 'owes money', 'owned former', 'owner camp', 'owner daughter', 'owner find', 'owner forced', 'owner george', 'owner get', 'owner must', 'owner rival', 'owner ruthless', 'owner want', 'pacific island', 'pacific northwest', 'pacific ocean', 'pacific world', 'pact devil', 'pain pleasure', 'pain suffering', 'painful breakup', 'painful choice', 'painful past', 'painfully shy', 'pair begin', 'pair decide', 'pair must', 'pair soon', 'pair stumble', 'pal doc', 'pal one', 'palestinian terrorist', 'pandora box', 'panther diamond', 'parallel story', 'parallel world', 'paranoia distrust', 'parent along', 'parent arrive', 'parent away', 'parent back', 'parent best', 'parent boy', 'parent come', 'parent death', 'parent decide', 'parent die', 'parent divorce', 'parent find', 'parent get', 'parent girl', 'parent give', 'parent hire', 'parent home', 'parent house', 'parent killed', 'parent learn', 'parent life', 'parent many', 'parent murder', 'parent must', 'parent send', 'parent sister', 'parent sweet', 'parent teacher', 'parent three', 'parent try', 'parent want', 'parent young', 'paris becomes', 'paris find', 'paris france', 'paris hotel', 'paris ingenue', 'paris meet', 'paris opera', 'paris parlaying', 'paris two', 'paris young', 'parisian opera', 'parisian woman', 'park find', 'park ranger', 'parlaying house', 'part act', 'part chinese', 'part congress', 'part deal', 'part documentary', 'part fact', 'part family', 'part life', 'part new', 'part one', 'part plan', 'part plot', 'part resistance', 'part time', 'part traveling', 'particularly happy', 'particularly well', 'partner cocky', 'partner crime', 'partner friend', 'partner killed', 'partner murder', 'partner robin', 'partner working', 'party animal', 'party eventually', 'party find', 'party four', 'party friend', 'party girl', 'party guest', 'party help', 'party home', 'party however', 'party la', 'party lead', 'party scene', 'pass away', 'passed away', 'passed promotion', 'passed since', 'passenger ship', 'passion art', 'passion cooking', 'passion event', 'passion life', 'passion old', 'passionate affair', 'passionate love', 'passionate romance', 'passionately love', 'past begin', 'past behind', 'past come', 'past family', 'past four', 'past friend', 'past future', 'past hold', 'past including', 'past lavish', 'past new', 'past present', 'past prime', 'past reach', 'past return', 'past revealed', 'past threatens', 'past two', 'past well', 'pat garrett', 'patch adam', 'paternal grandfather', 'path cross', 'path destruction', 'path life', 'path several', 'path though', 'patient mental', 'patricia arquette', 'paul blart', 'paul claudel', 'paul experience', 'paul find', 'paul giamatti', 'paul kersey', 'paul mccartney', 'paul muni', 'paul vitti', 'paving way', 'pawn shop', 'pay back', 'pay bill', 'pay debt', 'pay gambling', 'pay local', 'pay lover', 'pay price', 'pay tribute', 'pay unfortunately', 'pay visit', 'peace balance', 'peace harmony', 'peace mind', 'peaceful existence', 'peaceful life', 'peaceful town', 'pearl harbor', 'peasant girl', 'peephole recount', 'peer pressure', 'peewee herman', 'pen ensure', 'pen pal', 'penal system', 'people around', 'people believe', 'people brought', 'people city', 'people come', 'people die', 'people different', 'people earth', 'people encounter', 'people event', 'people everywhere', 'people film', 'people find', 'people involved', 'people knew', 'people know', 'people konrads', 'people life', 'people live', 'people living', 'people love', 'people made', 'people meet', 'people must', 'people one', 'people pay', 'people place', 'people real', 'people remember', 'people see', 'people set', 'people slowly', 'people small', 'people start', 'people stop', 'people suffering', 'people survive', 'people trail', 'people trapped', 'people try', 'people trying', 'people want', 'per year', 'perfect christmas', 'perfect couple', 'perfect crime', 'perfect example', 'perfect excuse', 'perfect guy', 'perfect life', 'perfect man', 'perfect mate', 'perfect relationship', 'perfect stranger', 'perfect woman', 'perfectionist always', 'performance footage', 'performing art', 'performs duty', 'perhaps even', 'perhaps world', 'perilous journey', 'period day', 'perpetually stoned', 'person alive', 'person become', 'person behind', 'person got', 'person left', 'person life', 'personal ad', 'personal battle', 'personal crisis', 'personal feeling', 'personal freedom', 'personal journey', 'personal life', 'personal memory', 'personal portrait', 'personal problem', 'personal professional', 'personal story', 'personal tragedy', 'personal trainer', 'personality crisis', 'personality disorder', 'personality seems', 'perspective story', 'pervert guide', 'pet cat', 'pet cemetery', 'pet chimpanzee', 'pet shop', 'pete also', 'peter fonda', 'peter get', 'peter new', 'peter pan', 'peter parker', 'peter seller', 'petty crime', 'petty criminal', 'petty crook', 'petty thief', 'phantom know', 'phantom unknown', 'pharmaceutical company', 'phelps family', 'phenomenal success', 'phil spector', 'philip marlowe', 'philippe petits', 'philosophy life', 'phone call', 'phone sex', 'phonetics professor', 'photographer named', 'photographer robert', 'photographer two', 'photography includes', 'physical contact', 'physical emotional', 'physical form', 'physical mental', 'physical spiritual', 'physician dr', 'piano player', 'piano prodigy', 'piano teacher', 'picard crew', 'pick piece', 'pick two', 'pickup truck', 'picture best', 'picture perfect', 'piece land', 'piece together', 'piecing together', 'pig named', 'pig scared', 'pig time', 'pikachu rest', 'pilot shot', 'pilot whose', 'pilot wife', 'pin hope', 'pink panther', 'pirate blackbeard', 'pirate captain', 'pirate ship', 'pit british', 'pit man', 'pitted force', 'pivotal role', 'pizza delivery', 'place bet', 'place called', 'place curse', 'place demon', 'place earth', 'place heart', 'place hide', 'place history', 'place new', 'place place', 'place sent', 'place small', 'place stay', 'place world', 'place year', 'placed house', 'plan backfire', 'plan becoming', 'plan begin', 'plan build', 'plan capture', 'plan charlotte', 'plan could', 'plan daring', 'plan destroy', 'plan devised', 'plan eight', 'plan escape', 'plan fails', 'plan find', 'plan future', 'plan get', 'plan go', 'plan he', 'plan heist', 'plan help', 'plan however', 'plan lure', 'plan make', 'plan marry', 'plan motion', 'plan murder', 'plan one', 'plan perfect', 'plan revenge', 'plan rid', 'plan rob', 'plan robbery', 'plan save', 'plan show', 'plan soon', 'plan steal', 'plan stop', 'plan take', 'plan turn', 'plan use', 'plan win', 'plane carrying', 'plane crash', 'plane go', 'planet alien', 'planet ape', 'planet express', 'planet people', 'planning next', 'plastic surgeon', 'platonic friend', 'play american', 'play boy', 'play cat', 'play game', 'play german', 'play lead', 'play matchmaker', 'play multiple', 'play music', 'play name', 'play opening', 'play part', 'play police', 'play role', 'play rule', 'play sadistic', 'play school', 'play two', 'play young', 'player becomes', 'player team', 'playing card', 'playing game', 'playing music', 'playing rule', 'playing safe', 'playing version', 'pleads help', 'plenty laugh', 'plenty trouble', 'plot assassinate', 'plot destroy', 'plot follows', 'plot involves', 'plot involving', 'plot kill', 'plot make', 'plot overthrow', 'plot revenge', 'plot seize', 'plot steal', 'plot story', 'plot take', 'plot turn', 'plot twist', 'plot vengeance', 'plot wind', 'plotting kill', 'plotting rob', 'plunge deep', 'poet playwright', 'poetic journey', 'poetry class', 'poetry teacher', 'point return', 'point suicide', 'point view', 'poker game', 'poker protégé', 'poking around', 'pokéball called', 'pokémon 4ever', 'pokémon adventure', 'pokémon capture', 'pokémon celebi', 'pokémon character', 'pokémon hunter', 'polar bear', 'polar ice', 'polar opposite', 'police academy', 'police arent', 'police arrive', 'police believe', 'police cadet', 'police captain', 'police chief', 'police corruption', 'police criminal', 'police custody', 'police department', 'police detective', 'police find', 'police force', 'police get', 'police ignore', 'police informant', 'police inspector', 'police investigation', 'police investigator', 'police lieutenant', 'police local', 'police mob', 'police officer', 'police politician', 'police psychologist', 'police sergeant', 'police stasi', 'police station', 'police work', 'policeman given', 'policeman must', 'policeman try', 'polish immigrant', 'political activism', 'political activist', 'political belief', 'political bos', 'political campaign', 'political intrigue', 'political leader', 'political party', 'political police', 'political prisoner', 'political social', 'political thriller', 'political turmoil', 'politically correct', 'politically incorrect', 'pooh piglet', 'pool hall', 'pool hustler', 'poor family', 'poor french', 'poor grade', 'poor workingclass', 'poor young', 'pop band', 'pop culture', 'pop idol', 'pop music', 'pop question', 'pop star', 'popular beautiful', 'popular courtesan', 'popular culture', 'popular film', 'popular girl', 'popular guy', 'popular high', 'popular kid', 'popular music', 'popular school', 'popular video', 'porn industry', 'porn star', 'porno film', 'porter hotel', 'porthos aramis', 'portland oregon', 'portrait artist', 'portrait brilliant', 'portrait contemporary', 'portrait emerge', 'portrait photographer', 'poseidon adventure', 'posse body', 'posse pokéball', 'possessed soul', 'possession strange', 'post office', 'post reporter', 'postapocalyptic future', 'postapocalyptic world', 'posttraumatic stress', 'postwar berlin', 'postwar germany', 'postwar life', 'postwar vienna', 'potential victim', 'potentially deadly', 'potter find', 'poverty fame', 'poverty firsthand', 'pow camp', 'power ancient', 'power chance', 'power change', 'power game', 'power go', 'power heal', 'power help', 'power plant', 'power ranger', 'power shape', 'power slowly', 'power soon', 'power struggle', 'power supply', 'power time', 'power world', 'powerful drug', 'powerful enemy', 'powerful family', 'powerful force', 'powerful government', 'powerful local', 'powerful men', 'powerful people', 'powerful psychic', 'powerful story', 'powerful woman', 'preacher start', 'precious commodity', 'precocious child', 'precocious young', 'predicament find', 'predictable life', 'pregnant boyfriend', 'pregnant child', 'pregnant mother', 'pregnant wife', 'pregnant woman', 'prehistoric creature', 'prehistoric man', 'premed student', 'premonition deadly', 'prep school', 'prepare take', 'prepares another', 'present day', 'present first', 'present future', 'presented opportunity', 'preserving digital', 'preserving one', 'president bush', 'president daughter', 'president john', 'president kennedy', 'president lincoln', 'president richard', 'president snow', 'president united', 'presidential campaign', 'presidential election', 'presidential race', 'pressure around', 'pressure mount', 'prestigious prep', 'prestigious university', 'presumed dead', 'pretty girl', 'pretty good', 'pretty much', 'pretty young', 'preunified china', 'prevent destruction', 'prevent global', 'prevent nuclear', 'prevent rich', 'prevent war', 'prevent world', 'previous film', 'previous owner', 'previous tenant', 'previous year', 'previously thought', 'prey family', 'prey murderous', 'price paid', 'pride prejudice', 'priest father', 'prim proper', 'primary school', 'prime minister', 'prime suspect', 'prime target', 'prince back', 'prince denmark', 'prince edward', 'princess ananka', 'princess bride', 'princess jasmine', 'princess leia', 'princess odette', 'princess prince', 'princess return', 'princess rise', 'princeton university', 'prinze jr', 'prison break', 'prison camp', 'prison cell', 'prison experience', 'prison farm', 'prison find', 'prison framed', 'prison get', 'prison guard', 'prison help', 'prison lead', 'prison life', 'prison next', 'prison one', 'prison seek', 'prison seems', 'prison sentence', 'prison serving', 'prison six', 'prison together', 'prison work', 'prisoner escape', 'prisoner exchange', 'prisoner named', 'prisoner war', 'privacy ideal', 'private corporation', 'private detective', 'private eye', 'private investigator', 'private life', 'private school', 'private secret', 'private tragedy', 'privilege carriere', 'prize money', 'prize winner', 'prized possession', 'pro baseball', 'pro player', 'pro quarterback', 'pro tennis', 'problem alcohol', 'problem arise', 'problem come', 'problem death', 'problem family', 'problem go', 'problem he', 'problem including', 'problem must', 'problem one', 'problem rat', 'problem solve', 'problem threat', 'problem wife', 'procedure go', 'process disintegration', 'process end', 'process film', 'process return', 'processing plant', 'producer became', 'producer day', 'producer find', 'producer jack', 'producer john', 'producer max', 'producer who', 'production company', 'production hamlet', 'production value', 'prof much', 'professional assassin', 'professional athlete', 'professional dancer', 'professional football', 'professional gambler', 'professional hit', 'professional killer', 'professional life', 'professional personal', 'professional photographer', 'professional student', 'professor brainard', 'professor literature', 'professor michael', 'professor return', 'professor robert', 'profiled documentary', 'program must', 'program one', 'program thing', 'prohibitionera chicago', 'project known', 'prom queen', 'prominent businessman', 'promise get', 'promise made', 'promise never', 'promise pay', 'promising career', 'promising future', 'promising high', 'promising new', 'promising young', 'promote latest', 'propaganda film', 'property developer', 'proposal boyfriend', 'proposal marriage', 'prostitute sister', 'protect along', 'protect beautiful', 'protect child', 'protect city', 'protect clan', 'protect family', 'protect new', 'protect planet', 'protection agency', 'protection program', 'protest movement', 'protégé toughest', 'proud father', 'prove fatal', 'prove father', 'prove he', 'prove innocence', 'prove innocent', 'prove skeptical', 'prove theory', 'prove world', 'prove worth', 'providence rhode', 'psychiatric hospital', 'psychiatric patient', 'psychiatric ward', 'psychiatrist dr', 'psychic ability', 'psychic power', 'psychological effect', 'psychological thriller', 'psychopathic killer', 'psychotic killer', 'psychotic young', 'public defender', 'public display', 'public eye', 'public opinion', 'public relation', 'public school', 'publicity stunt', 'puerto rican', 'pulitzer prize', 'pulitzer prizewinning', 'pull apart', 'pull heist', 'pull new', 'pull world', 'pulled apart', 'pulled away', 'pulled town', 'pulled two', 'pulled world', 'pulp fiction', 'punishable death', 'punk dead', 'punk music', 'punk rock', 'puppet master', 'puppet pinocchio', 'puppy abducted', 'puppy love', 'purge night', 'pursue career', 'pursue dream', 'pursue killer', 'pursued armed', 'pursued two', 'pursues relationship', 'pursuing team', 'pursuit serial', 'push boundary', 'push limit', 'pushed edge', 'pushed limit', 'pushing boundary', 'put aside', 'put away', 'put behind', 'put charge', 'put city', 'put contract', 'put end', 'put everything', 'put head', 'put hold', 'put jail', 'put life', 'put love', 'put new', 'put newfound', 'put one', 'put prison', 'put show', 'put soul', 'put stop', 'put test', 'put thing', 'put together', 'put training', 'put trial', 'put two', 'put ultimate', 'put world', 'putting end', 'putting life', 'putting together', 'quaid discovers', 'quartermain lead', 'queen elizabeth', 'queen latifah', 'queen new', 'queen victoria', 'queen want', 'quest find', 'quest get', 'quest justice', 'quest lead', 'quest reclaim', 'quest revenge', 'quest save', 'quest stop', 'quest take', 'question answered', 'question important', 'question life', 'question relationship', 'question sanity', 'question whether', 'quick cash', 'quick trip', 'quickly become', 'quickly becomes', 'quickly begin', 'quickly discover', 'quickly discovers', 'quickly fall', 'quickly find', 'quickly learning', 'quickly learns', 'quickly make', 'quickly move', 'quickly realizes', 'quickly show', 'quickly turn', 'quickwitted beautiful', 'quiet life', 'quincy adam', 'quirky comedy', 'quit job', 'quite different', 'quite get', 'quite know', 'quite like', 'quite literally', 'quite seems', 'quite sure', 'quite work', 'quits job', 'quiz show', 'rabbit piglet', 'race across', 'race alien', 'race back', 'race begin', 'race car', 'race class', 'race find', 'race horse', 'race must', 'race new', 'race relation', 'race set', 'race stay', 'race time', 'race try', 'racecar driver', 'rachel keller', 'rachel must', 'rachel phelps', 'racial line', 'racial tension', 'racing time', 'radical activist', 'radio announcer', 'radio host', 'radio personality', 'radio show', 'radio station', 'rage academy', 'ragtag crew', 'ragtag group', 'ragtag team', 'raider lost', 'rail yard', 'rainer werner', 'raise cash', 'raise child', 'raise fund', 'raise hell', 'raise money', 'raise question', 'raise son', 'raise stake', 'raise suspicion', 'raise two', 'raised father', 'raised indian', 'raised single', 'raised wild', 'raising child', 'raising family', 'rally team', 'rampage revenge', 'ran away', 'ranch hand', 'rancher family', 'rancher trying', 'rap group', 'rap music', 'rape murder', 'rape trial', 'raped murdered', 'rapidly becomes', 'rapidly deteriorates', 'rare archival', 'rare footage', 'rare sensitivity', 'rarely seen', 'rarified world', 'rath arrives', 'rather evil', 'rather quiet', 'rather unusual', 'raucous night', 'raunchy comedy', 'ray liotta', 'ray ray', 'raymond burr', 'raymond chandler', 'reach destination', 'reach new', 'react situation', 'read book', 'ready die', 'ready father', 'ready give', 'ready go', 'ready take', 'real boy', 'real case', 'real estate', 'real event', 'real fact', 'real father', 'real friend', 'real fun', 'real identity', 'real killer', 'real life', 'real love', 'real murderer', 'real name', 'real one', 'real people', 'real profession', 'real thing', 'real time', 'real trouble', 'real truth', 'real world', 'reality begin', 'reality prison', 'reality start', 'reality tv', 'realize companion', 'realize dream', 'realize theyve', 'realize woman', 'realizes daughter', 'realizes dream', 'realizes he', 'realizes late', 'realizes must', 'realizes one', 'realizes son', 'realizes there', 'realizing dream', 'reallife adventure', 'reallife experience', 'reallife story', 'really dead', 'really doesnt', 'really exist', 'really happened', 'really kill', 'really know', 'really love', 'really matter', 'really mean', 'really start', 'really want', 'really wanted', 'reason felt', 'reason live', 'reassess life', 'rebel falling', 'rebel leader', 'rebellious friend', 'rebellious teenager', 'rebuild life', 'recall childhood', 'recapture magic', 'receives good', 'receives healthy', 'receives letter', 'receives mysterious', 'receives news', 'receives order', 'receives phone', 'receives unexpected', 'receives word', 'recent college', 'recent death', 'recent year', 'recently deceased', 'recently died', 'recently discharged', 'recently divorced', 'recently dumped', 'recently moved', 'recently murdered', 'recently orphaned', 'recently released', 'recently widowed', 'reckless driving', 'reclaim life', 'reclusive life', 'recon mission', 'reconcile estranged', 'reconcile wife', 'record company', 'record producer', 'record store', 'record straight', 'recording nominated', 'recount action', 'recount life', 'recount rise', 'recount story', 'recover lost', 'recovering drug', 'recovering trauma', 'recruit arrives', 'recruit former', 'recruit go', 'recruit sent', 'recruited cia', 'recruited join', 'rectitude count', 'recurring nightmare', 'red chinese', 'red light', 'red riding', 'red tape', 'redefine life', 'redneck sheriff', 'refuge home', 'refugee camp', 'refuse believe', 'refuse find', 'refuse give', 'refuse go', 'refuse help', 'refuse let', 'refuse marry', 'refuse see', 'refuse take', 'regain memory', 'regain status', 'regain throne', 'regan macneil', 'regard section', 'regarding past', 'regenerative property', 'regular guy', 'rehab center', 'reign queen', 'reign terror', 'reigning champ', 'reignites ancient', 'reimagining classic', 'reinhard heydrich', 'rejected every', 'rekindles romance', 'relates story', 'relation firm', 'relationship among', 'relationship aspiring', 'relationship blossom', 'relationship develops', 'relationship director', 'relationship family', 'relationship father', 'relationship four', 'relationship get', 'relationship girlfriend', 'relationship go', 'relationship however', 'relationship husband', 'relationship life', 'relationship make', 'relationship mother', 'relationship one', 'relationship parent', 'relationship student', 'relationship take', 'relationship teacher', 'relationship threatens', 'relationship three', 'relationship troubled', 'relationship turn', 'relationship two', 'relationship uncovered', 'relationship wife', 'relationship woman', 'release prison', 'released excon', 'released jail', 'released mental', 'released prison', 'released ten', 'relentless pursuit', 'relentless search', 'relentlessly follows', 'religious community', 'religious cult', 'religious fanatic', 'religious mother', 'reluctant hero', 'reluctant participant', 'reluctant take', 'reluctantly accepts', 'reluctantly attends', 'reluctantly becomes', 'reluctantly join', 'reluctantly take', 'reluctantly team', 'rely friend', 'remain within', 'remaining day', 'remains behind', 'remains one', 'remake classic', 'remarkable story', 'remedy situation', 'remember name', 'remembers life', 'reminded promise', 'remote army', 'remote australian', 'remote cabin', 'remote corner', 'remote desert', 'remote farm', 'remote island', 'remote lake', 'remote location', 'remote mountain', 'remote village', 'renegade group', 'renegade military', 'renounces role', 'repay debt', 'reported missing', 'reporter cameraman', 'reporter get', 'reporter investigating', 'reporter richard', 'reporter sent', 'reprises role', 'republican army', 'republican senator', 'reputation soon', 'reputed astrophysicist', 'rescue aid', 'rescue along', 'rescue beautiful', 'rescue daughter', 'rescue estranged', 'rescue friend', 'rescue hostage', 'rescue love', 'rescue mission', 'rescue team', 'rescue wife', 'rescue woman', 'rescue world', 'rescue young', 'rescued two', 'research assistant', 'research facility', 'research lab', 'research laboratory', 'research project', 'research scientist', 'research team', 'researching life', 'resident small', 'resident superhero', 'resistance fighter', 'resistance movement', 'resolve bring', 'resolve crisis', 'resort desperate', 'resource make', 'respective wedding', 'responsible attack', 'responsible death', 'responsible killing', 'responsible outbreak', 'responsible parent', 'rest family', 'rest film', 'rest gang', 'rest hand', 'rest life', 'rest movie', 'rest take', 'rest team', 'rest world', 'restore order', 'restore peace', 'restore reputation', 'restriction return', 'result life', 'resurrect career', 'resurrect dead', 'retire one', 'retired cia', 'retired police', 'retired porn', 'retirement didnt', 'retirement home', 'retitled evangelion', 'return africa', 'return america', 'return army', 'return beyond', 'return big', 'return brother', 'return childhood', 'return city', 'return earth', 'return favor', 'return find', 'return form', 'return former', 'return france', 'return ghost', 'return grave', 'return haddonfield', 'return hell', 'return hogwarts', 'return home', 'return hometown', 'return husband', 'return jungle', 'return london', 'return los', 'return man', 'return native', 'return new', 'return old', 'return one', 'return paris', 'return receives', 'return save', 'return south', 'return time', 'return town', 'return trip', 'return wife', 'return world', 'return year', 'return young', 'returned home', 'returned revenge', 'returning home', 'reunion tour', 'reunite childhood', 'reunite family', 'reunite rescue', 'reunited family', 'reunites old', 'reveal affair', 'reveal identity', 'reveal true', 'reveals secret', 'revelation true', 'revenge enemy', 'revenge family', 'revenge father', 'revenge former', 'revenge man', 'revenge people', 'revenge powerful', 'revenge thug', 'revenge wronged', 'reverend kane', 'revisit old', 'revisits group', 'revolutionary hero', 'revolutionary new', 'revolutionary war', 'revolve around', 'revolves around', 'revolving around', 'reward offered', 'rewriting history', 'rex harrison', 'rhode island', 'rich businessman', 'rich family', 'rich famous', 'rich girl', 'rich husband', 'rich kid', 'rich life', 'rich man', 'rich men', 'rich quick', 'rich single', 'rich successful', 'rich woman', 'rich young', 'richard burton', 'richard dreyfus', 'richard grant', 'richard nixon', 'riche jay', 'richest powerful', 'rick becomes', 'rick oconnell', 'rick soon', 'ricky gervais', 'rid world', 'ride along', 'riding hood', 'riding horse', 'riggs murtaugh', 'riggs roger', 'right activist', 'right aid', 'right away', 'right hand', 'right nose', 'right one', 'right thing', 'right wrong', 'rightful throne', 'righthand man', 'ringo starr', 'rio de', 'rise fall', 'rise fame', 'rise immortal', 'rise power', 'rise within', 'rising star', 'rising tide', 'rising young', 'risk career', 'risk everything', 'risk job', 'risk life', 'risk losing', 'risking life', 'risky plan', 'rita hayworth', 'rite passage', 'ritual sacrifice', 'rival apollo', 'rival camp', 'rival chicago', 'rival gang', 'rival girlfriend', 'rival paper', 'rival police', 'rivalry two', 'river one', 'road becoming', 'road film', 'road lead', 'road movie', 'road race', 'road trip', 'road true', 'roam earth', 'rob bank', 'rob brydon', 'rob convenience', 'rob local', 'rob restaurant', 'robbed blind', 'robber fall', 'robbery attempt', 'robbery however', 'robbery murder', 'robbing bank', 'robbing local', 'robbing people', 'robert de', 'robert duvall', 'robert howard', 'robert langdon', 'robert neville', 'robert redford', 'robert stroud', 'robin hood', 'robin williams', 'robin wright', 'robot another', 'robot go', 'robot named', 'robs bank', 'rock band', 'rock bottom', 'rock concert', 'rock god', 'rock hudson', 'rock legend', 'rock music', 'rock musician', 'rock opera', 'rock roll', 'rock singer', 'rock song', 'rock star', 'rocket fuel', 'rocky agrees', 'rocky balboa', 'rocky colt', 'rocky start', 'roddy mcdowall', 'rodgers hammerstein', 'roger cobb', 'roger corman', 'roger murtaugh', 'rogue agent', 'role antonio', 'role film', 'role life', 'role longtime', 'role model', 'role twin', 'roleplaying game', 'roll band', 'rolled one', 'roller coaster', 'rollercoaster ride', 'rolling stone', 'roman catholic', 'roman empire', 'roman polanski', 'roman polanskis', 'romance bloom', 'romance develops', 'romance high', 'romance novelist', 'romance young', 'romantic comedy', 'romantic dinner', 'romantic entanglement', 'romantic feeling', 'romantic interest', 'romantic interlude', 'romantic life', 'romantic misadventure', 'romantic musical', 'romantic partner', 'romantic quest', 'romantic relationship', 'romantic spark', 'romantic tragedy', 'romantically involved', 'rome paris', 'rome search', 'ron burgundy', 'ron hermione', 'rookie cop', 'room board', 'room discovers', 'room home', 'room service', 'roommate best', 'roommate eddie', 'roosevelt island', 'rooster cogburn', 'rosanna arquette', 'rose fame', 'rose lee', 'round table', 'route 66', 'roy obannon', 'royal family', 'royal household', 'royal navy', 'rudyard kipling', 'rugby team', 'rugged terrain', 'rule game', 'rule kingdom', 'rule land', 'rule world', 'ruled evil', 'ruled white', 'rumor mill', 'run across', 'run afoul', 'run aground', 'run amok', 'run away', 'run big', 'run con', 'run country', 'run dry', 'run family', 'run framed', 'run hide', 'run high', 'run law', 'run life', 'run local', 'run movie', 'run old', 'run police', 'run problem', 'run scam', 'run small', 'run successful', 'run wild', 'run woman', 'runaway teenage', 'rundown apartment', 'running away', 'running brothel', 'rupert everett', 'rural area', 'rural england', 'rural life', 'rural town', 'rural village', 'ruse get', 'rush rescue', 'russian american', 'russian army', 'russian boy', 'russian emigre', 'russian general', 'russian mafia', 'russian mob', 'russian nuclear', 'russian spy', 'russian terrorist', 'russian woman', 'rust belt', 'ruthless business', 'ruthless colombian', 'ruthless crime', 'ruthless drug', 'ruthless gang', 'ruthless head', 'ruthless land', 'ruthless leader', 'ruthless man', 'ruthlessly ambitious', 'sabertoothed tiger', 'sacred tomb', 'sacrifice everything', 'sad sack', 'sadistic game', 'sadistic gangster', 'sadistic murder', 'sadistic warden', 'sadness father', 'safe house', 'sahara desert', 'said goodbye', 'said yes', 'sailing trip', 'sailing voyage', 'sailor named', 'salesman working', 'sally field', 'sally hawkins', 'sally isnt', 'sally susan', 'sally try', 'salon woman', 'salvage ship', 'sam bowden', 'sam cahill', 'sam come', 'sam last', 'sam must', 'sam witwicky', 'samantha morton', 'sammy boy', 'sammy celebi', 'samuel jackson', 'san antonio', 'san diego', 'san fernando', 'san francisco', 'san franciscos', 'san pedro', 'san quentin', 'sandra bullock', 'santa claus', 'santa help', 'santa sangre', 'santa suit', 'sarah connor', 'sarah silverman', 'sasaki kojiro', 'satisfy whim', 'saturday night', 'saudi arabia', 'save ailing', 'save best', 'save brother', 'save career', 'save city', 'save country', 'save day', 'save destruction', 'save dying', 'save earth', 'save everyone', 'save family', 'save father', 'save friend', 'save future', 'save group', 'save home', 'save job', 'save kingdom', 'save life', 'save local', 'save mankind', 'save old', 'save orphan', 'save planet', 'save president', 'save relationship', 'save school', 'save sister', 'save son', 'save town', 'save two', 'save world', 'saving grace', 'saxophone player', 'say doesnt', 'say goodbye', 'say he', 'say least', 'saying goodbye', 'scared end', 'scarlet letter', 'scary movie', 'scavenger hunt', 'scene 1980s', 'scene begin', 'scene crime', 'scene film', 'scene new', 'scene young', 'scheme drive', 'scheme find', 'scheme get', 'scheme order', 'scheme put', 'scheme revenge', 'scheme steal', 'scheme turn', 'scheming take', 'scholarship harvard', 'scholarship study', 'school also', 'school art', 'school basketball', 'school best', 'school boy', 'school bully', 'school bus', 'school child', 'school class', 'school classmate', 'school closed', 'school college', 'school country', 'school crime', 'school day', 'school dream', 'school dropout', 'school fall', 'school find', 'school football', 'school friend', 'school girl', 'school grad', 'school graduate', 'school graduation', 'school he', 'school headmaster', 'school including', 'school kid', 'school love', 'school make', 'school master', 'school meet', 'school misfit', 'school music', 'school must', 'school new', 'school next', 'school nurse', 'school one', 'school play', 'school popular', 'school principal', 'school reunion', 'school run', 'school secretly', 'school senior', 'school shes', 'school small', 'school soon', 'school star', 'school student', 'school sweetheart', 'school system', 'school take', 'school teacher', 'school time', 'school verge', 'school year', 'school young', 'science fiction', 'science magic', 'scientific congress', 'scientific discovery', 'scientific expedition', 'scientific experiment', 'scientific genius', 'scientist attempt', 'scientist begin', 'scientist discover', 'scientist dr', 'scientist father', 'scientist help', 'scientist must', 'scientist searching', 'scientist working', 'scifi film', 'score big', 'scotland yard', 'scott learns', 'scottish highland', 'scrap metal', 'scraping living', 'screen adaptation', 'screen debut', 'screen television', 'screen test', 'screened un', 'screenplay film', 'scrooge miser', 'scuba diving', 'sculpt chronicle', 'sea captain', 'sea creature', 'sea island', 'sea passenger', 'sea world', 'seal casey', 'seal fate', 'seal team', 'seamstress hester', 'sean connery', 'sean penn', 'search answer', 'search clue', 'search fabled', 'search father', 'search find', 'search gold', 'search lead', 'search legendary', 'search lost', 'search love', 'search meaning', 'search missing', 'search new', 'search one', 'search perfect', 'search powerful', 'search real', 'search redemption', 'search rescue', 'search serial', 'search truth', 'search ultimate', 'search way', 'search work', 'searching clue', 'searching cure', 'seaside village', 'season know', 'seasoned veteran', 'seat car', 'secluded life', 'second chance', 'second command', 'second film', 'second impact', 'second part', 'second thought', 'second wife', 'second world', 'secrecy nazi', 'secret agent', 'secret behind', 'secret come', 'secret exposed', 'secret former', 'secret formula', 'secret government', 'secret identity', 'secret lie', 'secret life', 'secret location', 'secret love', 'secret mission', 'secret order', 'secret organization', 'secret passion', 'secret past', 'secret plan', 'secret police', 'secret process', 'secret revealed', 'secret service', 'secret sexually', 'secret shes', 'secret shocking', 'secret society', 'secret town', 'secret universe', 'secret unstoppable', 'secretary found', 'secretary miss', 'secretly set', 'section 1996', 'section brooklyn', 'section city', 'section group', 'security agency', 'security agent', 'security camera', 'security considers', 'security expert', 'security firm', 'security guard', 'security leak', 'security prison', 'security system', 'seduced excolleague', 'seductive woman', 'see beautiful', 'see chance', 'see crack', 'see eye', 'see face', 'see father', 'see finally', 'see future', 'see game', 'see get', 'see ghost', 'see girl', 'see life', 'see many', 'see one', 'see opportunity', 'see son', 'see true', 'see two', 'see walk', 'see wife', 'see world', 'seedy nightclub', 'seek destroy', 'seek employment', 'seek eradicate', 'seek escape', 'seek fortune', 'seek free', 'seek healing', 'seek help', 'seek peace', 'seek refuge', 'seek revenge', 'seek shelter', 'seek solace', 'seek truth', 'seek vengeance', 'seek woman', 'seeking answer', 'seeking revenge', 'seem care', 'seem find', 'seem like', 'seemingly average', 'seemingly endless', 'seemingly foolproof', 'seemingly hopeless', 'seemingly impossible', 'seemingly innocent', 'seemingly innocuous', 'seemingly insurmountable', 'seemingly normal', 'seemingly peaceful', 'seemingly perfect', 'seemingly random', 'seemingly unstoppable', 'seems abandoned', 'seems able', 'seems come', 'seems far', 'seems find', 'seems good', 'seems interested', 'seems know', 'seems like', 'seems shes', 'seems trouble', 'seems world', 'seen entirely', 'seen eye', 'seen since', 'seen story', 'segment feature', 'seize power', 'seizes opportunity', 'self discovery', 'self going', 'selfimposed exile', 'selfmade millionaire', 'selfrespect becomes', 'selina kyle', 'sell drug', 'sell house', 'sell local', 'sell painting', 'sell product', 'sell soul', 'semiautobiographical film', 'send four', 'send young', 'sends agent', 'senior prom', 'senior year', 'sense honor', 'sense hope', 'sense humor', 'sensual tale', 'sent away', 'sent back', 'sent bos', 'sent death', 'sent earth', 'sent friend', 'sent help', 'sent investigate', 'sent kill', 'sent live', 'sent mission', 'sent prison', 'sent rescue', 'sent san', 'sent take', 'sent undercover', 'sent vietnam', 'sentence murder', 'sentenced death', 'sentenced life', 'separate rest', 'separate way', 'separated birth', 'separated family', 'separated frederics', 'separated parent', 'separated wife', 'separation process', 'separatist movement', 'september 11', 'sequel film', 'sequel original', 'sequence event', 'serf time', 'serf well', 'sergeant john', 'sergeant johnny', 'serial killer', 'serial murderer', 'series adventure', 'series attack', 'series bizarre', 'series brutal', 'series disaster', 'series dream', 'series event', 'series film', 'series find', 'series flashback', 'series follows', 'series grisly', 'series misadventure', 'series murder', 'series mysterious', 'series outrageous', 'series poker', 'series ridiculous', 'series strange', 'series time', 'serious relationship', 'serious situation', 'serious trouble', 'servant neither', 'serve best', 'serve well', 'service agent', 'service however', 'service private', 'service take', 'serviceman lars', 'serving sentence', 'serving time', 'sesame street', 'set 1920s', 'set 1929', 'set 1930s', 'set 1950s', 'set 19thcentury', 'set 22nd', 'set across', 'set adrift', 'set adventure', 'set apart', 'set aside', 'set avenge', 'set backdrop', 'set background', 'set capture', 'set chain', 'set cold', 'set collision', 'set comedic', 'set defeat', 'set discover', 'set early', 'set end', 'set epic', 'set eye', 'set film', 'set find', 'set first', 'set france', 'set free', 'set future', 'set futuristic', 'set get', 'set great', 'set investigate', 'set island', 'set japan', 'set journey', 'set keep', 'set key', 'set late', 'set life', 'set make', 'set middle', 'set motion', 'set near', 'set new', 'set paris', 'set prove', 'set record', 'set rescue', 'set revenge', 'set road', 'set rural', 'set sail', 'set save', 'set sight', 'set stop', 'set thing', 'set track', 'set uncover', 'set work', 'set world', 'set year', 'seth rogen', 'setting series', 'settle debt', 'settle marry', 'settle new', 'settle old', 'settled new', 'settling old', 'seven day', 'seven friend', 'seven stranger', 'seven subject', 'seven year', 'seventeen year', 'several adventure', 'several day', 'several decade', 'several different', 'several dozen', 'several failed', 'several friend', 'several girl', 'several life', 'several men', 'several month', 'several mystery', 'several obstacle', 'several others', 'several people', 'several story', 'several student', 'several teenager', 'several unscrupulous', 'several unsuccessful', 'several week', 'several year', 'several young', 'severe case', 'sex among', 'sex comedy', 'sex debauchery', 'sex drug', 'sex friend', 'sex life', 'sex love', 'sex many', 'sex marriage', 'sex meet', 'sex one', 'sex operator', 'sex pistol', 'sex relationship', 'sex symbol', 'sex trafficking', 'sex violence', 'sexual adventure', 'sexual affair', 'sexual assault', 'sexual desire', 'sexual encounter', 'sexual fantasy', 'sexual favor', 'sexual harassment', 'sexual life', 'sexual obsession', 'sexual orientation', 'sexual passion', 'sexual relationship', 'sexual revolution', 'sexual slavery', 'sexual spark', 'sexually abused', 'sexually abusing', 'sexually frustrated', 'sexually repressed', 'sexy comedy', 'sexy sidekick', 'shadow father', 'shadowy figure', 'shady character', 'shady past', 'shagadelic spy', 'shakespeare classic', 'shakespeare comedy', 'shakespeare play', 'shaky marriage', 'share apartment', 'share house', 'share love', 'share name', 'share passion', 'share secret', 'share strong', 'share thought', 'shark attack', 'sharkinfested water', 'shattered war', 'shawn wayans', 'shed light', 'sheep family', 'sheer determination', 'sheffield england', 'shell need', 'shell show', 'sheriff buford', 'sheriff john', 'sheriff sam', 'sherlock holmes', 'sherman klump', 'shes actress', 'shes afraid', 'shes alive', 'shes busy', 'shes chosen', 'shes convinced', 'shes engaged', 'shes ever', 'shes everything', 'shes fallen', 'shes forced', 'shes found', 'shes happily', 'shes meant', 'shes nana', 'shes never', 'shes one', 'shes pregnant', 'shes ready', 'shes seen', 'shes taken', 'shes trying', 'shes way', 'shine light', 'shining light', 'shinya tsukamoto', 'ship arrives', 'ship captain', 'ship cook', 'ship crashlands', 'ship crew', 'ship first', 'ship headed', 'ship hit', 'ship leaf', 'ship may', 'ship sent', 'ship skagway', 'ship soon', 'ship traveling', 'shipment gold', 'shipwreck find', 'shirley temple', 'shock wave', 'shocked discover', 'shocked find', 'shocked learn', 'shocked wake', 'shocking discovery', 'shocking story', 'shoe company', 'shoot documentary', 'shoot man', 'shooting star', 'shop keeper', 'shop owner', 'shopping center', 'shopping mall', 'shopping trip', 'short cash', 'short film', 'short life', 'short order', 'short story', 'shortly erection', 'shortly marriage', 'shortterm memory', 'shortwave radio', 'shot dead', 'shot death', 'shot killed', 'shot space', 'show becomes', 'show business', 'show called', 'show doorstep', 'show every', 'show girl', 'show host', 'show house', 'show interest', 'show last', 'show needing', 'show network', 'show new', 'show people', 'show scene', 'show sign', 'show survive', 'show turn', 'show way', 'show work', 'show world', 'shower meteorite', 'showing life', 'shrek fiona', 'shuttle mission', 'shy anything', 'shy teenager', 'shy young', 'sibling decide', 'sibling return', 'sick go', 'sid nancy', 'side begin', 'side deadly', 'side effect', 'side force', 'side house', 'side law', 'side life', 'side manhattan', 'side new', 'side personality', 'side soon', 'side track', 'side win', 'sidney lumet', 'sidney poitier', 'sight beautiful', 'sight becoming', 'sight sound', 'sight upon', 'sigmund freud', 'sign away', 'sign contract', 'sign divorce', 'sign one', 'silent film', 'silent movie', 'simple enough', 'simple life', 'simple story', 'simply wait', 'sin city', 'sinatra play', 'sinbad crew', 'since age', 'since child', 'since childhood', 'since first', 'since left', 'since little', 'since many', 'since mother', 'since prohibitionera', 'since teen', 'since woman', 'sing opera', 'singer also', 'singer get', 'singer group', 'singer musician', 'singer tina', 'singer who', 'singer wife', 'singing chipmunk', 'singing talent', 'single day', 'single father', 'single friend', 'single gentleman', 'single life', 'single man', 'single mom', 'single mother', 'single mum', 'single parent', 'single scene', 'single woman', 'single world', 'sinister agenda', 'sinister plot', 'sinister seductress', 'sinister side', 'sinister turn', 'sir james', 'sir laurence', 'sir robert', 'sir thomas', 'sister angela', 'sister barbara', 'sister best', 'sister brother', 'sister come', 'sister death', 'sister elizabeth', 'sister face', 'sister find', 'sister get', 'sister ginger', 'sister husband', 'sister jenny', 'sister karen', 'sister kate', 'sister love', 'sister lover', 'sister lucy', 'sister mary', 'sister move', 'sister new', 'sister one', 'sister save', 'sister try', 'sister wedding', 'sister younger', 'site get', 'situation becomes', 'situation one', 'situation plot', 'situation worsens', 'six american', 'six character', 'six day', 'six high', 'six month', 'six people', 'six week', 'six year', 'sixteen year', 'sixth year', 'sixyearold daughter', 'sixyearold girl', 'ski resort', 'skill work', 'skip town', 'skirt chaser', 'slacker get', 'slasher movie', 'slave trader', 'sled dog', 'sleeper agent', 'sleepy hollow', 'sleepy town', 'slip away', 'slip back', 'slip something', 'slip tehran', 'slovenly meanspirited', 'slowly begin', 'slowly dying', 'slowly fall', 'slowly learns', 'slowly realises', 'slowly realizes', 'slowly start', 'slowly turning', 'slumber party', 'small american', 'small amount', 'small apartment', 'small band', 'small boy', 'small business', 'small california', 'small child', 'small circle', 'small city', 'small coastal', 'small community', 'small fishing', 'small florida', 'small french', 'small group', 'small hometown', 'small island', 'small italian', 'small jewish', 'small midwestern', 'small mountain', 'small new', 'small north', 'small rural', 'small seemingly', 'small southern', 'small step', 'small suburban', 'small texas', 'small time', 'small town', 'small village', 'small western', 'small yet', 'smalltime crook', 'smalltime hood', 'smalltown boy', 'smalltown cop', 'smalltown doctor', 'smalltown girl', 'smalltown lawyer', 'smalltown texas', 'smalltown waitress', 'smash hit', 'smile summer', 'smoking pot', 'smuggle drug', 'smuggling operation', 'snack bar', 'sneak back', 'snoop dogg', 'snow white', 'snowy winter', 'snuff film', 'soap opera', 'soccer match', 'soccer star', 'soccer team', 'social climber', 'social climbing', 'social commentary', 'social economic', 'social grace', 'social hierarchy', 'social ladder', 'social life', 'social outcast', 'social problem', 'social satire', 'social service', 'social skill', 'social worker', 'socialite patricia', 'socially awkward', 'society become', 'society general', 'society man', 'society take', 'society woman', 'soft spoken', 'softcore filmmaker', 'software engineer', 'solar system', 'sold soul', 'soldier agrees', 'soldier experience', 'soldier face', 'soldier fighting', 'soldier find', 'soldier go', 'soldier killed', 'soldier memory', 'soldier named', 'soldier one', 'soldier return', 'soldout show', 'sole parent', 'sole purpose', 'sole survivor', 'sole witness', 'solid friendship', 'solitary confinement', 'solitary life', 'solution problem', 'solve case', 'solve crime', 'solve murder', 'solve mystery', 'solve respective', 'solve riddle', 'solves mystery', 'solving case', 'solving murder', 'somebody else', 'somehow become', 'someone close', 'someone el', 'someone else', 'someone know', 'someone look', 'someone something', 'someone take', 'someone willing', 'something better', 'something big', 'something completely', 'something doesnt', 'something else', 'something even', 'something evil', 'something new', 'something say', 'something sinister', 'something strange', 'something ugly', 'something wrong', 'sometimes hilarious', 'sometimes old', 'sometimes take', 'son accidentally', 'son affection', 'son becomes', 'son billy', 'son college', 'son committed', 'son conscripted', 'son count', 'son criminal', 'son danny', 'son daughter', 'son devil', 'son diagnosed', 'son died', 'son digitized', 'son end', 'son family', 'son famous', 'son find', 'son get', 'son god', 'son goku', 'son help', 'son hope', 'son however', 'son indian', 'son jack', 'son james', 'son john', 'son kidnapped', 'son late', 'son life', 'son local', 'son max', 'son may', 'son michael', 'son move', 'son never', 'son new', 'son oliver', 'son one', 'son paul', 'son prince', 'son return', 'son sam', 'son son', 'son soon', 'son story', 'son tim', 'son time', 'son tommy', 'son two', 'son vice', 'son want', 'son wealthy', 'son wife', 'son working', 'son young', 'soon arrival', 'soon arriving', 'soon become', 'soon becomes', 'soon begin', 'soon betrayed', 'soon change', 'soon clash', 'soon come', 'soon cross', 'soon discover', 'soon discovers', 'soon encounter', 'soon engulfed', 'soon enough', 'soon escape', 'soon exwife', 'soon fall', 'soon family', 'soon fetching', 'soon find', 'soon form', 'soon get', 'soon however', 'soon lead', 'soon learn', 'soon learns', 'soon leave', 'soon make', 'soon meet', 'soon new', 'soon popular', 'soon prof', 'soon realize', 'soon realizes', 'soon return', 'soon run', 'soon set', 'soon start', 'soon take', 'soon tom', 'soon transforms', 'soon turn', 'soon two', 'sophie attempt', 'sophie country', 'sophie three', 'sorcerer apprentice', 'sordid affair', 'sorority house', 'sorority sister', 'sort thing', 'soul mate', 'soul serial', 'soul wish', 'soul woman', 'sound like', 'sound recording', 'south africa', 'south african', 'south america', 'south american', 'south asia', 'south border', 'south boston', 'south bronx', 'south carolina', 'south carolinian', 'south central', 'south civil', 'south dakota', 'south france', 'south korea', 'south korean', 'south london', 'south pacific', 'south sea', 'south side', 'south turn', 'south united', 'south wale', 'southeast asia', 'southeast asian', 'southern belle', 'southern california', 'southern granny', 'southern town', 'soviet agent', 'soviet spy', 'soviet union', 'space mission', 'space odyssey', 'space program', 'space shuttle', 'space station', 'space travel', 'spain also', 'spain france', 'spalding gray', 'span globe', 'spanish civil', 'spanish inquisition', 'spanish woman', 'spare time', 'spark fly', 'special ability', 'special agent', 'special commando', 'special effect', 'special force', 'special gift', 'special operation', 'special performance', 'special power', 'special talent', 'specie known', 'spectacular success', 'speed limit', 'spell broken', 'spell cause', 'spelling bee', 'spend childhood', 'spend christmas', 'spend day', 'spend next', 'spend night', 'spend summer', 'spend time', 'spending day', 'spending rest', 'spending six', 'spending summer', 'spending time', 'spending year', 'spends day', 'spends free', 'spends money', 'spends night', 'spends time', 'spends year', 'spent entire', 'spent last', 'spent life', 'spent year', 'sperm donor', 'spider life', 'spike lee', 'spin control', 'spinal tap', 'spiral control', 'spiraling control', 'spirit find', 'spirit known', 'spirit time', 'spirited young', 'spiritual crisis', 'spiritual journey', 'spite iron', 'spiteful witch', 'spoiled brat', 'spoiled daughter', 'spoiled rich', 'spoken year', 'sport agent', 'sport reporter', 'spot around', 'spot man', 'spread rumor', 'spring action', 'spring break', 'spring musical', 'spy alex', 'spy attempt', 'spy magazine', 'spy movie', 'spy plane', 'spy ring', 'spy trying', 'square garden', 'st bernard', 'st clair', 'st louis', 'st mary', 'stable relationship', 'stadium see', 'staff member', 'staff sergeant', 'stage assassination', 'stage career', 'stage coup', 'stage hit', 'stage life', 'stage musical', 'stage performer', 'stage play', 'stage screen', 'stage set', 'stage way', 'staged death', 'staid routine', 'stake rise', 'stalked murdered', 'stand brink', 'stand chance', 'stand ground', 'stand inherit', 'stand mankind', 'stand show', 'stand trial', 'stand way', 'standing way', 'standup comedian', 'standup comedy', 'standup comic', 'standup performance', 'standup routine', 'standup special', 'stanley cup', 'stanley kubrick', 'star 1970s', 'star aldous', 'star athlete', 'star basketball', 'star come', 'star director', 'star dorothy', 'star dream', 'star film', 'star first', 'star frank', 'star french', 'star george', 'star get', 'star hip', 'star joe', 'star player', 'star private', 'star quarterback', 'star rock', 'star seems', 'star shirley', 'star steve', 'star steven', 'star stripe', 'star studded', 'star thomas', 'star tom', 'star war', 'star young', 'stardom contract', 'stardom princess', 'starring david', 'starring role', 'starring sean', 'starstudded cast', 'start acting', 'start affair', 'start anew', 'start become', 'start bringing', 'start build', 'start chase', 'start college', 'start come', 'start date', 'start dating', 'start develop', 'start dying', 'start emerge', 'start fall', 'start falling', 'start family', 'start first', 'start get', 'start getting', 'start go', 'start happen', 'start happening', 'start high', 'start investigating', 'start journey', 'start killing', 'start life', 'start living', 'start look', 'start making', 'start new', 'start occur', 'start poking', 'start question', 'start real', 'start return', 'start search', 'start seeking', 'start spending', 'start stalking', 'start steal', 'start teaching', 'start think', 'start turn', 'start well', 'start wonder', 'start working', 'start writing', 'starting new', 'startling discovery', 'startling revelation', 'stasi monitor', 'state america', 'state captured', 'state department', 'state film', 'state government', 'state governor', 'state mental', 'state mind', 'state must', 'state one', 'state prison', 'state save', 'state soviet', 'state theatre', 'state trooper', 'state world', 'staten island', 'station attendant', 'station insists', 'station year', 'stay alive', 'stay away', 'stay back', 'stay behind', 'stay clean', 'stay family', 'stay forever', 'stay help', 'stay home', 'stay night', 'stay one', 'stay together', 'stayed alive', 'steady job', 'steal car', 'steal gold', 'steal million', 'steal money', 'steal treasure', 'steal wife', 'stealing car', 'stealing money', 'stealing priceless', 'step ahead', 'step behind', 'step life', 'step protect', 'stephen dorff', 'stephen king', 'stephen rea', 'stephen sondheim', 'steve coogan', 'steve harvey', 'steve job', 'steve martin', 'steve prefontaine', 'steve rogers', 'steven try', 'stick like', 'still alive', 'still belief', 'still cant', 'still feeling', 'still find', 'still grieving', 'still haunt', 'still haunted', 'still life', 'still live', 'still longs', 'still love', 'still much', 'still photograph', 'still soon', 'still trying', 'still want', 'still work', 'sting operation', 'stir trouble', 'stolen car', 'stolen diamond', 'stolen gold', 'stolen government', 'stomping ground', 'stone age', 'stood altar', 'stop alien', 'stop everything', 'stop evil', 'stop former', 'stop mystery', 'stop nazi', 'stop nothing', 'stop nuclear', 'stop one', 'store christmas', 'store clerk', 'store owner', 'storm discover', 'storm he', 'storm soon', 'stormy night', 'story 60', 'story american', 'story based', 'story battle', 'story beautiful', 'story becomes', 'story began', 'story begin', 'story behind', 'story benjamin', 'story biographical', 'story book', 'story boy', 'story british', 'story center', 'story centered', 'story centre', 'story child', 'story christopher', 'story come', 'story concern', 'story couple', 'story disillusioned', 'story drug', 'story early', 'story eccentric', 'story english', 'story family', 'story famous', 'story father', 'story fight', 'story film', 'story first', 'story focus', 'story follows', 'story former', 'story four', 'story frank', 'story french', 'story friendship', 'story girl', 'story group', 'story henry', 'story inspired', 'story intertwine', 'story investigation', 'story involves', 'story involving', 'story jewish', 'story joseph', 'story journalist', 'story legendary', 'story life', 'story lifelong', 'story linda', 'story line', 'story love', 'story making', 'story man', 'story marine', 'story marriage', 'story miami', 'story murder', 'story musician', 'story need', 'story new', 'story one', 'story oscar', 'story peter', 'story petty', 'story progress', 'story really', 'story relationship', 'story revolves', 'story rise', 'story romance', 'story ruth', 'story set', 'story sex', 'story small', 'story summer', 'story take', 'story texas', 'story three', 'story told', 'story top', 'story troubled', 'story true', 'story two', 'story victor', 'story woman', 'story wrote', 'story young', 'story youth', 'stow away', 'straight hell', 'straight world', 'strained relationship', 'stranded alone', 'stranded deserted', 'stranded earth', 'stranded island', 'stranded remote', 'stranded small', 'strange event', 'strange happens', 'strange land', 'strange life', 'strange map', 'strange new', 'strange noise', 'strange people', 'strange tale', 'strange thing', 'strange town', 'strange way', 'strange woman', 'strange world', 'stranger become', 'stranger brought', 'stranger come', 'stranger enters', 'stranger meet', 'stranger stranded', 'stranger turn', 'stranger whose', 'stranger work', 'stray bullet', 'stray cat', 'stray dog', 'streep star', 'street bronx', 'street city', 'street cop', 'street corporate', 'street dancer', 'street first', 'street gang', 'street home', 'street informant', 'street kid', 'street london', 'street los', 'street musician', 'street new', 'street paris', 'street performer', 'street punk', 'street racer', 'street thug', 'street vendor', 'stress disorder', 'strict grandmother', 'strike back', 'strike billy', 'strike conversation', 'strike deal', 'strike force', 'strike friendship', 'strike midnight', 'strike next', 'strike rich', 'strike unlikely', 'strip club', 'strip joint', 'strives become', 'strong bond', 'strong connection', 'strong enough', 'strong family', 'strong friendship', 'stronger creature', 'struck lightning', 'struggle adjust', 'struggle among', 'struggle bring', 'struggle come', 'struggle complete', 'struggle contain', 'struggle cope', 'struggle expose', 'struggle find', 'struggle fit', 'struggle get', 'struggle keep', 'struggle life', 'struggle live', 'struggle maintain', 'struggle make', 'struggle money', 'struggle new', 'struggle overcome', 'struggle raise', 'struggle return', 'struggle save', 'struggle stay', 'struggle survival', 'struggle survive', 'struggle two', 'struggling american', 'struggling artist', 'struggling female', 'struggling find', 'struggling keep', 'struggling make', 'struggling single', 'struggling survive', 'struggling young', 'stuck together', 'stuck working', 'studded cast', 'student arrives', 'student body', 'student class', 'student different', 'student fall', 'student find', 'student go', 'student jane', 'student jessica', 'student love', 'student make', 'student school', 'student son', 'student teacher', 'student try', 'student trying', 'student want', 'studio 54', 'studio alias', 'studio executive', 'studio head', 'studio star', 'study human', 'stumble across', 'stumble onto', 'stumble upon', 'stunning performance', 'stunning true', 'stunningly beautiful', 'style film', 'subject interviewed', 'substance abuse', 'substitute teacher', 'suburban english', 'suburban family', 'suburban home', 'suburban housewife', 'suburban life', 'suburban town', 'subway car', 'subway train', 'succeed must', 'success decides', 'success meaning', 'success today', 'successful advertising', 'successful business', 'successful businessman', 'successful cant', 'successful career', 'successful doctor', 'successful except', 'successful film', 'successful hiphop', 'successful lawyer', 'successful single', 'successor refuse', 'sudden death', 'sudden disappearance', 'sudden loss', 'suddenly appears', 'suddenly become', 'suddenly dy', 'suddenly find', 'suddenly go', 'suddenly left', 'suddenly life', 'suddenly reappears', 'suddenly return', 'suddenly single', 'suddenly take', 'suddenly world', 'suffer fate', 'suffering depression', 'suffering severe', 'suffers injury', 'suicidal sister', 'suicide attempt', 'suicide following', 'suicune latest', 'suicune rest', 'suitable husband', 'sum money', 'summer 1941', 'summer 1977', 'summer camp', 'summer come', 'summer help', 'summer holiday', 'summer home', 'summer job', 'summer night', 'summer together', 'summer vacation', 'sun doesnt', 'sun rise', 'sunday dinner', 'super saiyan', 'superhero alter', 'superhero team', 'superhuman strength', 'supernatural creature', 'supernatural power', 'supernatural thriller', 'support family', 'support group', 'supporting role', 'supposedly lost', 'supreme court', 'sure enough', 'sure he', 'sure shes', 'surfer dude', 'surgeon dr', 'surprise everyone', 'surprise new', 'surprise twist', 'surprised find', 'surprised learn', 'surprising story', 'surprising success', 'surrealist film', 'surveillance expert', 'survival humanity', 'survive crash', 'survive street', 'surviving member', 'survivor found', 'survivor lead', 'survivor must', 'susan murphy', 'susan sarandon', 'susans life', 'suspect affair', 'suspect another', 'suspect foul', 'suspect man', 'suspect murder', 'suspect mysterious', 'suspect something', 'suspect stealing', 'suspected murderer', 'suspected murdering', 'suspense build', 'suspense thriller', 'suspicious circumstance', 'suspicious death', 'suspicious people', 'swallow pride', 'swamp thing', 'swat team', 'swedish family', 'sweep foot', 'sweet funny', 'swept along', 'swept away', 'swimming pool', 'swinging sixty', 'swiss bank', 'switch body', 'switch place', 'sylvester stallone', 'sympathetic soldier', 'symphony orchestra', 'syndicate evil', 'synthetic skin', 'system every', 'system one', 'system shell', 'systematically eliminating', 'table hatch', 'tabloid reporter', 'take action', 'take advantage', 'take along', 'take america', 'take answer', 'take assignment', 'take away', 'take back', 'take become', 'take boy', 'take business', 'take care', 'take case', 'take cause', 'take chance', 'take charge', 'take child', 'take circus', 'take city', 'take command', 'take course', 'take credit', 'take crown', 'take dangerous', 'take dark', 'take darker', 'take daughter', 'take day', 'take dive', 'take duty', 'take earth', 'take easy', 'take even', 'take evil', 'take extraordinary', 'take fall', 'take family', 'take father', 'take fight', 'take final', 'take first', 'take flower', 'take form', 'take friend', 'take frightening', 'take full', 'take get', 'take hard', 'take helen', 'take hold', 'take holiday', 'take home', 'take hostage', 'take job', 'take justice', 'take kid', 'take law', 'take life', 'take liking', 'take live', 'take long', 'take look', 'take losing', 'take love', 'take man', 'take management', 'take matter', 'take mexican', 'take million', 'take money', 'take name', 'take neighbor', 'take new', 'take old', 'take oliver', 'take one', 'take opportunity', 'take part', 'take perilous', 'take picture', 'take pity', 'take place', 'take position', 'take possession', 'take power', 'take refuge', 'take residence', 'take responsibility', 'take revenge', 'take role', 'take root', 'take school', 'take seriously', 'take shower', 'take side', 'take sinister', 'take small', 'take south', 'take stand', 'take step', 'take strange', 'take street', 'take student', 'take sudden', 'take system', 'take team', 'take terrifying', 'take toll', 'take tour', 'take trip', 'take true', 'take turn', 'take unexpected', 'take upon', 'take viewer', 'take vow', 'take war', 'take whole', 'take wild', 'take world', 'taken alien', 'taken away', 'taken captive', 'taken care', 'taken custody', 'taken holding', 'taken hospital', 'taken hostage', 'taken one', 'taken prisoner', 'taken ruthless', 'taking advantage', 'taking advice', 'taking baby', 'taking bullet', 'taking care', 'taking control', 'taking earth', 'taking job', 'taking new', 'taking one', 'taking part', 'taking place', 'taking refuge', 'taking road', 'taking turn', 'taking world', 'tale character', 'tale explores', 'tale four', 'tale intrigue', 'tale king', 'tale life', 'tale love', 'tale orphan', 'tale peter', 'tale set', 'tale tell', 'tale terror', 'tale two', 'tale young', 'talent agency', 'talent market', 'talent scout', 'talent show', 'talk animal', 'talk estranged', 'talk show', 'talk town', 'talking animal', 'talking head', 'tall building', 'tall man', 'tall tale', 'tank crew', 'taped live', 'target murder', 'task bringing', 'task force', 'task harder', 'task indeed', 'task need', 'tasked finding', 'tasked investigating', 'taste human', 'taxi driver', 'taylor henry', 'taylor man', 'teach child', 'teach dance', 'teach hotshot', 'teach two', 'teacher anna', 'teacher doesnt', 'teacher get', 'teacher hate', 'teacher inspires', 'teacher join', 'teacher life', 'teacher named', 'teacher private', 'teacher school', 'teacher see', 'team attempt', 'team battle', 'team beautiful', 'team behind', 'team best', 'team captain', 'team change', 'team chase', 'team coach', 'team ever', 'team expert', 'team explorer', 'team exwife', 'team fight', 'team fold', 'team go', 'team includes', 'team last', 'team make', 'team mascot', 'team member', 'team mercenary', 'team must', 'team national', 'team new', 'team old', 'team parapsychologist', 'team play', 'team police', 'team racing', 'team scientist', 'team soon', 'team stop', 'team struggle', 'team take', 'team unlikely', 'team usa', 'team whose', 'team win', 'team world', 'team young', 'teambuilding exercise', 'teammate friend', 'tear apart', 'tear city', 'ted striker', 'teen fan', 'teen gang', 'teen girl', 'teen living', 'teen must', 'teen new', 'teen runaway', 'teen stranded', 'teen two', 'teena brandon', 'teenage boy', 'teenage brother', 'teenage child', 'teenage daughter', 'teenage friend', 'teenage girl', 'teenage private', 'teenage son', 'teenage student', 'teenaged daughter', 'teenager accused', 'teenager convicted', 'teenager find', 'teenager living', 'teenager love', 'teenager named', 'teenager try', 'tehran stadium', 'telekinetic power', 'telephone call', 'telephone operator', 'television commercial', 'television evangelist', 'television made', 'television movie', 'television news', 'television producer', 'television reporter', 'television series', 'tell discovery', 'tell dont', 'tell father', 'tell four', 'tell get', 'tell guest', 'tell he', 'tell life', 'tell moving', 'tell origin', 'tell police', 'tell powerful', 'tell shes', 'tell story', 'tell tale', 'tell true', 'tell truth', 'tell try', 'tell two', 'telling adventure', 'telling anyone', 'telling story', 'telling truth', 'temple film', 'temporary assignment', 'temporary secretary', 'ten million', 'ten people', 'ten thousand', 'ten year', 'tennessee river', 'tennis star', 'tense drama', 'tension begin', 'tension flare', 'tension mount', 'tension rise', 'tension run', 'terence stamp', 'term past', 'term relationship', 'terminal cancer', 'terminal illness', 'terminally ill', 'terminator back', 'terrible accident', 'terrible crime', 'terrible first', 'terrible plan', 'terribly awry', 'terribly wrong', 'terrified community', 'terrifying alien', 'terrifying battle', 'terrifying creature', 'terrifying event', 'terrifying evil', 'terrifying journey', 'terrifying story', 'terrifying threat', 'terrifying truth', 'territory attempt', 'terror become', 'terror small', 'terrorist attack', 'terrorist attempt', 'terrorist group', 'terrorist known', 'terrorist leader', 'terrorist organization', 'terrorist plot', 'terrorist seize', 'terrorized mysterious', 'terrorized series', 'terry mckay', 'test get', 'test pilot', 'test subject', 'testament legacy', 'testify mob', 'tetsuo iron', 'texas border', 'texas mother', 'texas ranger', 'texas town', 'thanks couple', 'thanks part', 'thanksgiving day', 'thats exactly', 'theater new', 'theatre new', 'theme park', 'therapist dr', 'therapy group', 'therapy session', 'there evidence', 'there little', 'there nothing', 'there one', 'there problem', 'there something', 'theresa randle', 'theyll find', 'theyll never', 'theyll remember', 'theyre cop', 'theyre forced', 'theyre good', 'theyre one', 'theyre sent', 'theyre still', 'theyre trapped', 'theyre willing', 'theyve become', 'theyve ever', 'thief led', 'thing another', 'thing become', 'thing begin', 'thing better', 'thing change', 'thing come', 'thing common', 'thing complicated', 'thing could', 'thing deal', 'thing done', 'thing dont', 'thing ever', 'thing fall', 'thing fear', 'thing first', 'thing get', 'thing go', 'thing going', 'thing great', 'thing happen', 'thing happening', 'thing including', 'thing lack', 'thing left', 'thing life', 'thing look', 'thing missing', 'thing never', 'thing playing', 'thing pretty', 'thing really', 'thing right', 'thing seem', 'thing soon', 'thing spiral', 'thing start', 'thing still', 'thing straight', 'thing take', 'thing together', 'thing turn', 'thing two', 'thing want', 'thing way', 'thing world', 'think bring', 'think everything', 'think fast', 'think girlfriend', 'think he', 'think life', 'think like', 'think marriage', 'think one', 'think see', 'think shes', 'thinking he', 'thinking help', 'third film', 'third grade', 'third installment', 'third reich', 'third world', 'thirty day', 'thirty year', 'thomas hardy', 'thomas jefferson', 'thorn side', 'thornfield hall', 'though already', 'though he', 'though know', 'though late', 'though seems', 'though separated', 'though soon', 'though theyre', 'thought hed', 'thought knew', 'thousand dollar', 'thousand life', 'thousand mile', 'thousand year', 'threat human', 'threaten destroy', 'threaten life', 'threatened evil', 'threatened jail', 'threatened let', 'threatening life', 'threatens career', 'threatens collide', 'threatens destroy', 'threatens end', 'threatens tear', 'three become', 'three best', 'three boy', 'three brother', 'three bumbling', 'three child', 'three couple', 'three daughter', 'three day', 'three decade', 'three detective', 'three different', 'three escaped', 'three find', 'three former', 'three friend', 'three generation', 'three girl', 'three gunman', 'three half', 'three handsome', 'three high', 'three horror', 'three individual', 'three kid', 'three korean', 'three men', 'three month', 'three musketeer', 'three new', 'three parallel', 'three people', 'three pet', 'three roommate', 'three short', 'three sister', 'three son', 'three story', 'three stranger', 'three tale', 'three teen', 'three teenage', 'three teenager', 'three time', 'three week', 'three wife', 'three woman', 'three year', 'three young', 'thrilled see', 'thriller based', 'thriller follows', 'thriller set', 'throughout film', 'throughout history', 'throughout life', 'throw front', 'thrown back', 'thrown jail', 'thrown loop', 'thrown prison', 'thrown together', 'thrown turmoil', 'thrust back', 'thrust spotlight', 'thug later', 'thus begin', 'thwart evil', 'tia tony', 'tidal wave', 'tie knot', 'tiger lily', 'tigger rabbit', 'tightly wound', 'tigress crane', 'tim robbins', 'time ago', 'time alone', 'time around', 'time attempt', 'time away', 'time bad', 'time battle', 'time become', 'time brings', 'time capsule', 'time come', 'time crook', 'time daughter', 'time day', 'time discover', 'time distance', 'time drawn', 'time end', 'time face', 'time farmer', 'time father', 'time film', 'time find', 'time first', 'time friend', 'time get', 'time getting', 'time go', 'time group', 'time he', 'time help', 'time high', 'time history', 'time however', 'time hustler', 'time including', 'time kate', 'time legendary', 'time life', 'time looking', 'time machine', 'time make', 'time meet', 'time must', 'time new', 'time one', 'time party', 'time pass', 'time pay', 'time perhaps', 'time period', 'time place', 'time present', 'time prevent', 'time prison', 'time put', 'time relationship', 'time remains', 'time run', 'time running', 'time save', 'time see', 'time selling', 'time since', 'time space', 'time spend', 'time spent', 'time take', 'time tell', 'time theyre', 'time thief', 'time think', 'time thomas', 'time though', 'time time', 'time together', 'time travel', 'time try', 'time war', 'time well', 'time woman', 'time year', 'time young', 'time zak', 'tina turner', 'tiny apartment', 'tiny kingdom', 'title film', 'title role', 'titular hero', 'toad hall', 'today deemed', 'toddler son', 'together battle', 'together become', 'together begin', 'together change', 'together come', 'together couple', 'together create', 'together despite', 'together embark', 'together escape', 'together face', 'together fight', 'together find', 'together forever', 'together form', 'together friend', 'together group', 'together life', 'together make', 'together must', 'together old', 'together one', 'together pair', 'together ray', 'together relationship', 'together save', 'together seek', 'together set', 'together soon', 'together starting', 'together stop', 'together strange', 'together surprising', 'together take', 'together training', 'together try', 'together two', 'together year', 'together young', 'toilet paper', 'tokyo japan', 'tokyo young', 'told boy', 'told flashback', 'told point', 'told secret', 'told three', 'told word', 'toll family', 'tom berenger', 'tom hank', 'tom hardy', 'tom logan', 'tom ripley', 'tom wilkinson', 'tommy friend', 'tommy lee', 'tone original', 'tony bordello', 'tony eventually', 'tony set', 'tony stark', 'took away', 'took place', 'tooth fairy', 'top agent', 'top cia', 'top dog', 'top game', 'top heap', 'top london', 'top rated', 'top secret', 'top student', 'top world', 'topsecret experiment', 'topsecret government', 'topsecret military', 'topsecret mission', 'topsecret organization', 'tormented home', 'tormented memory', 'tormented soul', 'torn apart', 'torn family', 'torn loyalty', 'toronto international', 'torrid affair', 'tortured death', 'toshiro mifune', 'toss take', 'total amnesia', 'total recall', 'totalitarian future', 'totalitarian regime', 'touching story', 'tough ambitious', 'tough choice', 'tough cop', 'tough enough', 'tough guy', 'tough he', 'tough inner', 'tough neighborhood', 'tough new', 'tough thing', 'toughest competition', 'tour bus', 'tour country', 'tour de', 'tour duty', 'tour europe', 'tour film', 'tour filmed', 'tournament save', 'toward earth', 'toward final', 'towards earth', 'tower world', 'town along', 'town american', 'town band', 'town beauty', 'town become', 'town best', 'town black', 'town bully', 'town carry', 'town city', 'town college', 'town despite', 'town discover', 'town doctor', 'town early', 'town family', 'town feel', 'town find', 'town girl', 'town go', 'town half', 'town husband', 'town indiana', 'town kidnaps', 'town leading', 'town life', 'town local', 'town many', 'town meet', 'town must', 'town nebraska', 'town need', 'town new', 'town newspaper', 'town open', 'town outside', 'town peaceful', 'town people', 'town police', 'town populated', 'town prepares', 'town receives', 'town search', 'town sheriff', 'town start', 'town suspicion', 'town taken', 'town town', 'town transforms', 'town try', 'town trying', 'town two', 'town waiting', 'town west', 'town work', 'town yet', 'toxic avenger', 'toxic waste', 'toy company', 'toy factory', 'toy go', 'toy soon', 'toy store', 'trace life', 'trace rise', 'track coach', 'track father', 'track gang', 'track german', 'track get', 'track kill', 'track killer', 'track meet', 'track real', 'track rise', 'track terrorist', 'tracy lord', 'tracy marry', 'tracy turnblad', 'trade center', 'trade run', 'trade taking', 'traffic accident', 'traffic controller', 'tragedy film', 'tragedy follows', 'tragedy strike', 'tragic accident', 'tragic comedy', 'tragic consequence', 'tragic death', 'tragic end', 'tragic love', 'tragic past', 'tragic plane', 'tragic result', 'tragic story', 'tragically wrong', 'trail clue', 'trail lead', 'trail stolen', 'train accident', 'train become', 'train journey', 'train new', 'train ride', 'train station', 'train wreck', 'trained become', 'training become', 'training exercise', 'training ground', 'training neonazi', 'training school', 'transfer tremendous', 'transforms life', 'transforms pokémon', 'transgendered person', 'transport world', 'transported back', 'transported deep', 'trapped home', 'trapped inside', 'trapped loveless', 'trapped new', 'trapped together', 'trapped two', 'trashy novel', 'traumatic event', 'traumatic past', 'travel across', 'travel america', 'travel around', 'travel australia', 'travel back', 'travel earth', 'travel east', 'travel europe', 'travel france', 'travel half', 'travel italy', 'travel los', 'travel nearby', 'travel new', 'travel north', 'travel paris', 'travel time', 'travel washington', 'travel writer', 'traveler become', 'traveling across', 'traveling around', 'traveling circus', 'traveling meet', 'traveling salesman', 'treasure around', 'treasure hidden', 'treasure hunt', 'treasure hunter', 'treasure map', 'treat husband', 'treat like', 'treat servant', 'trek across', 'tremendous challenge', 'trial accused', 'trial attempted', 'trial murder', 'trial tribulation', 'triangle form', 'tribe search', 'trick trade', 'tried crime', 'tried kill', 'tried rape', 'trigger series', 'triggering series', 'trio face', 'trio make', 'trip across', 'trip back', 'trip begin', 'trip birthday', 'trip china', 'trip colorado', 'trip fall', 'trip get', 'trip go', 'trip haunted', 'trip home', 'trip lifetime', 'trip los', 'trip new', 'trip north', 'trip search', 'trip together', 'troop begin', 'trophy wife', 'tropical island', 'tropical paradise', 'trouble arises', 'trouble begin', 'trouble come', 'trouble everyone', 'trouble father', 'trouble finding', 'trouble fitting', 'trouble follows', 'trouble law', 'trouble police', 'trouble psychotic', 'trouble start', 'troubled man', 'troubled past', 'troubled relationship', 'troubled teen', 'troubled teenager', 'troubled woman', 'troubled young', 'troy zac', 'truant officer', 'truck driver', 'truck stop', 'true classic', 'true event', 'true happiness', 'true hero', 'true horror', 'true identity', 'true killer', 'true life', 'true love', 'true meaning', 'true nature', 'true passion', 'true self', 'true story', 'true travel', 'true voice', 'truelife tale', 'truman capote', 'trunk car', 'trust friendship', 'trust love', 'trust one', 'truth behind', 'truth come', 'truth family', 'truth life', 'truth take', 'truth tell', 'truth theyre', 'try achieve', 'try anything', 'try avoid', 'try become', 'try best', 'try break', 'try buy', 'try capture', 'try claim', 'try clean', 'try clear', 'try come', 'try commit', 'try conquer', 'try convince', 'try cope', 'try cover', 'try desperately', 'try destroy', 'try determine', 'try discover', 'try elude', 'try end', 'try escape', 'try expose', 'try figure', 'try find', 'try first', 'try fit', 'try foil', 'try follow', 'try force', 'try get', 'try go', 'try handle', 'try hard', 'try help', 'try hide', 'try join', 'try keep', 'try kill', 'try lead', 'try leave', 'try live', 'try luck', 'try maintain', 'try make', 'try persuade', 'try piece', 'try play', 'try prevent', 'try protect', 'try prove', 'try pull', 'try put', 'try raise', 'try rebel', 'try reconcile', 'try recover', 'try rescue', 'try retrieve', 'try run', 'try save', 'try school', 'try seduce', 'try set', 'try solve', 'try steal', 'try stop', 'try survive', 'try take', 'try talk', 'try track', 'try turn', 'try uncover', 'try unravel', 'try use', 'try vain', 'try warn', 'try win', 'trying baby', 'trying break', 'trying capture', 'trying catch', 'trying come', 'trying convince', 'trying create', 'trying destroy', 'trying escape', 'trying figure', 'trying find', 'trying force', 'trying forget', 'trying get', 'trying help', 'trying hold', 'trying kill', 'trying lay', 'trying leave', 'trying live', 'trying maintain', 'trying make', 'trying navigate', 'trying protect', 'trying put', 'trying raise', 'trying rescue', 'trying reunite', 'trying save', 'trying sell', 'trying stay', 'trying stop', 'trying teach', 'trying win', 'tsui hark', 'tuition fee', 'tumultuous event', 'tumultuous history', 'turbulent relationship', 'turf war', 'turmoil following', 'turn 20th', 'turn alternately', 'turn away', 'turn back', 'turn becomes', 'turn big', 'turn camera', 'turn century', 'turn chaos', 'turn chaotic', 'turn close', 'turn dead', 'turn deadly', 'turn disaster', 'turn entire', 'turn event', 'turn former', 'turn friend', 'turn heart', 'turn horror', 'turn human', 'turn illicit', 'turn killer', 'turn last', 'turn life', 'turn nightmare', 'turn nightmarish', 'turn one', 'turn prostitute', 'turn real', 'turn sour', 'turn surreal', 'turn table', 'turn trip', 'turn try', 'turn two', 'turn upside', 'turn world', 'turn worse', 'turned back', 'turned upside', 'turned upsidedown', 'turning blind', 'turning resident', 'tuscan countryside', 'tv career', 'tv commercial', 'tv crew', 'tv network', 'tv producer', 'tv program', 'tv series', 'tv show', 'tv star', 'tv variety', 'tv weatherman', 'twelve year', 'twelveyearold boy', 'twentieth century', 'twenty year', 'twentyfive year', 'twentytwo year', 'twice age', 'twin brother', 'twin separated', 'twin sister', 'twin tower', 'twist fate', 'twist turn', 'two academy', 'two actor', 'two adult', 'two aging', 'two ambitious', 'two american', 'two associate', 'two beautiful', 'two become', 'two begin', 'two best', 'two boy', 'two brother', 'two bumbling', 'two carefree', 'two celebrity', 'two child', 'two city', 'two close', 'two competing', 'two complete', 'two con', 'two convict', 'two cop', 'two corrupt', 'two couple', 'two daughter', 'two day', 'two decade', 'two decide', 'two desperate', 'two develop', 'two different', 'two dog', 'two drifter', 'two employee', 'two engage', 'two equally', 'two escaped', 'two estranged', 'two evil', 'two fall', 'two fbi', 'two female', 'two fighter', 'two film', 'two filmmaker', 'two form', 'two former', 'two french', 'two friend', 'two fugitive', 'two gangster', 'two gay', 'two geek', 'two get', 'two girl', 'two go', 'two great', 'two group', 'two grown', 'two guy', 'two hapless', 'two high', 'two hit', 'two hundred', 'two italian', 'two kid', 'two life', 'two little', 'two local', 'two loser', 'two lost', 'two love', 'two lover', 'two married', 'two meet', 'two men', 'two month', 'two movie', 'two must', 'two new', 'two newfound', 'two old', 'two opposite', 'two orphan', 'two others', 'two pal', 'two parent', 'two people', 'two police', 'two powerful', 'two professional', 'two protagonist', 'two related', 'two researcher', 'two rival', 'two room', 'two roommate', 'two russian', 'two seasoned', 'two separate', 'two set', 'two share', 'two sibling', 'two sister', 'two small', 'two soldier', 'two son', 'two soon', 'two story', 'two straight', 'two stranger', 'two struggling', 'two student', 'two teacher', 'two team', 'two teen', 'two teenage', 'two teenager', 'two thief', 'two thing', 'two thug', 'two time', 'two troubled', 'two try', 'two unlikely', 'two vampire', 'two version', 'two warring', 'two warrior', 'two week', 'two woman', 'two work', 'two world', 'two worldclass', 'two year', 'two young', 'two younger', 'tyrannosaurus rex', 'ugly duckling', 'ulterior motif', 'ulterior motive', 'ultimate challenge', 'ultimate fate', 'ultimate showdown', 'ultimate test', 'ultimate weapon', 'ultimately becomes', 'ultimately becoming', 'ultimately discovers', 'ultimately end', 'ultimately face', 'ultimately find', 'ultimately lead', 'ultimately leading', 'ultimately set', 'umbrella corporation', 'un certain', 'unable catch', 'unable find', 'unable leave', 'unable remember', 'unable work', 'unaware impending', 'unaware real', 'unborn baby', 'unborn child', 'unborn son', 'uncertain future', 'uncertain new', 'uncharted african', 'uncharted area', 'uncharted space', 'uncle billy', 'uncle charlie', 'uncle earl', 'uncle tell', 'uncle vanya', 'uncle wedding', 'uncomfortably close', 'uncover conspiracy', 'uncover dark', 'uncover mystery', 'uncover secret', 'uncover shocking', 'uncover sinister', 'uncover truth', 'uncovers conspiracy', 'uncovers evidence', 'uncovers gruesome', 'uncovers secret', 'uncovers trail', 'uncovers truth', 'undercover agent', 'undercover cop', 'undercover detective', 'undercover fbi', 'undercover infiltrate', 'underground fight', 'underground film', 'underground lair', 'underground organization', 'underground resistance', 'underground tunnel', 'underground world', 'understand parent', 'uneasy alliance', 'unemployed actor', 'uneventful life', 'unexpected bond', 'unexpected consequence', 'unexpected help', 'unexpected journey', 'unexpected result', 'unexpected turn', 'unexpected twist', 'unexpected way', 'unexpectedly dy', 'unexpectedly falling', 'unexpectedly find', 'unexpectedly get', 'unexpectedly show', 'unexplained disappearance', 'unfaithful wife', 'unfinished business', 'unflinching look', 'unforeseen circumstance', 'unforgettable performance', 'unfortunate enough', 'unfortunate incident', 'unfortunately also', 'unfortunately died', 'unfortunately doesnt', 'unfortunately everyone', 'unfortunately one', 'unhappily married', 'unhappy marriage', 'unimaginable obstacle', 'unimaginable way', 'unintentionally destroys', 'union organizer', 'union soon', 'unique brand', 'unique individual', 'unique way', 'unit must', 'unit sent', 'unite defeat', 'united kingdom', 'united nation', 'united state', 'university professor', 'university student', 'university study', 'unknowingly us', 'unknown creature', 'unknown force', 'unknown guy', 'unknown man', 'unknown third', 'unlike friend', 'unlikely alliance', 'unlikely ally', 'unlikely companion', 'unlikely duo', 'unlikely friend', 'unlikely friendship', 'unlikely partner', 'unlikely partnership', 'unlikely relationship', 'unlikely trio', 'unlock secret', 'unlucky enough', 'unmarried daughter', 'unnamed city', 'unown create', 'unprecedented access', 'unprecedented scale', 'unravel mystery', 'unravel truth', 'unravels around', 'unrelated people', 'unsatisfactory lodger', 'unsavory character', 'unscrupulous men', 'unseen country', 'unsolved murder', 'unstable mother', 'unsuccessful attempt', 'unsupportive father', 'untimely death', 'untold story', 'unusual boy', 'unusual romance', 'unveil identity', 'unwelcome visitor', 'unwilling accomplice', 'unwittingly becomes', 'unwittingly lift', 'unwittingly unleash', 'upon arrival', 'upon arriving', 'upon city', 'upon discovering', 'upon hearing', 'upon hidden', 'upon learning', 'upon receiving', 'upon release', 'upon return', 'upon secret', 'upon true', 'upon village', 'upper class', 'upper hand', 'upper west', 'upperclass family', 'upperclass white', 'ups down', 'upset fragile', 'upside learns', 'upstate new', 'uptight lawyer', 'uptight new', 'urban landscape', 'urban legend', 'us charm', 'us diabolical', 'us discovery', 'us enterprise', 'us power', 'us unown', 'usa story', 'use body', 'use erotic', 'use information', 'use last', 'use mean', 'use power', 'use secret', 'use war', 'used car', 'used film', 'used relay', 'using archival', 'using power', 'using three', 'using wit', 'utah jazz', 'vacation father', 'vacation find', 'vacation house', 'vacation mexico', 'vacation time', 'vacation turn', 'vada sultenfuss', 'valentine day', 'valley peace', 'valuable lesson', 'valuable painting', 'value life', 'value love', 'vampire continues', 'vampire count', 'vampire dracula', 'vampire hunter', 'vampire king', 'vampire lycans', 'vampire werewolf', 'van damme', 'van dyke', 'van helsing', 'van peebles', 'van sant', 'vanished face', 'variety show', 'various character', 'various faction', 'various famous', 'various invention', 'various life', 'various people', 'various personal', 'various stage', 'various way', 'varsity team', 'vast conspiracy', 'vast expanse', 'vast fortune', 'vastly superior', 'vatican investigator', 'vaudeville act', 'vega career', 'vega casino', 'vega last', 'vengeful spirit', 'venice california', 'venture beyond', 'verge adolescence', 'verge losing', 'version classic', 'version decides', 'version one', 'version shakespeare', 'veteran astronaut', 'veteran cia', 'veteran con', 'veteran cop', 'veteran go', 'veteran partner', 'vice president', 'vice versa', 'vichy government', 'vicious attack', 'vicious gang', 'vicious group', 'vicious war', 'victim thing', 'victor frankenstein', 'victor hugo', 'victorian england', 'victorian london', 'video camera', 'video diary', 'video game', 'video store', 'video tape', 'vietnam vet', 'vietnam veteran', 'vietnam war', 'view life', 'vigilante group', 'vigilante take', 'vil parent', 'village destroyed', 'village early', 'village find', 'village happy', 'village idiot', 'village old', 'village people', 'village set', 'village whose', 'villain plan', 'vincent donofrio', 'vincent price', 'violence drug', 'violence even', 'violence unseen', 'violent action', 'violent alcoholic', 'violent crime', 'violent criminal', 'violent death', 'violent side', 'violent storm', 'viper monkey', 'virgin mary', 'virginia mckenna', 'virginity get', 'virtual reality', 'virtual recluse', 'virus kill', 'virus spread', 'virus turn', 'vision future', 'vision lead', 'vision studio', 'visit brother', 'visit child', 'visit father', 'visit friend', 'visit los', 'visit old', 'visit one', 'visit relative', 'visit sister', 'visit uncle', 'visual gag', 'visual style', 'visually arresting', 'vito corleone', 'vivid portrait', 'voice break', 'voice generation', 'volkswagen beetle', 'von zipper', 'vow avenge', 'vow destroy', 'vow get', 'vow help', 'vow never', 'vow revenge', 'vow silence', 'vow take', 'vow track', 'voyage across', 'wage war', 'wait director', 'wait subject', 'wait visit', 'waitress named', 'wake bed', 'wake discover', 'wake find', 'wake one', 'waking hour', 'walk aisle', 'walk away', 'walk earth', 'walk free', 'walk life', 'walk street', 'walked earth', 'wall konrad', 'wall street', 'wallace gromit', 'walled city', 'walley world', 'walt disney', 'wanders street', 'wannabe musician', 'want baby', 'want back', 'want become', 'want bring', 'want build', 'want buy', 'want capture', 'want change', 'want come', 'want create', 'want dead', 'want defect', 'want destroy', 'want different', 'want end', 'want escape', 'want experience', 'want family', 'want find', 'want friend', 'want get', 'want give', 'want go', 'want good', 'want hear', 'want help', 'want hire', 'want job', 'want join', 'want kill', 'want know', 'want learn', 'want leave', 'want life', 'want live', 'want lose', 'want make', 'want man', 'want marry', 'want meet', 'want new', 'want nothing', 'want part', 'want party', 'want piece', 'want restriction', 'want return', 'want revenge', 'want see', 'want sell', 'want shes', 'want show', 'want spend', 'want stay', 'want steal', 'want take', 'want trio', 'want use', 'want work', 'wanted nothing', 'wanting take', 'war afghanistan', 'war becomes', 'war begun', 'war bosnia', 'war break', 'war breaking', 'war civilization', 'war crime', 'war criminal', 'war depicts', 'war drug', 'war effort', 'war end', 'war film', 'war find', 'war first', 'war firsthand', 'war get', 'war hero', 'war ii', 'war iiera', 'war iii', 'war italy', 'war loss', 'war love', 'war man', 'war meet', 'war middle', 'war one', 'war rage', 'war raging', 'war soldier', 'war soviet', 'war threatens', 'war tiny', 'war trilogy', 'war two', 'war union', 'war united', 'war used', 'war vet', 'war veteran', 'war waged', 'war world', 'war zone', 'warmer clime', 'warner bros', 'warrant officer', 'warring clan', 'warrior help', 'warrior khan', 'warrior named', 'warrior son', 'wash ashore', 'washed ashore', 'washington dc', 'washington fbi', 'washington lobbyist', 'washington post', 'wasnt supposed', 'watch game', 'watchful eye', 'watching porn', 'watching television', 'watchman larry', 'water mob', 'water supply', 'watergate scandal', 'waterski instructor', 'wave find', 'wave terrorist', 'wax museum', 'way achieve', 'way across', 'way around', 'way back', 'way battle', 'way become', 'way becoming', 'way begin', 'way break', 'way buy', 'way change', 'way city', 'way come', 'way deal', 'way dealing', 'way discovers', 'way encounter', 'way end', 'way escape', 'way even', 'way fall', 'way film', 'way find', 'way get', 'way go', 'way he', 'way head', 'way heart', 'way home', 'way however', 'way keep', 'way know', 'way la', 'way lead', 'way life', 'way live', 'way love', 'way make', 'way meet', 'way michael', 'way must', 'way never', 'way new', 'way one', 'way party', 'way people', 'way perfect', 'way play', 'way romance', 'way ruin', 'way save', 'way see', 'way set', 'way stop', 'way theyre', 'way thing', 'way time', 'way top', 'way toward', 'way try', 'way turn', 'way two', 'way world', 'wayne garth', 'wayward son', 'wealthy art', 'wealthy aunt', 'wealthy banker', 'wealthy businessman', 'wealthy couple', 'wealthy elderly', 'wealthy family', 'wealthy father', 'wealthy friend', 'wealthy industrialist', 'wealthy neighbor', 'wealthy new', 'wealthy widow', 'wealthy woman', 'weapon deal', 'weapon dealer', 'weapon manufacturer', 'weapon mass', 'weapon satellite', 'weapon set', 'wear prada', 'wearing mask', 'weary gunfighter', 'weather condition', 'weather terrain', 'weather underground', 'weave together', 'web deceit', 'web intrigue', 'wedding anniversary', 'wedding date', 'wedding day', 'wedding funeral', 'wedding planner', 'wedding reception', 'wedding ring', 'week later', 'week leading', 'week left', 'week wedding', 'weekend getaway', 'weekend lake', 'weekend summer', 'weekly visit', 'weird neighbor', 'well another', 'well classic', 'well come', 'well connected', 'well everything', 'well extraordinary', 'well family', 'well generally', 'well get', 'well happy', 'well human', 'well interview', 'well known', 'well lady', 'well new', 'well relationship', 'well return', 'well several', 'well theyre', 'well two', 'well way', 'wendy michael', 'went missing', 'went sour', 'went wrong', 'werent bad', 'werewolf michael', 'werner fassbinder', 'werner herzog', 'wes craven', 'west africa', 'west african', 'west berlin', 'west east', 'west find', 'west side', 'west texas', 'west town', 'west vacation', 'west virginia', 'west want', 'westboro baptist', 'western frontier', 'western germany', 'western pennsylvania', 'western town', 'whale trainer', 'whatever mean', 'whatever take', 'wherever go', 'whether go', 'whether he', 'whether like', 'whether love', 'whether shes', 'whether want', 'whisked away', 'white castle', 'white devil', 'white face', 'white father', 'white girl', 'white high', 'white house', 'white lie', 'white man', 'white rabbit', 'white shark', 'white supremacist', 'white woman', 'whiz kid', 'who always', 'who assigned', 'who blame', 'who desperate', 'who expecting', 'who forced', 'who hired', 'who installed', 'who love', 'who married', 'who moved', 'who sleeping', 'who still', 'who trouble', 'who using', 'who willing', 'whod rather', 'whole family', 'whole life', 'whole lot', 'whole new', 'whole story', 'whole thing', 'whole wide', 'whole world', 'wholl stop', 'whoopi goldberg', 'whose body', 'whose career', 'whose credit', 'whose daily', 'whose dark', 'whose dream', 'whose family', 'whose father', 'whose heart', 'whose husband', 'whose life', 'whose love', 'whose mother', 'whose murder', 'whose parent', 'whose plan', 'whose resident', 'whose romantic', 'whose son', 'whose wife', 'whose world', 'wicked witch', 'wide world', 'widely feared', 'widow lover', 'widow small', 'widowed mother', 'widowed woman', 'widower father', 'widower three', 'wife affair', 'wife alma', 'wife amanda', 'wife another', 'wife baby', 'wife back', 'wife belief', 'wife best', 'wife carol', 'wife charlotta', 'wife child', 'wife come', 'wife cynthia', 'wife daughter', 'wife death', 'wife died', 'wife disappointed', 'wife dy', 'wife elena', 'wife elizabeth', 'wife ellie', 'wife eventually', 'wife family', 'wife find', 'wife forced', 'wife friend', 'wife get', 'wife infidelity', 'wife instead', 'wife jane', 'wife kate', 'wife kathleen', 'wife kid', 'wife kidnapped', 'wife killed', 'wife killer', 'wife laura', 'wife leaf', 'wife leaving', 'wife left', 'wife lover', 'wife married', 'wife mistress', 'wife mother', 'wife murder', 'wife murdered', 'wife must', 'wife nora', 'wife one', 'wife pam', 'wife photographer', 'wife recently', 'wife rita', 'wife sally', 'wife seems', 'wife set', 'wife slovenly', 'wife son', 'wife suddenly', 'wife suicide', 'wife susan', 'wife take', 'wife taken', 'wife try', 'wife two', 'wife vicky', 'wife wealthy', 'wife work', 'wilbur pig', 'wild adventure', 'wild africa', 'wild animal', 'wild bachelor', 'wild bill', 'wild horse', 'wild man', 'wild night', 'wild party', 'wild way', 'wild west', 'wild young', 'wilderness girl', 'wildly successful', 'willem dafoe', 'william holden', 'william shakespeare', 'william shatner', 'william sherman', 'william wyler', 'willing anything', 'willing give', 'willing go', 'willing let', 'willing risk', 'willing take', 'willing whatever', 'willis former', 'wim wenders', 'win affection', 'win approval', 'win back', 'win big', 'win competition', 'win election', 'win even', 'win freedom', 'win friend', 'win heart', 'win lottery', 'win right', 'wind willow', 'windham beacham', 'winfield family', 'wing chun', 'wing yan', 'winner best', 'winner four', 'winner get', 'winner take', 'winnie pooh', 'winning back', 'winning film', 'winning heart', 'winter 1915', 'winter wonderland', 'wise men', 'wish become', 'wish child', 'wish come', 'wish could', 'wish granted', 'wish hed', 'wish join', 'wish never', 'wish take', 'witch hunter', 'witch mountain', 'witch queen', 'witch trial', 'within family', 'within government', 'within month', 'within reach', 'within system', 'within two', 'within wall', 'within world', 'without affect', 'without anything', 'without consequence', 'without ever', 'without explanation', 'without fight', 'without following', 'without getting', 'without knowing', 'without knowledge', 'without price', 'without revealing', 'without telling', 'without trace', 'without warning', 'without word', 'witness brutal', 'witness father', 'witness first', 'witness mob', 'witness murder', 'witness obsession', 'witness protection', 'witty romantic', 'wizard gargamel', 'wolf man', 'woman accused', 'woman across', 'woman also', 'woman another', 'woman appears', 'woman around', 'woman aspires', 'woman attempt', 'woman banned', 'woman become', 'woman becomes', 'woman child', 'woman claiming', 'woman come', 'woman constantly', 'woman convicted', 'woman daughter', 'woman deal', 'woman deckhand', 'woman died', 'woman disappears', 'woman discover', 'woman discovers', 'woman discus', 'woman doesnt', 'woman dream', 'woman embark', 'woman end', 'woman enters', 'woman escape', 'woman eve', 'woman even', 'woman fall', 'woman family', 'woman find', 'woman foot', 'woman force', 'woman forced', 'woman friend', 'woman get', 'woman group', 'woman haunted', 'woman help', 'woman home', 'woman house', 'woman husband', 'woman including', 'woman inherits', 'woman join', 'woman known', 'woman late', 'woman left', 'woman life', 'woman like', 'woman little', 'woman living', 'woman love', 'woman loved', 'woman lover', 'woman low', 'woman make', 'woman married', 'woman marries', 'woman may', 'woman meet', 'woman might', 'woman miss', 'woman mother', 'woman murdered', 'woman must', 'woman named', 'woman never', 'woman new', 'woman one', 'woman outside', 'woman past', 'woman played', 'woman put', 'woman really', 'woman recently', 'woman remember', 'woman return', 'woman romantically', 'woman run', 'woman saved', 'woman say', 'woman search', 'woman searching', 'woman secret', 'woman seems', 'woman sent', 'woman separated', 'woman set', 'woman shortly', 'woman slip', 'woman soon', 'woman start', 'woman stay', 'woman steal', 'woman struggle', 'woman suddenly', 'woman suffering', 'woman suffers', 'woman susan', 'woman suspect', 'woman take', 'woman teen', 'woman tell', 'woman three', 'woman trapped', 'woman try', 'woman turn', 'woman unexpectedly', 'woman us', 'woman waiting', 'woman want', 'woman way', 'woman wearing', 'woman who', 'woman whose', 'woman win', 'woman work', 'woman working', 'woman young', 'womanizer meet', 'wonder he', 'wonder life', 'wonder love', 'wonder may', 'wonder whether', 'wondering theyre', 'wonderland struggle', 'wong feihung', 'wont easy', 'wont give', 'wont let', 'wont stay', 'wont take', 'wood day', 'wood find', 'woodstock music', 'woody allen', 'woody andys', 'woody guthrie', 'woody harrelson', 'woolly mammoth', 'word come', 'word take', 'word word', 'work also', 'work art', 'work artist', 'work attorney', 'work cant', 'work circus', 'work come', 'work cut', 'work factory', 'work family', 'work fashion', 'work fbi', 'work find', 'work getting', 'work hard', 'work he', 'work janitor', 'work leonardo', 'work lifeguard', 'work local', 'work music', 'work next', 'work night', 'work one', 'work pair', 'work park', 'work play', 'work problem', 'work reporter', 'work rewriting', 'work star', 'work take', 'work talk', 'work three', 'work together', 'work two', 'work want', 'work way', 'work well', 'work woman', 'worked hard', 'worker dark', 'worker fall', 'worker find', 'worker who', 'working class', 'working condition', 'working father', 'working girl', 'working new', 'working prostitute', 'working spy', 'working together', 'working undercover', 'world adventure', 'world along', 'world apart', 'world around', 'world back', 'world become', 'world becomes', 'world best', 'world better', 'world biggest', 'world book', 'world brink', 'world certain', 'world champion', 'world championship', 'world change', 'world chaos', 'world child', 'world come', 'world computer', 'world corporate', 'world created', 'world crime', 'world cup', 'world dangerous', 'world different', 'world dominated', 'world domination', 'world drug', 'world economy', 'world end', 'world ended', 'world entei', 'world event', 'world everyone', 'world everything', 'world fair', 'world fall', 'world famous', 'world fantasia', 'world far', 'world filled', 'world film', 'world find', 'world first', 'world five', 'world follows', 'world freedom', 'world full', 'world future', 'world global', 'world government', 'world great', 'world greatest', 'world heavyweight', 'world high', 'world however', 'world human', 'world illegal', 'world international', 'world know', 'world largest', 'world last', 'world leader', 'world led', 'world life', 'world living', 'world look', 'world make', 'world meanwhile', 'world movie', 'world murder', 'world must', 'world new', 'world one', 'world outside', 'world overcome', 'world population', 'world powerful', 'world ravaged', 'world real', 'world reality', 'world realizing', 'world really', 'world record', 'world risk', 'world ruled', 'world second', 'world seems', 'world series', 'world sex', 'world shaken', 'world still', 'world superman', 'world taken', 'world three', 'world tour', 'world trade', 'world turned', 'world unravels', 'world upside', 'world view', 'world war', 'world watching', 'world weary', 'world world', 'world worst', 'world wrestling', 'world young', 'worldclass athlete', 'worm way', 'worry one', 'worse christine', 'worse get', 'worse husband', 'worship god', 'worst fear', 'worst nightmare', 'worth living', 'worth million', 'worth saving', 'would anything', 'would come', 'would destroy', 'would end', 'would get', 'would go', 'would last', 'would lead', 'would like', 'would make', 'would marry', 'would never', 'would rather', 'would reach', 'would take', 'would try', 'wreak havoc', 'wreaking havoc', 'wreaks havoc', 'wrestling coach', 'wrestling federation', 'wright digital', 'wright playing', 'wristwatch amidst', 'write book', 'write novel', 'writer block', 'writer director', 'writer find', 'writer get', 'writer james', 'writer named', 'writer paul', 'writer whose', 'writer wife', 'writes novel', 'writing story', 'written directed', 'wrong crowd', 'wrong go', 'wrong man', 'wrong past', 'wrong side', 'wrong turn', 'wrong way', 'wrongfully accused', 'wrongly accused', 'wrongly imprisoned', 'wrote directed', 'wrote screenplay', 'ww ii', 'wwii nazi', 'wwii veteran', 'wyatt earp', 'xbox game', 'xmen must', 'yard sale', 'year 2025', 'year 2029', 'year 20th', 'year absence', 'year ago', 'year american', 'year apart', 'year award', 'year back', 'year battle', 'year beloved', 'year catacomb', 'year child', 'year college', 'year death', 'year dedicated', 'year earlier', 'year earth', 'year end', 'year eve', 'year event', 'year exile', 'year face', 'year father', 'year film', 'year finally', 'year first', 'year four', 'year future', 'year group', 'year half', 'year he', 'year high', 'year highschool', 'year hogwarts', 'year jail', 'year junior', 'year konrad', 'year later', 'year left', 'year life', 'year living', 'year making', 'year many', 'year marriage', 'year memory', 'year murder', 'year new', 'year old', 'year one', 'year order', 'year original', 'year pas', 'year passed', 'year past', 'year prison', 'year return', 'year road', 'year school', 'year searching', 'year since', 'year slavery', 'year successful', 'year there', 'year three', 'year time', 'year tom', 'year traveling', 'year trying', 'year two', 'year wait', 'year want', 'year war', 'year without', 'year working', 'year world', 'year younger', 'yearold boy', 'yearold daughter', 'yet another', 'yet continues', 'yet despite', 'yet find', 'yet go', 'yet one', 'yet protect', 'yet somehow', 'yet thing', 'yoko ono', 'york apartment', 'york architect', 'york armed', 'york artist', 'york based', 'york city', 'york cop', 'york detective', 'york family', 'york famous', 'york financial', 'york find', 'york first', 'york gang', 'york get', 'york high', 'york lead', 'york love', 'york magazine', 'york nightclub', 'york one', 'york paris', 'york police', 'york publisher', 'york reporter', 'york society', 'york three', 'york time', 'york using', 'york work', 'york world', 'york yankee', 'york young', 'young actress', 'young adult', 'young advertising', 'young afghan', 'young african', 'young africanamerican', 'young age', 'young agent', 'young alice', 'young american', 'young aristocrat', 'young attorney', 'young black', 'young boy', 'young brother', 'young businessman', 'young charge', 'young child', 'young cop', 'young couple', 'young dancer', 'young dartagnan', 'young daughter', 'young doctor', 'young english', 'young excon', 'young executive', 'young farmer', 'young father', 'young female', 'young fighter', 'young french', 'young friend', 'young gay', 'young girl', 'young heart', 'young heir', 'young hitchhiker', 'young housewife', 'young human', 'young jewish', 'young journalist', 'young kid', 'young lady', 'young lawyer', 'young life', 'young lover', 'young man', 'young marine', 'young married', 'young martial', 'young men', 'young midwesterner', 'young monk', 'young mother', 'young mouse', 'young naive', 'young niece', 'young novelist', 'young novice', 'young nun', 'young nurse', 'young offender', 'young officer', 'young old', 'young orphan', 'young outsider', 'young parisian', 'young people', 'young photographer', 'young pilot', 'young playboy', 'young poet', 'young police', 'young prince', 'young prostitute', 'young punk', 'young rebellious', 'young robot', 'young scientist', 'young singer', 'young sister', 'young soldier', 'young son', 'young spanish', 'young star', 'young starlet', 'young street', 'young student', 'young successor', 'young teacher', 'young teen', 'young teenage', 'young teenager', 'young twenty', 'young vibrant', 'young vincent', 'young waitress', 'young warrior', 'young white', 'young widow', 'young wife', 'young wizard', 'young woman', 'young writer', 'younger brother', 'younger man', 'younger mentally', 'younger self', 'younger sibling', 'younger sister', 'younger son', 'younger woman', 'youngest daughter', 'youngest son', 'youth culture', 'youth vitality', 'youthful appearance', 'youve got', 'youve never', 'zac efron', 'zach confronts', 'zak gibbs', 'zak quickly', 'zenon kar', 'zola paris', 'zombie film', 'zombie outbreak', 'zombie survivor', 'zooey deschanel']\n"
     ]
    },
    {
     "name": "stderr",
     "output_type": "stream",
     "text": [
      "C:\\Users\\USER\\anaconda3\\lib\\site-packages\\sklearn\\utils\\deprecation.py:87: FutureWarning: Function get_feature_names is deprecated; get_feature_names is deprecated in 1.0 and will be removed in 1.2. Please use get_feature_names_out instead.\n",
      "  warnings.warn(msg, category=FutureWarning)\n"
     ]
    }
   ],
   "source": [
    "#transforming the cleaned overview column to arrays\n",
    "\n",
    "from sklearn.feature_extraction.text import TfidfVectorizer\n",
    "vectorizer = TfidfVectorizer(min_df=2, max_df=0.7 ,ngram_range=(2,2))\n",
    "vectors= vectorizer.fit_transform(movies_df['overview'])\n",
    "print(vectorizer.get_feature_names())"
   ]
  },
  {
   "cell_type": "code",
   "execution_count": 11,
   "id": "875db836",
   "metadata": {
    "hide_input": false
   },
   "outputs": [
    {
     "data": {
      "text/html": [
       "<div>\n",
       "<style scoped>\n",
       "    .dataframe tbody tr th:only-of-type {\n",
       "        vertical-align: middle;\n",
       "    }\n",
       "\n",
       "    .dataframe tbody tr th {\n",
       "        vertical-align: top;\n",
       "    }\n",
       "\n",
       "    .dataframe thead th {\n",
       "        text-align: right;\n",
       "    }\n",
       "</style>\n",
       "<table border=\"1\" class=\"dataframe\">\n",
       "  <thead>\n",
       "    <tr style=\"text-align: right;\">\n",
       "      <th></th>\n",
       "      <th>00 agent</th>\n",
       "      <th>10 million</th>\n",
       "      <th>10 month</th>\n",
       "      <th>10 year</th>\n",
       "      <th>100 million</th>\n",
       "      <th>10year old</th>\n",
       "      <th>10yearold boy</th>\n",
       "      <th>10yearold daughter</th>\n",
       "      <th>10yearold girl</th>\n",
       "      <th>11 year</th>\n",
       "      <th>...</th>\n",
       "      <th>zac efron</th>\n",
       "      <th>zach confronts</th>\n",
       "      <th>zak gibbs</th>\n",
       "      <th>zak quickly</th>\n",
       "      <th>zenon kar</th>\n",
       "      <th>zola paris</th>\n",
       "      <th>zombie film</th>\n",
       "      <th>zombie outbreak</th>\n",
       "      <th>zombie survivor</th>\n",
       "      <th>zooey deschanel</th>\n",
       "    </tr>\n",
       "    <tr>\n",
       "      <th>title</th>\n",
       "      <th></th>\n",
       "      <th></th>\n",
       "      <th></th>\n",
       "      <th></th>\n",
       "      <th></th>\n",
       "      <th></th>\n",
       "      <th></th>\n",
       "      <th></th>\n",
       "      <th></th>\n",
       "      <th></th>\n",
       "      <th></th>\n",
       "      <th></th>\n",
       "      <th></th>\n",
       "      <th></th>\n",
       "      <th></th>\n",
       "      <th></th>\n",
       "      <th></th>\n",
       "      <th></th>\n",
       "      <th></th>\n",
       "      <th></th>\n",
       "      <th></th>\n",
       "    </tr>\n",
       "  </thead>\n",
       "  <tbody>\n",
       "    <tr>\n",
       "      <th>Toy Story</th>\n",
       "      <td>0.0</td>\n",
       "      <td>0.0</td>\n",
       "      <td>0.0</td>\n",
       "      <td>0.0</td>\n",
       "      <td>0.0</td>\n",
       "      <td>0.0</td>\n",
       "      <td>0.0</td>\n",
       "      <td>0.0</td>\n",
       "      <td>0.0</td>\n",
       "      <td>0.0</td>\n",
       "      <td>...</td>\n",
       "      <td>0.0</td>\n",
       "      <td>0.0</td>\n",
       "      <td>0.0</td>\n",
       "      <td>0.0</td>\n",
       "      <td>0.0</td>\n",
       "      <td>0.0</td>\n",
       "      <td>0.0</td>\n",
       "      <td>0.0</td>\n",
       "      <td>0.0</td>\n",
       "      <td>0.0</td>\n",
       "    </tr>\n",
       "    <tr>\n",
       "      <th>Jumanji</th>\n",
       "      <td>0.0</td>\n",
       "      <td>0.0</td>\n",
       "      <td>0.0</td>\n",
       "      <td>0.0</td>\n",
       "      <td>0.0</td>\n",
       "      <td>0.0</td>\n",
       "      <td>0.0</td>\n",
       "      <td>0.0</td>\n",
       "      <td>0.0</td>\n",
       "      <td>0.0</td>\n",
       "      <td>...</td>\n",
       "      <td>0.0</td>\n",
       "      <td>0.0</td>\n",
       "      <td>0.0</td>\n",
       "      <td>0.0</td>\n",
       "      <td>0.0</td>\n",
       "      <td>0.0</td>\n",
       "      <td>0.0</td>\n",
       "      <td>0.0</td>\n",
       "      <td>0.0</td>\n",
       "      <td>0.0</td>\n",
       "    </tr>\n",
       "    <tr>\n",
       "      <th>Grumpier Old Men</th>\n",
       "      <td>0.0</td>\n",
       "      <td>0.0</td>\n",
       "      <td>0.0</td>\n",
       "      <td>0.0</td>\n",
       "      <td>0.0</td>\n",
       "      <td>0.0</td>\n",
       "      <td>0.0</td>\n",
       "      <td>0.0</td>\n",
       "      <td>0.0</td>\n",
       "      <td>0.0</td>\n",
       "      <td>...</td>\n",
       "      <td>0.0</td>\n",
       "      <td>0.0</td>\n",
       "      <td>0.0</td>\n",
       "      <td>0.0</td>\n",
       "      <td>0.0</td>\n",
       "      <td>0.0</td>\n",
       "      <td>0.0</td>\n",
       "      <td>0.0</td>\n",
       "      <td>0.0</td>\n",
       "      <td>0.0</td>\n",
       "    </tr>\n",
       "    <tr>\n",
       "      <th>Waiting to Exhale</th>\n",
       "      <td>0.0</td>\n",
       "      <td>0.0</td>\n",
       "      <td>0.0</td>\n",
       "      <td>0.0</td>\n",
       "      <td>0.0</td>\n",
       "      <td>0.0</td>\n",
       "      <td>0.0</td>\n",
       "      <td>0.0</td>\n",
       "      <td>0.0</td>\n",
       "      <td>0.0</td>\n",
       "      <td>...</td>\n",
       "      <td>0.0</td>\n",
       "      <td>0.0</td>\n",
       "      <td>0.0</td>\n",
       "      <td>0.0</td>\n",
       "      <td>0.0</td>\n",
       "      <td>0.0</td>\n",
       "      <td>0.0</td>\n",
       "      <td>0.0</td>\n",
       "      <td>0.0</td>\n",
       "      <td>0.0</td>\n",
       "    </tr>\n",
       "    <tr>\n",
       "      <th>Father of the Bride Part II</th>\n",
       "      <td>0.0</td>\n",
       "      <td>0.0</td>\n",
       "      <td>0.0</td>\n",
       "      <td>0.0</td>\n",
       "      <td>0.0</td>\n",
       "      <td>0.0</td>\n",
       "      <td>0.0</td>\n",
       "      <td>0.0</td>\n",
       "      <td>0.0</td>\n",
       "      <td>0.0</td>\n",
       "      <td>...</td>\n",
       "      <td>0.0</td>\n",
       "      <td>0.0</td>\n",
       "      <td>0.0</td>\n",
       "      <td>0.0</td>\n",
       "      <td>0.0</td>\n",
       "      <td>0.0</td>\n",
       "      <td>0.0</td>\n",
       "      <td>0.0</td>\n",
       "      <td>0.0</td>\n",
       "      <td>0.0</td>\n",
       "    </tr>\n",
       "  </tbody>\n",
       "</table>\n",
       "<p>5 rows × 18853 columns</p>\n",
       "</div>"
      ],
      "text/plain": [
       "                             00 agent  10 million  10 month  10 year  \\\n",
       "title                                                                  \n",
       "Toy Story                         0.0         0.0       0.0      0.0   \n",
       "Jumanji                           0.0         0.0       0.0      0.0   \n",
       "Grumpier Old Men                  0.0         0.0       0.0      0.0   \n",
       "Waiting to Exhale                 0.0         0.0       0.0      0.0   \n",
       "Father of the Bride Part II       0.0         0.0       0.0      0.0   \n",
       "\n",
       "                             100 million  10year old  10yearold boy  \\\n",
       "title                                                                 \n",
       "Toy Story                            0.0         0.0            0.0   \n",
       "Jumanji                              0.0         0.0            0.0   \n",
       "Grumpier Old Men                     0.0         0.0            0.0   \n",
       "Waiting to Exhale                    0.0         0.0            0.0   \n",
       "Father of the Bride Part II          0.0         0.0            0.0   \n",
       "\n",
       "                             10yearold daughter  10yearold girl  11 year  ...  \\\n",
       "title                                                                     ...   \n",
       "Toy Story                                   0.0             0.0      0.0  ...   \n",
       "Jumanji                                     0.0             0.0      0.0  ...   \n",
       "Grumpier Old Men                            0.0             0.0      0.0  ...   \n",
       "Waiting to Exhale                           0.0             0.0      0.0  ...   \n",
       "Father of the Bride Part II                 0.0             0.0      0.0  ...   \n",
       "\n",
       "                             zac efron  zach confronts  zak gibbs  \\\n",
       "title                                                               \n",
       "Toy Story                          0.0             0.0        0.0   \n",
       "Jumanji                            0.0             0.0        0.0   \n",
       "Grumpier Old Men                   0.0             0.0        0.0   \n",
       "Waiting to Exhale                  0.0             0.0        0.0   \n",
       "Father of the Bride Part II        0.0             0.0        0.0   \n",
       "\n",
       "                             zak quickly  zenon kar  zola paris  zombie film  \\\n",
       "title                                                                          \n",
       "Toy Story                            0.0        0.0         0.0          0.0   \n",
       "Jumanji                              0.0        0.0         0.0          0.0   \n",
       "Grumpier Old Men                     0.0        0.0         0.0          0.0   \n",
       "Waiting to Exhale                    0.0        0.0         0.0          0.0   \n",
       "Father of the Bride Part II          0.0        0.0         0.0          0.0   \n",
       "\n",
       "                             zombie outbreak  zombie survivor  zooey deschanel  \n",
       "title                                                                           \n",
       "Toy Story                                0.0              0.0              0.0  \n",
       "Jumanji                                  0.0              0.0              0.0  \n",
       "Grumpier Old Men                         0.0              0.0              0.0  \n",
       "Waiting to Exhale                        0.0              0.0              0.0  \n",
       "Father of the Bride Part II              0.0              0.0              0.0  \n",
       "\n",
       "[5 rows x 18853 columns]"
      ]
     },
     "execution_count": 11,
     "metadata": {},
     "output_type": "execute_result"
    }
   ],
   "source": [
    "#create a dataframe using the feature_names and arrays\n",
    "tfidf_df = pd.DataFrame(vectors.toarray(), columns=vectorizer.get_feature_names())\n",
    "tfidf_df.index = movies_df['title']\n",
    "tfidf_df.head()"
   ]
  },
  {
   "cell_type": "markdown",
   "id": "36f7ea9a",
   "metadata": {},
   "source": [
    "## **Recommendation System**\n",
    "\n",
    "Here, the cosine similarities of the overview column will be calculated using cosine_similarity from sklearn.\n",
    "\n",
    "From the calculated cosine similarities I will be creating a recommendation engine that recommends movies that has same similarities as the movie named typed.  Also, I will be creating a widget for easy display of the names."
   ]
  },
  {
   "cell_type": "code",
   "execution_count": 12,
   "id": "166f5476",
   "metadata": {
    "hide_input": false
   },
   "outputs": [
    {
     "data": {
      "text/html": [
       "<div>\n",
       "<style scoped>\n",
       "    .dataframe tbody tr th:only-of-type {\n",
       "        vertical-align: middle;\n",
       "    }\n",
       "\n",
       "    .dataframe tbody tr th {\n",
       "        vertical-align: top;\n",
       "    }\n",
       "\n",
       "    .dataframe thead th {\n",
       "        text-align: right;\n",
       "    }\n",
       "</style>\n",
       "<table border=\"1\" class=\"dataframe\">\n",
       "  <thead>\n",
       "    <tr style=\"text-align: right;\">\n",
       "      <th>title</th>\n",
       "      <th>Toy Story</th>\n",
       "      <th>Jumanji</th>\n",
       "      <th>Grumpier Old Men</th>\n",
       "      <th>Waiting to Exhale</th>\n",
       "      <th>Father of the Bride Part II</th>\n",
       "      <th>Heat</th>\n",
       "      <th>Sabrina</th>\n",
       "      <th>Tom and Huck</th>\n",
       "      <th>Sudden Death</th>\n",
       "      <th>GoldenEye</th>\n",
       "      <th>...</th>\n",
       "      <th>Author: The JT LeRoy Story</th>\n",
       "      <th>Hell or High Water</th>\n",
       "      <th>Kingsglaive: Final Fantasy XV</th>\n",
       "      <th>Body</th>\n",
       "      <th>Sharknado 4: The 4th Awakens</th>\n",
       "      <th>The Last Brickmaker in America</th>\n",
       "      <th>Rustom</th>\n",
       "      <th>Mohenjo Daro</th>\n",
       "      <th>Shin Godzilla</th>\n",
       "      <th>The Beatles: Eight Days a Week - The Touring Years</th>\n",
       "    </tr>\n",
       "    <tr>\n",
       "      <th>title</th>\n",
       "      <th></th>\n",
       "      <th></th>\n",
       "      <th></th>\n",
       "      <th></th>\n",
       "      <th></th>\n",
       "      <th></th>\n",
       "      <th></th>\n",
       "      <th></th>\n",
       "      <th></th>\n",
       "      <th></th>\n",
       "      <th></th>\n",
       "      <th></th>\n",
       "      <th></th>\n",
       "      <th></th>\n",
       "      <th></th>\n",
       "      <th></th>\n",
       "      <th></th>\n",
       "      <th></th>\n",
       "      <th></th>\n",
       "      <th></th>\n",
       "      <th></th>\n",
       "    </tr>\n",
       "  </thead>\n",
       "  <tbody>\n",
       "    <tr>\n",
       "      <th>Toy Story</th>\n",
       "      <td>1.0</td>\n",
       "      <td>0.0</td>\n",
       "      <td>0.0</td>\n",
       "      <td>0.0</td>\n",
       "      <td>0.0</td>\n",
       "      <td>0.0</td>\n",
       "      <td>0.0</td>\n",
       "      <td>0.0</td>\n",
       "      <td>0.0</td>\n",
       "      <td>0.0</td>\n",
       "      <td>...</td>\n",
       "      <td>0.0</td>\n",
       "      <td>0.0</td>\n",
       "      <td>0.0</td>\n",
       "      <td>0.0</td>\n",
       "      <td>0.0</td>\n",
       "      <td>0.0</td>\n",
       "      <td>0.0</td>\n",
       "      <td>0.0</td>\n",
       "      <td>0.0</td>\n",
       "      <td>0.0</td>\n",
       "    </tr>\n",
       "    <tr>\n",
       "      <th>Jumanji</th>\n",
       "      <td>0.0</td>\n",
       "      <td>1.0</td>\n",
       "      <td>0.0</td>\n",
       "      <td>0.0</td>\n",
       "      <td>0.0</td>\n",
       "      <td>0.0</td>\n",
       "      <td>0.0</td>\n",
       "      <td>0.0</td>\n",
       "      <td>0.0</td>\n",
       "      <td>0.0</td>\n",
       "      <td>...</td>\n",
       "      <td>0.0</td>\n",
       "      <td>0.0</td>\n",
       "      <td>0.0</td>\n",
       "      <td>0.0</td>\n",
       "      <td>0.0</td>\n",
       "      <td>0.0</td>\n",
       "      <td>0.0</td>\n",
       "      <td>0.0</td>\n",
       "      <td>0.0</td>\n",
       "      <td>0.0</td>\n",
       "    </tr>\n",
       "    <tr>\n",
       "      <th>Grumpier Old Men</th>\n",
       "      <td>0.0</td>\n",
       "      <td>0.0</td>\n",
       "      <td>1.0</td>\n",
       "      <td>0.0</td>\n",
       "      <td>0.0</td>\n",
       "      <td>0.0</td>\n",
       "      <td>0.0</td>\n",
       "      <td>0.0</td>\n",
       "      <td>0.0</td>\n",
       "      <td>0.0</td>\n",
       "      <td>...</td>\n",
       "      <td>0.0</td>\n",
       "      <td>0.0</td>\n",
       "      <td>0.0</td>\n",
       "      <td>0.0</td>\n",
       "      <td>0.0</td>\n",
       "      <td>0.0</td>\n",
       "      <td>0.0</td>\n",
       "      <td>0.0</td>\n",
       "      <td>0.0</td>\n",
       "      <td>0.0</td>\n",
       "    </tr>\n",
       "    <tr>\n",
       "      <th>Waiting to Exhale</th>\n",
       "      <td>0.0</td>\n",
       "      <td>0.0</td>\n",
       "      <td>0.0</td>\n",
       "      <td>1.0</td>\n",
       "      <td>0.0</td>\n",
       "      <td>0.0</td>\n",
       "      <td>0.0</td>\n",
       "      <td>0.0</td>\n",
       "      <td>0.0</td>\n",
       "      <td>0.0</td>\n",
       "      <td>...</td>\n",
       "      <td>0.0</td>\n",
       "      <td>0.0</td>\n",
       "      <td>0.0</td>\n",
       "      <td>0.0</td>\n",
       "      <td>0.0</td>\n",
       "      <td>0.0</td>\n",
       "      <td>0.0</td>\n",
       "      <td>0.0</td>\n",
       "      <td>0.0</td>\n",
       "      <td>0.0</td>\n",
       "    </tr>\n",
       "    <tr>\n",
       "      <th>Father of the Bride Part II</th>\n",
       "      <td>0.0</td>\n",
       "      <td>0.0</td>\n",
       "      <td>0.0</td>\n",
       "      <td>0.0</td>\n",
       "      <td>1.0</td>\n",
       "      <td>0.0</td>\n",
       "      <td>0.0</td>\n",
       "      <td>0.0</td>\n",
       "      <td>0.0</td>\n",
       "      <td>0.0</td>\n",
       "      <td>...</td>\n",
       "      <td>0.0</td>\n",
       "      <td>0.0</td>\n",
       "      <td>0.0</td>\n",
       "      <td>0.0</td>\n",
       "      <td>0.0</td>\n",
       "      <td>0.0</td>\n",
       "      <td>0.0</td>\n",
       "      <td>0.0</td>\n",
       "      <td>0.0</td>\n",
       "      <td>0.0</td>\n",
       "    </tr>\n",
       "  </tbody>\n",
       "</table>\n",
       "<p>5 rows × 9099 columns</p>\n",
       "</div>"
      ],
      "text/plain": [
       "title                        Toy Story  Jumanji  Grumpier Old Men  \\\n",
       "title                                                               \n",
       "Toy Story                          1.0      0.0               0.0   \n",
       "Jumanji                            0.0      1.0               0.0   \n",
       "Grumpier Old Men                   0.0      0.0               1.0   \n",
       "Waiting to Exhale                  0.0      0.0               0.0   \n",
       "Father of the Bride Part II        0.0      0.0               0.0   \n",
       "\n",
       "title                        Waiting to Exhale  Father of the Bride Part II  \\\n",
       "title                                                                         \n",
       "Toy Story                                  0.0                          0.0   \n",
       "Jumanji                                    0.0                          0.0   \n",
       "Grumpier Old Men                           0.0                          0.0   \n",
       "Waiting to Exhale                          1.0                          0.0   \n",
       "Father of the Bride Part II                0.0                          1.0   \n",
       "\n",
       "title                        Heat  Sabrina  Tom and Huck  Sudden Death  \\\n",
       "title                                                                    \n",
       "Toy Story                     0.0      0.0           0.0           0.0   \n",
       "Jumanji                       0.0      0.0           0.0           0.0   \n",
       "Grumpier Old Men              0.0      0.0           0.0           0.0   \n",
       "Waiting to Exhale             0.0      0.0           0.0           0.0   \n",
       "Father of the Bride Part II   0.0      0.0           0.0           0.0   \n",
       "\n",
       "title                        GoldenEye  ...  Author: The JT LeRoy Story  \\\n",
       "title                                   ...                               \n",
       "Toy Story                          0.0  ...                         0.0   \n",
       "Jumanji                            0.0  ...                         0.0   \n",
       "Grumpier Old Men                   0.0  ...                         0.0   \n",
       "Waiting to Exhale                  0.0  ...                         0.0   \n",
       "Father of the Bride Part II        0.0  ...                         0.0   \n",
       "\n",
       "title                        Hell or High Water  \\\n",
       "title                                             \n",
       "Toy Story                                   0.0   \n",
       "Jumanji                                     0.0   \n",
       "Grumpier Old Men                            0.0   \n",
       "Waiting to Exhale                           0.0   \n",
       "Father of the Bride Part II                 0.0   \n",
       "\n",
       "title                        Kingsglaive: Final Fantasy XV  Body  \\\n",
       "title                                                              \n",
       "Toy Story                                              0.0   0.0   \n",
       "Jumanji                                                0.0   0.0   \n",
       "Grumpier Old Men                                       0.0   0.0   \n",
       "Waiting to Exhale                                      0.0   0.0   \n",
       "Father of the Bride Part II                            0.0   0.0   \n",
       "\n",
       "title                        Sharknado 4: The 4th Awakens  \\\n",
       "title                                                       \n",
       "Toy Story                                             0.0   \n",
       "Jumanji                                               0.0   \n",
       "Grumpier Old Men                                      0.0   \n",
       "Waiting to Exhale                                     0.0   \n",
       "Father of the Bride Part II                           0.0   \n",
       "\n",
       "title                        The Last Brickmaker in America  Rustom  \\\n",
       "title                                                                 \n",
       "Toy Story                                               0.0     0.0   \n",
       "Jumanji                                                 0.0     0.0   \n",
       "Grumpier Old Men                                        0.0     0.0   \n",
       "Waiting to Exhale                                       0.0     0.0   \n",
       "Father of the Bride Part II                             0.0     0.0   \n",
       "\n",
       "title                        Mohenjo Daro  Shin Godzilla  \\\n",
       "title                                                      \n",
       "Toy Story                             0.0            0.0   \n",
       "Jumanji                               0.0            0.0   \n",
       "Grumpier Old Men                      0.0            0.0   \n",
       "Waiting to Exhale                     0.0            0.0   \n",
       "Father of the Bride Part II           0.0            0.0   \n",
       "\n",
       "title                        The Beatles: Eight Days a Week - The Touring Years  \n",
       "title                                                                            \n",
       "Toy Story                                                                  0.0   \n",
       "Jumanji                                                                    0.0   \n",
       "Grumpier Old Men                                                           0.0   \n",
       "Waiting to Exhale                                                          0.0   \n",
       "Father of the Bride Part II                                                0.0   \n",
       "\n",
       "[5 rows x 9099 columns]"
      ]
     },
     "execution_count": 12,
     "metadata": {},
     "output_type": "execute_result"
    }
   ],
   "source": [
    "#calculating cosine similarities of columns\n",
    "from sklearn.metrics.pairwise import cosine_similarity\n",
    "\n",
    "cs_array = cosine_similarity(tfidf_df)\n",
    "\n",
    "cs_df = pd.DataFrame(cs_array, index=tfidf_df.index, columns=tfidf_df.index)\n",
    "\n",
    "cs_df.head()"
   ]
  },
  {
   "cell_type": "code",
   "execution_count": 13,
   "id": "3c554181",
   "metadata": {
    "hide_input": false
   },
   "outputs": [],
   "source": [
    "#define a function that sorts the calcualted similarity \n",
    "def sort_similarity(name):\n",
    "    recommendation = cs_df.loc[name,:].sort_values(ascending=False)\n",
    "    return recommendation.nlargest()"
   ]
  },
  {
   "cell_type": "code",
   "execution_count": 14,
   "id": "1cd0a890",
   "metadata": {
    "hide_input": false
   },
   "outputs": [
    {
     "data": {
      "application/vnd.jupyter.widget-view+json": {
       "model_id": "5baedfe8bbed4df8bc33447e7cc71fe6",
       "version_major": 2,
       "version_minor": 0
      },
      "text/plain": [
       "Text(value='Toy Story', description='Movie Title:')"
      ]
     },
     "metadata": {},
     "output_type": "display_data"
    },
    {
     "data": {
      "application/vnd.jupyter.widget-view+json": {
       "model_id": "a715548b02894395b0a83b02ce2615b8",
       "version_major": 2,
       "version_minor": 0
      },
      "text/plain": [
       "Output()"
      ]
     },
     "metadata": {},
     "output_type": "display_data"
    }
   ],
   "source": [
    "#recommendation system\n",
    "\n",
    "movie_input_name = widgets.Text(\n",
    "    value='Toy Story',\n",
    "    description='Movie Title:',\n",
    "    disabled = False\n",
    ")\n",
    "recommendation_list = widgets.Output()\n",
    "\n",
    "def on_type(data):\n",
    "    with recommendation_list:\n",
    "        recommendation_list.clear_output()\n",
    "        title = data['new']\n",
    "        if len(title) > 5:\n",
    "            results = search(title)\n",
    "            name = results.iloc[0]['title']\n",
    "            display(sort_similarity(name))\n",
    "            \n",
    "movie_input_name.observe(on_type, names='value')\n",
    "\n",
    "display(movie_input_name, recommendation_list)"
   ]
  },
  {
   "cell_type": "code",
   "execution_count": null,
   "id": "b96727df",
   "metadata": {
    "hide_input": true
   },
   "outputs": [],
   "source": []
  }
 ],
 "metadata": {
  "hide_input": false,
  "kernelspec": {
   "display_name": "Python 3 (ipykernel)",
   "language": "python",
   "name": "python3"
  },
  "language_info": {
   "codemirror_mode": {
    "name": "ipython",
    "version": 3
   },
   "file_extension": ".py",
   "mimetype": "text/x-python",
   "name": "python",
   "nbconvert_exporter": "python",
   "pygments_lexer": "ipython3",
   "version": "3.9.13"
  },
  "widgets": {
   "application/vnd.jupyter.widget-state+json": {
    "state": {
     "059db3127f814e8b887016205fd22ffd": {
      "model_module": "@jupyter-widgets/controls",
      "model_module_version": "1.5.0",
      "model_name": "DescriptionStyleModel",
      "state": {
       "description_width": ""
      }
     },
     "06c2dd8c0f0145dca9f6c9396d96d2d7": {
      "model_module": "@jupyter-widgets/controls",
      "model_module_version": "1.5.0",
      "model_name": "DescriptionStyleModel",
      "state": {
       "description_width": ""
      }
     },
     "0a4d0862a6a74cb194a16f6357308a38": {
      "model_module": "@jupyter-widgets/output",
      "model_module_version": "1.0.0",
      "model_name": "OutputModel",
      "state": {
       "layout": "IPY_MODEL_59039ebd4a994df4a99f84783a0d1d06",
       "outputs": [
        {
         "ename": "NameError",
         "evalue": "name 'name' is not defined",
         "output_type": "error",
         "traceback": [
          "\u001b[1;31m---------------------------------------------------------------------------\u001b[0m",
          "\u001b[1;31mNameError\u001b[0m                                 Traceback (most recent call last)",
          "\u001b[1;32m~\\AppData\\Local\\Temp\\ipykernel_21476\\2313086952.py\u001b[0m in \u001b[0;36mon_type\u001b[1;34m(data)\u001b[0m\n\u001b[0;32m     13\u001b[0m         \u001b[0mtitle\u001b[0m \u001b[1;33m=\u001b[0m \u001b[0mdata\u001b[0m\u001b[1;33m[\u001b[0m\u001b[1;34m'new'\u001b[0m\u001b[1;33m]\u001b[0m\u001b[1;33m\u001b[0m\u001b[1;33m\u001b[0m\u001b[0m\n\u001b[0;32m     14\u001b[0m         \u001b[1;32mif\u001b[0m \u001b[0mlen\u001b[0m\u001b[1;33m(\u001b[0m\u001b[0mtitle\u001b[0m\u001b[1;33m)\u001b[0m \u001b[1;33m>\u001b[0m \u001b[1;36m5\u001b[0m\u001b[1;33m:\u001b[0m\u001b[1;33m\u001b[0m\u001b[1;33m\u001b[0m\u001b[0m\n\u001b[1;32m---> 15\u001b[1;33m             \u001b[0mdisplay\u001b[0m\u001b[1;33m(\u001b[0m\u001b[0mcalc_similarity\u001b[0m\u001b[1;33m(\u001b[0m\u001b[0mname\u001b[0m\u001b[1;33m)\u001b[0m\u001b[1;33m)\u001b[0m\u001b[1;33m\u001b[0m\u001b[1;33m\u001b[0m\u001b[0m\n\u001b[0m\u001b[0;32m     16\u001b[0m \u001b[1;33m\u001b[0m\u001b[0m\n\u001b[0;32m     17\u001b[0m \u001b[0mmovie_input_name\u001b[0m\u001b[1;33m.\u001b[0m\u001b[0mobserve\u001b[0m\u001b[1;33m(\u001b[0m\u001b[0mon_type\u001b[0m\u001b[1;33m,\u001b[0m \u001b[0mnames\u001b[0m\u001b[1;33m=\u001b[0m\u001b[1;34m'value'\u001b[0m\u001b[1;33m)\u001b[0m\u001b[1;33m\u001b[0m\u001b[1;33m\u001b[0m\u001b[0m\n",
          "\u001b[1;31mNameError\u001b[0m: name 'name' is not defined"
         ]
        }
       ]
      }
     },
     "1369884791424c139ba01755b1aab30e": {
      "model_module": "@jupyter-widgets/base",
      "model_module_version": "1.2.0",
      "model_name": "LayoutModel",
      "state": {}
     },
     "20506864c8f64c06bcfb44f43a3c721d": {
      "model_module": "@jupyter-widgets/output",
      "model_module_version": "1.0.0",
      "model_name": "OutputModel",
      "state": {
       "layout": "IPY_MODEL_479d1cdcdb4c4f6796cbbeb6b4a2fc4a"
      }
     },
     "27f47aca1fd24f1e95f50d4cb16e5ec3": {
      "model_module": "@jupyter-widgets/base",
      "model_module_version": "1.2.0",
      "model_name": "LayoutModel",
      "state": {}
     },
     "287db796d6d844b29f57b3360bc4c420": {
      "model_module": "@jupyter-widgets/controls",
      "model_module_version": "1.5.0",
      "model_name": "DescriptionStyleModel",
      "state": {
       "description_width": ""
      }
     },
     "2efd9ee4d8c4443b8de3f677cc07d81c": {
      "model_module": "@jupyter-widgets/controls",
      "model_module_version": "1.5.0",
      "model_name": "DescriptionStyleModel",
      "state": {
       "description_width": ""
      }
     },
     "36b254f5891e4a49a2e278a6f3bd2df8": {
      "model_module": "@jupyter-widgets/base",
      "model_module_version": "1.2.0",
      "model_name": "LayoutModel",
      "state": {}
     },
     "390956226a054d37ae2ddd732e596700": {
      "model_module": "@jupyter-widgets/base",
      "model_module_version": "1.2.0",
      "model_name": "LayoutModel",
      "state": {}
     },
     "397b19344e964dbbb72c9b61530a82f2": {
      "model_module": "@jupyter-widgets/controls",
      "model_module_version": "1.5.0",
      "model_name": "DescriptionStyleModel",
      "state": {
       "description_width": ""
      }
     },
     "3b8246de003b44cd815435beb6fb0ae1": {
      "model_module": "@jupyter-widgets/controls",
      "model_module_version": "1.5.0",
      "model_name": "TextModel",
      "state": {
       "description": "Movie Title:",
       "layout": "IPY_MODEL_c6fba1a285f44c6d94545966456c0740",
       "style": "IPY_MODEL_c581bab6899548f8849d5ff1c690a5d5",
       "value": "Grumpier old"
      }
     },
     "3cff1b46b2ac43ab9aa1874ca81b9761": {
      "model_module": "@jupyter-widgets/base",
      "model_module_version": "1.2.0",
      "model_name": "LayoutModel",
      "state": {}
     },
     "3d06fc377cb648709984580d807584d2": {
      "model_module": "@jupyter-widgets/controls",
      "model_module_version": "1.5.0",
      "model_name": "DescriptionStyleModel",
      "state": {
       "description_width": ""
      }
     },
     "3deaa3ece5f144638c66bc956dfb7d2e": {
      "model_module": "@jupyter-widgets/controls",
      "model_module_version": "1.5.0",
      "model_name": "TextModel",
      "state": {
       "description": "Movie Title:",
       "layout": "IPY_MODEL_7cf2aa2411674e4196698e27cb8553b6",
       "style": "IPY_MODEL_dc3182d0f0d24696805e775464394f66",
       "value": "Toy Story"
      }
     },
     "3fb559fb034d493188863f2c84ddbeb2": {
      "model_module": "@jupyter-widgets/base",
      "model_module_version": "1.2.0",
      "model_name": "LayoutModel",
      "state": {}
     },
     "4339795c10284dffa75f876c7943f4de": {
      "model_module": "@jupyter-widgets/controls",
      "model_module_version": "1.5.0",
      "model_name": "DescriptionStyleModel",
      "state": {
       "description_width": ""
      }
     },
     "43ae3041b3564dce8511f75adff8f0ee": {
      "model_module": "@jupyter-widgets/controls",
      "model_module_version": "1.5.0",
      "model_name": "TextModel",
      "state": {
       "description": "Movie Title:",
       "layout": "IPY_MODEL_7419f1175a3045dd874348fbca336255",
       "style": "IPY_MODEL_3d06fc377cb648709984580d807584d2",
       "value": "Grumpier Old Men"
      }
     },
     "462f1ca0d80e43369bd0cb348c5321f2": {
      "model_module": "@jupyter-widgets/output",
      "model_module_version": "1.0.0",
      "model_name": "OutputModel",
      "state": {
       "layout": "IPY_MODEL_9174fc8ff6ec45fa9099e0ffa5828d6c",
       "outputs": [
        {
         "name": "stdout",
         "output_type": "stream",
         "text": "The Lord of the Rings: The Fellowship of the Ring    1.000000\nSurviving the Game                                   0.999409\nMy Name Is Nobody                                    0.997897\nTremors 3: Back to Perfection                        0.997168\nAngel Heart                                          0.997059\ndtype: float64\n"
        },
        {
         "data": {
          "text/plain": "None"
         },
         "metadata": {},
         "output_type": "display_data"
        }
       ]
      }
     },
     "479d1cdcdb4c4f6796cbbeb6b4a2fc4a": {
      "model_module": "@jupyter-widgets/base",
      "model_module_version": "1.2.0",
      "model_name": "LayoutModel",
      "state": {}
     },
     "4c03aebc879f4b9ea9608b3bf1a5fc37": {
      "model_module": "@jupyter-widgets/controls",
      "model_module_version": "1.5.0",
      "model_name": "TextModel",
      "state": {
       "description": "Movie Title:",
       "layout": "IPY_MODEL_51daa75b4a02468d921af61db8433011",
       "style": "IPY_MODEL_2efd9ee4d8c4443b8de3f677cc07d81c",
       "value": "Toy Story"
      }
     },
     "4cbecc7c812248b388b42bbcff4cfca4": {
      "model_module": "@jupyter-widgets/controls",
      "model_module_version": "1.5.0",
      "model_name": "TextModel",
      "state": {
       "description": "Movie Title:",
       "layout": "IPY_MODEL_9372f0bc456b47989b08850b67cfaa1e",
       "style": "IPY_MODEL_397b19344e964dbbb72c9b61530a82f2",
       "value": "Grumpier Old Men"
      }
     },
     "5047f5fa3cea404288303ed68e03edc2": {
      "model_module": "@jupyter-widgets/base",
      "model_module_version": "1.2.0",
      "model_name": "LayoutModel",
      "state": {}
     },
     "50a8ec397cb54ea89deadd796926efb8": {
      "model_module": "@jupyter-widgets/controls",
      "model_module_version": "1.5.0",
      "model_name": "DescriptionStyleModel",
      "state": {
       "description_width": ""
      }
     },
     "51daa75b4a02468d921af61db8433011": {
      "model_module": "@jupyter-widgets/base",
      "model_module_version": "1.2.0",
      "model_name": "LayoutModel",
      "state": {}
     },
     "5391b75f6ce64062ba395ea9527639c4": {
      "model_module": "@jupyter-widgets/controls",
      "model_module_version": "1.5.0",
      "model_name": "TextModel",
      "state": {
       "description": "Movie Title:",
       "layout": "IPY_MODEL_390956226a054d37ae2ddd732e596700",
       "style": "IPY_MODEL_06c2dd8c0f0145dca9f6c9396d96d2d7",
       "value": "Grumpier Old Men"
      }
     },
     "57317c49da254cc99e9bc72d97251d63": {
      "model_module": "@jupyter-widgets/output",
      "model_module_version": "1.0.0",
      "model_name": "OutputModel",
      "state": {
       "layout": "IPY_MODEL_d8e866c444e9472c8a2f34347be4a200"
      }
     },
     "59039ebd4a994df4a99f84783a0d1d06": {
      "model_module": "@jupyter-widgets/base",
      "model_module_version": "1.2.0",
      "model_name": "LayoutModel",
      "state": {}
     },
     "5b4fee7997f14d8f81d29a15574d28c3": {
      "model_module": "@jupyter-widgets/base",
      "model_module_version": "1.2.0",
      "model_name": "LayoutModel",
      "state": {}
     },
     "5c4708acbc9848f8ae69967d57e2c406": {
      "model_module": "@jupyter-widgets/output",
      "model_module_version": "1.0.0",
      "model_name": "OutputModel",
      "state": {
       "layout": "IPY_MODEL_af00031e6d474d698590a67bbcc6b92d"
      }
     },
     "5cd927edb2a943d1994845321f9f31e6": {
      "model_module": "@jupyter-widgets/controls",
      "model_module_version": "1.5.0",
      "model_name": "TextModel",
      "state": {
       "description": "Movie Title:",
       "layout": "IPY_MODEL_fe845e237b4e4f27a263f9b8c60db4e0",
       "style": "IPY_MODEL_868e74a32fa3462aa095e35d00631f3f",
       "value": "Toy Story"
      }
     },
     "60a1bad687b8498096add38da32a5c8d": {
      "model_module": "@jupyter-widgets/output",
      "model_module_version": "1.0.0",
      "model_name": "OutputModel",
      "state": {
       "layout": "IPY_MODEL_a59bc33ada974e169d845fd2c002b48a",
       "outputs": [
        {
         "ename": "TypeError",
         "evalue": "'numpy.ndarray' object is not callable",
         "output_type": "error",
         "traceback": [
          "\u001b[1;31m---------------------------------------------------------------------------\u001b[0m",
          "\u001b[1;31mTypeError\u001b[0m                                 Traceback (most recent call last)",
          "\u001b[1;32m~\\AppData\\Local\\Temp\\ipykernel_2196\\1736755929.py\u001b[0m in \u001b[0;36mon_type\u001b[1;34m(data)\u001b[0m\n\u001b[0;32m     14\u001b[0m         \u001b[0mtitle\u001b[0m \u001b[1;33m=\u001b[0m \u001b[0mdata\u001b[0m\u001b[1;33m[\u001b[0m\u001b[1;34m'new'\u001b[0m\u001b[1;33m]\u001b[0m\u001b[1;33m\u001b[0m\u001b[1;33m\u001b[0m\u001b[0m\n\u001b[0;32m     15\u001b[0m         \u001b[1;32mif\u001b[0m \u001b[0mlen\u001b[0m\u001b[1;33m(\u001b[0m\u001b[0mtitle\u001b[0m\u001b[1;33m)\u001b[0m \u001b[1;33m>\u001b[0m \u001b[1;36m5\u001b[0m\u001b[1;33m:\u001b[0m\u001b[1;33m\u001b[0m\u001b[1;33m\u001b[0m\u001b[0m\n\u001b[1;32m---> 16\u001b[1;33m             \u001b[0mdisplay\u001b[0m\u001b[1;33m(\u001b[0m\u001b[0msearch\u001b[0m\u001b[1;33m(\u001b[0m\u001b[0mtitle\u001b[0m\u001b[1;33m)\u001b[0m\u001b[1;33m)\u001b[0m\u001b[1;33m\u001b[0m\u001b[1;33m\u001b[0m\u001b[0m\n\u001b[0m\u001b[0;32m     17\u001b[0m \u001b[1;33m\u001b[0m\u001b[0m\n\u001b[0;32m     18\u001b[0m \u001b[0mmovie_input\u001b[0m\u001b[1;33m.\u001b[0m\u001b[0mobserve\u001b[0m\u001b[1;33m(\u001b[0m\u001b[0mon_type\u001b[0m\u001b[1;33m,\u001b[0m \u001b[0mnames\u001b[0m\u001b[1;33m=\u001b[0m\u001b[1;34m'value'\u001b[0m\u001b[1;33m)\u001b[0m\u001b[1;33m\u001b[0m\u001b[1;33m\u001b[0m\u001b[0m\n",
          "\u001b[1;32m~\\AppData\\Local\\Temp\\ipykernel_2196\\1169248269.py\u001b[0m in \u001b[0;36msearch\u001b[1;34m(title)\u001b[0m\n\u001b[0;32m      6\u001b[0m     \u001b[0mtitle\u001b[0m \u001b[1;33m=\u001b[0m \u001b[0mclean_title\u001b[0m\u001b[1;33m(\u001b[0m\u001b[0mtitle\u001b[0m\u001b[1;33m)\u001b[0m\u001b[1;33m\u001b[0m\u001b[1;33m\u001b[0m\u001b[0m\n\u001b[0;32m      7\u001b[0m     \u001b[0mvec\u001b[0m \u001b[1;33m=\u001b[0m \u001b[0mtfidf\u001b[0m\u001b[1;33m.\u001b[0m\u001b[0mtransform\u001b[0m\u001b[1;33m(\u001b[0m\u001b[1;33m[\u001b[0m\u001b[0mtitle\u001b[0m\u001b[1;33m]\u001b[0m\u001b[1;33m)\u001b[0m\u001b[1;33m\u001b[0m\u001b[1;33m\u001b[0m\u001b[0m\n\u001b[1;32m----> 8\u001b[1;33m     \u001b[0msimilarity\u001b[0m \u001b[1;33m=\u001b[0m \u001b[0mcosine_similarity\u001b[0m\u001b[1;33m(\u001b[0m\u001b[0mvec\u001b[0m\u001b[1;33m,\u001b[0m \u001b[0mtransformed_cl_title\u001b[0m\u001b[1;33m)\u001b[0m\u001b[1;33m.\u001b[0m\u001b[0mflatten\u001b[0m\u001b[1;33m(\u001b[0m\u001b[1;33m)\u001b[0m\u001b[1;33m\u001b[0m\u001b[1;33m\u001b[0m\u001b[0m\n\u001b[0m\u001b[0;32m      9\u001b[0m     \u001b[0mindices\u001b[0m \u001b[1;33m=\u001b[0m \u001b[0mnp\u001b[0m\u001b[1;33m.\u001b[0m\u001b[0margpartition\u001b[0m\u001b[1;33m(\u001b[0m\u001b[0msimilarity\u001b[0m\u001b[1;33m,\u001b[0m \u001b[1;33m-\u001b[0m\u001b[1;36m5\u001b[0m\u001b[1;33m)\u001b[0m\u001b[1;33m[\u001b[0m\u001b[1;33m-\u001b[0m\u001b[1;36m5\u001b[0m\u001b[1;33m:\u001b[0m\u001b[1;33m]\u001b[0m\u001b[1;33m\u001b[0m\u001b[1;33m\u001b[0m\u001b[0m\n\u001b[0;32m     10\u001b[0m     \u001b[0mresults\u001b[0m \u001b[1;33m=\u001b[0m \u001b[0mmovies_df\u001b[0m\u001b[1;33m.\u001b[0m\u001b[0miloc\u001b[0m\u001b[1;33m[\u001b[0m\u001b[0mindices\u001b[0m\u001b[1;33m]\u001b[0m\u001b[1;33m[\u001b[0m\u001b[1;33m:\u001b[0m\u001b[1;33m:\u001b[0m\u001b[1;33m-\u001b[0m\u001b[1;36m1\u001b[0m\u001b[1;33m]\u001b[0m\u001b[1;33m\u001b[0m\u001b[1;33m\u001b[0m\u001b[0m\n",
          "\u001b[1;31mTypeError\u001b[0m: 'numpy.ndarray' object is not callable"
         ]
        }
       ]
      }
     },
     "61fe2cafe96e4e13b258384b344c6d4e": {
      "model_module": "@jupyter-widgets/output",
      "model_module_version": "1.0.0",
      "model_name": "OutputModel",
      "state": {
       "layout": "IPY_MODEL_3cff1b46b2ac43ab9aa1874ca81b9761"
      }
     },
     "62081f0ef4804aa5bdf39bd92da46854": {
      "model_module": "@jupyter-widgets/output",
      "model_module_version": "1.0.0",
      "model_name": "OutputModel",
      "state": {
       "layout": "IPY_MODEL_f7948dca4b1140a280ed9a34fb11ebea",
       "outputs": [
        {
         "ename": "TypeError",
         "evalue": "'numpy.ndarray' object is not callable",
         "output_type": "error",
         "traceback": [
          "\u001b[1;31m---------------------------------------------------------------------------\u001b[0m",
          "\u001b[1;31mTypeError\u001b[0m                                 Traceback (most recent call last)",
          "\u001b[1;32m~\\AppData\\Local\\Temp\\ipykernel_21476\\1736755929.py\u001b[0m in \u001b[0;36mon_type\u001b[1;34m(data)\u001b[0m\n\u001b[0;32m     14\u001b[0m         \u001b[0mtitle\u001b[0m \u001b[1;33m=\u001b[0m \u001b[0mdata\u001b[0m\u001b[1;33m[\u001b[0m\u001b[1;34m'new'\u001b[0m\u001b[1;33m]\u001b[0m\u001b[1;33m\u001b[0m\u001b[1;33m\u001b[0m\u001b[0m\n\u001b[0;32m     15\u001b[0m         \u001b[1;32mif\u001b[0m \u001b[0mlen\u001b[0m\u001b[1;33m(\u001b[0m\u001b[0mtitle\u001b[0m\u001b[1;33m)\u001b[0m \u001b[1;33m>\u001b[0m \u001b[1;36m5\u001b[0m\u001b[1;33m:\u001b[0m\u001b[1;33m\u001b[0m\u001b[1;33m\u001b[0m\u001b[0m\n\u001b[1;32m---> 16\u001b[1;33m             \u001b[0mdisplay\u001b[0m\u001b[1;33m(\u001b[0m\u001b[0msearch\u001b[0m\u001b[1;33m(\u001b[0m\u001b[0mtitle\u001b[0m\u001b[1;33m)\u001b[0m\u001b[1;33m)\u001b[0m\u001b[1;33m\u001b[0m\u001b[1;33m\u001b[0m\u001b[0m\n\u001b[0m\u001b[0;32m     17\u001b[0m \u001b[1;33m\u001b[0m\u001b[0m\n\u001b[0;32m     18\u001b[0m \u001b[0mmovie_input\u001b[0m\u001b[1;33m.\u001b[0m\u001b[0mobserve\u001b[0m\u001b[1;33m(\u001b[0m\u001b[0mon_type\u001b[0m\u001b[1;33m,\u001b[0m \u001b[0mnames\u001b[0m\u001b[1;33m=\u001b[0m\u001b[1;34m'value'\u001b[0m\u001b[1;33m)\u001b[0m\u001b[1;33m\u001b[0m\u001b[1;33m\u001b[0m\u001b[0m\n",
          "\u001b[1;32m~\\AppData\\Local\\Temp\\ipykernel_21476\\1169248269.py\u001b[0m in \u001b[0;36msearch\u001b[1;34m(title)\u001b[0m\n\u001b[0;32m      6\u001b[0m     \u001b[0mtitle\u001b[0m \u001b[1;33m=\u001b[0m \u001b[0mclean_title\u001b[0m\u001b[1;33m(\u001b[0m\u001b[0mtitle\u001b[0m\u001b[1;33m)\u001b[0m\u001b[1;33m\u001b[0m\u001b[1;33m\u001b[0m\u001b[0m\n\u001b[0;32m      7\u001b[0m     \u001b[0mvec\u001b[0m \u001b[1;33m=\u001b[0m \u001b[0mtfidf\u001b[0m\u001b[1;33m.\u001b[0m\u001b[0mtransform\u001b[0m\u001b[1;33m(\u001b[0m\u001b[1;33m[\u001b[0m\u001b[0mtitle\u001b[0m\u001b[1;33m]\u001b[0m\u001b[1;33m)\u001b[0m\u001b[1;33m\u001b[0m\u001b[1;33m\u001b[0m\u001b[0m\n\u001b[1;32m----> 8\u001b[1;33m     \u001b[0msimilarity\u001b[0m \u001b[1;33m=\u001b[0m \u001b[0mcosine_similarity\u001b[0m\u001b[1;33m(\u001b[0m\u001b[0mvec\u001b[0m\u001b[1;33m,\u001b[0m \u001b[0mtransformed_cl_title\u001b[0m\u001b[1;33m)\u001b[0m\u001b[1;33m.\u001b[0m\u001b[0mflatten\u001b[0m\u001b[1;33m(\u001b[0m\u001b[1;33m)\u001b[0m\u001b[1;33m\u001b[0m\u001b[1;33m\u001b[0m\u001b[0m\n\u001b[0m\u001b[0;32m      9\u001b[0m     \u001b[0mindices\u001b[0m \u001b[1;33m=\u001b[0m \u001b[0mnp\u001b[0m\u001b[1;33m.\u001b[0m\u001b[0margpartition\u001b[0m\u001b[1;33m(\u001b[0m\u001b[0msimilarity\u001b[0m\u001b[1;33m,\u001b[0m \u001b[1;33m-\u001b[0m\u001b[1;36m5\u001b[0m\u001b[1;33m)\u001b[0m\u001b[1;33m[\u001b[0m\u001b[1;33m-\u001b[0m\u001b[1;36m5\u001b[0m\u001b[1;33m:\u001b[0m\u001b[1;33m]\u001b[0m\u001b[1;33m\u001b[0m\u001b[1;33m\u001b[0m\u001b[0m\n\u001b[0;32m     10\u001b[0m     \u001b[0mresults\u001b[0m \u001b[1;33m=\u001b[0m \u001b[0mmovies_df\u001b[0m\u001b[1;33m.\u001b[0m\u001b[0miloc\u001b[0m\u001b[1;33m[\u001b[0m\u001b[0mindices\u001b[0m\u001b[1;33m]\u001b[0m\u001b[1;33m[\u001b[0m\u001b[1;33m:\u001b[0m\u001b[1;33m:\u001b[0m\u001b[1;33m-\u001b[0m\u001b[1;36m1\u001b[0m\u001b[1;33m]\u001b[0m\u001b[1;33m\u001b[0m\u001b[1;33m\u001b[0m\u001b[0m\n",
          "\u001b[1;31mTypeError\u001b[0m: 'numpy.ndarray' object is not callable"
         ]
        }
       ]
      }
     },
     "632ad6cc03df4eec8984a6ac7d516aa4": {
      "model_module": "@jupyter-widgets/controls",
      "model_module_version": "1.5.0",
      "model_name": "TextModel",
      "state": {
       "description": "Movie Title:",
       "layout": "IPY_MODEL_cdeb5ab8ed864c9281847970e55d0222",
       "style": "IPY_MODEL_80146167587d459085b9015db477972c",
       "value": "The hulk"
      }
     },
     "634952899e844097b3f645176f1dd55e": {
      "model_module": "@jupyter-widgets/output",
      "model_module_version": "1.0.0",
      "model_name": "OutputModel",
      "state": {
       "layout": "IPY_MODEL_b76a180c50bc42c1b57fca1a0f335b94",
       "outputs": [
        {
         "ename": "NameError",
         "evalue": "name 'name' is not defined",
         "output_type": "error",
         "traceback": [
          "\u001b[1;31m---------------------------------------------------------------------------\u001b[0m",
          "\u001b[1;31mNameError\u001b[0m                                 Traceback (most recent call last)",
          "\u001b[1;32m~\\AppData\\Local\\Temp\\ipykernel_21476\\2313086952.py\u001b[0m in \u001b[0;36mon_type\u001b[1;34m(data)\u001b[0m\n\u001b[0;32m     13\u001b[0m         \u001b[0mtitle\u001b[0m \u001b[1;33m=\u001b[0m \u001b[0mdata\u001b[0m\u001b[1;33m[\u001b[0m\u001b[1;34m'new'\u001b[0m\u001b[1;33m]\u001b[0m\u001b[1;33m\u001b[0m\u001b[1;33m\u001b[0m\u001b[0m\n\u001b[0;32m     14\u001b[0m         \u001b[1;32mif\u001b[0m \u001b[0mlen\u001b[0m\u001b[1;33m(\u001b[0m\u001b[0mtitle\u001b[0m\u001b[1;33m)\u001b[0m \u001b[1;33m>\u001b[0m \u001b[1;36m5\u001b[0m\u001b[1;33m:\u001b[0m\u001b[1;33m\u001b[0m\u001b[1;33m\u001b[0m\u001b[0m\n\u001b[1;32m---> 15\u001b[1;33m             \u001b[0mdisplay\u001b[0m\u001b[1;33m(\u001b[0m\u001b[0mcalc_similarity\u001b[0m\u001b[1;33m(\u001b[0m\u001b[0mname\u001b[0m\u001b[1;33m)\u001b[0m\u001b[1;33m)\u001b[0m\u001b[1;33m\u001b[0m\u001b[1;33m\u001b[0m\u001b[0m\n\u001b[0m\u001b[0;32m     16\u001b[0m \u001b[1;33m\u001b[0m\u001b[0m\n\u001b[0;32m     17\u001b[0m \u001b[0mmovie_input_name\u001b[0m\u001b[1;33m.\u001b[0m\u001b[0mobserve\u001b[0m\u001b[1;33m(\u001b[0m\u001b[0mon_type\u001b[0m\u001b[1;33m,\u001b[0m \u001b[0mnames\u001b[0m\u001b[1;33m=\u001b[0m\u001b[1;34m'value'\u001b[0m\u001b[1;33m)\u001b[0m\u001b[1;33m\u001b[0m\u001b[1;33m\u001b[0m\u001b[0m\n",
          "\u001b[1;31mNameError\u001b[0m: name 'name' is not defined"
         ]
        }
       ]
      }
     },
     "6abbe977232f4c2cb6edecfd30b01a90": {
      "model_module": "@jupyter-widgets/output",
      "model_module_version": "1.0.0",
      "model_name": "OutputModel",
      "state": {
       "layout": "IPY_MODEL_c5d1aa7d94c7453ca235500456b594cf"
      }
     },
     "6e556578a2074ec49562f2874a1d7720": {
      "model_module": "@jupyter-widgets/controls",
      "model_module_version": "1.5.0",
      "model_name": "TextModel",
      "state": {
       "description": "Movie Title:",
       "layout": "IPY_MODEL_36b254f5891e4a49a2e278a6f3bd2df8",
       "style": "IPY_MODEL_4339795c10284dffa75f876c7943f4de",
       "value": "The hulk"
      }
     },
     "708251d6467847e5b556a0bb7c9dcd1d": {
      "model_module": "@jupyter-widgets/controls",
      "model_module_version": "1.5.0",
      "model_name": "DescriptionStyleModel",
      "state": {
       "description_width": ""
      }
     },
     "71046fc056d846e9b0755522f28f040f": {
      "model_module": "@jupyter-widgets/output",
      "model_module_version": "1.0.0",
      "model_name": "OutputModel",
      "state": {
       "layout": "IPY_MODEL_f22a961bdfee492eb0f7412875a46ef8",
       "outputs": [
        {
         "ename": "TypeError",
         "evalue": "'numpy.ndarray' object is not callable",
         "output_type": "error",
         "traceback": [
          "\u001b[1;31m---------------------------------------------------------------------------\u001b[0m",
          "\u001b[1;31mTypeError\u001b[0m                                 Traceback (most recent call last)",
          "\u001b[1;32m~\\AppData\\Local\\Temp\\ipykernel_2196\\1736755929.py\u001b[0m in \u001b[0;36mon_type\u001b[1;34m(data)\u001b[0m\n\u001b[0;32m     14\u001b[0m         \u001b[0mtitle\u001b[0m \u001b[1;33m=\u001b[0m \u001b[0mdata\u001b[0m\u001b[1;33m[\u001b[0m\u001b[1;34m'new'\u001b[0m\u001b[1;33m]\u001b[0m\u001b[1;33m\u001b[0m\u001b[1;33m\u001b[0m\u001b[0m\n\u001b[0;32m     15\u001b[0m         \u001b[1;32mif\u001b[0m \u001b[0mlen\u001b[0m\u001b[1;33m(\u001b[0m\u001b[0mtitle\u001b[0m\u001b[1;33m)\u001b[0m \u001b[1;33m>\u001b[0m \u001b[1;36m5\u001b[0m\u001b[1;33m:\u001b[0m\u001b[1;33m\u001b[0m\u001b[1;33m\u001b[0m\u001b[0m\n\u001b[1;32m---> 16\u001b[1;33m             \u001b[0mdisplay\u001b[0m\u001b[1;33m(\u001b[0m\u001b[0msearch\u001b[0m\u001b[1;33m(\u001b[0m\u001b[0mtitle\u001b[0m\u001b[1;33m)\u001b[0m\u001b[1;33m)\u001b[0m\u001b[1;33m\u001b[0m\u001b[1;33m\u001b[0m\u001b[0m\n\u001b[0m\u001b[0;32m     17\u001b[0m \u001b[1;33m\u001b[0m\u001b[0m\n\u001b[0;32m     18\u001b[0m \u001b[0mmovie_input\u001b[0m\u001b[1;33m.\u001b[0m\u001b[0mobserve\u001b[0m\u001b[1;33m(\u001b[0m\u001b[0mon_type\u001b[0m\u001b[1;33m,\u001b[0m \u001b[0mnames\u001b[0m\u001b[1;33m=\u001b[0m\u001b[1;34m'value'\u001b[0m\u001b[1;33m)\u001b[0m\u001b[1;33m\u001b[0m\u001b[1;33m\u001b[0m\u001b[0m\n",
          "\u001b[1;32m~\\AppData\\Local\\Temp\\ipykernel_2196\\1169248269.py\u001b[0m in \u001b[0;36msearch\u001b[1;34m(title)\u001b[0m\n\u001b[0;32m      6\u001b[0m     \u001b[0mtitle\u001b[0m \u001b[1;33m=\u001b[0m \u001b[0mclean_title\u001b[0m\u001b[1;33m(\u001b[0m\u001b[0mtitle\u001b[0m\u001b[1;33m)\u001b[0m\u001b[1;33m\u001b[0m\u001b[1;33m\u001b[0m\u001b[0m\n\u001b[0;32m      7\u001b[0m     \u001b[0mvec\u001b[0m \u001b[1;33m=\u001b[0m \u001b[0mtfidf\u001b[0m\u001b[1;33m.\u001b[0m\u001b[0mtransform\u001b[0m\u001b[1;33m(\u001b[0m\u001b[1;33m[\u001b[0m\u001b[0mtitle\u001b[0m\u001b[1;33m]\u001b[0m\u001b[1;33m)\u001b[0m\u001b[1;33m\u001b[0m\u001b[1;33m\u001b[0m\u001b[0m\n\u001b[1;32m----> 8\u001b[1;33m     \u001b[0msimilarity\u001b[0m \u001b[1;33m=\u001b[0m \u001b[0mcosine_similarity\u001b[0m\u001b[1;33m(\u001b[0m\u001b[0mvec\u001b[0m\u001b[1;33m,\u001b[0m \u001b[0mtransformed_cl_title\u001b[0m\u001b[1;33m)\u001b[0m\u001b[1;33m.\u001b[0m\u001b[0mflatten\u001b[0m\u001b[1;33m(\u001b[0m\u001b[1;33m)\u001b[0m\u001b[1;33m\u001b[0m\u001b[1;33m\u001b[0m\u001b[0m\n\u001b[0m\u001b[0;32m      9\u001b[0m     \u001b[0mindices\u001b[0m \u001b[1;33m=\u001b[0m \u001b[0mnp\u001b[0m\u001b[1;33m.\u001b[0m\u001b[0margpartition\u001b[0m\u001b[1;33m(\u001b[0m\u001b[0msimilarity\u001b[0m\u001b[1;33m,\u001b[0m \u001b[1;33m-\u001b[0m\u001b[1;36m5\u001b[0m\u001b[1;33m)\u001b[0m\u001b[1;33m[\u001b[0m\u001b[1;33m-\u001b[0m\u001b[1;36m5\u001b[0m\u001b[1;33m:\u001b[0m\u001b[1;33m]\u001b[0m\u001b[1;33m\u001b[0m\u001b[1;33m\u001b[0m\u001b[0m\n\u001b[0;32m     10\u001b[0m     \u001b[0mresults\u001b[0m \u001b[1;33m=\u001b[0m \u001b[0mmovies_df\u001b[0m\u001b[1;33m.\u001b[0m\u001b[0miloc\u001b[0m\u001b[1;33m[\u001b[0m\u001b[0mindices\u001b[0m\u001b[1;33m]\u001b[0m\u001b[1;33m[\u001b[0m\u001b[1;33m:\u001b[0m\u001b[1;33m:\u001b[0m\u001b[1;33m-\u001b[0m\u001b[1;36m1\u001b[0m\u001b[1;33m]\u001b[0m\u001b[1;33m\u001b[0m\u001b[1;33m\u001b[0m\u001b[0m\n",
          "\u001b[1;31mTypeError\u001b[0m: 'numpy.ndarray' object is not callable"
         ]
        }
       ]
      }
     },
     "7419f1175a3045dd874348fbca336255": {
      "model_module": "@jupyter-widgets/base",
      "model_module_version": "1.2.0",
      "model_name": "LayoutModel",
      "state": {}
     },
     "767eee03b4e94a5d8e0a28f33148b398": {
      "model_module": "@jupyter-widgets/base",
      "model_module_version": "1.2.0",
      "model_name": "LayoutModel",
      "state": {}
     },
     "77bbad9aa4d34a60ba5355e97b1ac6d3": {
      "model_module": "@jupyter-widgets/controls",
      "model_module_version": "1.5.0",
      "model_name": "TextModel",
      "state": {
       "description": "Movie Title:",
       "layout": "IPY_MODEL_27f47aca1fd24f1e95f50d4cb16e5ec3",
       "style": "IPY_MODEL_708251d6467847e5b556a0bb7c9dcd1d",
       "value": "the_hulk"
      }
     },
     "7cf2aa2411674e4196698e27cb8553b6": {
      "model_module": "@jupyter-widgets/base",
      "model_module_version": "1.2.0",
      "model_name": "LayoutModel",
      "state": {}
     },
     "80146167587d459085b9015db477972c": {
      "model_module": "@jupyter-widgets/controls",
      "model_module_version": "1.5.0",
      "model_name": "DescriptionStyleModel",
      "state": {
       "description_width": ""
      }
     },
     "825b8cc7b8d74ef499693e94e9b94188": {
      "model_module": "@jupyter-widgets/controls",
      "model_module_version": "1.5.0",
      "model_name": "TextModel",
      "state": {
       "description": "Movie Title:",
       "layout": "IPY_MODEL_fc02e2e71a434bf8bb0a8701126f4187",
       "style": "IPY_MODEL_e61a749e9ab042a48755eb3ec947e6b5",
       "value": "Toy Story"
      }
     },
     "868e74a32fa3462aa095e35d00631f3f": {
      "model_module": "@jupyter-widgets/controls",
      "model_module_version": "1.5.0",
      "model_name": "DescriptionStyleModel",
      "state": {
       "description_width": ""
      }
     },
     "86c6315911684c4bb3f859f4e753da72": {
      "model_module": "@jupyter-widgets/output",
      "model_module_version": "1.0.0",
      "model_name": "OutputModel",
      "state": {
       "layout": "IPY_MODEL_1369884791424c139ba01755b1aab30e",
       "outputs": [
        {
         "data": {
          "text/html": "<div>\n<style scoped>\n    .dataframe tbody tr th:only-of-type {\n        vertical-align: middle;\n    }\n\n    .dataframe tbody tr th {\n        vertical-align: top;\n    }\n\n    .dataframe thead th {\n        text-align: right;\n    }\n</style>\n<table border=\"1\" class=\"dataframe\">\n  <thead>\n    <tr style=\"text-align: right;\">\n      <th></th>\n      <th>title</th>\n      <th>overview</th>\n    </tr>\n  </thead>\n  <tbody>\n    <tr>\n      <th>7391</th>\n      <td>Old Dogs</td>\n      <td>charlie dan best friend business partner thir...</td>\n    </tr>\n    <tr>\n      <th>2</th>\n      <td>Grumpier Old Men</td>\n      <td>family wedding reignites ancient feud nextdoo...</td>\n    </tr>\n    <tr>\n      <th>4501</th>\n      <td>Old School</td>\n      <td>three friend attempt recapture glory day open...</td>\n    </tr>\n    <tr>\n      <th>6600</th>\n      <td>Old Joy</td>\n      <td>two old pal reunite camping trip oregon casca...</td>\n    </tr>\n    <tr>\n      <th>816</th>\n      <td>Old Yeller</td>\n      <td>young travis coates left take care family ran...</td>\n    </tr>\n  </tbody>\n</table>\n</div>",
          "text/plain": "                 title                                           overview\n7391          Old Dogs   charlie dan best friend business partner thir...\n2     Grumpier Old Men   family wedding reignites ancient feud nextdoo...\n4501        Old School   three friend attempt recapture glory day open...\n6600           Old Joy   two old pal reunite camping trip oregon casca...\n816         Old Yeller   young travis coates left take care family ran..."
         },
         "metadata": {},
         "output_type": "display_data"
        }
       ]
      }
     },
     "90cb5c9a8e4143509b396406efb86920": {
      "model_module": "@jupyter-widgets/controls",
      "model_module_version": "1.5.0",
      "model_name": "TextModel",
      "state": {
       "description": "Movie Title:",
       "layout": "IPY_MODEL_5047f5fa3cea404288303ed68e03edc2",
       "style": "IPY_MODEL_059db3127f814e8b887016205fd22ffd",
       "value": "Duets"
      }
     },
     "9174fc8ff6ec45fa9099e0ffa5828d6c": {
      "model_module": "@jupyter-widgets/base",
      "model_module_version": "1.2.0",
      "model_name": "LayoutModel",
      "state": {}
     },
     "935db041e28d4bd385234dcaa9aa7647": {
      "model_module": "@jupyter-widgets/base",
      "model_module_version": "1.2.0",
      "model_name": "LayoutModel",
      "state": {}
     },
     "9372f0bc456b47989b08850b67cfaa1e": {
      "model_module": "@jupyter-widgets/base",
      "model_module_version": "1.2.0",
      "model_name": "LayoutModel",
      "state": {}
     },
     "95bc7b431003443f93c3868b1404c159": {
      "model_module": "@jupyter-widgets/controls",
      "model_module_version": "1.5.0",
      "model_name": "DescriptionStyleModel",
      "state": {
       "description_width": ""
      }
     },
     "a3046829f1824a40a6e8fe09e3c2f44c": {
      "model_module": "@jupyter-widgets/controls",
      "model_module_version": "1.5.0",
      "model_name": "TextModel",
      "state": {
       "description": "Movie Title:",
       "layout": "IPY_MODEL_b99173aa635c4248b4ba46700bfb3e90",
       "style": "IPY_MODEL_287db796d6d844b29f57b3360bc4c420",
       "value": "Dragon Ball"
      }
     },
     "a59bc33ada974e169d845fd2c002b48a": {
      "model_module": "@jupyter-widgets/base",
      "model_module_version": "1.2.0",
      "model_name": "LayoutModel",
      "state": {}
     },
     "aa4f75198e634003b6a4e39d8342d46f": {
      "model_module": "@jupyter-widgets/base",
      "model_module_version": "1.2.0",
      "model_name": "LayoutModel",
      "state": {}
     },
     "af00031e6d474d698590a67bbcc6b92d": {
      "model_module": "@jupyter-widgets/base",
      "model_module_version": "1.2.0",
      "model_name": "LayoutModel",
      "state": {}
     },
     "b76a180c50bc42c1b57fca1a0f335b94": {
      "model_module": "@jupyter-widgets/base",
      "model_module_version": "1.2.0",
      "model_name": "LayoutModel",
      "state": {}
     },
     "b99173aa635c4248b4ba46700bfb3e90": {
      "model_module": "@jupyter-widgets/base",
      "model_module_version": "1.2.0",
      "model_name": "LayoutModel",
      "state": {}
     },
     "c581bab6899548f8849d5ff1c690a5d5": {
      "model_module": "@jupyter-widgets/controls",
      "model_module_version": "1.5.0",
      "model_name": "DescriptionStyleModel",
      "state": {
       "description_width": ""
      }
     },
     "c5d1aa7d94c7453ca235500456b594cf": {
      "model_module": "@jupyter-widgets/base",
      "model_module_version": "1.2.0",
      "model_name": "LayoutModel",
      "state": {}
     },
     "c61c24603eb944cf8be5f30fe4434766": {
      "model_module": "@jupyter-widgets/controls",
      "model_module_version": "1.5.0",
      "model_name": "DescriptionStyleModel",
      "state": {
       "description_width": ""
      }
     },
     "c6fba1a285f44c6d94545966456c0740": {
      "model_module": "@jupyter-widgets/base",
      "model_module_version": "1.2.0",
      "model_name": "LayoutModel",
      "state": {}
     },
     "c86cb8baf01443b684cfbb7de473f58f": {
      "model_module": "@jupyter-widgets/base",
      "model_module_version": "1.2.0",
      "model_name": "LayoutModel",
      "state": {}
     },
     "c9829ef528024847ba86b5ad5c6edd96": {
      "model_module": "@jupyter-widgets/output",
      "model_module_version": "1.0.0",
      "model_name": "OutputModel",
      "state": {
       "layout": "IPY_MODEL_c86cb8baf01443b684cfbb7de473f58f"
      }
     },
     "cdeb5ab8ed864c9281847970e55d0222": {
      "model_module": "@jupyter-widgets/base",
      "model_module_version": "1.2.0",
      "model_name": "LayoutModel",
      "state": {}
     },
     "ce2e52073eaa43da9c30805da4f4891c": {
      "model_module": "@jupyter-widgets/controls",
      "model_module_version": "1.5.0",
      "model_name": "TextModel",
      "state": {
       "description": "Movie Title:",
       "layout": "IPY_MODEL_3fb559fb034d493188863f2c84ddbeb2",
       "style": "IPY_MODEL_c61c24603eb944cf8be5f30fe4434766",
       "value": "The Aven"
      }
     },
     "d8e866c444e9472c8a2f34347be4a200": {
      "model_module": "@jupyter-widgets/base",
      "model_module_version": "1.2.0",
      "model_name": "LayoutModel",
      "state": {}
     },
     "dc3182d0f0d24696805e775464394f66": {
      "model_module": "@jupyter-widgets/controls",
      "model_module_version": "1.5.0",
      "model_name": "DescriptionStyleModel",
      "state": {
       "description_width": ""
      }
     },
     "df3fe835add34d94b041ff8251de90af": {
      "model_module": "@jupyter-widgets/controls",
      "model_module_version": "1.5.0",
      "model_name": "TextModel",
      "state": {
       "description": "Movie Title:",
       "layout": "IPY_MODEL_5b4fee7997f14d8f81d29a15574d28c3",
       "style": "IPY_MODEL_95bc7b431003443f93c3868b1404c159",
       "value": "Toy Story"
      }
     },
     "e61a749e9ab042a48755eb3ec947e6b5": {
      "model_module": "@jupyter-widgets/controls",
      "model_module_version": "1.5.0",
      "model_name": "DescriptionStyleModel",
      "state": {
       "description_width": ""
      }
     },
     "e669deaf873a48f09b8aac395afb9224": {
      "model_module": "@jupyter-widgets/output",
      "model_module_version": "1.0.0",
      "model_name": "OutputModel",
      "state": {
       "layout": "IPY_MODEL_ff4733ec1a414df384ed3dd3c9af81da",
       "outputs": [
        {
         "data": {
          "text/html": "<div>\n<style scoped>\n    .dataframe tbody tr th:only-of-type {\n        vertical-align: middle;\n    }\n\n    .dataframe tbody tr th {\n        vertical-align: top;\n    }\n\n    .dataframe thead th {\n        text-align: right;\n    }\n</style>\n<table border=\"1\" class=\"dataframe\">\n  <thead>\n    <tr style=\"text-align: right;\">\n      <th></th>\n      <th>title</th>\n      <th>overview</th>\n    </tr>\n  </thead>\n  <tbody>\n    <tr>\n      <th>4686</th>\n      <td>Hulk</td>\n      <td>Bruce Banner, a genetics researcher with a tra...</td>\n    </tr>\n    <tr>\n      <th>6970</th>\n      <td>The Incredible Hulk</td>\n      <td>Scientist Bruce Banner scours the planet for a...</td>\n    </tr>\n    <tr>\n      <th>5024</th>\n      <td>The Lord of the Rings: The Return of the King</td>\n      <td>Aragorn is revealed as the heir to the ancient...</td>\n    </tr>\n    <tr>\n      <th>3867</th>\n      <td>The Lord of the Rings: The Fellowship of the Ring</td>\n      <td>Young hobbit Frodo Baggins, after inheriting a...</td>\n    </tr>\n    <tr>\n      <th>7169</th>\n      <td>The Good, The Bad, The Weird</td>\n      <td>The story of three Korean outlaws in 1930s Man...</td>\n    </tr>\n  </tbody>\n</table>\n</div>",
          "text/plain": "                                                  title  \\\n4686                                               Hulk   \n6970                                The Incredible Hulk   \n5024      The Lord of the Rings: The Return of the King   \n3867  The Lord of the Rings: The Fellowship of the Ring   \n7169                       The Good, The Bad, The Weird   \n\n                                               overview  \n4686  Bruce Banner, a genetics researcher with a tra...  \n6970  Scientist Bruce Banner scours the planet for a...  \n5024  Aragorn is revealed as the heir to the ancient...  \n3867  Young hobbit Frodo Baggins, after inheriting a...  \n7169  The story of three Korean outlaws in 1930s Man...  "
         },
         "metadata": {},
         "output_type": "display_data"
        }
       ]
      }
     },
     "e7177c6ed00f4f8caa2f46e610c0fc6c": {
      "model_module": "@jupyter-widgets/controls",
      "model_module_version": "1.5.0",
      "model_name": "TextModel",
      "state": {
       "description": "Movie Title:",
       "layout": "IPY_MODEL_aa4f75198e634003b6a4e39d8342d46f",
       "style": "IPY_MODEL_50a8ec397cb54ea89deadd796926efb8",
       "value": "The hulk"
      }
     },
     "e7ed35be3d91467492231f1149d0a75e": {
      "model_module": "@jupyter-widgets/output",
      "model_module_version": "1.0.0",
      "model_name": "OutputModel",
      "state": {
       "layout": "IPY_MODEL_767eee03b4e94a5d8e0a28f33148b398",
       "outputs": [
        {
         "ename": "TypeError",
         "evalue": "calc_similarity() missing 1 required positional argument: 'name'",
         "output_type": "error",
         "traceback": [
          "\u001b[1;31m---------------------------------------------------------------------------\u001b[0m",
          "\u001b[1;31mTypeError\u001b[0m                                 Traceback (most recent call last)",
          "\u001b[1;32m~\\AppData\\Local\\Temp\\ipykernel_21476\\1062938332.py\u001b[0m in \u001b[0;36mon_type\u001b[1;34m(data)\u001b[0m\n\u001b[0;32m     13\u001b[0m         \u001b[0mtitle\u001b[0m \u001b[1;33m=\u001b[0m \u001b[0mdata\u001b[0m\u001b[1;33m[\u001b[0m\u001b[1;34m'new'\u001b[0m\u001b[1;33m]\u001b[0m\u001b[1;33m\u001b[0m\u001b[1;33m\u001b[0m\u001b[0m\n\u001b[0;32m     14\u001b[0m         \u001b[1;32mif\u001b[0m \u001b[0mlen\u001b[0m\u001b[1;33m(\u001b[0m\u001b[0mtitle\u001b[0m\u001b[1;33m)\u001b[0m \u001b[1;33m>\u001b[0m \u001b[1;36m5\u001b[0m\u001b[1;33m:\u001b[0m\u001b[1;33m\u001b[0m\u001b[1;33m\u001b[0m\u001b[0m\n\u001b[1;32m---> 15\u001b[1;33m             \u001b[0mdisplay\u001b[0m\u001b[1;33m(\u001b[0m\u001b[0mcalc_similarity\u001b[0m\u001b[1;33m(\u001b[0m\u001b[1;33m)\u001b[0m\u001b[1;33m)\u001b[0m\u001b[1;33m\u001b[0m\u001b[1;33m\u001b[0m\u001b[0m\n\u001b[0m\u001b[0;32m     16\u001b[0m \u001b[1;33m\u001b[0m\u001b[0m\n\u001b[0;32m     17\u001b[0m \u001b[0mmovie_input_name\u001b[0m\u001b[1;33m.\u001b[0m\u001b[0mobserve\u001b[0m\u001b[1;33m(\u001b[0m\u001b[0mon_type\u001b[0m\u001b[1;33m,\u001b[0m \u001b[0mnames\u001b[0m\u001b[1;33m=\u001b[0m\u001b[1;34m'value'\u001b[0m\u001b[1;33m)\u001b[0m\u001b[1;33m\u001b[0m\u001b[1;33m\u001b[0m\u001b[0m\n",
          "\u001b[1;31mTypeError\u001b[0m: calc_similarity() missing 1 required positional argument: 'name'"
         ]
        }
       ]
      }
     },
     "e96a9c13437f476e9d6d515d6f3bec76": {
      "model_module": "@jupyter-widgets/output",
      "model_module_version": "1.0.0",
      "model_name": "OutputModel",
      "state": {
       "layout": "IPY_MODEL_935db041e28d4bd385234dcaa9aa7647",
       "outputs": [
        {
         "data": {
          "text/plain": "title\nDragon Ball Z: Bio-Broly                             1.000000\nMajor League: Back to the Minors                     0.349830\nDragon Ball Z: Broly - The Legendary Super Saiyan    0.300493\nThe Body Snatcher                                    0.290976\nDragon Ball Z: Cooler's Revenge                      0.220421\nName: Dragon Ball Z: Bio-Broly, dtype: float64"
         },
         "metadata": {},
         "output_type": "display_data"
        }
       ]
      }
     },
     "f22a961bdfee492eb0f7412875a46ef8": {
      "model_module": "@jupyter-widgets/base",
      "model_module_version": "1.2.0",
      "model_name": "LayoutModel",
      "state": {}
     },
     "f7948dca4b1140a280ed9a34fb11ebea": {
      "model_module": "@jupyter-widgets/base",
      "model_module_version": "1.2.0",
      "model_name": "LayoutModel",
      "state": {}
     },
     "fc02e2e71a434bf8bb0a8701126f4187": {
      "model_module": "@jupyter-widgets/base",
      "model_module_version": "1.2.0",
      "model_name": "LayoutModel",
      "state": {}
     },
     "fe845e237b4e4f27a263f9b8c60db4e0": {
      "model_module": "@jupyter-widgets/base",
      "model_module_version": "1.2.0",
      "model_name": "LayoutModel",
      "state": {}
     },
     "ff4733ec1a414df384ed3dd3c9af81da": {
      "model_module": "@jupyter-widgets/base",
      "model_module_version": "1.2.0",
      "model_name": "LayoutModel",
      "state": {}
     }
    },
    "version_major": 2,
    "version_minor": 0
   }
  }
 },
 "nbformat": 4,
 "nbformat_minor": 5
}
